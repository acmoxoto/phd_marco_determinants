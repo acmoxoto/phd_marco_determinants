{
 "cells": [
  {
   "cell_type": "code",
   "execution_count": 2,
   "id": "4f72fcce-e0fe-4b6e-9fae-53548c95667b",
   "metadata": {},
   "outputs": [],
   "source": [
    "from __future__ import print_function\n",
    "import time\n",
    "\n",
    "import numpy as np\n",
    "import pandas as pd\n",
    "\n",
    "#from sklearn.datasets import fetch_mldata\n",
    "from sklearn.decomposition import PCA\n",
    "from sklearn.manifold import TSNE\n",
    "\n",
    "%matplotlib inline\n",
    "import matplotlib.pyplot as plt\n",
    "from mpl_toolkits.mplot3d import Axes3D\n",
    "\n",
    "import seaborn as sns\n"
   ]
  },
  {
   "cell_type": "code",
   "execution_count": 3,
   "id": "82c282ec-1741-4733-9de1-cdec0f19cbd4",
   "metadata": {},
   "outputs": [],
   "source": [
    "def csv2dictionary(file_path, key_col, value_col):\n",
    "    \"\"\"\n",
    "    Reads a CSV file and converts it into a dictionary.\n",
    "\n",
    "    Parameters:\n",
    "        file_path (str): Path to the CSV file.\n",
    "        key_col (str): Name of the column to use as dictionary keys.\n",
    "        value_col (str): Name of the column to use as dictionary values.\n",
    "\n",
    "    Returns:\n",
    "        dict: A dictionary created from the CSV file.\n",
    "    \"\"\"\n",
    "    # Read the CSV file into a DataFrame\n",
    "    df = pd.read_csv(file_path, sep=\",\")\n",
    "    \n",
    "    # Convert the DataFrame to a dictionary\n",
    "    result_dict = dict(zip(df[key_col], df[value_col]))\n",
    "\n",
    "    return result_dict"
   ]
  },
  {
   "cell_type": "code",
   "execution_count": null,
   "id": "7f705ec1-7446-42b9-9321-137015d92c90",
   "metadata": {},
   "outputs": [],
   "source": []
  },
  {
   "cell_type": "code",
   "execution_count": null,
   "id": "d478feed-1737-478a-a5e7-ce58053a2312",
   "metadata": {},
   "outputs": [],
   "source": []
  },
  {
   "cell_type": "code",
   "execution_count": null,
   "id": "0fb2309a-1e2f-4d64-9f9e-b7c62076a31e",
   "metadata": {},
   "outputs": [],
   "source": [
    "colors = ['rgba(255, 0, 0, 0.8)', 'rgba(92, 0, 255, 0.8)', 'rgba(0, 255, 200, 0.8)','rgba(255, 55, 0, 0.8)']\n"
   ]
  }
 ],
 "metadata": {
  "kernelspec": {
   "display_name": "Python 3 (ipykernel)",
   "language": "python",
   "name": "python3"
  },
  "language_info": {
   "codemirror_mode": {
    "name": "ipython",
    "version": 3
   },
   "file_extension": ".py",
   "mimetype": "text/x-python",
   "name": "python",
   "nbconvert_exporter": "python",
   "pygments_lexer": "ipython3",
   "version": "3.12.4"
  }
 },
 "nbformat": 4,
 "nbformat_minor": 5
}
