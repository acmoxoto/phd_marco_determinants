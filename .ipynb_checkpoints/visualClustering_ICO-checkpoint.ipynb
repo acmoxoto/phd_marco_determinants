{
 "cells": [
  {
   "cell_type": "code",
   "execution_count": 1,
   "metadata": {},
   "outputs": [],
   "source": [
    "#Basic imports\n",
    "from pandas_ods_reader import read_ods\n",
    "import numpy as np\n",
    "import pandas as pd\n",
    "import statsmodels.api as sm\n",
    "import matplotlib.pyplot as plt\n",
    "import seaborn as sns\n",
    "#sklearn imports\n",
    "from sklearn.decomposition import PCA #Principal Component Analysis\n",
    "from sklearn.manifold import TSNE     #T-Distributed Stochastic Neighbor Embedding\n",
    "from sklearn.cluster import KMeans    #K-Means Clustering\n",
    "from sklearn.preprocessing import StandardScaler #used for 'Feature Scaling'\n",
    "\n",
    "#plotly imports\n",
    "import plotly as py\n",
    "import plotly.graph_objs as go\n",
    "from plotly.offline import download_plotlyjs, init_notebook_mode, plot, iplot\n"
   ]
  },
  {
   "cell_type": "code",
   "execution_count": 2,
   "metadata": {
    "scrolled": true
   },
   "outputs": [
    {
     "data": {
      "text/html": [
       "<div>\n",
       "<style scoped>\n",
       "    .dataframe tbody tr th:only-of-type {\n",
       "        vertical-align: middle;\n",
       "    }\n",
       "\n",
       "    .dataframe tbody tr th {\n",
       "        vertical-align: top;\n",
       "    }\n",
       "\n",
       "    .dataframe thead th {\n",
       "        text-align: right;\n",
       "    }\n",
       "</style>\n",
       "<table border=\"1\" class=\"dataframe\">\n",
       "  <thead>\n",
       "    <tr style=\"text-align: right;\">\n",
       "      <th></th>\n",
       "      <th>Country</th>\n",
       "      <th>Raised</th>\n",
       "      <th>num</th>\n",
       "      <th>ESG</th>\n",
       "      <th>EPI</th>\n",
       "      <th>CO2_E</th>\n",
       "      <th>CO2_pc</th>\n",
       "      <th>E_RNEW</th>\n",
       "      <th>Env_Taxes_gdp</th>\n",
       "      <th>WUI</th>\n",
       "      <th>...</th>\n",
       "      <th>EODoing_business</th>\n",
       "      <th>GDPUSD</th>\n",
       "      <th>GDPpc</th>\n",
       "      <th>Consumerprice</th>\n",
       "      <th>Reservas</th>\n",
       "      <th>Exchande_rate</th>\n",
       "      <th>Gini_index</th>\n",
       "      <th>Bank_capital</th>\n",
       "      <th>non_performing_loans</th>\n",
       "      <th>Paying_tax</th>\n",
       "    </tr>\n",
       "  </thead>\n",
       "  <tbody>\n",
       "    <tr>\n",
       "      <th>0</th>\n",
       "      <td>Afghanistan</td>\n",
       "      <td>0.000000</td>\n",
       "      <td>1</td>\n",
       "      <td>0.02</td>\n",
       "      <td>37.50</td>\n",
       "      <td>10022.78</td>\n",
       "      <td>0.28</td>\n",
       "      <td>19.21</td>\n",
       "      <td>0.00</td>\n",
       "      <td>0.14</td>\n",
       "      <td>...</td>\n",
       "      <td>38.9</td>\n",
       "      <td>0.00</td>\n",
       "      <td>530.15</td>\n",
       "      <td>4.98</td>\n",
       "      <td>0.00</td>\n",
       "      <td>68.03</td>\n",
       "      <td>0.0</td>\n",
       "      <td>0.00</td>\n",
       "      <td>0.00</td>\n",
       "      <td>47.9</td>\n",
       "    </tr>\n",
       "    <tr>\n",
       "      <th>1</th>\n",
       "      <td>Afghanistan</td>\n",
       "      <td>5.112201</td>\n",
       "      <td>1</td>\n",
       "      <td>0.00</td>\n",
       "      <td>37.74</td>\n",
       "      <td>10972.38</td>\n",
       "      <td>0.30</td>\n",
       "      <td>17.96</td>\n",
       "      <td>0.00</td>\n",
       "      <td>0.06</td>\n",
       "      <td>...</td>\n",
       "      <td>37.1</td>\n",
       "      <td>0.00</td>\n",
       "      <td>502.06</td>\n",
       "      <td>0.62</td>\n",
       "      <td>0.00</td>\n",
       "      <td>72.08</td>\n",
       "      <td>0.0</td>\n",
       "      <td>0.00</td>\n",
       "      <td>0.00</td>\n",
       "      <td>71.4</td>\n",
       "    </tr>\n",
       "    <tr>\n",
       "      <th>2</th>\n",
       "      <td>Albania</td>\n",
       "      <td>0.450000</td>\n",
       "      <td>3</td>\n",
       "      <td>0.00</td>\n",
       "      <td>74.38</td>\n",
       "      <td>5403.70</td>\n",
       "      <td>1.88</td>\n",
       "      <td>36.94</td>\n",
       "      <td>3.07</td>\n",
       "      <td>0.08</td>\n",
       "      <td>...</td>\n",
       "      <td>64.2</td>\n",
       "      <td>13058.56</td>\n",
       "      <td>4531.03</td>\n",
       "      <td>1.97</td>\n",
       "      <td>3601.62</td>\n",
       "      <td>119.07</td>\n",
       "      <td>33.1</td>\n",
       "      <td>10.17</td>\n",
       "      <td>13.23</td>\n",
       "      <td>36.9</td>\n",
       "    </tr>\n",
       "    <tr>\n",
       "      <th>3</th>\n",
       "      <td>Argentina</td>\n",
       "      <td>29.036200</td>\n",
       "      <td>1</td>\n",
       "      <td>0.00</td>\n",
       "      <td>79.84</td>\n",
       "      <td>179267.30</td>\n",
       "      <td>4.07</td>\n",
       "      <td>10.37</td>\n",
       "      <td>1.32</td>\n",
       "      <td>0.06</td>\n",
       "      <td>...</td>\n",
       "      <td>57.2</td>\n",
       "      <td>642992.08</td>\n",
       "      <td>14613.04</td>\n",
       "      <td>0.00</td>\n",
       "      <td>0.00</td>\n",
       "      <td>16.54</td>\n",
       "      <td>41.1</td>\n",
       "      <td>11.57</td>\n",
       "      <td>1.83</td>\n",
       "      <td>106.0</td>\n",
       "    </tr>\n",
       "    <tr>\n",
       "      <th>4</th>\n",
       "      <td>Argentina</td>\n",
       "      <td>23.138212</td>\n",
       "      <td>16</td>\n",
       "      <td>0.00</td>\n",
       "      <td>59.30</td>\n",
       "      <td>176894.60</td>\n",
       "      <td>3.98</td>\n",
       "      <td>10.52</td>\n",
       "      <td>1.09</td>\n",
       "      <td>0.20</td>\n",
       "      <td>...</td>\n",
       "      <td>57.3</td>\n",
       "      <td>543831.80</td>\n",
       "      <td>11795.16</td>\n",
       "      <td>0.00</td>\n",
       "      <td>0.00</td>\n",
       "      <td>28.14</td>\n",
       "      <td>41.3</td>\n",
       "      <td>11.04</td>\n",
       "      <td>3.11</td>\n",
       "      <td>106.0</td>\n",
       "    </tr>\n",
       "    <tr>\n",
       "      <th>...</th>\n",
       "      <td>...</td>\n",
       "      <td>...</td>\n",
       "      <td>...</td>\n",
       "      <td>...</td>\n",
       "      <td>...</td>\n",
       "      <td>...</td>\n",
       "      <td>...</td>\n",
       "      <td>...</td>\n",
       "      <td>...</td>\n",
       "      <td>...</td>\n",
       "      <td>...</td>\n",
       "      <td>...</td>\n",
       "      <td>...</td>\n",
       "      <td>...</td>\n",
       "      <td>...</td>\n",
       "      <td>...</td>\n",
       "      <td>...</td>\n",
       "      <td>...</td>\n",
       "      <td>...</td>\n",
       "      <td>...</td>\n",
       "      <td>...</td>\n",
       "    </tr>\n",
       "    <tr>\n",
       "      <th>334</th>\n",
       "      <td>Vietnam</td>\n",
       "      <td>5.650000</td>\n",
       "      <td>1</td>\n",
       "      <td>0.00</td>\n",
       "      <td>46.96</td>\n",
       "      <td>341716.80</td>\n",
       "      <td>3.57</td>\n",
       "      <td>20.65</td>\n",
       "      <td>0.82</td>\n",
       "      <td>0.00</td>\n",
       "      <td>...</td>\n",
       "      <td>68.6</td>\n",
       "      <td>258577.35</td>\n",
       "      <td>3491.09</td>\n",
       "      <td>2.79</td>\n",
       "      <td>0.00</td>\n",
       "      <td>23226.26</td>\n",
       "      <td>0.0</td>\n",
       "      <td>7.83</td>\n",
       "      <td>1.50</td>\n",
       "      <td>37.8</td>\n",
       "    </tr>\n",
       "    <tr>\n",
       "      <th>335</th>\n",
       "      <td>Vietnam</td>\n",
       "      <td>0.000000</td>\n",
       "      <td>1</td>\n",
       "      <td>0.00</td>\n",
       "      <td>20.10</td>\n",
       "      <td>355323.10</td>\n",
       "      <td>3.68</td>\n",
       "      <td>19.11</td>\n",
       "      <td>0.75</td>\n",
       "      <td>0.07</td>\n",
       "      <td>...</td>\n",
       "      <td>69.8</td>\n",
       "      <td>269556.18</td>\n",
       "      <td>3586.35</td>\n",
       "      <td>3.21</td>\n",
       "      <td>0.00</td>\n",
       "      <td>23235.70</td>\n",
       "      <td>36.8</td>\n",
       "      <td>7.83</td>\n",
       "      <td>1.50</td>\n",
       "      <td>37.6</td>\n",
       "    </tr>\n",
       "    <tr>\n",
       "      <th>336</th>\n",
       "      <td>Zimbabwe</td>\n",
       "      <td>8.142181</td>\n",
       "      <td>1</td>\n",
       "      <td>0.01</td>\n",
       "      <td>43.41</td>\n",
       "      <td>11069.90</td>\n",
       "      <td>0.74</td>\n",
       "      <td>80.43</td>\n",
       "      <td>0.00</td>\n",
       "      <td>0.04</td>\n",
       "      <td>...</td>\n",
       "      <td>48.6</td>\n",
       "      <td>0.00</td>\n",
       "      <td>2269.18</td>\n",
       "      <td>0.00</td>\n",
       "      <td>0.00</td>\n",
       "      <td>72.51</td>\n",
       "      <td>0.0</td>\n",
       "      <td>0.00</td>\n",
       "      <td>0.00</td>\n",
       "      <td>31.6</td>\n",
       "    </tr>\n",
       "    <tr>\n",
       "      <th>337</th>\n",
       "      <td>Zimbabwe</td>\n",
       "      <td>16.400000</td>\n",
       "      <td>3</td>\n",
       "      <td>0.00</td>\n",
       "      <td>43.41</td>\n",
       "      <td>10185.30</td>\n",
       "      <td>0.66</td>\n",
       "      <td>81.52</td>\n",
       "      <td>0.00</td>\n",
       "      <td>0.03</td>\n",
       "      <td>...</td>\n",
       "      <td>50.5</td>\n",
       "      <td>0.00</td>\n",
       "      <td>1421.87</td>\n",
       "      <td>0.00</td>\n",
       "      <td>0.00</td>\n",
       "      <td>11.02</td>\n",
       "      <td>50.3</td>\n",
       "      <td>0.00</td>\n",
       "      <td>0.00</td>\n",
       "      <td>31.6</td>\n",
       "    </tr>\n",
       "    <tr>\n",
       "      <th>338</th>\n",
       "      <td>Zimbabwe</td>\n",
       "      <td>5.360000</td>\n",
       "      <td>3</td>\n",
       "      <td>0.00</td>\n",
       "      <td>37.00</td>\n",
       "      <td>8312.50</td>\n",
       "      <td>0.53</td>\n",
       "      <td>84.36</td>\n",
       "      <td>0.00</td>\n",
       "      <td>0.13</td>\n",
       "      <td>...</td>\n",
       "      <td>54.5</td>\n",
       "      <td>0.00</td>\n",
       "      <td>1372.70</td>\n",
       "      <td>0.00</td>\n",
       "      <td>0.00</td>\n",
       "      <td>51.30</td>\n",
       "      <td>0.0</td>\n",
       "      <td>0.00</td>\n",
       "      <td>0.00</td>\n",
       "      <td>31.6</td>\n",
       "    </tr>\n",
       "  </tbody>\n",
       "</table>\n",
       "<p>339 rows × 26 columns</p>\n",
       "</div>"
      ],
      "text/plain": [
       "         Country     Raised  num   ESG    EPI      CO2_E  CO2_pc  E_RNEW  \\\n",
       "0    Afghanistan   0.000000    1  0.02  37.50   10022.78    0.28   19.21   \n",
       "1    Afghanistan   5.112201    1  0.00  37.74   10972.38    0.30   17.96   \n",
       "2        Albania   0.450000    3  0.00  74.38    5403.70    1.88   36.94   \n",
       "3      Argentina  29.036200    1  0.00  79.84  179267.30    4.07   10.37   \n",
       "4      Argentina  23.138212   16  0.00  59.30  176894.60    3.98   10.52   \n",
       "..           ...        ...  ...   ...    ...        ...     ...     ...   \n",
       "334      Vietnam   5.650000    1  0.00  46.96  341716.80    3.57   20.65   \n",
       "335      Vietnam   0.000000    1  0.00  20.10  355323.10    3.68   19.11   \n",
       "336     Zimbabwe   8.142181    1  0.01  43.41   11069.90    0.74   80.43   \n",
       "337     Zimbabwe  16.400000    3  0.00  43.41   10185.30    0.66   81.52   \n",
       "338     Zimbabwe   5.360000    3  0.00  37.00    8312.50    0.53   84.36   \n",
       "\n",
       "     Env_Taxes_gdp   WUI  ...  EODoing_business     GDPUSD     GDPpc  \\\n",
       "0             0.00  0.14  ...              38.9       0.00    530.15   \n",
       "1             0.00  0.06  ...              37.1       0.00    502.06   \n",
       "2             3.07  0.08  ...              64.2   13058.56   4531.03   \n",
       "3             1.32  0.06  ...              57.2  642992.08  14613.04   \n",
       "4             1.09  0.20  ...              57.3  543831.80  11795.16   \n",
       "..             ...   ...  ...               ...        ...       ...   \n",
       "334           0.82  0.00  ...              68.6  258577.35   3491.09   \n",
       "335           0.75  0.07  ...              69.8  269556.18   3586.35   \n",
       "336           0.00  0.04  ...              48.6       0.00   2269.18   \n",
       "337           0.00  0.03  ...              50.5       0.00   1421.87   \n",
       "338           0.00  0.13  ...              54.5       0.00   1372.70   \n",
       "\n",
       "     Consumerprice  Reservas  Exchande_rate  Gini_index  Bank_capital  \\\n",
       "0             4.98      0.00          68.03         0.0          0.00   \n",
       "1             0.62      0.00          72.08         0.0          0.00   \n",
       "2             1.97   3601.62         119.07        33.1         10.17   \n",
       "3             0.00      0.00          16.54        41.1         11.57   \n",
       "4             0.00      0.00          28.14        41.3         11.04   \n",
       "..             ...       ...            ...         ...           ...   \n",
       "334           2.79      0.00       23226.26         0.0          7.83   \n",
       "335           3.21      0.00       23235.70        36.8          7.83   \n",
       "336           0.00      0.00          72.51         0.0          0.00   \n",
       "337           0.00      0.00          11.02        50.3          0.00   \n",
       "338           0.00      0.00          51.30         0.0          0.00   \n",
       "\n",
       "     non_performing_loans  Paying_tax  \n",
       "0                    0.00        47.9  \n",
       "1                    0.00        71.4  \n",
       "2                   13.23        36.9  \n",
       "3                    1.83       106.0  \n",
       "4                    3.11       106.0  \n",
       "..                    ...         ...  \n",
       "334                  1.50        37.8  \n",
       "335                  1.50        37.6  \n",
       "336                  0.00        31.6  \n",
       "337                  0.00        31.6  \n",
       "338                  0.00        31.6  \n",
       "\n",
       "[339 rows x 26 columns]"
      ]
     },
     "execution_count": 2,
     "metadata": {},
     "output_type": "execute_result"
    }
   ],
   "source": [
    "#data_log = pd.read_excel('ed_0602_copy.xlsx', sheet_name='StartUp_RaisedBy_ICOs')\n",
    "#data_log = pd.read_excel('StartUpsESG_0602.xlsx', sheet_name='StartUp_RaisedBy_ICOs')\n",
    "data =  pd.read_csv('data/ESG_0706_3.csv', sep=\" \")\n",
    "\n",
    "#base_path = \"ed_0602.ods\"\n",
    "\n",
    "#sheet_index1 = 1  \n",
    "\n",
    "#data_log = read_ods(base_path , sheet_index1)  \n",
    "\n",
    "#data_log = pd.read_csv ('ed_0602.csv') \n",
    "data_mi = data\n",
    "data_mi['Raised'] = data_mi['Raised'] / 1000000\n",
    "data_mi"
   ]
  },
  {
   "cell_type": "code",
   "execution_count": 3,
   "metadata": {},
   "outputs": [
    {
     "data": {
      "text/plain": [
       "0      Afghanistan\n",
       "1      Afghanistan\n",
       "2          Albania\n",
       "3        Argentina\n",
       "4        Argentina\n",
       "          ...     \n",
       "334        Vietnam\n",
       "335        Vietnam\n",
       "336       Zimbabwe\n",
       "337       Zimbabwe\n",
       "338       Zimbabwe\n",
       "Name: Country, Length: 339, dtype: object"
      ]
     },
     "execution_count": 3,
     "metadata": {},
     "output_type": "execute_result"
    }
   ],
   "source": [
    "#country = data_mi.loc[:,\"Country\"]\n",
    "country = data.loc[:,\"Country\"]\n",
    "country"
   ]
  },
  {
   "cell_type": "code",
   "execution_count": 4,
   "metadata": {},
   "outputs": [
    {
     "data": {
      "text/html": [
       "<div>\n",
       "<style scoped>\n",
       "    .dataframe tbody tr th:only-of-type {\n",
       "        vertical-align: middle;\n",
       "    }\n",
       "\n",
       "    .dataframe tbody tr th {\n",
       "        vertical-align: top;\n",
       "    }\n",
       "\n",
       "    .dataframe thead th {\n",
       "        text-align: right;\n",
       "    }\n",
       "</style>\n",
       "<table border=\"1\" class=\"dataframe\">\n",
       "  <thead>\n",
       "    <tr style=\"text-align: right;\">\n",
       "      <th></th>\n",
       "      <th>Raised</th>\n",
       "      <th>num</th>\n",
       "      <th>ESG</th>\n",
       "      <th>EPI</th>\n",
       "      <th>CO2_E</th>\n",
       "      <th>CO2_pc</th>\n",
       "      <th>E_RNEW</th>\n",
       "      <th>Env_Taxes_gdp</th>\n",
       "      <th>WUI</th>\n",
       "      <th>PolStab</th>\n",
       "      <th>...</th>\n",
       "      <th>EODoing_business</th>\n",
       "      <th>GDPUSD</th>\n",
       "      <th>GDPpc</th>\n",
       "      <th>Consumerprice</th>\n",
       "      <th>Reservas</th>\n",
       "      <th>Exchande_rate</th>\n",
       "      <th>Gini_index</th>\n",
       "      <th>Bank_capital</th>\n",
       "      <th>non_performing_loans</th>\n",
       "      <th>Paying_tax</th>\n",
       "    </tr>\n",
       "  </thead>\n",
       "  <tbody>\n",
       "    <tr>\n",
       "      <th>0</th>\n",
       "      <td>0.000000</td>\n",
       "      <td>1</td>\n",
       "      <td>0.02</td>\n",
       "      <td>37.50</td>\n",
       "      <td>10022.78</td>\n",
       "      <td>0.28</td>\n",
       "      <td>19.21</td>\n",
       "      <td>0.00</td>\n",
       "      <td>0.14</td>\n",
       "      <td>-2.80</td>\n",
       "      <td>...</td>\n",
       "      <td>38.9</td>\n",
       "      <td>0.00</td>\n",
       "      <td>530.15</td>\n",
       "      <td>4.98</td>\n",
       "      <td>0.00</td>\n",
       "      <td>68.03</td>\n",
       "      <td>0.0</td>\n",
       "      <td>0.00</td>\n",
       "      <td>0.00</td>\n",
       "      <td>47.9</td>\n",
       "    </tr>\n",
       "    <tr>\n",
       "      <th>1</th>\n",
       "      <td>5.112201</td>\n",
       "      <td>1</td>\n",
       "      <td>0.00</td>\n",
       "      <td>37.74</td>\n",
       "      <td>10972.38</td>\n",
       "      <td>0.30</td>\n",
       "      <td>17.96</td>\n",
       "      <td>0.00</td>\n",
       "      <td>0.06</td>\n",
       "      <td>-2.76</td>\n",
       "      <td>...</td>\n",
       "      <td>37.1</td>\n",
       "      <td>0.00</td>\n",
       "      <td>502.06</td>\n",
       "      <td>0.62</td>\n",
       "      <td>0.00</td>\n",
       "      <td>72.08</td>\n",
       "      <td>0.0</td>\n",
       "      <td>0.00</td>\n",
       "      <td>0.00</td>\n",
       "      <td>71.4</td>\n",
       "    </tr>\n",
       "    <tr>\n",
       "      <th>2</th>\n",
       "      <td>0.450000</td>\n",
       "      <td>3</td>\n",
       "      <td>0.00</td>\n",
       "      <td>74.38</td>\n",
       "      <td>5403.70</td>\n",
       "      <td>1.88</td>\n",
       "      <td>36.94</td>\n",
       "      <td>3.07</td>\n",
       "      <td>0.08</td>\n",
       "      <td>0.38</td>\n",
       "      <td>...</td>\n",
       "      <td>64.2</td>\n",
       "      <td>13058.56</td>\n",
       "      <td>4531.03</td>\n",
       "      <td>1.97</td>\n",
       "      <td>3601.62</td>\n",
       "      <td>119.07</td>\n",
       "      <td>33.1</td>\n",
       "      <td>10.17</td>\n",
       "      <td>13.23</td>\n",
       "      <td>36.9</td>\n",
       "    </tr>\n",
       "    <tr>\n",
       "      <th>3</th>\n",
       "      <td>29.036200</td>\n",
       "      <td>1</td>\n",
       "      <td>0.00</td>\n",
       "      <td>79.84</td>\n",
       "      <td>179267.30</td>\n",
       "      <td>4.07</td>\n",
       "      <td>10.37</td>\n",
       "      <td>1.32</td>\n",
       "      <td>0.06</td>\n",
       "      <td>0.17</td>\n",
       "      <td>...</td>\n",
       "      <td>57.2</td>\n",
       "      <td>642992.08</td>\n",
       "      <td>14613.04</td>\n",
       "      <td>0.00</td>\n",
       "      <td>0.00</td>\n",
       "      <td>16.54</td>\n",
       "      <td>41.1</td>\n",
       "      <td>11.57</td>\n",
       "      <td>1.83</td>\n",
       "      <td>106.0</td>\n",
       "    </tr>\n",
       "    <tr>\n",
       "      <th>4</th>\n",
       "      <td>23.138212</td>\n",
       "      <td>16</td>\n",
       "      <td>0.00</td>\n",
       "      <td>59.30</td>\n",
       "      <td>176894.60</td>\n",
       "      <td>3.98</td>\n",
       "      <td>10.52</td>\n",
       "      <td>1.09</td>\n",
       "      <td>0.20</td>\n",
       "      <td>0.01</td>\n",
       "      <td>...</td>\n",
       "      <td>57.3</td>\n",
       "      <td>543831.80</td>\n",
       "      <td>11795.16</td>\n",
       "      <td>0.00</td>\n",
       "      <td>0.00</td>\n",
       "      <td>28.14</td>\n",
       "      <td>41.3</td>\n",
       "      <td>11.04</td>\n",
       "      <td>3.11</td>\n",
       "      <td>106.0</td>\n",
       "    </tr>\n",
       "    <tr>\n",
       "      <th>...</th>\n",
       "      <td>...</td>\n",
       "      <td>...</td>\n",
       "      <td>...</td>\n",
       "      <td>...</td>\n",
       "      <td>...</td>\n",
       "      <td>...</td>\n",
       "      <td>...</td>\n",
       "      <td>...</td>\n",
       "      <td>...</td>\n",
       "      <td>...</td>\n",
       "      <td>...</td>\n",
       "      <td>...</td>\n",
       "      <td>...</td>\n",
       "      <td>...</td>\n",
       "      <td>...</td>\n",
       "      <td>...</td>\n",
       "      <td>...</td>\n",
       "      <td>...</td>\n",
       "      <td>...</td>\n",
       "      <td>...</td>\n",
       "      <td>...</td>\n",
       "    </tr>\n",
       "    <tr>\n",
       "      <th>334</th>\n",
       "      <td>5.650000</td>\n",
       "      <td>1</td>\n",
       "      <td>0.00</td>\n",
       "      <td>46.96</td>\n",
       "      <td>341716.80</td>\n",
       "      <td>3.57</td>\n",
       "      <td>20.65</td>\n",
       "      <td>0.82</td>\n",
       "      <td>0.00</td>\n",
       "      <td>0.03</td>\n",
       "      <td>...</td>\n",
       "      <td>68.6</td>\n",
       "      <td>258577.35</td>\n",
       "      <td>3491.09</td>\n",
       "      <td>2.79</td>\n",
       "      <td>0.00</td>\n",
       "      <td>23226.26</td>\n",
       "      <td>0.0</td>\n",
       "      <td>7.83</td>\n",
       "      <td>1.50</td>\n",
       "      <td>37.8</td>\n",
       "    </tr>\n",
       "    <tr>\n",
       "      <th>335</th>\n",
       "      <td>0.000000</td>\n",
       "      <td>1</td>\n",
       "      <td>0.00</td>\n",
       "      <td>20.10</td>\n",
       "      <td>355323.10</td>\n",
       "      <td>3.68</td>\n",
       "      <td>19.11</td>\n",
       "      <td>0.75</td>\n",
       "      <td>0.07</td>\n",
       "      <td>-0.08</td>\n",
       "      <td>...</td>\n",
       "      <td>69.8</td>\n",
       "      <td>269556.18</td>\n",
       "      <td>3586.35</td>\n",
       "      <td>3.21</td>\n",
       "      <td>0.00</td>\n",
       "      <td>23235.70</td>\n",
       "      <td>36.8</td>\n",
       "      <td>7.83</td>\n",
       "      <td>1.50</td>\n",
       "      <td>37.6</td>\n",
       "    </tr>\n",
       "    <tr>\n",
       "      <th>336</th>\n",
       "      <td>8.142181</td>\n",
       "      <td>1</td>\n",
       "      <td>0.01</td>\n",
       "      <td>43.41</td>\n",
       "      <td>11069.90</td>\n",
       "      <td>0.74</td>\n",
       "      <td>80.43</td>\n",
       "      <td>0.00</td>\n",
       "      <td>0.04</td>\n",
       "      <td>-0.72</td>\n",
       "      <td>...</td>\n",
       "      <td>48.6</td>\n",
       "      <td>0.00</td>\n",
       "      <td>2269.18</td>\n",
       "      <td>0.00</td>\n",
       "      <td>0.00</td>\n",
       "      <td>72.51</td>\n",
       "      <td>0.0</td>\n",
       "      <td>0.00</td>\n",
       "      <td>0.00</td>\n",
       "      <td>31.6</td>\n",
       "    </tr>\n",
       "    <tr>\n",
       "      <th>337</th>\n",
       "      <td>16.400000</td>\n",
       "      <td>3</td>\n",
       "      <td>0.00</td>\n",
       "      <td>43.41</td>\n",
       "      <td>10185.30</td>\n",
       "      <td>0.66</td>\n",
       "      <td>81.52</td>\n",
       "      <td>0.00</td>\n",
       "      <td>0.03</td>\n",
       "      <td>-0.96</td>\n",
       "      <td>...</td>\n",
       "      <td>50.5</td>\n",
       "      <td>0.00</td>\n",
       "      <td>1421.87</td>\n",
       "      <td>0.00</td>\n",
       "      <td>0.00</td>\n",
       "      <td>11.02</td>\n",
       "      <td>50.3</td>\n",
       "      <td>0.00</td>\n",
       "      <td>0.00</td>\n",
       "      <td>31.6</td>\n",
       "    </tr>\n",
       "    <tr>\n",
       "      <th>338</th>\n",
       "      <td>5.360000</td>\n",
       "      <td>3</td>\n",
       "      <td>0.00</td>\n",
       "      <td>37.00</td>\n",
       "      <td>8312.50</td>\n",
       "      <td>0.53</td>\n",
       "      <td>84.36</td>\n",
       "      <td>0.00</td>\n",
       "      <td>0.13</td>\n",
       "      <td>-1.07</td>\n",
       "      <td>...</td>\n",
       "      <td>54.5</td>\n",
       "      <td>0.00</td>\n",
       "      <td>1372.70</td>\n",
       "      <td>0.00</td>\n",
       "      <td>0.00</td>\n",
       "      <td>51.30</td>\n",
       "      <td>0.0</td>\n",
       "      <td>0.00</td>\n",
       "      <td>0.00</td>\n",
       "      <td>31.6</td>\n",
       "    </tr>\n",
       "  </tbody>\n",
       "</table>\n",
       "<p>339 rows × 25 columns</p>\n",
       "</div>"
      ],
      "text/plain": [
       "        Raised  num   ESG    EPI      CO2_E  CO2_pc  E_RNEW  Env_Taxes_gdp  \\\n",
       "0     0.000000    1  0.02  37.50   10022.78    0.28   19.21           0.00   \n",
       "1     5.112201    1  0.00  37.74   10972.38    0.30   17.96           0.00   \n",
       "2     0.450000    3  0.00  74.38    5403.70    1.88   36.94           3.07   \n",
       "3    29.036200    1  0.00  79.84  179267.30    4.07   10.37           1.32   \n",
       "4    23.138212   16  0.00  59.30  176894.60    3.98   10.52           1.09   \n",
       "..         ...  ...   ...    ...        ...     ...     ...            ...   \n",
       "334   5.650000    1  0.00  46.96  341716.80    3.57   20.65           0.82   \n",
       "335   0.000000    1  0.00  20.10  355323.10    3.68   19.11           0.75   \n",
       "336   8.142181    1  0.01  43.41   11069.90    0.74   80.43           0.00   \n",
       "337  16.400000    3  0.00  43.41   10185.30    0.66   81.52           0.00   \n",
       "338   5.360000    3  0.00  37.00    8312.50    0.53   84.36           0.00   \n",
       "\n",
       "      WUI  PolStab  ...  EODoing_business     GDPUSD     GDPpc  Consumerprice  \\\n",
       "0    0.14    -2.80  ...              38.9       0.00    530.15           4.98   \n",
       "1    0.06    -2.76  ...              37.1       0.00    502.06           0.62   \n",
       "2    0.08     0.38  ...              64.2   13058.56   4531.03           1.97   \n",
       "3    0.06     0.17  ...              57.2  642992.08  14613.04           0.00   \n",
       "4    0.20     0.01  ...              57.3  543831.80  11795.16           0.00   \n",
       "..    ...      ...  ...               ...        ...       ...            ...   \n",
       "334  0.00     0.03  ...              68.6  258577.35   3491.09           2.79   \n",
       "335  0.07    -0.08  ...              69.8  269556.18   3586.35           3.21   \n",
       "336  0.04    -0.72  ...              48.6       0.00   2269.18           0.00   \n",
       "337  0.03    -0.96  ...              50.5       0.00   1421.87           0.00   \n",
       "338  0.13    -1.07  ...              54.5       0.00   1372.70           0.00   \n",
       "\n",
       "     Reservas  Exchande_rate  Gini_index  Bank_capital  non_performing_loans  \\\n",
       "0        0.00          68.03         0.0          0.00                  0.00   \n",
       "1        0.00          72.08         0.0          0.00                  0.00   \n",
       "2     3601.62         119.07        33.1         10.17                 13.23   \n",
       "3        0.00          16.54        41.1         11.57                  1.83   \n",
       "4        0.00          28.14        41.3         11.04                  3.11   \n",
       "..        ...            ...         ...           ...                   ...   \n",
       "334      0.00       23226.26         0.0          7.83                  1.50   \n",
       "335      0.00       23235.70        36.8          7.83                  1.50   \n",
       "336      0.00          72.51         0.0          0.00                  0.00   \n",
       "337      0.00          11.02        50.3          0.00                  0.00   \n",
       "338      0.00          51.30         0.0          0.00                  0.00   \n",
       "\n",
       "     Paying_tax  \n",
       "0          47.9  \n",
       "1          71.4  \n",
       "2          36.9  \n",
       "3         106.0  \n",
       "4         106.0  \n",
       "..          ...  \n",
       "334        37.8  \n",
       "335        37.6  \n",
       "336        31.6  \n",
       "337        31.6  \n",
       "338        31.6  \n",
       "\n",
       "[339 rows x 25 columns]"
      ]
     },
     "execution_count": 4,
     "metadata": {},
     "output_type": "execute_result"
    }
   ],
   "source": [
    "data.pop(\"Country\")\n",
    "#data_mi.pop(\"Country\")\n",
    "data_mi"
   ]
  },
  {
   "cell_type": "code",
   "execution_count": 5,
   "metadata": {},
   "outputs": [
    {
     "data": {
      "text/html": [
       "<div>\n",
       "<style scoped>\n",
       "    .dataframe tbody tr th:only-of-type {\n",
       "        vertical-align: middle;\n",
       "    }\n",
       "\n",
       "    .dataframe tbody tr th {\n",
       "        vertical-align: top;\n",
       "    }\n",
       "\n",
       "    .dataframe thead th {\n",
       "        text-align: right;\n",
       "    }\n",
       "</style>\n",
       "<table border=\"1\" class=\"dataframe\">\n",
       "  <thead>\n",
       "    <tr style=\"text-align: right;\">\n",
       "      <th></th>\n",
       "      <th>col1</th>\n",
       "      <th>col2</th>\n",
       "      <th>col3</th>\n",
       "      <th>col4</th>\n",
       "    </tr>\n",
       "  </thead>\n",
       "  <tbody>\n",
       "    <tr>\n",
       "      <th>10</th>\n",
       "      <td>12.0</td>\n",
       "      <td>39.0</td>\n",
       "      <td>7.0</td>\n",
       "      <td>16.0</td>\n",
       "    </tr>\n",
       "    <tr>\n",
       "      <th>11</th>\n",
       "      <td>82.0</td>\n",
       "      <td>61.0</td>\n",
       "      <td>77.0</td>\n",
       "      <td>1.0</td>\n",
       "    </tr>\n",
       "    <tr>\n",
       "      <th>12</th>\n",
       "      <td>53.0</td>\n",
       "      <td>40.0</td>\n",
       "      <td>9.0</td>\n",
       "      <td>48.0</td>\n",
       "    </tr>\n",
       "  </tbody>\n",
       "</table>\n",
       "</div>"
      ],
      "text/plain": [
       "    col1  col2  col3  col4\n",
       "10  12.0  39.0   7.0  16.0\n",
       "11  82.0  61.0  77.0   1.0\n",
       "12  53.0  40.0   9.0  48.0"
      ]
     },
     "execution_count": 5,
     "metadata": {},
     "output_type": "execute_result"
    }
   ],
   "source": [
    "df = pd.DataFrame(np.random.randint(0.0,100.0,size=(10,4)),\n",
    "              index=range(10,20),\n",
    "              columns=['col1','col2','col3','col4'],\n",
    "              dtype='float64')\n",
    "df.head(3)"
   ]
  },
  {
   "cell_type": "code",
   "execution_count": 6,
   "metadata": {},
   "outputs": [
    {
     "data": {
      "text/plain": [
       "array([[-1.00983251,  0.25481461, -0.97704102, -0.47192666],\n",
       "       [ 1.2061009 ,  1.44756383,  1.2951474 , -1.03374412],\n",
       "       [ 0.28807134,  0.30903048, -0.91212135,  0.72661724]])"
      ]
     },
     "execution_count": 6,
     "metadata": {},
     "output_type": "execute_result"
    }
   ],
   "source": [
    "from sklearn.preprocessing import StandardScaler\n",
    "scaled_features = StandardScaler().fit_transform(df.values)\n",
    "scaled_features[:3,:]"
   ]
  },
  {
   "cell_type": "code",
   "execution_count": 127,
   "metadata": {},
   "outputs": [
    {
     "data": {
      "text/plain": [
       "0       12316\n",
       "1       23416\n",
       "2        1553\n",
       "3       17028\n",
       "4        8483\n",
       "        ...  \n",
       "6536     6422\n",
       "6537     6423\n",
       "6538     6424\n",
       "6539     6425\n",
       "6540     6426\n",
       "Name: id, Length: 6541, dtype: int64"
      ]
     },
     "execution_count": 127,
     "metadata": {},
     "output_type": "execute_result"
    }
   ],
   "source": [
    "ids"
   ]
  },
  {
   "cell_type": "code",
   "execution_count": 7,
   "metadata": {
    "scrolled": true
   },
   "outputs": [
    {
     "data": {
      "text/html": [
       "<div>\n",
       "<style scoped>\n",
       "    .dataframe tbody tr th:only-of-type {\n",
       "        vertical-align: middle;\n",
       "    }\n",
       "\n",
       "    .dataframe tbody tr th {\n",
       "        vertical-align: top;\n",
       "    }\n",
       "\n",
       "    .dataframe thead th {\n",
       "        text-align: right;\n",
       "    }\n",
       "</style>\n",
       "<table border=\"1\" class=\"dataframe\">\n",
       "  <thead>\n",
       "    <tr style=\"text-align: right;\">\n",
       "      <th></th>\n",
       "      <th>0</th>\n",
       "      <th>1</th>\n",
       "      <th>2</th>\n",
       "      <th>3</th>\n",
       "      <th>4</th>\n",
       "      <th>5</th>\n",
       "      <th>6</th>\n",
       "      <th>7</th>\n",
       "      <th>8</th>\n",
       "      <th>9</th>\n",
       "      <th>...</th>\n",
       "      <th>15</th>\n",
       "      <th>16</th>\n",
       "      <th>17</th>\n",
       "      <th>18</th>\n",
       "      <th>19</th>\n",
       "      <th>20</th>\n",
       "      <th>21</th>\n",
       "      <th>22</th>\n",
       "      <th>23</th>\n",
       "      <th>24</th>\n",
       "    </tr>\n",
       "  </thead>\n",
       "  <tbody>\n",
       "    <tr>\n",
       "      <th>0</th>\n",
       "      <td>-0.301590</td>\n",
       "      <td>-0.339760</td>\n",
       "      <td>0.049526</td>\n",
       "      <td>-1.021855</td>\n",
       "      <td>-0.271401</td>\n",
       "      <td>-1.195864</td>\n",
       "      <td>-0.097335</td>\n",
       "      <td>-1.134962</td>\n",
       "      <td>1.245640</td>\n",
       "      <td>-3.603485</td>\n",
       "      <td>...</td>\n",
       "      <td>-1.660087</td>\n",
       "      <td>-0.339071</td>\n",
       "      <td>-0.934457</td>\n",
       "      <td>0.970979</td>\n",
       "      <td>-0.322982</td>\n",
       "      <td>-0.182218</td>\n",
       "      <td>-1.145759</td>\n",
       "      <td>-1.726168</td>\n",
       "      <td>-0.611897</td>\n",
       "      <td>0.575168</td>\n",
       "    </tr>\n",
       "    <tr>\n",
       "      <th>1</th>\n",
       "      <td>-0.282002</td>\n",
       "      <td>-0.339760</td>\n",
       "      <td>-0.336437</td>\n",
       "      <td>-1.010806</td>\n",
       "      <td>-0.270654</td>\n",
       "      <td>-1.190976</td>\n",
       "      <td>-0.161817</td>\n",
       "      <td>-1.134962</td>\n",
       "      <td>-0.083304</td>\n",
       "      <td>-3.554886</td>\n",
       "      <td>...</td>\n",
       "      <td>-1.763557</td>\n",
       "      <td>-0.339071</td>\n",
       "      <td>-0.935648</td>\n",
       "      <td>-0.577032</td>\n",
       "      <td>-0.322982</td>\n",
       "      <td>-0.181463</td>\n",
       "      <td>-1.145759</td>\n",
       "      <td>-1.726168</td>\n",
       "      <td>-0.611897</td>\n",
       "      <td>1.960067</td>\n",
       "    </tr>\n",
       "    <tr>\n",
       "      <th>2</th>\n",
       "      <td>-0.299866</td>\n",
       "      <td>-0.300992</td>\n",
       "      <td>-0.336437</td>\n",
       "      <td>0.675925</td>\n",
       "      <td>-0.275036</td>\n",
       "      <td>-0.804837</td>\n",
       "      <td>0.817275</td>\n",
       "      <td>1.402883</td>\n",
       "      <td>0.248932</td>\n",
       "      <td>0.260126</td>\n",
       "      <td>...</td>\n",
       "      <td>-0.205754</td>\n",
       "      <td>-0.334295</td>\n",
       "      <td>-0.764879</td>\n",
       "      <td>-0.097717</td>\n",
       "      <td>-0.313603</td>\n",
       "      <td>-0.172708</td>\n",
       "      <td>0.706355</td>\n",
       "      <td>0.446219</td>\n",
       "      <td>1.100510</td>\n",
       "      <td>-0.073082</td>\n",
       "    </tr>\n",
       "    <tr>\n",
       "      <th>3</th>\n",
       "      <td>-0.190336</td>\n",
       "      <td>-0.339760</td>\n",
       "      <td>-0.336437</td>\n",
       "      <td>0.927278</td>\n",
       "      <td>-0.138221</td>\n",
       "      <td>-0.269617</td>\n",
       "      <td>-0.553351</td>\n",
       "      <td>-0.043772</td>\n",
       "      <td>-0.083304</td>\n",
       "      <td>0.004982</td>\n",
       "      <td>...</td>\n",
       "      <td>-0.608138</td>\n",
       "      <td>-0.103883</td>\n",
       "      <td>-0.337551</td>\n",
       "      <td>-0.797162</td>\n",
       "      <td>-0.322982</td>\n",
       "      <td>-0.191811</td>\n",
       "      <td>1.153996</td>\n",
       "      <td>0.745269</td>\n",
       "      <td>-0.375033</td>\n",
       "      <td>3.999109</td>\n",
       "    </tr>\n",
       "    <tr>\n",
       "      <th>4</th>\n",
       "      <td>-0.212934</td>\n",
       "      <td>-0.049003</td>\n",
       "      <td>-0.336437</td>\n",
       "      <td>-0.018286</td>\n",
       "      <td>-0.140088</td>\n",
       "      <td>-0.291613</td>\n",
       "      <td>-0.545613</td>\n",
       "      <td>-0.233903</td>\n",
       "      <td>2.242348</td>\n",
       "      <td>-0.189414</td>\n",
       "      <td>...</td>\n",
       "      <td>-0.602390</td>\n",
       "      <td>-0.140153</td>\n",
       "      <td>-0.456987</td>\n",
       "      <td>-0.797162</td>\n",
       "      <td>-0.322982</td>\n",
       "      <td>-0.189650</td>\n",
       "      <td>1.165187</td>\n",
       "      <td>0.632057</td>\n",
       "      <td>-0.209358</td>\n",
       "      <td>3.999109</td>\n",
       "    </tr>\n",
       "    <tr>\n",
       "      <th>...</th>\n",
       "      <td>...</td>\n",
       "      <td>...</td>\n",
       "      <td>...</td>\n",
       "      <td>...</td>\n",
       "      <td>...</td>\n",
       "      <td>...</td>\n",
       "      <td>...</td>\n",
       "      <td>...</td>\n",
       "      <td>...</td>\n",
       "      <td>...</td>\n",
       "      <td>...</td>\n",
       "      <td>...</td>\n",
       "      <td>...</td>\n",
       "      <td>...</td>\n",
       "      <td>...</td>\n",
       "      <td>...</td>\n",
       "      <td>...</td>\n",
       "      <td>...</td>\n",
       "      <td>...</td>\n",
       "      <td>...</td>\n",
       "      <td>...</td>\n",
       "    </tr>\n",
       "    <tr>\n",
       "      <th>334</th>\n",
       "      <td>-0.279942</td>\n",
       "      <td>-0.339760</td>\n",
       "      <td>-0.336437</td>\n",
       "      <td>-0.586361</td>\n",
       "      <td>-0.010388</td>\n",
       "      <td>-0.391814</td>\n",
       "      <td>-0.023052</td>\n",
       "      <td>-0.457101</td>\n",
       "      <td>-1.080012</td>\n",
       "      <td>-0.165114</td>\n",
       "      <td>...</td>\n",
       "      <td>0.047174</td>\n",
       "      <td>-0.244491</td>\n",
       "      <td>-0.808957</td>\n",
       "      <td>0.193423</td>\n",
       "      <td>-0.322982</td>\n",
       "      <td>4.132614</td>\n",
       "      <td>-1.145759</td>\n",
       "      <td>-0.053622</td>\n",
       "      <td>-0.417746</td>\n",
       "      <td>-0.020044</td>\n",
       "    </tr>\n",
       "    <tr>\n",
       "      <th>335</th>\n",
       "      <td>-0.301590</td>\n",
       "      <td>-0.339760</td>\n",
       "      <td>-0.336437</td>\n",
       "      <td>-1.822868</td>\n",
       "      <td>0.000319</td>\n",
       "      <td>-0.364930</td>\n",
       "      <td>-0.102494</td>\n",
       "      <td>-0.514967</td>\n",
       "      <td>0.082814</td>\n",
       "      <td>-0.298761</td>\n",
       "      <td>...</td>\n",
       "      <td>0.116154</td>\n",
       "      <td>-0.240475</td>\n",
       "      <td>-0.804920</td>\n",
       "      <td>0.342543</td>\n",
       "      <td>-0.322982</td>\n",
       "      <td>4.134373</td>\n",
       "      <td>0.913389</td>\n",
       "      <td>-0.053622</td>\n",
       "      <td>-0.417746</td>\n",
       "      <td>-0.031830</td>\n",
       "    </tr>\n",
       "    <tr>\n",
       "      <th>336</th>\n",
       "      <td>-0.270393</td>\n",
       "      <td>-0.339760</td>\n",
       "      <td>-0.143455</td>\n",
       "      <td>-0.749787</td>\n",
       "      <td>-0.270577</td>\n",
       "      <td>-1.083444</td>\n",
       "      <td>3.060726</td>\n",
       "      <td>-1.134962</td>\n",
       "      <td>-0.415540</td>\n",
       "      <td>-1.076343</td>\n",
       "      <td>...</td>\n",
       "      <td>-1.102497</td>\n",
       "      <td>-0.339071</td>\n",
       "      <td>-0.860748</td>\n",
       "      <td>-0.797162</td>\n",
       "      <td>-0.322982</td>\n",
       "      <td>-0.181383</td>\n",
       "      <td>-1.145759</td>\n",
       "      <td>-1.726168</td>\n",
       "      <td>-0.611897</td>\n",
       "      <td>-0.385421</td>\n",
       "    </tr>\n",
       "    <tr>\n",
       "      <th>337</th>\n",
       "      <td>-0.238752</td>\n",
       "      <td>-0.300992</td>\n",
       "      <td>-0.336437</td>\n",
       "      <td>-0.749787</td>\n",
       "      <td>-0.271273</td>\n",
       "      <td>-1.102995</td>\n",
       "      <td>3.116955</td>\n",
       "      <td>-1.134962</td>\n",
       "      <td>-0.581658</td>\n",
       "      <td>-1.367937</td>\n",
       "      <td>...</td>\n",
       "      <td>-0.993278</td>\n",
       "      <td>-0.339071</td>\n",
       "      <td>-0.896662</td>\n",
       "      <td>-0.797162</td>\n",
       "      <td>-0.322982</td>\n",
       "      <td>-0.192840</td>\n",
       "      <td>1.668783</td>\n",
       "      <td>-1.726168</td>\n",
       "      <td>-0.611897</td>\n",
       "      <td>-0.385421</td>\n",
       "    </tr>\n",
       "    <tr>\n",
       "      <th>338</th>\n",
       "      <td>-0.281053</td>\n",
       "      <td>-0.300992</td>\n",
       "      <td>-0.336437</td>\n",
       "      <td>-1.044872</td>\n",
       "      <td>-0.272747</td>\n",
       "      <td>-1.134766</td>\n",
       "      <td>3.263457</td>\n",
       "      <td>-1.134962</td>\n",
       "      <td>1.079522</td>\n",
       "      <td>-1.501583</td>\n",
       "      <td>...</td>\n",
       "      <td>-0.763344</td>\n",
       "      <td>-0.339071</td>\n",
       "      <td>-0.898746</td>\n",
       "      <td>-0.797162</td>\n",
       "      <td>-0.322982</td>\n",
       "      <td>-0.185335</td>\n",
       "      <td>-1.145759</td>\n",
       "      <td>-1.726168</td>\n",
       "      <td>-0.611897</td>\n",
       "      <td>-0.385421</td>\n",
       "    </tr>\n",
       "  </tbody>\n",
       "</table>\n",
       "<p>339 rows × 25 columns</p>\n",
       "</div>"
      ],
      "text/plain": [
       "           0         1         2         3         4         5         6   \\\n",
       "0   -0.301590 -0.339760  0.049526 -1.021855 -0.271401 -1.195864 -0.097335   \n",
       "1   -0.282002 -0.339760 -0.336437 -1.010806 -0.270654 -1.190976 -0.161817   \n",
       "2   -0.299866 -0.300992 -0.336437  0.675925 -0.275036 -0.804837  0.817275   \n",
       "3   -0.190336 -0.339760 -0.336437  0.927278 -0.138221 -0.269617 -0.553351   \n",
       "4   -0.212934 -0.049003 -0.336437 -0.018286 -0.140088 -0.291613 -0.545613   \n",
       "..        ...       ...       ...       ...       ...       ...       ...   \n",
       "334 -0.279942 -0.339760 -0.336437 -0.586361 -0.010388 -0.391814 -0.023052   \n",
       "335 -0.301590 -0.339760 -0.336437 -1.822868  0.000319 -0.364930 -0.102494   \n",
       "336 -0.270393 -0.339760 -0.143455 -0.749787 -0.270577 -1.083444  3.060726   \n",
       "337 -0.238752 -0.300992 -0.336437 -0.749787 -0.271273 -1.102995  3.116955   \n",
       "338 -0.281053 -0.300992 -0.336437 -1.044872 -0.272747 -1.134766  3.263457   \n",
       "\n",
       "           7         8         9   ...        15        16        17  \\\n",
       "0   -1.134962  1.245640 -3.603485  ... -1.660087 -0.339071 -0.934457   \n",
       "1   -1.134962 -0.083304 -3.554886  ... -1.763557 -0.339071 -0.935648   \n",
       "2    1.402883  0.248932  0.260126  ... -0.205754 -0.334295 -0.764879   \n",
       "3   -0.043772 -0.083304  0.004982  ... -0.608138 -0.103883 -0.337551   \n",
       "4   -0.233903  2.242348 -0.189414  ... -0.602390 -0.140153 -0.456987   \n",
       "..        ...       ...       ...  ...       ...       ...       ...   \n",
       "334 -0.457101 -1.080012 -0.165114  ...  0.047174 -0.244491 -0.808957   \n",
       "335 -0.514967  0.082814 -0.298761  ...  0.116154 -0.240475 -0.804920   \n",
       "336 -1.134962 -0.415540 -1.076343  ... -1.102497 -0.339071 -0.860748   \n",
       "337 -1.134962 -0.581658 -1.367937  ... -0.993278 -0.339071 -0.896662   \n",
       "338 -1.134962  1.079522 -1.501583  ... -0.763344 -0.339071 -0.898746   \n",
       "\n",
       "           18        19        20        21        22        23        24  \n",
       "0    0.970979 -0.322982 -0.182218 -1.145759 -1.726168 -0.611897  0.575168  \n",
       "1   -0.577032 -0.322982 -0.181463 -1.145759 -1.726168 -0.611897  1.960067  \n",
       "2   -0.097717 -0.313603 -0.172708  0.706355  0.446219  1.100510 -0.073082  \n",
       "3   -0.797162 -0.322982 -0.191811  1.153996  0.745269 -0.375033  3.999109  \n",
       "4   -0.797162 -0.322982 -0.189650  1.165187  0.632057 -0.209358  3.999109  \n",
       "..        ...       ...       ...       ...       ...       ...       ...  \n",
       "334  0.193423 -0.322982  4.132614 -1.145759 -0.053622 -0.417746 -0.020044  \n",
       "335  0.342543 -0.322982  4.134373  0.913389 -0.053622 -0.417746 -0.031830  \n",
       "336 -0.797162 -0.322982 -0.181383 -1.145759 -1.726168 -0.611897 -0.385421  \n",
       "337 -0.797162 -0.322982 -0.192840  1.668783 -1.726168 -0.611897 -0.385421  \n",
       "338 -0.797162 -0.322982 -0.185335 -1.145759 -1.726168 -0.611897 -0.385421  \n",
       "\n",
       "[339 rows x 25 columns]"
      ]
     },
     "execution_count": 7,
     "metadata": {},
     "output_type": "execute_result"
    }
   ],
   "source": [
    "#X = data_mi.copy()\n",
    "X = data.copy()\n",
    "header = X.loc[0 ,:] \n",
    "\n",
    "#Initialize our scaler\n",
    "scaler = StandardScaler()\n",
    "\n",
    "#Scale each column in numer\n",
    "#X = pd.DataFrame(scaler.fit_transform(X),index=ids)\n",
    "X = pd.DataFrame(scaler.fit_transform(X))\n",
    "X"
   ]
  },
  {
   "cell_type": "code",
   "execution_count": 8,
   "metadata": {},
   "outputs": [
    {
     "data": {
      "text/html": [
       "<style>#sk-container-id-1 {\n",
       "  /* Definition of color scheme common for light and dark mode */\n",
       "  --sklearn-color-text: #000;\n",
       "  --sklearn-color-text-muted: #666;\n",
       "  --sklearn-color-line: gray;\n",
       "  /* Definition of color scheme for unfitted estimators */\n",
       "  --sklearn-color-unfitted-level-0: #fff5e6;\n",
       "  --sklearn-color-unfitted-level-1: #f6e4d2;\n",
       "  --sklearn-color-unfitted-level-2: #ffe0b3;\n",
       "  --sklearn-color-unfitted-level-3: chocolate;\n",
       "  /* Definition of color scheme for fitted estimators */\n",
       "  --sklearn-color-fitted-level-0: #f0f8ff;\n",
       "  --sklearn-color-fitted-level-1: #d4ebff;\n",
       "  --sklearn-color-fitted-level-2: #b3dbfd;\n",
       "  --sklearn-color-fitted-level-3: cornflowerblue;\n",
       "\n",
       "  /* Specific color for light theme */\n",
       "  --sklearn-color-text-on-default-background: var(--sg-text-color, var(--theme-code-foreground, var(--jp-content-font-color1, black)));\n",
       "  --sklearn-color-background: var(--sg-background-color, var(--theme-background, var(--jp-layout-color0, white)));\n",
       "  --sklearn-color-border-box: var(--sg-text-color, var(--theme-code-foreground, var(--jp-content-font-color1, black)));\n",
       "  --sklearn-color-icon: #696969;\n",
       "\n",
       "  @media (prefers-color-scheme: dark) {\n",
       "    /* Redefinition of color scheme for dark theme */\n",
       "    --sklearn-color-text-on-default-background: var(--sg-text-color, var(--theme-code-foreground, var(--jp-content-font-color1, white)));\n",
       "    --sklearn-color-background: var(--sg-background-color, var(--theme-background, var(--jp-layout-color0, #111)));\n",
       "    --sklearn-color-border-box: var(--sg-text-color, var(--theme-code-foreground, var(--jp-content-font-color1, white)));\n",
       "    --sklearn-color-icon: #878787;\n",
       "  }\n",
       "}\n",
       "\n",
       "#sk-container-id-1 {\n",
       "  color: var(--sklearn-color-text);\n",
       "}\n",
       "\n",
       "#sk-container-id-1 pre {\n",
       "  padding: 0;\n",
       "}\n",
       "\n",
       "#sk-container-id-1 input.sk-hidden--visually {\n",
       "  border: 0;\n",
       "  clip: rect(1px 1px 1px 1px);\n",
       "  clip: rect(1px, 1px, 1px, 1px);\n",
       "  height: 1px;\n",
       "  margin: -1px;\n",
       "  overflow: hidden;\n",
       "  padding: 0;\n",
       "  position: absolute;\n",
       "  width: 1px;\n",
       "}\n",
       "\n",
       "#sk-container-id-1 div.sk-dashed-wrapped {\n",
       "  border: 1px dashed var(--sklearn-color-line);\n",
       "  margin: 0 0.4em 0.5em 0.4em;\n",
       "  box-sizing: border-box;\n",
       "  padding-bottom: 0.4em;\n",
       "  background-color: var(--sklearn-color-background);\n",
       "}\n",
       "\n",
       "#sk-container-id-1 div.sk-container {\n",
       "  /* jupyter's `normalize.less` sets `[hidden] { display: none; }`\n",
       "     but bootstrap.min.css set `[hidden] { display: none !important; }`\n",
       "     so we also need the `!important` here to be able to override the\n",
       "     default hidden behavior on the sphinx rendered scikit-learn.org.\n",
       "     See: https://github.com/scikit-learn/scikit-learn/issues/21755 */\n",
       "  display: inline-block !important;\n",
       "  position: relative;\n",
       "}\n",
       "\n",
       "#sk-container-id-1 div.sk-text-repr-fallback {\n",
       "  display: none;\n",
       "}\n",
       "\n",
       "div.sk-parallel-item,\n",
       "div.sk-serial,\n",
       "div.sk-item {\n",
       "  /* draw centered vertical line to link estimators */\n",
       "  background-image: linear-gradient(var(--sklearn-color-text-on-default-background), var(--sklearn-color-text-on-default-background));\n",
       "  background-size: 2px 100%;\n",
       "  background-repeat: no-repeat;\n",
       "  background-position: center center;\n",
       "}\n",
       "\n",
       "/* Parallel-specific style estimator block */\n",
       "\n",
       "#sk-container-id-1 div.sk-parallel-item::after {\n",
       "  content: \"\";\n",
       "  width: 100%;\n",
       "  border-bottom: 2px solid var(--sklearn-color-text-on-default-background);\n",
       "  flex-grow: 1;\n",
       "}\n",
       "\n",
       "#sk-container-id-1 div.sk-parallel {\n",
       "  display: flex;\n",
       "  align-items: stretch;\n",
       "  justify-content: center;\n",
       "  background-color: var(--sklearn-color-background);\n",
       "  position: relative;\n",
       "}\n",
       "\n",
       "#sk-container-id-1 div.sk-parallel-item {\n",
       "  display: flex;\n",
       "  flex-direction: column;\n",
       "}\n",
       "\n",
       "#sk-container-id-1 div.sk-parallel-item:first-child::after {\n",
       "  align-self: flex-end;\n",
       "  width: 50%;\n",
       "}\n",
       "\n",
       "#sk-container-id-1 div.sk-parallel-item:last-child::after {\n",
       "  align-self: flex-start;\n",
       "  width: 50%;\n",
       "}\n",
       "\n",
       "#sk-container-id-1 div.sk-parallel-item:only-child::after {\n",
       "  width: 0;\n",
       "}\n",
       "\n",
       "/* Serial-specific style estimator block */\n",
       "\n",
       "#sk-container-id-1 div.sk-serial {\n",
       "  display: flex;\n",
       "  flex-direction: column;\n",
       "  align-items: center;\n",
       "  background-color: var(--sklearn-color-background);\n",
       "  padding-right: 1em;\n",
       "  padding-left: 1em;\n",
       "}\n",
       "\n",
       "\n",
       "/* Toggleable style: style used for estimator/Pipeline/ColumnTransformer box that is\n",
       "clickable and can be expanded/collapsed.\n",
       "- Pipeline and ColumnTransformer use this feature and define the default style\n",
       "- Estimators will overwrite some part of the style using the `sk-estimator` class\n",
       "*/\n",
       "\n",
       "/* Pipeline and ColumnTransformer style (default) */\n",
       "\n",
       "#sk-container-id-1 div.sk-toggleable {\n",
       "  /* Default theme specific background. It is overwritten whether we have a\n",
       "  specific estimator or a Pipeline/ColumnTransformer */\n",
       "  background-color: var(--sklearn-color-background);\n",
       "}\n",
       "\n",
       "/* Toggleable label */\n",
       "#sk-container-id-1 label.sk-toggleable__label {\n",
       "  cursor: pointer;\n",
       "  display: flex;\n",
       "  width: 100%;\n",
       "  margin-bottom: 0;\n",
       "  padding: 0.5em;\n",
       "  box-sizing: border-box;\n",
       "  text-align: center;\n",
       "  align-items: start;\n",
       "  justify-content: space-between;\n",
       "  gap: 0.5em;\n",
       "}\n",
       "\n",
       "#sk-container-id-1 label.sk-toggleable__label .caption {\n",
       "  font-size: 0.6rem;\n",
       "  font-weight: lighter;\n",
       "  color: var(--sklearn-color-text-muted);\n",
       "}\n",
       "\n",
       "#sk-container-id-1 label.sk-toggleable__label-arrow:before {\n",
       "  /* Arrow on the left of the label */\n",
       "  content: \"▸\";\n",
       "  float: left;\n",
       "  margin-right: 0.25em;\n",
       "  color: var(--sklearn-color-icon);\n",
       "}\n",
       "\n",
       "#sk-container-id-1 label.sk-toggleable__label-arrow:hover:before {\n",
       "  color: var(--sklearn-color-text);\n",
       "}\n",
       "\n",
       "/* Toggleable content - dropdown */\n",
       "\n",
       "#sk-container-id-1 div.sk-toggleable__content {\n",
       "  max-height: 0;\n",
       "  max-width: 0;\n",
       "  overflow: hidden;\n",
       "  text-align: left;\n",
       "  /* unfitted */\n",
       "  background-color: var(--sklearn-color-unfitted-level-0);\n",
       "}\n",
       "\n",
       "#sk-container-id-1 div.sk-toggleable__content.fitted {\n",
       "  /* fitted */\n",
       "  background-color: var(--sklearn-color-fitted-level-0);\n",
       "}\n",
       "\n",
       "#sk-container-id-1 div.sk-toggleable__content pre {\n",
       "  margin: 0.2em;\n",
       "  border-radius: 0.25em;\n",
       "  color: var(--sklearn-color-text);\n",
       "  /* unfitted */\n",
       "  background-color: var(--sklearn-color-unfitted-level-0);\n",
       "}\n",
       "\n",
       "#sk-container-id-1 div.sk-toggleable__content.fitted pre {\n",
       "  /* unfitted */\n",
       "  background-color: var(--sklearn-color-fitted-level-0);\n",
       "}\n",
       "\n",
       "#sk-container-id-1 input.sk-toggleable__control:checked~div.sk-toggleable__content {\n",
       "  /* Expand drop-down */\n",
       "  max-height: 200px;\n",
       "  max-width: 100%;\n",
       "  overflow: auto;\n",
       "}\n",
       "\n",
       "#sk-container-id-1 input.sk-toggleable__control:checked~label.sk-toggleable__label-arrow:before {\n",
       "  content: \"▾\";\n",
       "}\n",
       "\n",
       "/* Pipeline/ColumnTransformer-specific style */\n",
       "\n",
       "#sk-container-id-1 div.sk-label input.sk-toggleable__control:checked~label.sk-toggleable__label {\n",
       "  color: var(--sklearn-color-text);\n",
       "  background-color: var(--sklearn-color-unfitted-level-2);\n",
       "}\n",
       "\n",
       "#sk-container-id-1 div.sk-label.fitted input.sk-toggleable__control:checked~label.sk-toggleable__label {\n",
       "  background-color: var(--sklearn-color-fitted-level-2);\n",
       "}\n",
       "\n",
       "/* Estimator-specific style */\n",
       "\n",
       "/* Colorize estimator box */\n",
       "#sk-container-id-1 div.sk-estimator input.sk-toggleable__control:checked~label.sk-toggleable__label {\n",
       "  /* unfitted */\n",
       "  background-color: var(--sklearn-color-unfitted-level-2);\n",
       "}\n",
       "\n",
       "#sk-container-id-1 div.sk-estimator.fitted input.sk-toggleable__control:checked~label.sk-toggleable__label {\n",
       "  /* fitted */\n",
       "  background-color: var(--sklearn-color-fitted-level-2);\n",
       "}\n",
       "\n",
       "#sk-container-id-1 div.sk-label label.sk-toggleable__label,\n",
       "#sk-container-id-1 div.sk-label label {\n",
       "  /* The background is the default theme color */\n",
       "  color: var(--sklearn-color-text-on-default-background);\n",
       "}\n",
       "\n",
       "/* On hover, darken the color of the background */\n",
       "#sk-container-id-1 div.sk-label:hover label.sk-toggleable__label {\n",
       "  color: var(--sklearn-color-text);\n",
       "  background-color: var(--sklearn-color-unfitted-level-2);\n",
       "}\n",
       "\n",
       "/* Label box, darken color on hover, fitted */\n",
       "#sk-container-id-1 div.sk-label.fitted:hover label.sk-toggleable__label.fitted {\n",
       "  color: var(--sklearn-color-text);\n",
       "  background-color: var(--sklearn-color-fitted-level-2);\n",
       "}\n",
       "\n",
       "/* Estimator label */\n",
       "\n",
       "#sk-container-id-1 div.sk-label label {\n",
       "  font-family: monospace;\n",
       "  font-weight: bold;\n",
       "  display: inline-block;\n",
       "  line-height: 1.2em;\n",
       "}\n",
       "\n",
       "#sk-container-id-1 div.sk-label-container {\n",
       "  text-align: center;\n",
       "}\n",
       "\n",
       "/* Estimator-specific */\n",
       "#sk-container-id-1 div.sk-estimator {\n",
       "  font-family: monospace;\n",
       "  border: 1px dotted var(--sklearn-color-border-box);\n",
       "  border-radius: 0.25em;\n",
       "  box-sizing: border-box;\n",
       "  margin-bottom: 0.5em;\n",
       "  /* unfitted */\n",
       "  background-color: var(--sklearn-color-unfitted-level-0);\n",
       "}\n",
       "\n",
       "#sk-container-id-1 div.sk-estimator.fitted {\n",
       "  /* fitted */\n",
       "  background-color: var(--sklearn-color-fitted-level-0);\n",
       "}\n",
       "\n",
       "/* on hover */\n",
       "#sk-container-id-1 div.sk-estimator:hover {\n",
       "  /* unfitted */\n",
       "  background-color: var(--sklearn-color-unfitted-level-2);\n",
       "}\n",
       "\n",
       "#sk-container-id-1 div.sk-estimator.fitted:hover {\n",
       "  /* fitted */\n",
       "  background-color: var(--sklearn-color-fitted-level-2);\n",
       "}\n",
       "\n",
       "/* Specification for estimator info (e.g. \"i\" and \"?\") */\n",
       "\n",
       "/* Common style for \"i\" and \"?\" */\n",
       "\n",
       ".sk-estimator-doc-link,\n",
       "a:link.sk-estimator-doc-link,\n",
       "a:visited.sk-estimator-doc-link {\n",
       "  float: right;\n",
       "  font-size: smaller;\n",
       "  line-height: 1em;\n",
       "  font-family: monospace;\n",
       "  background-color: var(--sklearn-color-background);\n",
       "  border-radius: 1em;\n",
       "  height: 1em;\n",
       "  width: 1em;\n",
       "  text-decoration: none !important;\n",
       "  margin-left: 0.5em;\n",
       "  text-align: center;\n",
       "  /* unfitted */\n",
       "  border: var(--sklearn-color-unfitted-level-1) 1pt solid;\n",
       "  color: var(--sklearn-color-unfitted-level-1);\n",
       "}\n",
       "\n",
       ".sk-estimator-doc-link.fitted,\n",
       "a:link.sk-estimator-doc-link.fitted,\n",
       "a:visited.sk-estimator-doc-link.fitted {\n",
       "  /* fitted */\n",
       "  border: var(--sklearn-color-fitted-level-1) 1pt solid;\n",
       "  color: var(--sklearn-color-fitted-level-1);\n",
       "}\n",
       "\n",
       "/* On hover */\n",
       "div.sk-estimator:hover .sk-estimator-doc-link:hover,\n",
       ".sk-estimator-doc-link:hover,\n",
       "div.sk-label-container:hover .sk-estimator-doc-link:hover,\n",
       ".sk-estimator-doc-link:hover {\n",
       "  /* unfitted */\n",
       "  background-color: var(--sklearn-color-unfitted-level-3);\n",
       "  color: var(--sklearn-color-background);\n",
       "  text-decoration: none;\n",
       "}\n",
       "\n",
       "div.sk-estimator.fitted:hover .sk-estimator-doc-link.fitted:hover,\n",
       ".sk-estimator-doc-link.fitted:hover,\n",
       "div.sk-label-container:hover .sk-estimator-doc-link.fitted:hover,\n",
       ".sk-estimator-doc-link.fitted:hover {\n",
       "  /* fitted */\n",
       "  background-color: var(--sklearn-color-fitted-level-3);\n",
       "  color: var(--sklearn-color-background);\n",
       "  text-decoration: none;\n",
       "}\n",
       "\n",
       "/* Span, style for the box shown on hovering the info icon */\n",
       ".sk-estimator-doc-link span {\n",
       "  display: none;\n",
       "  z-index: 9999;\n",
       "  position: relative;\n",
       "  font-weight: normal;\n",
       "  right: .2ex;\n",
       "  padding: .5ex;\n",
       "  margin: .5ex;\n",
       "  width: min-content;\n",
       "  min-width: 20ex;\n",
       "  max-width: 50ex;\n",
       "  color: var(--sklearn-color-text);\n",
       "  box-shadow: 2pt 2pt 4pt #999;\n",
       "  /* unfitted */\n",
       "  background: var(--sklearn-color-unfitted-level-0);\n",
       "  border: .5pt solid var(--sklearn-color-unfitted-level-3);\n",
       "}\n",
       "\n",
       ".sk-estimator-doc-link.fitted span {\n",
       "  /* fitted */\n",
       "  background: var(--sklearn-color-fitted-level-0);\n",
       "  border: var(--sklearn-color-fitted-level-3);\n",
       "}\n",
       "\n",
       ".sk-estimator-doc-link:hover span {\n",
       "  display: block;\n",
       "}\n",
       "\n",
       "/* \"?\"-specific style due to the `<a>` HTML tag */\n",
       "\n",
       "#sk-container-id-1 a.estimator_doc_link {\n",
       "  float: right;\n",
       "  font-size: 1rem;\n",
       "  line-height: 1em;\n",
       "  font-family: monospace;\n",
       "  background-color: var(--sklearn-color-background);\n",
       "  border-radius: 1rem;\n",
       "  height: 1rem;\n",
       "  width: 1rem;\n",
       "  text-decoration: none;\n",
       "  /* unfitted */\n",
       "  color: var(--sklearn-color-unfitted-level-1);\n",
       "  border: var(--sklearn-color-unfitted-level-1) 1pt solid;\n",
       "}\n",
       "\n",
       "#sk-container-id-1 a.estimator_doc_link.fitted {\n",
       "  /* fitted */\n",
       "  border: var(--sklearn-color-fitted-level-1) 1pt solid;\n",
       "  color: var(--sklearn-color-fitted-level-1);\n",
       "}\n",
       "\n",
       "/* On hover */\n",
       "#sk-container-id-1 a.estimator_doc_link:hover {\n",
       "  /* unfitted */\n",
       "  background-color: var(--sklearn-color-unfitted-level-3);\n",
       "  color: var(--sklearn-color-background);\n",
       "  text-decoration: none;\n",
       "}\n",
       "\n",
       "#sk-container-id-1 a.estimator_doc_link.fitted:hover {\n",
       "  /* fitted */\n",
       "  background-color: var(--sklearn-color-fitted-level-3);\n",
       "}\n",
       "</style><div id=\"sk-container-id-1\" class=\"sk-top-container\"><div class=\"sk-text-repr-fallback\"><pre>KMeans(n_clusters=2)</pre><b>In a Jupyter environment, please rerun this cell to show the HTML representation or trust the notebook. <br />On GitHub, the HTML representation is unable to render, please try loading this page with nbviewer.org.</b></div><div class=\"sk-container\" hidden><div class=\"sk-item\"><div class=\"sk-estimator fitted sk-toggleable\"><input class=\"sk-toggleable__control sk-hidden--visually\" id=\"sk-estimator-id-1\" type=\"checkbox\" checked><label for=\"sk-estimator-id-1\" class=\"sk-toggleable__label fitted sk-toggleable__label-arrow\"><div><div>KMeans</div></div><div><a class=\"sk-estimator-doc-link fitted\" rel=\"noreferrer\" target=\"_blank\" href=\"https://scikit-learn.org/1.6/modules/generated/sklearn.cluster.KMeans.html\">?<span>Documentation for KMeans</span></a><span class=\"sk-estimator-doc-link fitted\">i<span>Fitted</span></span></div></label><div class=\"sk-toggleable__content fitted\"><pre>KMeans(n_clusters=2)</pre></div> </div></div></div></div>"
      ],
      "text/plain": [
       "KMeans(n_clusters=2)"
      ]
     },
     "execution_count": 8,
     "metadata": {},
     "output_type": "execute_result"
    }
   ],
   "source": [
    "kmeans = KMeans(n_clusters=2)\n",
    "#Fit our model\n",
    "kmeans.fit(X.values)"
   ]
  },
  {
   "cell_type": "code",
   "execution_count": 9,
   "metadata": {
    "scrolled": true
   },
   "outputs": [
    {
     "data": {
      "text/html": [
       "<div>\n",
       "<style scoped>\n",
       "    .dataframe tbody tr th:only-of-type {\n",
       "        vertical-align: middle;\n",
       "    }\n",
       "\n",
       "    .dataframe tbody tr th {\n",
       "        vertical-align: top;\n",
       "    }\n",
       "\n",
       "    .dataframe thead th {\n",
       "        text-align: right;\n",
       "    }\n",
       "</style>\n",
       "<table border=\"1\" class=\"dataframe\">\n",
       "  <thead>\n",
       "    <tr style=\"text-align: right;\">\n",
       "      <th></th>\n",
       "      <th>0</th>\n",
       "      <th>1</th>\n",
       "      <th>2</th>\n",
       "      <th>3</th>\n",
       "      <th>4</th>\n",
       "      <th>5</th>\n",
       "      <th>6</th>\n",
       "      <th>7</th>\n",
       "      <th>8</th>\n",
       "      <th>9</th>\n",
       "      <th>...</th>\n",
       "      <th>16</th>\n",
       "      <th>17</th>\n",
       "      <th>18</th>\n",
       "      <th>19</th>\n",
       "      <th>20</th>\n",
       "      <th>21</th>\n",
       "      <th>22</th>\n",
       "      <th>23</th>\n",
       "      <th>24</th>\n",
       "      <th>Cluster</th>\n",
       "    </tr>\n",
       "  </thead>\n",
       "  <tbody>\n",
       "    <tr>\n",
       "      <th>0</th>\n",
       "      <td>-0.301590</td>\n",
       "      <td>-0.339760</td>\n",
       "      <td>0.049526</td>\n",
       "      <td>-1.021855</td>\n",
       "      <td>-0.271401</td>\n",
       "      <td>-1.195864</td>\n",
       "      <td>-0.097335</td>\n",
       "      <td>-1.134962</td>\n",
       "      <td>1.245640</td>\n",
       "      <td>-3.603485</td>\n",
       "      <td>...</td>\n",
       "      <td>-0.339071</td>\n",
       "      <td>-0.934457</td>\n",
       "      <td>0.970979</td>\n",
       "      <td>-0.322982</td>\n",
       "      <td>-0.182218</td>\n",
       "      <td>-1.145759</td>\n",
       "      <td>-1.726168</td>\n",
       "      <td>-0.611897</td>\n",
       "      <td>0.575168</td>\n",
       "      <td>0</td>\n",
       "    </tr>\n",
       "    <tr>\n",
       "      <th>1</th>\n",
       "      <td>-0.282002</td>\n",
       "      <td>-0.339760</td>\n",
       "      <td>-0.336437</td>\n",
       "      <td>-1.010806</td>\n",
       "      <td>-0.270654</td>\n",
       "      <td>-1.190976</td>\n",
       "      <td>-0.161817</td>\n",
       "      <td>-1.134962</td>\n",
       "      <td>-0.083304</td>\n",
       "      <td>-3.554886</td>\n",
       "      <td>...</td>\n",
       "      <td>-0.339071</td>\n",
       "      <td>-0.935648</td>\n",
       "      <td>-0.577032</td>\n",
       "      <td>-0.322982</td>\n",
       "      <td>-0.181463</td>\n",
       "      <td>-1.145759</td>\n",
       "      <td>-1.726168</td>\n",
       "      <td>-0.611897</td>\n",
       "      <td>1.960067</td>\n",
       "      <td>0</td>\n",
       "    </tr>\n",
       "    <tr>\n",
       "      <th>2</th>\n",
       "      <td>-0.299866</td>\n",
       "      <td>-0.300992</td>\n",
       "      <td>-0.336437</td>\n",
       "      <td>0.675925</td>\n",
       "      <td>-0.275036</td>\n",
       "      <td>-0.804837</td>\n",
       "      <td>0.817275</td>\n",
       "      <td>1.402883</td>\n",
       "      <td>0.248932</td>\n",
       "      <td>0.260126</td>\n",
       "      <td>...</td>\n",
       "      <td>-0.334295</td>\n",
       "      <td>-0.764879</td>\n",
       "      <td>-0.097717</td>\n",
       "      <td>-0.313603</td>\n",
       "      <td>-0.172708</td>\n",
       "      <td>0.706355</td>\n",
       "      <td>0.446219</td>\n",
       "      <td>1.100510</td>\n",
       "      <td>-0.073082</td>\n",
       "      <td>0</td>\n",
       "    </tr>\n",
       "    <tr>\n",
       "      <th>3</th>\n",
       "      <td>-0.190336</td>\n",
       "      <td>-0.339760</td>\n",
       "      <td>-0.336437</td>\n",
       "      <td>0.927278</td>\n",
       "      <td>-0.138221</td>\n",
       "      <td>-0.269617</td>\n",
       "      <td>-0.553351</td>\n",
       "      <td>-0.043772</td>\n",
       "      <td>-0.083304</td>\n",
       "      <td>0.004982</td>\n",
       "      <td>...</td>\n",
       "      <td>-0.103883</td>\n",
       "      <td>-0.337551</td>\n",
       "      <td>-0.797162</td>\n",
       "      <td>-0.322982</td>\n",
       "      <td>-0.191811</td>\n",
       "      <td>1.153996</td>\n",
       "      <td>0.745269</td>\n",
       "      <td>-0.375033</td>\n",
       "      <td>3.999109</td>\n",
       "      <td>0</td>\n",
       "    </tr>\n",
       "    <tr>\n",
       "      <th>4</th>\n",
       "      <td>-0.212934</td>\n",
       "      <td>-0.049003</td>\n",
       "      <td>-0.336437</td>\n",
       "      <td>-0.018286</td>\n",
       "      <td>-0.140088</td>\n",
       "      <td>-0.291613</td>\n",
       "      <td>-0.545613</td>\n",
       "      <td>-0.233903</td>\n",
       "      <td>2.242348</td>\n",
       "      <td>-0.189414</td>\n",
       "      <td>...</td>\n",
       "      <td>-0.140153</td>\n",
       "      <td>-0.456987</td>\n",
       "      <td>-0.797162</td>\n",
       "      <td>-0.322982</td>\n",
       "      <td>-0.189650</td>\n",
       "      <td>1.165187</td>\n",
       "      <td>0.632057</td>\n",
       "      <td>-0.209358</td>\n",
       "      <td>3.999109</td>\n",
       "      <td>0</td>\n",
       "    </tr>\n",
       "    <tr>\n",
       "      <th>...</th>\n",
       "      <td>...</td>\n",
       "      <td>...</td>\n",
       "      <td>...</td>\n",
       "      <td>...</td>\n",
       "      <td>...</td>\n",
       "      <td>...</td>\n",
       "      <td>...</td>\n",
       "      <td>...</td>\n",
       "      <td>...</td>\n",
       "      <td>...</td>\n",
       "      <td>...</td>\n",
       "      <td>...</td>\n",
       "      <td>...</td>\n",
       "      <td>...</td>\n",
       "      <td>...</td>\n",
       "      <td>...</td>\n",
       "      <td>...</td>\n",
       "      <td>...</td>\n",
       "      <td>...</td>\n",
       "      <td>...</td>\n",
       "      <td>...</td>\n",
       "    </tr>\n",
       "    <tr>\n",
       "      <th>334</th>\n",
       "      <td>-0.279942</td>\n",
       "      <td>-0.339760</td>\n",
       "      <td>-0.336437</td>\n",
       "      <td>-0.586361</td>\n",
       "      <td>-0.010388</td>\n",
       "      <td>-0.391814</td>\n",
       "      <td>-0.023052</td>\n",
       "      <td>-0.457101</td>\n",
       "      <td>-1.080012</td>\n",
       "      <td>-0.165114</td>\n",
       "      <td>...</td>\n",
       "      <td>-0.244491</td>\n",
       "      <td>-0.808957</td>\n",
       "      <td>0.193423</td>\n",
       "      <td>-0.322982</td>\n",
       "      <td>4.132614</td>\n",
       "      <td>-1.145759</td>\n",
       "      <td>-0.053622</td>\n",
       "      <td>-0.417746</td>\n",
       "      <td>-0.020044</td>\n",
       "      <td>0</td>\n",
       "    </tr>\n",
       "    <tr>\n",
       "      <th>335</th>\n",
       "      <td>-0.301590</td>\n",
       "      <td>-0.339760</td>\n",
       "      <td>-0.336437</td>\n",
       "      <td>-1.822868</td>\n",
       "      <td>0.000319</td>\n",
       "      <td>-0.364930</td>\n",
       "      <td>-0.102494</td>\n",
       "      <td>-0.514967</td>\n",
       "      <td>0.082814</td>\n",
       "      <td>-0.298761</td>\n",
       "      <td>...</td>\n",
       "      <td>-0.240475</td>\n",
       "      <td>-0.804920</td>\n",
       "      <td>0.342543</td>\n",
       "      <td>-0.322982</td>\n",
       "      <td>4.134373</td>\n",
       "      <td>0.913389</td>\n",
       "      <td>-0.053622</td>\n",
       "      <td>-0.417746</td>\n",
       "      <td>-0.031830</td>\n",
       "      <td>0</td>\n",
       "    </tr>\n",
       "    <tr>\n",
       "      <th>336</th>\n",
       "      <td>-0.270393</td>\n",
       "      <td>-0.339760</td>\n",
       "      <td>-0.143455</td>\n",
       "      <td>-0.749787</td>\n",
       "      <td>-0.270577</td>\n",
       "      <td>-1.083444</td>\n",
       "      <td>3.060726</td>\n",
       "      <td>-1.134962</td>\n",
       "      <td>-0.415540</td>\n",
       "      <td>-1.076343</td>\n",
       "      <td>...</td>\n",
       "      <td>-0.339071</td>\n",
       "      <td>-0.860748</td>\n",
       "      <td>-0.797162</td>\n",
       "      <td>-0.322982</td>\n",
       "      <td>-0.181383</td>\n",
       "      <td>-1.145759</td>\n",
       "      <td>-1.726168</td>\n",
       "      <td>-0.611897</td>\n",
       "      <td>-0.385421</td>\n",
       "      <td>0</td>\n",
       "    </tr>\n",
       "    <tr>\n",
       "      <th>337</th>\n",
       "      <td>-0.238752</td>\n",
       "      <td>-0.300992</td>\n",
       "      <td>-0.336437</td>\n",
       "      <td>-0.749787</td>\n",
       "      <td>-0.271273</td>\n",
       "      <td>-1.102995</td>\n",
       "      <td>3.116955</td>\n",
       "      <td>-1.134962</td>\n",
       "      <td>-0.581658</td>\n",
       "      <td>-1.367937</td>\n",
       "      <td>...</td>\n",
       "      <td>-0.339071</td>\n",
       "      <td>-0.896662</td>\n",
       "      <td>-0.797162</td>\n",
       "      <td>-0.322982</td>\n",
       "      <td>-0.192840</td>\n",
       "      <td>1.668783</td>\n",
       "      <td>-1.726168</td>\n",
       "      <td>-0.611897</td>\n",
       "      <td>-0.385421</td>\n",
       "      <td>0</td>\n",
       "    </tr>\n",
       "    <tr>\n",
       "      <th>338</th>\n",
       "      <td>-0.281053</td>\n",
       "      <td>-0.300992</td>\n",
       "      <td>-0.336437</td>\n",
       "      <td>-1.044872</td>\n",
       "      <td>-0.272747</td>\n",
       "      <td>-1.134766</td>\n",
       "      <td>3.263457</td>\n",
       "      <td>-1.134962</td>\n",
       "      <td>1.079522</td>\n",
       "      <td>-1.501583</td>\n",
       "      <td>...</td>\n",
       "      <td>-0.339071</td>\n",
       "      <td>-0.898746</td>\n",
       "      <td>-0.797162</td>\n",
       "      <td>-0.322982</td>\n",
       "      <td>-0.185335</td>\n",
       "      <td>-1.145759</td>\n",
       "      <td>-1.726168</td>\n",
       "      <td>-0.611897</td>\n",
       "      <td>-0.385421</td>\n",
       "      <td>0</td>\n",
       "    </tr>\n",
       "  </tbody>\n",
       "</table>\n",
       "<p>339 rows × 26 columns</p>\n",
       "</div>"
      ],
      "text/plain": [
       "            0         1         2         3         4         5         6  \\\n",
       "0   -0.301590 -0.339760  0.049526 -1.021855 -0.271401 -1.195864 -0.097335   \n",
       "1   -0.282002 -0.339760 -0.336437 -1.010806 -0.270654 -1.190976 -0.161817   \n",
       "2   -0.299866 -0.300992 -0.336437  0.675925 -0.275036 -0.804837  0.817275   \n",
       "3   -0.190336 -0.339760 -0.336437  0.927278 -0.138221 -0.269617 -0.553351   \n",
       "4   -0.212934 -0.049003 -0.336437 -0.018286 -0.140088 -0.291613 -0.545613   \n",
       "..        ...       ...       ...       ...       ...       ...       ...   \n",
       "334 -0.279942 -0.339760 -0.336437 -0.586361 -0.010388 -0.391814 -0.023052   \n",
       "335 -0.301590 -0.339760 -0.336437 -1.822868  0.000319 -0.364930 -0.102494   \n",
       "336 -0.270393 -0.339760 -0.143455 -0.749787 -0.270577 -1.083444  3.060726   \n",
       "337 -0.238752 -0.300992 -0.336437 -0.749787 -0.271273 -1.102995  3.116955   \n",
       "338 -0.281053 -0.300992 -0.336437 -1.044872 -0.272747 -1.134766  3.263457   \n",
       "\n",
       "            7         8         9  ...        16        17        18  \\\n",
       "0   -1.134962  1.245640 -3.603485  ... -0.339071 -0.934457  0.970979   \n",
       "1   -1.134962 -0.083304 -3.554886  ... -0.339071 -0.935648 -0.577032   \n",
       "2    1.402883  0.248932  0.260126  ... -0.334295 -0.764879 -0.097717   \n",
       "3   -0.043772 -0.083304  0.004982  ... -0.103883 -0.337551 -0.797162   \n",
       "4   -0.233903  2.242348 -0.189414  ... -0.140153 -0.456987 -0.797162   \n",
       "..        ...       ...       ...  ...       ...       ...       ...   \n",
       "334 -0.457101 -1.080012 -0.165114  ... -0.244491 -0.808957  0.193423   \n",
       "335 -0.514967  0.082814 -0.298761  ... -0.240475 -0.804920  0.342543   \n",
       "336 -1.134962 -0.415540 -1.076343  ... -0.339071 -0.860748 -0.797162   \n",
       "337 -1.134962 -0.581658 -1.367937  ... -0.339071 -0.896662 -0.797162   \n",
       "338 -1.134962  1.079522 -1.501583  ... -0.339071 -0.898746 -0.797162   \n",
       "\n",
       "           19        20        21        22        23        24  Cluster  \n",
       "0   -0.322982 -0.182218 -1.145759 -1.726168 -0.611897  0.575168        0  \n",
       "1   -0.322982 -0.181463 -1.145759 -1.726168 -0.611897  1.960067        0  \n",
       "2   -0.313603 -0.172708  0.706355  0.446219  1.100510 -0.073082        0  \n",
       "3   -0.322982 -0.191811  1.153996  0.745269 -0.375033  3.999109        0  \n",
       "4   -0.322982 -0.189650  1.165187  0.632057 -0.209358  3.999109        0  \n",
       "..        ...       ...       ...       ...       ...       ...      ...  \n",
       "334 -0.322982  4.132614 -1.145759 -0.053622 -0.417746 -0.020044        0  \n",
       "335 -0.322982  4.134373  0.913389 -0.053622 -0.417746 -0.031830        0  \n",
       "336 -0.322982 -0.181383 -1.145759 -1.726168 -0.611897 -0.385421        0  \n",
       "337 -0.322982 -0.192840  1.668783 -1.726168 -0.611897 -0.385421        0  \n",
       "338 -0.322982 -0.185335 -1.145759 -1.726168 -0.611897 -0.385421        0  \n",
       "\n",
       "[339 rows x 26 columns]"
      ]
     },
     "execution_count": 9,
     "metadata": {},
     "output_type": "execute_result"
    }
   ],
   "source": [
    "clusters = kmeans.predict(X)\n",
    "#Add the cluster vector to our DataFrame, X\n",
    "X[\"Cluster\"] = clusters\n",
    "\n",
    "X"
   ]
  },
  {
   "cell_type": "code",
   "execution_count": 10,
   "metadata": {},
   "outputs": [
    {
     "data": {
      "text/plain": [
       "Index([        0,         1,         2,         3,         4,         5,\n",
       "               6,         7,         8,         9,        10,        11,\n",
       "              12,        13,        14,        15,        16,        17,\n",
       "              18,        19,        20,        21,        22,        23,\n",
       "              24, 'Cluster'],\n",
       "      dtype='object')"
      ]
     },
     "execution_count": 10,
     "metadata": {},
     "output_type": "execute_result"
    }
   ],
   "source": [
    "#header = X.loc[0 ,:] \n",
    "\n",
    "#plotX is a DataFrame containing 124 values sampled randomly from X\n",
    "plotX = pd.DataFrame(np.array(X.sample(339)))\n",
    "\n",
    "#Rename plotX's columns since it was briefly converted to an np.array above\n",
    "plotX.columns = X.columns # X.loc[0 ,:]    # X.columns\n",
    "plotX.columns"
   ]
  },
  {
   "cell_type": "code",
   "execution_count": 11,
   "metadata": {},
   "outputs": [],
   "source": [
    "#PCA with one principal component\n",
    "pca_1d = PCA(n_components=1)\n",
    "\n",
    "#PCA with two principal components\n",
    "pca_2d = PCA(n_components=2)\n",
    "\n",
    "#PCA with three principal components\n",
    "#pca_3d = PCA(n_components=3)\n",
    "\n",
    "#PCA with three principal components\n",
    "#pca_4d = PCA(n_components=4)\n"
   ]
  },
  {
   "cell_type": "code",
   "execution_count": 64,
   "metadata": {},
   "outputs": [],
   "source": [
    "#country = X"
   ]
  },
  {
   "cell_type": "code",
   "execution_count": 12,
   "metadata": {},
   "outputs": [],
   "source": [
    "#This DataFrame holds that single principal component mentioned above\n",
    "# PCs_1d = pd.DataFrame(pca_1d.fit_transform(plotX.drop([\"Cluster\"], axis=1)))\n",
    "PCs_1d = pd.DataFrame(pca_1d.fit_transform(plotX.drop([\"Cluster\"], axis=1)))\n",
    "#PCs_1d = pd.DataFrame(pca_1d.fit_transform(plotX.astype(str)))\n",
    "#This DataFrame contains the two principal components that will be used\n",
    "#for the 2-D visualization mentioned above\n",
    "# PCs_2d = pd.DataFrame(pca_2d.fit_transform(plotX.drop([\"Cluster\"], axis=1)))\n",
    "PCs_2d = pd.DataFrame(pca_2d.fit_transform(plotX.drop([\"Cluster\"], axis=1)))\n",
    "\n",
    "#And this DataFrame contains three principal components that will aid us\n",
    "#in visualizing our clusters in 3-D\n",
    "# PCs_3d = pd.DataFrame(pca_3d.fit_transform(plotX.drop([\"Cluster\"], axis=1)))\n",
    "#PCs_3d = pd.DataFrame(pca_3d.fit_transform(plotX.drop([\"Cluster\"], axis=1)))"
   ]
  },
  {
   "cell_type": "code",
   "execution_count": 13,
   "metadata": {},
   "outputs": [],
   "source": [
    "PCs_1d.columns = [\"PC1_1d\"]\n",
    "\n",
    "#\"PC1_2d\" means: 'The first principal component of the components created for 2-D visualization, by PCA.'\n",
    "#And \"PC2_2d\" means: 'The second principal component of the components created for 2-D visualization, by PCA.'\n",
    "PCs_2d.columns = [\"PC1_2d\", \"PC2_2d\"]\n",
    "\n",
    "#PCs_3d.columns = [\"PC1_3d\", \"PC2_3d\", \"PC3_3d\"]"
   ]
  },
  {
   "cell_type": "code",
   "execution_count": 14,
   "metadata": {},
   "outputs": [],
   "source": [
    "plotClusters = []\n",
    "plotClusters = [plotX[\"Cluster\"], PCs_1d,PCs_2d] #,PCs_3d]\n",
    "\n",
    "plotX = pd.concat([plotX,PCs_1d,PCs_2d], axis=1, join='inner') # ,PCs_3d\n",
    "plotX[\"dummy\"] = 0\n",
    "cluster0 = plotX[plotX[\"Cluster\"] == 0]\n",
    "cluster1 = plotX[plotX[\"Cluster\"] == 1]\n",
    "#cluster2 = plotX[plotX[\"Cluster\"] == 2]\n",
    "#cluster3 = plotX[plotX[\"Cluster\"] == 3]\n",
    "\n",
    "    \n",
    "# plotClusters[0]\n",
    "#cluster3 = plotX[plotX[\"Cluster\"] == 3]"
   ]
  },
  {
   "cell_type": "code",
   "execution_count": 15,
   "metadata": {},
   "outputs": [
    {
     "data": {
      "text/html": [
       "<div>\n",
       "<style scoped>\n",
       "    .dataframe tbody tr th:only-of-type {\n",
       "        vertical-align: middle;\n",
       "    }\n",
       "\n",
       "    .dataframe tbody tr th {\n",
       "        vertical-align: top;\n",
       "    }\n",
       "\n",
       "    .dataframe thead th {\n",
       "        text-align: right;\n",
       "    }\n",
       "</style>\n",
       "<table border=\"1\" class=\"dataframe\">\n",
       "  <thead>\n",
       "    <tr style=\"text-align: right;\">\n",
       "      <th></th>\n",
       "      <th>0</th>\n",
       "      <th>Country</th>\n",
       "      <th>PC1_2d</th>\n",
       "      <th>PC2_2d</th>\n",
       "    </tr>\n",
       "  </thead>\n",
       "  <tbody>\n",
       "    <tr>\n",
       "      <th>0</th>\n",
       "      <td>1</td>\n",
       "      <td>Afghanistan</td>\n",
       "      <td>3.168328</td>\n",
       "      <td>-0.743297</td>\n",
       "    </tr>\n",
       "    <tr>\n",
       "      <th>1</th>\n",
       "      <td>1</td>\n",
       "      <td>Afghanistan</td>\n",
       "      <td>0.863769</td>\n",
       "      <td>-1.118608</td>\n",
       "    </tr>\n",
       "    <tr>\n",
       "      <th>2</th>\n",
       "      <td>0</td>\n",
       "      <td>Albania</td>\n",
       "      <td>-2.039749</td>\n",
       "      <td>0.856379</td>\n",
       "    </tr>\n",
       "    <tr>\n",
       "      <th>3</th>\n",
       "      <td>0</td>\n",
       "      <td>Argentina</td>\n",
       "      <td>-2.869190</td>\n",
       "      <td>-1.996510</td>\n",
       "    </tr>\n",
       "    <tr>\n",
       "      <th>4</th>\n",
       "      <td>0</td>\n",
       "      <td>Argentina</td>\n",
       "      <td>-1.990738</td>\n",
       "      <td>0.687827</td>\n",
       "    </tr>\n",
       "    <tr>\n",
       "      <th>...</th>\n",
       "      <td>...</td>\n",
       "      <td>...</td>\n",
       "      <td>...</td>\n",
       "      <td>...</td>\n",
       "    </tr>\n",
       "    <tr>\n",
       "      <th>334</th>\n",
       "      <td>0</td>\n",
       "      <td>Vietnam</td>\n",
       "      <td>-2.892242</td>\n",
       "      <td>-2.036600</td>\n",
       "    </tr>\n",
       "    <tr>\n",
       "      <th>335</th>\n",
       "      <td>1</td>\n",
       "      <td>Vietnam</td>\n",
       "      <td>3.887938</td>\n",
       "      <td>-0.904924</td>\n",
       "    </tr>\n",
       "    <tr>\n",
       "      <th>336</th>\n",
       "      <td>0</td>\n",
       "      <td>Zimbabwe</td>\n",
       "      <td>-4.217164</td>\n",
       "      <td>-0.286030</td>\n",
       "    </tr>\n",
       "    <tr>\n",
       "      <th>337</th>\n",
       "      <td>1</td>\n",
       "      <td>Zimbabwe</td>\n",
       "      <td>0.287116</td>\n",
       "      <td>-0.437261</td>\n",
       "    </tr>\n",
       "    <tr>\n",
       "      <th>338</th>\n",
       "      <td>1</td>\n",
       "      <td>Zimbabwe</td>\n",
       "      <td>1.615866</td>\n",
       "      <td>-0.903738</td>\n",
       "    </tr>\n",
       "  </tbody>\n",
       "</table>\n",
       "<p>339 rows × 4 columns</p>\n",
       "</div>"
      ],
      "text/plain": [
       "     0      Country    PC1_2d    PC2_2d\n",
       "0    1  Afghanistan  3.168328 -0.743297\n",
       "1    1  Afghanistan  0.863769 -1.118608\n",
       "2    0      Albania -2.039749  0.856379\n",
       "3    0    Argentina -2.869190 -1.996510\n",
       "4    0    Argentina -1.990738  0.687827\n",
       "..  ..          ...       ...       ...\n",
       "334  0      Vietnam -2.892242 -2.036600\n",
       "335  1      Vietnam  3.887938 -0.904924\n",
       "336  0     Zimbabwe -4.217164 -0.286030\n",
       "337  1     Zimbabwe  0.287116 -0.437261\n",
       "338  1     Zimbabwe  1.615866 -0.903738\n",
       "\n",
       "[339 rows x 4 columns]"
      ]
     },
     "execution_count": 15,
     "metadata": {},
     "output_type": "execute_result"
    }
   ],
   "source": [
    "A = np.array(plotX[\"Cluster\"])\n",
    "fA= pd.DataFrame(A.astype(int))\n",
    "fA = pd.concat([fA, country,PCs_2d], axis=1, join='inner')\n",
    "\n",
    "cluster_1 = fA[fA[0] == 0]\n",
    "cluster_2 = fA[fA[0] == 1]\n",
    "cluster_3 = fA[fA[0] == 2]\n",
    "cluster_4 = fA[fA[0] == 3]\n",
    "\n",
    "\n",
    "fA"
   ]
  },
  {
   "cell_type": "code",
   "execution_count": 33,
   "metadata": {},
   "outputs": [
    {
     "data": {
      "text/plain": [
       "0      1\n",
       "1      1\n",
       "2      0\n",
       "3      0\n",
       "4      0\n",
       "      ..\n",
       "334    0\n",
       "335    1\n",
       "336    0\n",
       "337    1\n",
       "338    1\n",
       "Name: 0, Length: 339, dtype: int64"
      ]
     },
     "execution_count": 33,
     "metadata": {},
     "output_type": "execute_result"
    }
   ],
   "source": [
    "fA[0]\n",
    "#len(fA['Country'])\n",
    "#len(cluster_1[\"Country\"])"
   ]
  },
  {
   "cell_type": "code",
   "execution_count": 34,
   "metadata": {},
   "outputs": [
    {
     "data": {
      "application/vnd.plotly.v1+json": {
       "config": {
        "linkText": "Export to plot.ly",
        "plotlyServerURL": "https://plot.ly",
        "showLink": false
       },
       "data": [
        {
         "marker": {
          "color": "rgba(255, 128, 2, 0.8)"
         },
         "mode": "markers",
         "name": "Afghanistan",
         "type": "scatter",
         "x": [
          3.168327815329737
         ],
         "y": [
          -0.7432967462045417
         ]
        },
        {
         "marker": {
          "color": "rgba(255, 128, 2, 0.8)"
         },
         "mode": "markers",
         "name": "Afghanistan",
         "type": "scatter",
         "x": [
          0.8637690774296529
         ],
         "y": [
          -1.1186076298020353
         ]
        },
        {
         "marker": {
          "color": "rgba(255, 128, 255, 0.8)"
         },
         "mode": "markers",
         "name": "Albania",
         "type": "scatter",
         "x": [
          -2.0397487152694556
         ],
         "y": [
          0.8563788067799941
         ]
        },
        {
         "marker": {
          "color": "rgba(255, 128, 255, 0.8)"
         },
         "mode": "markers",
         "name": "Argentina",
         "type": "scatter",
         "x": [
          -2.8691900782570094
         ],
         "y": [
          -1.9965095558863204
         ]
        },
        {
         "marker": {
          "color": "rgba(255, 128, 255, 0.8)"
         },
         "mode": "markers",
         "name": "Argentina",
         "type": "scatter",
         "x": [
          -1.9907377741188903
         ],
         "y": [
          0.6878273250400234
         ]
        },
        {
         "marker": {
          "color": "rgba(255, 128, 255, 0.8)"
         },
         "mode": "markers",
         "name": "Argentina",
         "type": "scatter",
         "x": [
          -2.972931840422325
         ],
         "y": [
          -1.4989716412024863
         ]
        },
        {
         "marker": {
          "color": "rgba(255, 128, 2, 0.8)"
         },
         "mode": "markers",
         "name": "Argentina",
         "type": "scatter",
         "x": [
          0.9721970721288963
         ],
         "y": [
          0.04533696704709073
         ]
        },
        {
         "marker": {
          "color": "rgba(255, 128, 255, 0.8)"
         },
         "mode": "markers",
         "name": "Armenia",
         "type": "scatter",
         "x": [
          -1.9509281751638607
         ],
         "y": [
          0.5369972734578448
         ]
        },
        {
         "marker": {
          "color": "rgba(255, 128, 2, 0.8)"
         },
         "mode": "markers",
         "name": "Armenia",
         "type": "scatter",
         "x": [
          0.5233651821568894
         ],
         "y": [
          -0.6794037219640571
         ]
        },
        {
         "marker": {
          "color": "rgba(255, 128, 2, 0.8)"
         },
         "mode": "markers",
         "name": "Armenia",
         "type": "scatter",
         "x": [
          2.678068298859867
         ],
         "y": [
          -0.4719021009800076
         ]
        },
        {
         "marker": {
          "color": "rgba(255, 128, 2, 0.8)"
         },
         "mode": "markers",
         "name": "Australia",
         "type": "scatter",
         "x": [
          3.6723028812702476
         ],
         "y": [
          -0.5410464583612555
         ]
        },
        {
         "marker": {
          "color": "rgba(255, 128, 2, 0.8)"
         },
         "mode": "markers",
         "name": "Australia",
         "type": "scatter",
         "x": [
          1.74152799585739
         ],
         "y": [
          -0.36802424723409455
         ]
        },
        {
         "marker": {
          "color": "rgba(255, 128, 2, 0.8)"
         },
         "mode": "markers",
         "name": "Australia",
         "type": "scatter",
         "x": [
          3.160951544052967
         ],
         "y": [
          1.9145657967566405
         ]
        },
        {
         "marker": {
          "color": "rgba(255, 128, 2, 0.8)"
         },
         "mode": "markers",
         "name": "Australia",
         "type": "scatter",
         "x": [
          0.5949146405172901
         ],
         "y": [
          -0.6801365403538339
         ]
        },
        {
         "marker": {
          "color": "rgba(255, 128, 255, 0.8)"
         },
         "mode": "markers",
         "name": "Austria",
         "type": "scatter",
         "x": [
          -4.293521687653266
         ],
         "y": [
          -0.40239520719995076
         ]
        },
        {
         "marker": {
          "color": "rgba(255, 128, 2, 0.8)"
         },
         "mode": "markers",
         "name": "Austria",
         "type": "scatter",
         "x": [
          4.157303551833626
         ],
         "y": [
          -1.2344060819679008
         ]
        },
        {
         "marker": {
          "color": "rgba(255, 128, 255, 0.8)"
         },
         "mode": "markers",
         "name": "Austria",
         "type": "scatter",
         "x": [
          -0.9437844473429581
         ],
         "y": [
          -0.49633851401271567
         ]
        },
        {
         "marker": {
          "color": "rgba(255, 128, 2, 0.8)"
         },
         "mode": "markers",
         "name": "Austria",
         "type": "scatter",
         "x": [
          3.517970512678812
         ],
         "y": [
          -1.0764817421596977
         ]
        },
        {
         "marker": {
          "color": "rgba(255, 128, 2, 0.8)"
         },
         "mode": "markers",
         "name": "Azerbaijan",
         "type": "scatter",
         "x": [
          3.5598964925542482
         ],
         "y": [
          -0.2619268704656154
         ]
        },
        {
         "marker": {
          "color": "rgba(255, 128, 2, 0.8)"
         },
         "mode": "markers",
         "name": "The Bahamas",
         "type": "scatter",
         "x": [
          4.9128152325756895
         ],
         "y": [
          -1.2859007687463806
         ]
        },
        {
         "marker": {
          "color": "rgba(255, 128, 255, 0.8)"
         },
         "mode": "markers",
         "name": "The Bahamas",
         "type": "scatter",
         "x": [
          -2.672074663829871
         ],
         "y": [
          -0.08347032103267987
         ]
        },
        {
         "marker": {
          "color": "rgba(255, 128, 255, 0.8)"
         },
         "mode": "markers",
         "name": "Bangladesh",
         "type": "scatter",
         "x": [
          -3.2181382581550033
         ],
         "y": [
          -0.18633716047970791
         ]
        },
        {
         "marker": {
          "color": "rgba(255, 128, 255, 0.8)"
         },
         "mode": "markers",
         "name": "Bangladesh",
         "type": "scatter",
         "x": [
          -2.749671341920564
         ],
         "y": [
          -1.0887533805936862
         ]
        },
        {
         "marker": {
          "color": "rgba(255, 128, 2, 0.8)"
         },
         "mode": "markers",
         "name": "Belarus",
         "type": "scatter",
         "x": [
          1.8238435257136147
         ],
         "y": [
          -0.9513821150884527
         ]
        },
        {
         "marker": {
          "color": "rgba(255, 128, 255, 0.8)"
         },
         "mode": "markers",
         "name": "Belarus",
         "type": "scatter",
         "x": [
          -2.102145286836269
         ],
         "y": [
          1.6783465116723086
         ]
        },
        {
         "marker": {
          "color": "rgba(255, 128, 255, 0.8)"
         },
         "mode": "markers",
         "name": "Belarus",
         "type": "scatter",
         "x": [
          -2.2829880158297153
         ],
         "y": [
          -1.3372294650474486
         ]
        },
        {
         "marker": {
          "color": "rgba(255, 128, 2, 0.8)"
         },
         "mode": "markers",
         "name": "Belarus",
         "type": "scatter",
         "x": [
          1.9894168748323136
         ],
         "y": [
          -0.15201295580791976
         ]
        },
        {
         "marker": {
          "color": "rgba(255, 128, 2, 0.8)"
         },
         "mode": "markers",
         "name": "Belgium",
         "type": "scatter",
         "x": [
          3.5321164450453457
         ],
         "y": [
          0.35053971821532587
         ]
        },
        {
         "marker": {
          "color": "rgba(255, 128, 2, 0.8)"
         },
         "mode": "markers",
         "name": "Belgium",
         "type": "scatter",
         "x": [
          4.084921832659713
         ],
         "y": [
          -1.1160114650468362
         ]
        },
        {
         "marker": {
          "color": "rgba(255, 128, 2, 0.8)"
         },
         "mode": "markers",
         "name": "Belgium",
         "type": "scatter",
         "x": [
          1.0050251693229584
         ],
         "y": [
          -1.0447195609061828
         ]
        },
        {
         "marker": {
          "color": "rgba(255, 128, 2, 0.8)"
         },
         "mode": "markers",
         "name": "Belgium",
         "type": "scatter",
         "x": [
          1.1902557159257208
         ],
         "y": [
          -0.037980550622645014
         ]
        },
        {
         "marker": {
          "color": "rgba(255, 128, 255, 0.8)"
         },
         "mode": "markers",
         "name": "Belize",
         "type": "scatter",
         "x": [
          -2.2379823329218245
         ],
         "y": [
          -0.10198489811457521
         ]
        },
        {
         "marker": {
          "color": "rgba(255, 128, 255, 0.8)"
         },
         "mode": "markers",
         "name": "Belize",
         "type": "scatter",
         "x": [
          -2.6833562375495497
         ],
         "y": [
          0.2358049616128557
         ]
        },
        {
         "marker": {
          "color": "rgba(255, 128, 2, 0.8)"
         },
         "mode": "markers",
         "name": "Belize",
         "type": "scatter",
         "x": [
          3.3190258897213476
         ],
         "y": [
          1.2451727387674087
         ]
        },
        {
         "marker": {
          "color": "rgba(255, 128, 255, 0.8)"
         },
         "mode": "markers",
         "name": "Belize",
         "type": "scatter",
         "x": [
          -2.3903971914432733
         ],
         "y": [
          1.1932978847050957
         ]
        },
        {
         "marker": {
          "color": "rgba(255, 128, 255, 0.8)"
         },
         "mode": "markers",
         "name": "Bosnia and Herzegovina",
         "type": "scatter",
         "x": [
          -0.3625999353519882
         ],
         "y": [
          -1.4368342053761634
         ]
        },
        {
         "marker": {
          "color": "rgba(255, 128, 255, 0.8)"
         },
         "mode": "markers",
         "name": "Bosnia and Herzegovina",
         "type": "scatter",
         "x": [
          -3.814023640618078
         ],
         "y": [
          -0.480820584269383
         ]
        },
        {
         "marker": {
          "color": "rgba(255, 128, 255, 0.8)"
         },
         "mode": "markers",
         "name": "Bosnia and Herzegovina",
         "type": "scatter",
         "x": [
          -1.4006248513328878
         ],
         "y": [
          0.4189564462895285
         ]
        },
        {
         "marker": {
          "color": "rgba(255, 128, 255, 0.8)"
         },
         "mode": "markers",
         "name": "Botswana",
         "type": "scatter",
         "x": [
          -2.0229832258002607
         ],
         "y": [
          -0.020442151853053578
         ]
        },
        {
         "marker": {
          "color": "rgba(255, 128, 255, 0.8)"
         },
         "mode": "markers",
         "name": "Brazil",
         "type": "scatter",
         "x": [
          -2.4669977818840074
         ],
         "y": [
          -1.1468029604692922
         ]
        },
        {
         "marker": {
          "color": "rgba(255, 128, 255, 0.8)"
         },
         "mode": "markers",
         "name": "Brazil",
         "type": "scatter",
         "x": [
          -2.942278984780004
         ],
         "y": [
          0.5884059022307278
         ]
        },
        {
         "marker": {
          "color": "rgba(255, 128, 2, 0.8)"
         },
         "mode": "markers",
         "name": "Brazil",
         "type": "scatter",
         "x": [
          3.475577122375078
         ],
         "y": [
          0.4218093515650199
         ]
        },
        {
         "marker": {
          "color": "rgba(255, 128, 2, 0.8)"
         },
         "mode": "markers",
         "name": "Brazil",
         "type": "scatter",
         "x": [
          4.432619281997838
         ],
         "y": [
          0.5191361191227309
         ]
        },
        {
         "marker": {
          "color": "rgba(255, 128, 255, 0.8)"
         },
         "mode": "markers",
         "name": "British Virgin Islands",
         "type": "scatter",
         "x": [
          -4.818445752960172
         ],
         "y": [
          -0.6576835333591389
         ]
        },
        {
         "marker": {
          "color": "rgba(255, 128, 255, 0.8)"
         },
         "mode": "markers",
         "name": "British Virgin Islands",
         "type": "scatter",
         "x": [
          -1.3056898032276443
         ],
         "y": [
          0.33118014269006546
         ]
        },
        {
         "marker": {
          "color": "rgba(255, 128, 2, 0.8)"
         },
         "mode": "markers",
         "name": "British Virgin Islands",
         "type": "scatter",
         "x": [
          1.2091561884166449
         ],
         "y": [
          -0.6758958461495639
         ]
        },
        {
         "marker": {
          "color": "rgba(255, 128, 255, 0.8)"
         },
         "mode": "markers",
         "name": "British Virgin Islands",
         "type": "scatter",
         "x": [
          -2.924247654550116
         ],
         "y": [
          -2.100798795315068
         ]
        },
        {
         "marker": {
          "color": "rgba(255, 128, 255, 0.8)"
         },
         "mode": "markers",
         "name": "Bulgaria",
         "type": "scatter",
         "x": [
          -2.323961290086536
         ],
         "y": [
          -0.2789922109767559
         ]
        },
        {
         "marker": {
          "color": "rgba(255, 128, 255, 0.8)"
         },
         "mode": "markers",
         "name": "Bulgaria",
         "type": "scatter",
         "x": [
          -0.9018872416257068
         ],
         "y": [
          -0.5093090593658185
         ]
        },
        {
         "marker": {
          "color": "rgba(255, 128, 255, 0.8)"
         },
         "mode": "markers",
         "name": "Bulgaria",
         "type": "scatter",
         "x": [
          -0.3334246607409416
         ],
         "y": [
          0.19413947944381824
         ]
        },
        {
         "marker": {
          "color": "rgba(255, 128, 255, 0.8)"
         },
         "mode": "markers",
         "name": "Bulgaria",
         "type": "scatter",
         "x": [
          -2.517470403970857
         ],
         "y": [
          0.8018531899810303
         ]
        },
        {
         "marker": {
          "color": "rgba(255, 128, 255, 0.8)"
         },
         "mode": "markers",
         "name": "Cambodia",
         "type": "scatter",
         "x": [
          -3.355083555049063
         ],
         "y": [
          0.3368951902930369
         ]
        },
        {
         "marker": {
          "color": "rgba(255, 128, 255, 0.8)"
         },
         "mode": "markers",
         "name": "Cambodia",
         "type": "scatter",
         "x": [
          -2.3958147312742755
         ],
         "y": [
          -0.11794228709216065
         ]
        },
        {
         "marker": {
          "color": "rgba(255, 128, 2, 0.8)"
         },
         "mode": "markers",
         "name": "Cameroon",
         "type": "scatter",
         "x": [
          0.441765251169458
         ],
         "y": [
          0.3320110909995727
         ]
        },
        {
         "marker": {
          "color": "rgba(255, 128, 255, 0.8)"
         },
         "mode": "markers",
         "name": "Cameroon",
         "type": "scatter",
         "x": [
          -4.871637872360795
         ],
         "y": [
          0.27334092568444274
         ]
        },
        {
         "marker": {
          "color": "rgba(255, 128, 2, 0.8)"
         },
         "mode": "markers",
         "name": "Canada",
         "type": "scatter",
         "x": [
          2.537276540276398
         ],
         "y": [
          -0.5299409298985461
         ]
        },
        {
         "marker": {
          "color": "rgba(255, 128, 2, 0.8)"
         },
         "mode": "markers",
         "name": "Canada",
         "type": "scatter",
         "x": [
          4.117783368532887
         ],
         "y": [
          -1.6526203241537358
         ]
        },
        {
         "marker": {
          "color": "rgba(255, 128, 2, 0.8)"
         },
         "mode": "markers",
         "name": "Canada",
         "type": "scatter",
         "x": [
          3.612965255014185
         ],
         "y": [
          -0.6807546114024997
         ]
        },
        {
         "marker": {
          "color": "rgba(255, 128, 2, 0.8)"
         },
         "mode": "markers",
         "name": "Canada",
         "type": "scatter",
         "x": [
          1.6376469177503403
         ],
         "y": [
          -0.3134275665793767
         ]
        },
        {
         "marker": {
          "color": "rgba(255, 128, 255, 0.8)"
         },
         "mode": "markers",
         "name": "Cayman Islands",
         "type": "scatter",
         "x": [
          -2.506522743157457
         ],
         "y": [
          -0.8915608692470146
         ]
        },
        {
         "marker": {
          "color": "rgba(255, 128, 255, 0.8)"
         },
         "mode": "markers",
         "name": "Cayman Islands",
         "type": "scatter",
         "x": [
          -0.22655874509315566
         ],
         "y": [
          -0.4042250926892636
         ]
        },
        {
         "marker": {
          "color": "rgba(255, 128, 2, 0.8)"
         },
         "mode": "markers",
         "name": "Cayman Islands",
         "type": "scatter",
         "x": [
          1.4602309426517537
         ],
         "y": [
          -0.6787478564663915
         ]
        },
        {
         "marker": {
          "color": "rgba(255, 128, 255, 0.8)"
         },
         "mode": "markers",
         "name": "Cayman Islands",
         "type": "scatter",
         "x": [
          -5.076698981095328
         ],
         "y": [
          -0.6734860103189607
         ]
        },
        {
         "marker": {
          "color": "rgba(255, 128, 2, 0.8)"
         },
         "mode": "markers",
         "name": "Chile",
         "type": "scatter",
         "x": [
          2.537318213793625
         ],
         "y": [
          -0.4974927339219101
         ]
        },
        {
         "marker": {
          "color": "rgba(255, 128, 2, 0.8)"
         },
         "mode": "markers",
         "name": "Chile",
         "type": "scatter",
         "x": [
          1.524428419834136
         ],
         "y": [
          -0.8730561839127919
         ]
        },
        {
         "marker": {
          "color": "rgba(255, 128, 2, 0.8)"
         },
         "mode": "markers",
         "name": "Chile",
         "type": "scatter",
         "x": [
          4.198222269327438
         ],
         "y": [
          -0.5145013853553985
         ]
        },
        {
         "marker": {
          "color": "rgba(255, 128, 2, 0.8)"
         },
         "mode": "markers",
         "name": "China",
         "type": "scatter",
         "x": [
          3.2802193407582467
         ],
         "y": [
          5.5377390435912295
         ]
        },
        {
         "marker": {
          "color": "rgba(255, 128, 255, 0.8)"
         },
         "mode": "markers",
         "name": "China",
         "type": "scatter",
         "x": [
          -1.4504874283251905
         ],
         "y": [
          0.3774084433300495
         ]
        },
        {
         "marker": {
          "color": "rgba(255, 128, 2, 0.8)"
         },
         "mode": "markers",
         "name": "China",
         "type": "scatter",
         "x": [
          4.207778768914727
         ],
         "y": [
          -0.1683042715376257
         ]
        },
        {
         "marker": {
          "color": "rgba(255, 128, 255, 0.8)"
         },
         "mode": "markers",
         "name": "China",
         "type": "scatter",
         "x": [
          -1.7864306894843096
         ],
         "y": [
          0.8974068916177017
         ]
        },
        {
         "marker": {
          "color": "rgba(255, 128, 2, 0.8)"
         },
         "mode": "markers",
         "name": "Colombia",
         "type": "scatter",
         "x": [
          4.053272403028875
         ],
         "y": [
          -1.2329452514501786
         ]
        },
        {
         "marker": {
          "color": "rgba(255, 128, 255, 0.8)"
         },
         "mode": "markers",
         "name": "Colombia",
         "type": "scatter",
         "x": [
          -2.2153433220556287
         ],
         "y": [
          0.011479140653857791
         ]
        },
        {
         "marker": {
          "color": "rgba(255, 128, 2, 0.8)"
         },
         "mode": "markers",
         "name": "Colombia",
         "type": "scatter",
         "x": [
          0.7944230151409621
         ],
         "y": [
          -0.34696097123034114
         ]
        },
        {
         "marker": {
          "color": "rgba(255, 128, 255, 0.8)"
         },
         "mode": "markers",
         "name": "Costa Rica",
         "type": "scatter",
         "x": [
          -5.834841738535186
         ],
         "y": [
          0.3375322880186255
         ]
        },
        {
         "marker": {
          "color": "rgba(255, 128, 255, 0.8)"
         },
         "mode": "markers",
         "name": "Costa Rica",
         "type": "scatter",
         "x": [
          -1.0667303222683695
         ],
         "y": [
          -0.5225057150081723
         ]
        },
        {
         "marker": {
          "color": "rgba(255, 128, 2, 0.8)"
         },
         "mode": "markers",
         "name": "Costa Rica",
         "type": "scatter",
         "x": [
          4.031797361309157
         ],
         "y": [
          6.631648424573802
         ]
        },
        {
         "marker": {
          "color": "rgba(255, 128, 255, 0.8)"
         },
         "mode": "markers",
         "name": "Costa Rica",
         "type": "scatter",
         "x": [
          -1.2113427051554675
         ],
         "y": [
          -0.9103869182243178
         ]
        },
        {
         "marker": {
          "color": "rgba(255, 128, 255, 0.8)"
         },
         "mode": "markers",
         "name": "Croatia",
         "type": "scatter",
         "x": [
          -0.44075316598542247
         ],
         "y": [
          0.06718325970366042
         ]
        },
        {
         "marker": {
          "color": "rgba(255, 128, 2, 0.8)"
         },
         "mode": "markers",
         "name": "Croatia",
         "type": "scatter",
         "x": [
          0.7968575821784848
         ],
         "y": [
          -0.32148671825731695
         ]
        },
        {
         "marker": {
          "color": "rgba(255, 128, 255, 0.8)"
         },
         "mode": "markers",
         "name": "Cyprus",
         "type": "scatter",
         "x": [
          -3.7256365648592533
         ],
         "y": [
          -0.6474845571110883
         ]
        },
        {
         "marker": {
          "color": "rgba(255, 128, 255, 0.8)"
         },
         "mode": "markers",
         "name": "Cyprus",
         "type": "scatter",
         "x": [
          -0.03501256105291873
         ],
         "y": [
          -0.020536956058493115
         ]
        },
        {
         "marker": {
          "color": "rgba(255, 128, 2, 0.8)"
         },
         "mode": "markers",
         "name": "Cyprus",
         "type": "scatter",
         "x": [
          1.5865290287759102
         ],
         "y": [
          0.041646015599435114
         ]
        },
        {
         "marker": {
          "color": "rgba(255, 128, 255, 0.8)"
         },
         "mode": "markers",
         "name": "Cyprus",
         "type": "scatter",
         "x": [
          -5.195548056606714
         ],
         "y": [
          0.16260597490566212
         ]
        },
        {
         "marker": {
          "color": "rgba(255, 128, 255, 0.8)"
         },
         "mode": "markers",
         "name": "Czech Republic",
         "type": "scatter",
         "x": [
          -2.0491786981899347
         ],
         "y": [
          2.170137246211972
         ]
        },
        {
         "marker": {
          "color": "rgba(255, 128, 2, 0.8)"
         },
         "mode": "markers",
         "name": "Czech Republic",
         "type": "scatter",
         "x": [
          3.524673010378969
         ],
         "y": [
          -1.006290190282341
         ]
        },
        {
         "marker": {
          "color": "rgba(255, 128, 255, 0.8)"
         },
         "mode": "markers",
         "name": "Czech Republic",
         "type": "scatter",
         "x": [
          0.131003283790908
         ],
         "y": [
          -0.6585406899235827
         ]
        },
        {
         "marker": {
          "color": "rgba(255, 128, 255, 0.8)"
         },
         "mode": "markers",
         "name": "Czech Republic",
         "type": "scatter",
         "x": [
          -1.9874195459993178
         ],
         "y": [
          1.0089717370327513
         ]
        },
        {
         "marker": {
          "color": "rgba(255, 128, 2, 0.8)"
         },
         "mode": "markers",
         "name": "Denmark",
         "type": "scatter",
         "x": [
          3.4236946154317027
         ],
         "y": [
          -0.8122475221607506
         ]
        },
        {
         "marker": {
          "color": "rgba(255, 128, 255, 0.8)"
         },
         "mode": "markers",
         "name": "Denmark",
         "type": "scatter",
         "x": [
          -1.6421051450564217
         ],
         "y": [
          -0.08806253607815381
         ]
        },
        {
         "marker": {
          "color": "rgba(255, 128, 255, 0.8)"
         },
         "mode": "markers",
         "name": "Denmark",
         "type": "scatter",
         "x": [
          -0.7543165610237879
         ],
         "y": [
          11.007604721725361
         ]
        },
        {
         "marker": {
          "color": "rgba(255, 128, 2, 0.8)"
         },
         "mode": "markers",
         "name": "Dominican Republic",
         "type": "scatter",
         "x": [
          4.34415586496777
         ],
         "y": [
          -0.02878011479152284
         ]
        },
        {
         "marker": {
          "color": "rgba(255, 128, 2, 0.8)"
         },
         "mode": "markers",
         "name": "Dominican Republic",
         "type": "scatter",
         "x": [
          1.3570626038947695
         ],
         "y": [
          -0.8045003128666619
         ]
        },
        {
         "marker": {
          "color": "rgba(255, 128, 255, 0.8)"
         },
         "mode": "markers",
         "name": "Ecuador",
         "type": "scatter",
         "x": [
          -0.4189099255328675
         ],
         "y": [
          0.1213977332599792
         ]
        },
        {
         "marker": {
          "color": "rgba(255, 128, 255, 0.8)"
         },
         "mode": "markers",
         "name": "Ecuador",
         "type": "scatter",
         "x": [
          -0.3729143875203704
         ],
         "y": [
          -1.210110726632943
         ]
        },
        {
         "marker": {
          "color": "rgba(255, 128, 255, 0.8)"
         },
         "mode": "markers",
         "name": "Egypt",
         "type": "scatter",
         "x": [
          -2.266243246342181
         ],
         "y": [
          -0.8358469593882178
         ]
        },
        {
         "marker": {
          "color": "rgba(255, 128, 2, 0.8)"
         },
         "mode": "markers",
         "name": "Egypt",
         "type": "scatter",
         "x": [
          0.16356256211131198
         ],
         "y": [
          -2.7241481974149844
         ]
        },
        {
         "marker": {
          "color": "rgba(255, 128, 2, 0.8)"
         },
         "mode": "markers",
         "name": "Egypt",
         "type": "scatter",
         "x": [
          1.9733775139827248
         ],
         "y": [
          -0.7549079898482323
         ]
        },
        {
         "marker": {
          "color": "rgba(255, 128, 2, 0.8)"
         },
         "mode": "markers",
         "name": "Estonia",
         "type": "scatter",
         "x": [
          3.4775414444369224
         ],
         "y": [
          -0.591846301198525
         ]
        },
        {
         "marker": {
          "color": "rgba(255, 128, 255, 0.8)"
         },
         "mode": "markers",
         "name": "Estonia",
         "type": "scatter",
         "x": [
          -3.1969039822114342
         ],
         "y": [
          0.693761883813678
         ]
        },
        {
         "marker": {
          "color": "rgba(255, 128, 255, 0.8)"
         },
         "mode": "markers",
         "name": "Estonia",
         "type": "scatter",
         "x": [
          -2.0856609546579694
         ],
         "y": [
          0.9286908026627531
         ]
        },
        {
         "marker": {
          "color": "rgba(255, 128, 2, 0.8)"
         },
         "mode": "markers",
         "name": "Estonia",
         "type": "scatter",
         "x": [
          0.7775842962932344
         ],
         "y": [
          -1.1547525052203376
         ]
        },
        {
         "marker": {
          "color": "rgba(255, 128, 2, 0.8)"
         },
         "mode": "markers",
         "name": "Finland",
         "type": "scatter",
         "x": [
          1.338593242318051
         ],
         "y": [
          -0.5475524762095296
         ]
        },
        {
         "marker": {
          "color": "rgba(255, 128, 255, 0.8)"
         },
         "mode": "markers",
         "name": "Finland",
         "type": "scatter",
         "x": [
          -1.6390005072138722
         ],
         "y": [
          0.20400984956484935
         ]
        },
        {
         "marker": {
          "color": "rgba(255, 128, 2, 0.8)"
         },
         "mode": "markers",
         "name": "France",
         "type": "scatter",
         "x": [
          4.073626696279123
         ],
         "y": [
          -1.371811856555015
         ]
        },
        {
         "marker": {
          "color": "rgba(255, 128, 2, 0.8)"
         },
         "mode": "markers",
         "name": "France",
         "type": "scatter",
         "x": [
          1.9182308296223765
         ],
         "y": [
          -0.8722426648075108
         ]
        },
        {
         "marker": {
          "color": "rgba(255, 128, 2, 0.8)"
         },
         "mode": "markers",
         "name": "France",
         "type": "scatter",
         "x": [
          0.8938509116333623
         ],
         "y": [
          -1.282892905660747
         ]
        },
        {
         "marker": {
          "color": "rgba(255, 128, 2, 0.8)"
         },
         "mode": "markers",
         "name": "France",
         "type": "scatter",
         "x": [
          1.405220679235924
         ],
         "y": [
          -0.3923052340050862
         ]
        },
        {
         "marker": {
          "color": "rgba(255, 128, 255, 0.8)"
         },
         "mode": "markers",
         "name": "Georgia",
         "type": "scatter",
         "x": [
          -1.3065747647615988
         ],
         "y": [
          -0.7492740540912998
         ]
        },
        {
         "marker": {
          "color": "rgba(255, 128, 2, 0.8)"
         },
         "mode": "markers",
         "name": "Georgia",
         "type": "scatter",
         "x": [
          1.9576595187127985
         ],
         "y": [
          -1.143703097400338
         ]
        },
        {
         "marker": {
          "color": "rgba(255, 128, 255, 0.8)"
         },
         "mode": "markers",
         "name": "Georgia",
         "type": "scatter",
         "x": [
          -0.9148509244764366
         ],
         "y": [
          -0.5302617652950291
         ]
        },
        {
         "marker": {
          "color": "rgba(255, 128, 2, 0.8)"
         },
         "mode": "markers",
         "name": "Georgia",
         "type": "scatter",
         "x": [
          1.7352082352334859
         ],
         "y": [
          -0.3520836475295971
         ]
        },
        {
         "marker": {
          "color": "rgba(255, 128, 2, 0.8)"
         },
         "mode": "markers",
         "name": "Germany",
         "type": "scatter",
         "x": [
          1.3401800283710381
         ],
         "y": [
          -0.7173293135606221
         ]
        },
        {
         "marker": {
          "color": "rgba(255, 128, 255, 0.8)"
         },
         "mode": "markers",
         "name": "Germany",
         "type": "scatter",
         "x": [
          -1.4597130694135299
         ],
         "y": [
          3.5729075211985384
         ]
        },
        {
         "marker": {
          "color": "rgba(255, 128, 255, 0.8)"
         },
         "mode": "markers",
         "name": "Germany",
         "type": "scatter",
         "x": [
          -3.1867534719342534
         ],
         "y": [
          0.9475386503546636
         ]
        },
        {
         "marker": {
          "color": "rgba(255, 128, 2, 0.8)"
         },
         "mode": "markers",
         "name": "Germany",
         "type": "scatter",
         "x": [
          1.2932052011985984
         ],
         "y": [
          -0.8434956433823794
         ]
        },
        {
         "marker": {
          "color": "rgba(255, 128, 255, 0.8)"
         },
         "mode": "markers",
         "name": "Ghana",
         "type": "scatter",
         "x": [
          -1.1058246919893275
         ],
         "y": [
          0.8905591647539765
         ]
        },
        {
         "marker": {
          "color": "rgba(255, 128, 255, 0.8)"
         },
         "mode": "markers",
         "name": "Ghana",
         "type": "scatter",
         "x": [
          -1.2313681596084527
         ],
         "y": [
          0.25263028619200906
         ]
        },
        {
         "marker": {
          "color": "rgba(255, 128, 2, 0.8)"
         },
         "mode": "markers",
         "name": "Gibraltar",
         "type": "scatter",
         "x": [
          5.6852750133743095
         ],
         "y": [
          3.3598495346982746
         ]
        },
        {
         "marker": {
          "color": "rgba(255, 128, 255, 0.8)"
         },
         "mode": "markers",
         "name": "Gibraltar",
         "type": "scatter",
         "x": [
          -2.363076135549847
         ],
         "y": [
          -0.30150161312656165
         ]
        },
        {
         "marker": {
          "color": "rgba(255, 128, 2, 0.8)"
         },
         "mode": "markers",
         "name": "Gibraltar",
         "type": "scatter",
         "x": [
          0.8616780950536057
         ],
         "y": [
          -0.25142951307806677
         ]
        },
        {
         "marker": {
          "color": "rgba(255, 128, 2, 0.8)"
         },
         "mode": "markers",
         "name": "Gibraltar",
         "type": "scatter",
         "x": [
          1.4415633604520017
         ],
         "y": [
          -0.47527832246144397
         ]
        },
        {
         "marker": {
          "color": "rgba(255, 128, 2, 0.8)"
         },
         "mode": "markers",
         "name": "Greece",
         "type": "scatter",
         "x": [
          4.133604132432981
         ],
         "y": [
          -0.24167625951572463
         ]
        },
        {
         "marker": {
          "color": "rgba(255, 128, 2, 0.8)"
         },
         "mode": "markers",
         "name": "Greece",
         "type": "scatter",
         "x": [
          4.936906929544343
         ],
         "y": [
          -1.0037421673941767
         ]
        },
        {
         "marker": {
          "color": "rgba(255, 128, 2, 0.8)"
         },
         "mode": "markers",
         "name": "Greece",
         "type": "scatter",
         "x": [
          3.1584396055097073
         ],
         "y": [
          -0.014074904205956215
         ]
        },
        {
         "marker": {
          "color": "rgba(255, 128, 2, 0.8)"
         },
         "mode": "markers",
         "name": "Greece",
         "type": "scatter",
         "x": [
          1.6458062677420193
         ],
         "y": [
          -0.57443599983064
         ]
        },
        {
         "marker": {
          "color": "rgba(255, 128, 255, 0.8)"
         },
         "mode": "markers",
         "name": "Guinea-Bissau",
         "type": "scatter",
         "x": [
          -1.6422817681718846
         ],
         "y": [
          0.23509026759647683
         ]
        },
        {
         "marker": {
          "color": "rgba(255, 128, 255, 0.8)"
         },
         "mode": "markers",
         "name": "China Hong Kong SAR",
         "type": "scatter",
         "x": [
          -4.285456333916899
         ],
         "y": [
          -0.20055233914554585
         ]
        },
        {
         "marker": {
          "color": "rgba(255, 128, 2, 0.8)"
         },
         "mode": "markers",
         "name": "China Hong Kong SAR",
         "type": "scatter",
         "x": [
          2.0743547567398317
         ],
         "y": [
          -0.6276349357894675
         ]
        },
        {
         "marker": {
          "color": "rgba(255, 128, 255, 0.8)"
         },
         "mode": "markers",
         "name": "China Hong Kong SAR",
         "type": "scatter",
         "x": [
          -0.40555682550816385
         ],
         "y": [
          -1.4337760937994428
         ]
        },
        {
         "marker": {
          "color": "rgba(255, 128, 2, 0.8)"
         },
         "mode": "markers",
         "name": "China Hong Kong SAR",
         "type": "scatter",
         "x": [
          4.0813206349835935
         ],
         "y": [
          0.2522773367673093
         ]
        },
        {
         "marker": {
          "color": "rgba(255, 128, 2, 0.8)"
         },
         "mode": "markers",
         "name": "Hungary",
         "type": "scatter",
         "x": [
          4.8653982248230205
         ],
         "y": [
          0.683100103652379
         ]
        },
        {
         "marker": {
          "color": "rgba(255, 128, 255, 0.8)"
         },
         "mode": "markers",
         "name": "Hungary",
         "type": "scatter",
         "x": [
          -0.8791022952508797
         ],
         "y": [
          -0.26028049124238645
         ]
        },
        {
         "marker": {
          "color": "rgba(255, 128, 255, 0.8)"
         },
         "mode": "markers",
         "name": "Iceland",
         "type": "scatter",
         "x": [
          -0.6367241597509522
         ],
         "y": [
          11.098230220031562
         ]
        },
        {
         "marker": {
          "color": "rgba(255, 128, 2, 0.8)"
         },
         "mode": "markers",
         "name": "India",
         "type": "scatter",
         "x": [
          2.5472199010345773
         ],
         "y": [
          -0.4153872576844571
         ]
        },
        {
         "marker": {
          "color": "rgba(255, 128, 2, 0.8)"
         },
         "mode": "markers",
         "name": "India",
         "type": "scatter",
         "x": [
          2.7688663665633957
         ],
         "y": [
          -0.28843746392651076
         ]
        },
        {
         "marker": {
          "color": "rgba(255, 128, 255, 0.8)"
         },
         "mode": "markers",
         "name": "India",
         "type": "scatter",
         "x": [
          -0.6260779872181719
         ],
         "y": [
          -0.14706158251456283
         ]
        },
        {
         "marker": {
          "color": "rgba(255, 128, 255, 0.8)"
         },
         "mode": "markers",
         "name": "India",
         "type": "scatter",
         "x": [
          -1.8553975112586345
         ],
         "y": [
          0.9788071190221046
         ]
        },
        {
         "marker": {
          "color": "rgba(255, 128, 2, 0.8)"
         },
         "mode": "markers",
         "name": "Indonesia",
         "type": "scatter",
         "x": [
          2.4639806320243585
         ],
         "y": [
          -0.5357815802577675
         ]
        },
        {
         "marker": {
          "color": "rgba(255, 128, 255, 0.8)"
         },
         "mode": "markers",
         "name": "Indonesia",
         "type": "scatter",
         "x": [
          -1.807824669481021
         ],
         "y": [
          0.8402034963724067
         ]
        },
        {
         "marker": {
          "color": "rgba(255, 128, 255, 0.8)"
         },
         "mode": "markers",
         "name": "Indonesia",
         "type": "scatter",
         "x": [
          -2.0622376207049493
         ],
         "y": [
          0.9555443147804318
         ]
        },
        {
         "marker": {
          "color": "rgba(255, 128, 2, 0.8)"
         },
         "mode": "markers",
         "name": "Indonesia",
         "type": "scatter",
         "x": [
          0.32821098021425205
         ],
         "y": [
          -0.4025282124215325
         ]
        },
        {
         "marker": {
          "color": "rgba(255, 128, 2, 0.8)"
         },
         "mode": "markers",
         "name": "Ireland",
         "type": "scatter",
         "x": [
          3.6086896570942497
         ],
         "y": [
          -1.0562440080189799
         ]
        },
        {
         "marker": {
          "color": "rgba(255, 128, 255, 0.8)"
         },
         "mode": "markers",
         "name": "Ireland",
         "type": "scatter",
         "x": [
          -4.8078320588295895
         ],
         "y": [
          0.8485212380310042
         ]
        },
        {
         "marker": {
          "color": "rgba(255, 128, 2, 0.8)"
         },
         "mode": "markers",
         "name": "Ireland",
         "type": "scatter",
         "x": [
          1.9584838065407273
         ],
         "y": [
          0.4781907685552446
         ]
        },
        {
         "marker": {
          "color": "rgba(255, 128, 255, 0.8)"
         },
         "mode": "markers",
         "name": "Ireland",
         "type": "scatter",
         "x": [
          -1.8072008129687753
         ],
         "y": [
          2.8087020421273787
         ]
        },
        {
         "marker": {
          "color": "rgba(255, 128, 255, 0.8)"
         },
         "mode": "markers",
         "name": "Israel",
         "type": "scatter",
         "x": [
          -6.255611115175719
         ],
         "y": [
          0.26500239765579914
         ]
        },
        {
         "marker": {
          "color": "rgba(255, 128, 255, 0.8)"
         },
         "mode": "markers",
         "name": "Israel",
         "type": "scatter",
         "x": [
          -0.4239677094158045
         ],
         "y": [
          -0.55334366436989
         ]
        },
        {
         "marker": {
          "color": "rgba(255, 128, 255, 0.8)"
         },
         "mode": "markers",
         "name": "Israel",
         "type": "scatter",
         "x": [
          -0.21605801616127374
         ],
         "y": [
          -0.4236611810366696
         ]
        },
        {
         "marker": {
          "color": "rgba(255, 128, 255, 0.8)"
         },
         "mode": "markers",
         "name": "Israel",
         "type": "scatter",
         "x": [
          -5.770243875321091
         ],
         "y": [
          0.23205958859970122
         ]
        },
        {
         "marker": {
          "color": "rgba(255, 128, 2, 0.8)"
         },
         "mode": "markers",
         "name": "Italy",
         "type": "scatter",
         "x": [
          1.4169859430977056
         ],
         "y": [
          -1.071812846292916
         ]
        },
        {
         "marker": {
          "color": "rgba(255, 128, 255, 0.8)"
         },
         "mode": "markers",
         "name": "Italy",
         "type": "scatter",
         "x": [
          -2.305637949612899
         ],
         "y": [
          0.8603102718564584
         ]
        },
        {
         "marker": {
          "color": "rgba(255, 128, 255, 0.8)"
         },
         "mode": "markers",
         "name": "Italy",
         "type": "scatter",
         "x": [
          -1.6627354934220093
         ],
         "y": [
          0.6095202745628928
         ]
        },
        {
         "marker": {
          "color": "rgba(255, 128, 2, 0.8)"
         },
         "mode": "markers",
         "name": "Italy",
         "type": "scatter",
         "x": [
          1.9904847036004383
         ],
         "y": [
          -1.0118014311586183
         ]
        },
        {
         "marker": {
          "color": "rgba(255, 128, 255, 0.8)"
         },
         "mode": "markers",
         "name": "Jamaica",
         "type": "scatter",
         "x": [
          -1.4803565784860588
         ],
         "y": [
          -0.19148868441405692
         ]
        },
        {
         "marker": {
          "color": "rgba(255, 128, 2, 0.8)"
         },
         "mode": "markers",
         "name": "Japan",
         "type": "scatter",
         "x": [
          1.299256470172958
         ],
         "y": [
          -0.14631574021313737
         ]
        },
        {
         "marker": {
          "color": "rgba(255, 128, 2, 0.8)"
         },
         "mode": "markers",
         "name": "Japan",
         "type": "scatter",
         "x": [
          0.7153028007552275
         ],
         "y": [
          -1.3901273969431676
         ]
        },
        {
         "marker": {
          "color": "rgba(255, 128, 255, 0.8)"
         },
         "mode": "markers",
         "name": "Japan",
         "type": "scatter",
         "x": [
          -2.1091584647477757
         ],
         "y": [
          -0.3946796905800637
         ]
        },
        {
         "marker": {
          "color": "rgba(255, 128, 255, 0.8)"
         },
         "mode": "markers",
         "name": "Japan",
         "type": "scatter",
         "x": [
          -2.201691417496274
         ],
         "y": [
          0.9027469459675425
         ]
        },
        {
         "marker": {
          "color": "rgba(255, 128, 2, 0.8)"
         },
         "mode": "markers",
         "name": "Kazakhstan",
         "type": "scatter",
         "x": [
          1.0668436190238055
         ],
         "y": [
          -0.01689114630001395
         ]
        },
        {
         "marker": {
          "color": "rgba(255, 128, 255, 0.8)"
         },
         "mode": "markers",
         "name": "Kazakhstan",
         "type": "scatter",
         "x": [
          -5.864794379952759
         ],
         "y": [
          0.2689208346375209
         ]
        },
        {
         "marker": {
          "color": "rgba(255, 128, 2, 0.8)"
         },
         "mode": "markers",
         "name": "Kazakhstan",
         "type": "scatter",
         "x": [
          3.81577000799223
         ],
         "y": [
          -1.3617458747522833
         ]
        },
        {
         "marker": {
          "color": "rgba(255, 128, 255, 0.8)"
         },
         "mode": "markers",
         "name": "Kenya",
         "type": "scatter",
         "x": [
          -0.5592746477765393
         ],
         "y": [
          -1.6645054552380454
         ]
        },
        {
         "marker": {
          "color": "rgba(255, 128, 2, 0.8)"
         },
         "mode": "markers",
         "name": "Kenya",
         "type": "scatter",
         "x": [
          3.0323432372788295
         ],
         "y": [
          1.6823752591464065
         ]
        },
        {
         "marker": {
          "color": "rgba(255, 128, 255, 0.8)"
         },
         "mode": "markers",
         "name": "Kenya",
         "type": "scatter",
         "x": [
          -0.19773856185168523
         ],
         "y": [
          -0.11769476727866282
         ]
        },
        {
         "marker": {
          "color": "rgba(255, 128, 2, 0.8)"
         },
         "mode": "markers",
         "name": "Korea",
         "type": "scatter",
         "x": [
          3.2547489488549153
         ],
         "y": [
          -0.6610527441478995
         ]
        },
        {
         "marker": {
          "color": "rgba(255, 128, 2, 0.8)"
         },
         "mode": "markers",
         "name": "Korea",
         "type": "scatter",
         "x": [
          1.1044427751986206
         ],
         "y": [
          0.1375709661745492
         ]
        },
        {
         "marker": {
          "color": "rgba(255, 128, 255, 0.8)"
         },
         "mode": "markers",
         "name": "Korea",
         "type": "scatter",
         "x": [
          -0.37861161102393315
         ],
         "y": [
          -0.22361731891279021
         ]
        },
        {
         "marker": {
          "color": "rgba(255, 128, 2, 0.8)"
         },
         "mode": "markers",
         "name": "Korea",
         "type": "scatter",
         "x": [
          3.384126762355507
         ],
         "y": [
          0.2500451549892531
         ]
        },
        {
         "marker": {
          "color": "rgba(255, 128, 255, 0.8)"
         },
         "mode": "markers",
         "name": "Lao PDR",
         "type": "scatter",
         "x": [
          -3.5431608130108887
         ],
         "y": [
          0.035082150679393256
         ]
        },
        {
         "marker": {
          "color": "rgba(255, 128, 2, 0.8)"
         },
         "mode": "markers",
         "name": "Lao PDR",
         "type": "scatter",
         "x": [
          1.6004330935055517
         ],
         "y": [
          -1.048804992936629
         ]
        },
        {
         "marker": {
          "color": "rgba(255, 128, 2, 0.8)"
         },
         "mode": "markers",
         "name": "Latvia",
         "type": "scatter",
         "x": [
          1.7720396795910018
         ],
         "y": [
          -1.0823314223439395
         ]
        },
        {
         "marker": {
          "color": "rgba(255, 128, 255, 0.8)"
         },
         "mode": "markers",
         "name": "Latvia",
         "type": "scatter",
         "x": [
          -3.372287140496569
         ],
         "y": [
          -0.12447079677295786
         ]
        },
        {
         "marker": {
          "color": "rgba(255, 128, 2, 0.8)"
         },
         "mode": "markers",
         "name": "Latvia",
         "type": "scatter",
         "x": [
          1.9672286369344574
         ],
         "y": [
          0.5372493287531581
         ]
        },
        {
         "marker": {
          "color": "rgba(255, 128, 255, 0.8)"
         },
         "mode": "markers",
         "name": "Lithuania",
         "type": "scatter",
         "x": [
          -2.8912269225521467
         ],
         "y": [
          -2.0422319434352927
         ]
        },
        {
         "marker": {
          "color": "rgba(255, 128, 255, 0.8)"
         },
         "mode": "markers",
         "name": "Lithuania",
         "type": "scatter",
         "x": [
          -0.8460896461522456
         ],
         "y": [
          0.15711344686840187
         ]
        },
        {
         "marker": {
          "color": "rgba(255, 128, 255, 0.8)"
         },
         "mode": "markers",
         "name": "Lithuania",
         "type": "scatter",
         "x": [
          -0.3255579880186757
         ],
         "y": [
          -1.4320532411891935
         ]
        },
        {
         "marker": {
          "color": "rgba(255, 128, 255, 0.8)"
         },
         "mode": "markers",
         "name": "Luxembourg",
         "type": "scatter",
         "x": [
          0.06375826855503003
         ],
         "y": [
          -0.35184431328223026
         ]
        },
        {
         "marker": {
          "color": "rgba(255, 128, 255, 0.8)"
         },
         "mode": "markers",
         "name": "Luxembourg",
         "type": "scatter",
         "x": [
          -2.324681219795149
         ],
         "y": [
          -1.1289110443097723
         ]
        },
        {
         "marker": {
          "color": "rgba(255, 128, 2, 0.8)"
         },
         "mode": "markers",
         "name": "Luxembourg",
         "type": "scatter",
         "x": [
          0.3901956542373882
         ],
         "y": [
          -1.1481995756032526
         ]
        },
        {
         "marker": {
          "color": "rgba(255, 128, 2, 0.8)"
         },
         "mode": "markers",
         "name": "Malaysia",
         "type": "scatter",
         "x": [
          2.471175718650804
         ],
         "y": [
          0.31124020947844827
         ]
        },
        {
         "marker": {
          "color": "rgba(255, 128, 2, 0.8)"
         },
         "mode": "markers",
         "name": "Malaysia",
         "type": "scatter",
         "x": [
          3.3266191828213327
         ],
         "y": [
          -0.691517456397708
         ]
        },
        {
         "marker": {
          "color": "rgba(255, 128, 255, 0.8)"
         },
         "mode": "markers",
         "name": "Malaysia",
         "type": "scatter",
         "x": [
          -2.1483509978643838
         ],
         "y": [
          1.8733538689117586
         ]
        },
        {
         "marker": {
          "color": "rgba(255, 128, 255, 0.8)"
         },
         "mode": "markers",
         "name": "Malaysia",
         "type": "scatter",
         "x": [
          -0.271614963193955
         ],
         "y": [
          -1.2770889443269617
         ]
        },
        {
         "marker": {
          "color": "rgba(255, 128, 2, 0.8)"
         },
         "mode": "markers",
         "name": "Malta",
         "type": "scatter",
         "x": [
          2.5229455361731308
         ],
         "y": [
          -0.34688830086496947
         ]
        },
        {
         "marker": {
          "color": "rgba(255, 128, 2, 0.8)"
         },
         "mode": "markers",
         "name": "Malta",
         "type": "scatter",
         "x": [
          4.342096440198645
         ],
         "y": [
          0.20066024174493818
         ]
        },
        {
         "marker": {
          "color": "rgba(255, 128, 255, 0.8)"
         },
         "mode": "markers",
         "name": "Malta",
         "type": "scatter",
         "x": [
          -1.2143481781402086
         ],
         "y": [
          -0.7895508462826768
         ]
        },
        {
         "marker": {
          "color": "rgba(255, 128, 2, 0.8)"
         },
         "mode": "markers",
         "name": "Malta",
         "type": "scatter",
         "x": [
          3.793664513397198
         ],
         "y": [
          0.9117997964508887
         ]
        },
        {
         "marker": {
          "color": "rgba(255, 128, 2, 0.8)"
         },
         "mode": "markers",
         "name": "Marshall Islands",
         "type": "scatter",
         "x": [
          4.095702101119886
         ],
         "y": [
          -1.2940835640386483
         ]
        },
        {
         "marker": {
          "color": "rgba(255, 128, 255, 0.8)"
         },
         "mode": "markers",
         "name": "Marshall Islands",
         "type": "scatter",
         "x": [
          -0.3129126766623288
         ],
         "y": [
          -0.21966992858088918
         ]
        },
        {
         "marker": {
          "color": "rgba(255, 128, 2, 0.8)"
         },
         "mode": "markers",
         "name": "Marshall Islands",
         "type": "scatter",
         "x": [
          1.8019626694415982
         ],
         "y": [
          -0.19589918844711493
         ]
        },
        {
         "marker": {
          "color": "rgba(255, 128, 2, 0.8)"
         },
         "mode": "markers",
         "name": "Marshall Islands",
         "type": "scatter",
         "x": [
          1.8636389911837692
         ],
         "y": [
          -0.3390521967742603
         ]
        },
        {
         "marker": {
          "color": "rgba(255, 128, 2, 0.8)"
         },
         "mode": "markers",
         "name": "Mauritius",
         "type": "scatter",
         "x": [
          0.6450963407847096
         ],
         "y": [
          -0.5906529761692856
         ]
        },
        {
         "marker": {
          "color": "rgba(255, 128, 2, 0.8)"
         },
         "mode": "markers",
         "name": "Mauritius",
         "type": "scatter",
         "x": [
          3.7431558490550354
         ],
         "y": [
          -0.2939146263043689
         ]
        },
        {
         "marker": {
          "color": "rgba(255, 128, 255, 0.8)"
         },
         "mode": "markers",
         "name": "Mauritius",
         "type": "scatter",
         "x": [
          -0.9308243816788561
         ],
         "y": [
          -0.850994367344989
         ]
        },
        {
         "marker": {
          "color": "rgba(255, 128, 2, 0.8)"
         },
         "mode": "markers",
         "name": "Mauritius",
         "type": "scatter",
         "x": [
          3.2089443107964817
         ],
         "y": [
          -1.5402557217648283
         ]
        },
        {
         "marker": {
          "color": "rgba(255, 128, 2, 0.8)"
         },
         "mode": "markers",
         "name": "Mexico",
         "type": "scatter",
         "x": [
          1.843028581919311
         ],
         "y": [
          -0.3787228961232283
         ]
        },
        {
         "marker": {
          "color": "rgba(255, 128, 255, 0.8)"
         },
         "mode": "markers",
         "name": "Mexico",
         "type": "scatter",
         "x": [
          0.011821553710890973
         ],
         "y": [
          -2.542030745779538
         ]
        },
        {
         "marker": {
          "color": "rgba(255, 128, 255, 0.8)"
         },
         "mode": "markers",
         "name": "Mexico",
         "type": "scatter",
         "x": [
          -1.1634920874372305
         ],
         "y": [
          -0.46058322154861164
         ]
        },
        {
         "marker": {
          "color": "rgba(255, 128, 255, 0.8)"
         },
         "mode": "markers",
         "name": "Mexico",
         "type": "scatter",
         "x": [
          -2.0347793356195147
         ],
         "y": [
          0.7160725793144133
         ]
        },
        {
         "marker": {
          "color": "rgba(255, 128, 2, 0.8)"
         },
         "mode": "markers",
         "name": "Moldova",
         "type": "scatter",
         "x": [
          1.622086326947882
         ],
         "y": [
          0.081963430432484
         ]
        },
        {
         "marker": {
          "color": "rgba(255, 128, 255, 0.8)"
         },
         "mode": "markers",
         "name": "Moldova",
         "type": "scatter",
         "x": [
          -4.959324945866875
         ],
         "y": [
          -0.4680131811956643
         ]
        },
        {
         "marker": {
          "color": "rgba(255, 128, 2, 0.8)"
         },
         "mode": "markers",
         "name": "Mongolia",
         "type": "scatter",
         "x": [
          2.440798017255979
         ],
         "y": [
          0.1255976201606833
         ]
        },
        {
         "marker": {
          "color": "rgba(255, 128, 255, 0.8)"
         },
         "mode": "markers",
         "name": "Mongolia",
         "type": "scatter",
         "x": [
          -1.359391722563515
         ],
         "y": [
          0.510113372046555
         ]
        },
        {
         "marker": {
          "color": "rgba(255, 128, 2, 0.8)"
         },
         "mode": "markers",
         "name": "Mongolia",
         "type": "scatter",
         "x": [
          0.4774607371575665
         ],
         "y": [
          -0.7090567978887813
         ]
        },
        {
         "marker": {
          "color": "rgba(255, 128, 255, 0.8)"
         },
         "mode": "markers",
         "name": "Montenegro",
         "type": "scatter",
         "x": [
          -6.674674396942471
         ],
         "y": [
          0.02185274289811444
         ]
        },
        {
         "marker": {
          "color": "rgba(255, 128, 255, 0.8)"
         },
         "mode": "markers",
         "name": "Morocco",
         "type": "scatter",
         "x": [
          -4.013619394931861
         ],
         "y": [
          -1.1566087076846747
         ]
        },
        {
         "marker": {
          "color": "rgba(255, 128, 255, 0.8)"
         },
         "mode": "markers",
         "name": "Netherlands",
         "type": "scatter",
         "x": [
          0.17050083438676372
         ],
         "y": [
          -0.15411513779202424
         ]
        },
        {
         "marker": {
          "color": "rgba(255, 128, 255, 0.8)"
         },
         "mode": "markers",
         "name": "Netherlands",
         "type": "scatter",
         "x": [
          -2.31539913641267
         ],
         "y": [
          -1.187836324911757
         ]
        },
        {
         "marker": {
          "color": "rgba(255, 128, 2, 0.8)"
         },
         "mode": "markers",
         "name": "Netherlands",
         "type": "scatter",
         "x": [
          2.968702966430699
         ],
         "y": [
          0.23293654406254508
         ]
        },
        {
         "marker": {
          "color": "rgba(255, 128, 255, 0.8)"
         },
         "mode": "markers",
         "name": "Netherlands",
         "type": "scatter",
         "x": [
          -0.824890322820189
         ],
         "y": [
          -0.9793821545957747
         ]
        },
        {
         "marker": {
          "color": "rgba(255, 128, 255, 0.8)"
         },
         "mode": "markers",
         "name": "New Zealand",
         "type": "scatter",
         "x": [
          -3.115828208742577
         ],
         "y": [
          -0.041954587677658965
         ]
        },
        {
         "marker": {
          "color": "rgba(255, 128, 2, 0.8)"
         },
         "mode": "markers",
         "name": "New Zealand",
         "type": "scatter",
         "x": [
          4.49495483614543
         ],
         "y": [
          2.9067223758477163
         ]
        },
        {
         "marker": {
          "color": "rgba(255, 128, 255, 0.8)"
         },
         "mode": "markers",
         "name": "New Zealand",
         "type": "scatter",
         "x": [
          -1.0787742481873837
         ],
         "y": [
          -0.7305142763151329
         ]
        },
        {
         "marker": {
          "color": "rgba(255, 128, 255, 0.8)"
         },
         "mode": "markers",
         "name": "Nigeria",
         "type": "scatter",
         "x": [
          -1.373255305267414
         ],
         "y": [
          0.6080243182938534
         ]
        },
        {
         "marker": {
          "color": "rgba(255, 128, 2, 0.8)"
         },
         "mode": "markers",
         "name": "Nigeria",
         "type": "scatter",
         "x": [
          3.9585966797546694
         ],
         "y": [
          -0.10286069634654277
         ]
        },
        {
         "marker": {
          "color": "rgba(255, 128, 2, 0.8)"
         },
         "mode": "markers",
         "name": "Nigeria",
         "type": "scatter",
         "x": [
          4.154846175863682
         ],
         "y": [
          -1.2547203069078865
         ]
        },
        {
         "marker": {
          "color": "rgba(255, 128, 2, 0.8)"
         },
         "mode": "markers",
         "name": "Nigeria",
         "type": "scatter",
         "x": [
          0.6139826512225881
         ],
         "y": [
          -0.24233795446790196
         ]
        },
        {
         "marker": {
          "color": "rgba(255, 128, 255, 0.8)"
         },
         "mode": "markers",
         "name": "Macedonia",
         "type": "scatter",
         "x": [
          -3.4922653881975663
         ],
         "y": [
          -0.5188670704529628
         ]
        },
        {
         "marker": {
          "color": "rgba(255, 128, 2, 0.8)"
         },
         "mode": "markers",
         "name": "Macedonia",
         "type": "scatter",
         "x": [
          0.30280421724843665
         ],
         "y": [
          -0.7881536475791385
         ]
        },
        {
         "marker": {
          "color": "rgba(255, 128, 255, 0.8)"
         },
         "mode": "markers",
         "name": "Macedonia",
         "type": "scatter",
         "x": [
          -0.0989471330652364
         ],
         "y": [
          -1.52760582887361
         ]
        },
        {
         "marker": {
          "color": "rgba(255, 128, 255, 0.8)"
         },
         "mode": "markers",
         "name": "Norway",
         "type": "scatter",
         "x": [
          -0.6832123655227055
         ],
         "y": [
          -0.3330156512666138
         ]
        },
        {
         "marker": {
          "color": "rgba(255, 128, 255, 0.8)"
         },
         "mode": "markers",
         "name": "Norway",
         "type": "scatter",
         "x": [
          -2.000022748457704
         ],
         "y": [
          0.5679195703765996
         ]
        },
        {
         "marker": {
          "color": "rgba(255, 128, 255, 0.8)"
         },
         "mode": "markers",
         "name": "Norway",
         "type": "scatter",
         "x": [
          -2.6050187037259165
         ],
         "y": [
          -0.35062980751716527
         ]
        },
        {
         "marker": {
          "color": "rgba(255, 128, 2, 0.8)"
         },
         "mode": "markers",
         "name": "Norway",
         "type": "scatter",
         "x": [
          0.946947210722566
         ],
         "y": [
          -0.19502049922972786
         ]
        },
        {
         "marker": {
          "color": "rgba(255, 128, 255, 0.8)"
         },
         "mode": "markers",
         "name": "Oman",
         "type": "scatter",
         "x": [
          -2.3078598453391423
         ],
         "y": [
          -1.0906263007760355
         ]
        },
        {
         "marker": {
          "color": "rgba(255, 128, 2, 0.8)"
         },
         "mode": "markers",
         "name": "Oman",
         "type": "scatter",
         "x": [
          1.7833984981477713
         ],
         "y": [
          0.9550798378527102
         ]
        },
        {
         "marker": {
          "color": "rgba(255, 128, 2, 0.8)"
         },
         "mode": "markers",
         "name": "Panama",
         "type": "scatter",
         "x": [
          1.4395937178102542
         ],
         "y": [
          -0.8186012145668453
         ]
        },
        {
         "marker": {
          "color": "rgba(255, 128, 255, 0.8)"
         },
         "mode": "markers",
         "name": "Panama",
         "type": "scatter",
         "x": [
          -1.9078293340300871
         ],
         "y": [
          -0.167304049799211
         ]
        },
        {
         "marker": {
          "color": "rgba(255, 128, 2, 0.8)"
         },
         "mode": "markers",
         "name": "Panama",
         "type": "scatter",
         "x": [
          0.6944416179576943
         ],
         "y": [
          -1.166678208390585
         ]
        },
        {
         "marker": {
          "color": "rgba(255, 128, 255, 0.8)"
         },
         "mode": "markers",
         "name": "Panama",
         "type": "scatter",
         "x": [
          -2.4746232210615884
         ],
         "y": [
          -0.3622376905258641
         ]
        },
        {
         "marker": {
          "color": "rgba(255, 128, 2, 0.8)"
         },
         "mode": "markers",
         "name": "Paraguay",
         "type": "scatter",
         "x": [
          1.9149200406766103
         ],
         "y": [
          0.6010882863115622
         ]
        },
        {
         "marker": {
          "color": "rgba(255, 128, 2, 0.8)"
         },
         "mode": "markers",
         "name": "Peru",
         "type": "scatter",
         "x": [
          5.194371300011772
         ],
         "y": [
          7.7946693169594665
         ]
        },
        {
         "marker": {
          "color": "rgba(255, 128, 2, 0.8)"
         },
         "mode": "markers",
         "name": "Peru",
         "type": "scatter",
         "x": [
          3.562266361104331
         ],
         "y": [
          0.46213513586222127
         ]
        },
        {
         "marker": {
          "color": "rgba(255, 128, 255, 0.8)"
         },
         "mode": "markers",
         "name": "Philippines",
         "type": "scatter",
         "x": [
          -3.8805356745447392
         ],
         "y": [
          -0.44403119413779724
         ]
        },
        {
         "marker": {
          "color": "rgba(255, 128, 2, 0.8)"
         },
         "mode": "markers",
         "name": "Philippines",
         "type": "scatter",
         "x": [
          3.0115817545813375
         ],
         "y": [
          1.6992273500331965
         ]
        },
        {
         "marker": {
          "color": "rgba(255, 128, 255, 0.8)"
         },
         "mode": "markers",
         "name": "Philippines",
         "type": "scatter",
         "x": [
          -2.308037179803699
         ],
         "y": [
          1.7262129751078674
         ]
        },
        {
         "marker": {
          "color": "rgba(255, 128, 255, 0.8)"
         },
         "mode": "markers",
         "name": "Philippines",
         "type": "scatter",
         "x": [
          -4.767349722998576
         ],
         "y": [
          -0.26086417462209716
         ]
        },
        {
         "marker": {
          "color": "rgba(255, 128, 2, 0.8)"
         },
         "mode": "markers",
         "name": "Poland",
         "type": "scatter",
         "x": [
          2.375149493204307
         ],
         "y": [
          -1.1542425430620082
         ]
        },
        {
         "marker": {
          "color": "rgba(255, 128, 2, 0.8)"
         },
         "mode": "markers",
         "name": "Poland",
         "type": "scatter",
         "x": [
          3.9269633216888833
         ],
         "y": [
          -1.3055701543613618
         ]
        },
        {
         "marker": {
          "color": "rgba(255, 128, 255, 0.8)"
         },
         "mode": "markers",
         "name": "Poland",
         "type": "scatter",
         "x": [
          -1.8295983974118275
         ],
         "y": [
          1.461860853240182
         ]
        },
        {
         "marker": {
          "color": "rgba(255, 128, 255, 0.8)"
         },
         "mode": "markers",
         "name": "Poland",
         "type": "scatter",
         "x": [
          -0.2364128502152978
         ],
         "y": [
          -0.06966090259682925
         ]
        },
        {
         "marker": {
          "color": "rgba(255, 128, 255, 0.8)"
         },
         "mode": "markers",
         "name": "Portugal",
         "type": "scatter",
         "x": [
          -4.896854358170607
         ],
         "y": [
          0.2526786773682942
         ]
        },
        {
         "marker": {
          "color": "rgba(255, 128, 2, 0.8)"
         },
         "mode": "markers",
         "name": "Portugal",
         "type": "scatter",
         "x": [
          0.881193381556709
         ],
         "y": [
          -0.8832019232904476
         ]
        },
        {
         "marker": {
          "color": "rgba(255, 128, 255, 0.8)"
         },
         "mode": "markers",
         "name": "Portugal",
         "type": "scatter",
         "x": [
          0.24342126376867046
         ],
         "y": [
          0.04072506346755044
         ]
        },
        {
         "marker": {
          "color": "rgba(255, 128, 255, 0.8)"
         },
         "mode": "markers",
         "name": "Romania",
         "type": "scatter",
         "x": [
          -0.08681975358073636
         ],
         "y": [
          -0.2991837436696456
         ]
        },
        {
         "marker": {
          "color": "rgba(255, 128, 2, 0.8)"
         },
         "mode": "markers",
         "name": "Romania",
         "type": "scatter",
         "x": [
          0.8785400876496623
         ],
         "y": [
          -0.08751610123316678
         ]
        },
        {
         "marker": {
          "color": "rgba(255, 128, 255, 0.8)"
         },
         "mode": "markers",
         "name": "Romania",
         "type": "scatter",
         "x": [
          -3.1465720969944906
         ],
         "y": [
          0.6639013680543935
         ]
        },
        {
         "marker": {
          "color": "rgba(255, 128, 2, 0.8)"
         },
         "mode": "markers",
         "name": "Romania",
         "type": "scatter",
         "x": [
          1.1075171718158867
         ],
         "y": [
          -0.08413860251089525
         ]
        },
        {
         "marker": {
          "color": "rgba(255, 128, 255, 0.8)"
         },
         "mode": "markers",
         "name": "Russian Federation",
         "type": "scatter",
         "x": [
          -0.10956376959404429
         ],
         "y": [
          -0.5964070936068749
         ]
        },
        {
         "marker": {
          "color": "rgba(255, 128, 2, 0.8)"
         },
         "mode": "markers",
         "name": "Russian Federation",
         "type": "scatter",
         "x": [
          3.8664710499181205
         ],
         "y": [
          -0.9161614589373283
         ]
        },
        {
         "marker": {
          "color": "rgba(255, 128, 2, 0.8)"
         },
         "mode": "markers",
         "name": "Russian Federation",
         "type": "scatter",
         "x": [
          4.391180806728862
         ],
         "y": [
          -1.2233358499394649
         ]
        },
        {
         "marker": {
          "color": "rgba(255, 128, 255, 0.8)"
         },
         "mode": "markers",
         "name": "Russian Federation",
         "type": "scatter",
         "x": [
          -2.1231257041755915
         ],
         "y": [
          0.8795625698972191
         ]
        },
        {
         "marker": {
          "color": "rgba(255, 128, 255, 0.8)"
         },
         "mode": "markers",
         "name": "Samoa",
         "type": "scatter",
         "x": [
          -0.842368609312678
         ],
         "y": [
          -0.03364483757935436
         ]
        },
        {
         "marker": {
          "color": "rgba(255, 128, 255, 0.8)"
         },
         "mode": "markers",
         "name": "Samoa",
         "type": "scatter",
         "x": [
          -1.3851266043113415
         ],
         "y": [
          -0.7601184152447726
         ]
        },
        {
         "marker": {
          "color": "rgba(255, 128, 2, 0.8)"
         },
         "mode": "markers",
         "name": "Saudi Arabia",
         "type": "scatter",
         "x": [
          4.197220134747779
         ],
         "y": [
          -1.2843640226581452
         ]
        },
        {
         "marker": {
          "color": "rgba(255, 128, 255, 0.8)"
         },
         "mode": "markers",
         "name": "Serbia",
         "type": "scatter",
         "x": [
          -1.2827919188057526
         ],
         "y": [
          0.27494970256403317
         ]
        },
        {
         "marker": {
          "color": "rgba(255, 128, 255, 0.8)"
         },
         "mode": "markers",
         "name": "Serbia",
         "type": "scatter",
         "x": [
          -2.310446527272022
         ],
         "y": [
          2.393986966712894
         ]
        },
        {
         "marker": {
          "color": "rgba(255, 128, 255, 0.8)"
         },
         "mode": "markers",
         "name": "Seychelles",
         "type": "scatter",
         "x": [
          -2.4552789970526563
         ],
         "y": [
          -1.0988606561327532
         ]
        },
        {
         "marker": {
          "color": "rgba(255, 128, 255, 0.8)"
         },
         "mode": "markers",
         "name": "Seychelles",
         "type": "scatter",
         "x": [
          -2.278608905157475
         ],
         "y": [
          0.5630701255603636
         ]
        },
        {
         "marker": {
          "color": "rgba(255, 128, 2, 0.8)"
         },
         "mode": "markers",
         "name": "Seychelles",
         "type": "scatter",
         "x": [
          3.462258937842199
         ],
         "y": [
          -1.075714890929133
         ]
        },
        {
         "marker": {
          "color": "rgba(255, 128, 255, 0.8)"
         },
         "mode": "markers",
         "name": "Seychelles",
         "type": "scatter",
         "x": [
          -2.1295653967549533
         ],
         "y": [
          -0.4901573773703726
         ]
        },
        {
         "marker": {
          "color": "rgba(255, 128, 2, 0.8)"
         },
         "mode": "markers",
         "name": "Sierra Leone",
         "type": "scatter",
         "x": [
          2.187886211716661
         ],
         "y": [
          -0.02426847489633838
         ]
        },
        {
         "marker": {
          "color": "rgba(255, 128, 255, 0.8)"
         },
         "mode": "markers",
         "name": "Sierra Leone",
         "type": "scatter",
         "x": [
          -0.12755228964400186
         ],
         "y": [
          -0.35395844241679203
         ]
        },
        {
         "marker": {
          "color": "rgba(255, 128, 255, 0.8)"
         },
         "mode": "markers",
         "name": "Singapore",
         "type": "scatter",
         "x": [
          -1.9158337811448054
         ],
         "y": [
          1.0648916738976477
         ]
        },
        {
         "marker": {
          "color": "rgba(255, 128, 255, 0.8)"
         },
         "mode": "markers",
         "name": "Singapore",
         "type": "scatter",
         "x": [
          -0.3865447484247599
         ],
         "y": [
          -1.029853736861159
         ]
        },
        {
         "marker": {
          "color": "rgba(255, 128, 255, 0.8)"
         },
         "mode": "markers",
         "name": "Singapore",
         "type": "scatter",
         "x": [
          -1.7819293591320193
         ],
         "y": [
          1.0629623339764045
         ]
        },
        {
         "marker": {
          "color": "rgba(255, 128, 255, 0.8)"
         },
         "mode": "markers",
         "name": "Singapore",
         "type": "scatter",
         "x": [
          -2.0756727066449923
         ],
         "y": [
          1.055164918373133
         ]
        },
        {
         "marker": {
          "color": "rgba(255, 128, 255, 0.8)"
         },
         "mode": "markers",
         "name": "Slovak Republic",
         "type": "scatter",
         "x": [
          -2.1026486643686617
         ],
         "y": [
          0.11634700321955448
         ]
        },
        {
         "marker": {
          "color": "rgba(255, 128, 255, 0.8)"
         },
         "mode": "markers",
         "name": "Slovak Republic",
         "type": "scatter",
         "x": [
          -0.7265780772051688
         ],
         "y": [
          1.2416768114165933
         ]
        },
        {
         "marker": {
          "color": "rgba(255, 128, 255, 0.8)"
         },
         "mode": "markers",
         "name": "Slovak Republic",
         "type": "scatter",
         "x": [
          -1.2557829362889295
         ],
         "y": [
          -0.7572604428786927
         ]
        },
        {
         "marker": {
          "color": "rgba(255, 128, 255, 0.8)"
         },
         "mode": "markers",
         "name": "Slovak Republic",
         "type": "scatter",
         "x": [
          -2.6514322981581357
         ],
         "y": [
          0.17264429402754752
         ]
        },
        {
         "marker": {
          "color": "rgba(255, 128, 255, 0.8)"
         },
         "mode": "markers",
         "name": "Slovenia",
         "type": "scatter",
         "x": [
          -0.7040878019041823
         ],
         "y": [
          -0.06498473637552009
         ]
        },
        {
         "marker": {
          "color": "rgba(255, 128, 255, 0.8)"
         },
         "mode": "markers",
         "name": "Slovenia",
         "type": "scatter",
         "x": [
          -0.8594142388025382
         ],
         "y": [
          -0.5576871325881388
         ]
        },
        {
         "marker": {
          "color": "rgba(255, 128, 2, 0.8)"
         },
         "mode": "markers",
         "name": "Slovenia",
         "type": "scatter",
         "x": [
          5.3657355162297735
         ],
         "y": [
          1.6775000378993976
         ]
        },
        {
         "marker": {
          "color": "rgba(255, 128, 2, 0.8)"
         },
         "mode": "markers",
         "name": "Slovenia",
         "type": "scatter",
         "x": [
          3.3133384718920187
         ],
         "y": [
          1.9469957503782522
         ]
        },
        {
         "marker": {
          "color": "rgba(255, 128, 2, 0.8)"
         },
         "mode": "markers",
         "name": "South Africa",
         "type": "scatter",
         "x": [
          3.7479434740891864
         ],
         "y": [
          -0.33718577151655565
         ]
        },
        {
         "marker": {
          "color": "rgba(255, 128, 255, 0.8)"
         },
         "mode": "markers",
         "name": "South Africa",
         "type": "scatter",
         "x": [
          -2.8726186792168
         ],
         "y": [
          -1.9973365176920062
         ]
        },
        {
         "marker": {
          "color": "rgba(255, 128, 255, 0.8)"
         },
         "mode": "markers",
         "name": "South Africa",
         "type": "scatter",
         "x": [
          -5.2224028099585205
         ],
         "y": [
          0.18618634161906358
         ]
        },
        {
         "marker": {
          "color": "rgba(255, 128, 255, 0.8)"
         },
         "mode": "markers",
         "name": "South Africa",
         "type": "scatter",
         "x": [
          -6.763223411712284
         ],
         "y": [
          1.2929552817139998
         ]
        },
        {
         "marker": {
          "color": "rgba(255, 128, 2, 0.8)"
         },
         "mode": "markers",
         "name": "Spain",
         "type": "scatter",
         "x": [
          2.0242237277422106
         ],
         "y": [
          -0.30643418502280034
         ]
        },
        {
         "marker": {
          "color": "rgba(255, 128, 2, 0.8)"
         },
         "mode": "markers",
         "name": "Spain",
         "type": "scatter",
         "x": [
          0.43376149599941144
         ],
         "y": [
          -0.6036946329909365
         ]
        },
        {
         "marker": {
          "color": "rgba(255, 128, 2, 0.8)"
         },
         "mode": "markers",
         "name": "Spain",
         "type": "scatter",
         "x": [
          1.8140845486699366
         ],
         "y": [
          -0.1848722338619974
         ]
        },
        {
         "marker": {
          "color": "rgba(255, 128, 255, 0.8)"
         },
         "mode": "markers",
         "name": "Spain",
         "type": "scatter",
         "x": [
          -2.845684521388785
         ],
         "y": [
          0.22576417908396318
         ]
        },
        {
         "marker": {
          "color": "rgba(255, 128, 255, 0.8)"
         },
         "mode": "markers",
         "name": "Sri Lanka",
         "type": "scatter",
         "x": [
          -2.537611610652331
         ],
         "y": [
          -1.2258478622195828
         ]
        },
        {
         "marker": {
          "color": "rgba(255, 128, 2, 0.8)"
         },
         "mode": "markers",
         "name": "Saint Kitts and Nevis",
         "type": "scatter",
         "x": [
          1.45854577150207
         ],
         "y": [
          -1.1027679637735888
         ]
        },
        {
         "marker": {
          "color": "rgba(255, 128, 2, 0.8)"
         },
         "mode": "markers",
         "name": "Saint Kitts and Nevis",
         "type": "scatter",
         "x": [
          5.125416837464996
         ],
         "y": [
          -1.049993910567945
         ]
        },
        {
         "marker": {
          "color": "rgba(255, 128, 255, 0.8)"
         },
         "mode": "markers",
         "name": "Saint Kitts and Nevis",
         "type": "scatter",
         "x": [
          -1.7392673258759634
         ],
         "y": [
          -0.07540472086549965
         ]
        },
        {
         "marker": {
          "color": "rgba(255, 128, 2, 0.8)"
         },
         "mode": "markers",
         "name": "Saint Lucia",
         "type": "scatter",
         "x": [
          2.09550264460942
         ],
         "y": [
          -1.1586160807052914
         ]
        },
        {
         "marker": {
          "color": "rgba(255, 128, 255, 0.8)"
         },
         "mode": "markers",
         "name": "Saint Vincent and the Grenadines",
         "type": "scatter",
         "x": [
          -1.2062652178821394
         ],
         "y": [
          0.3190337512698946
         ]
        },
        {
         "marker": {
          "color": "rgba(255, 128, 255, 0.8)"
         },
         "mode": "markers",
         "name": "Swaziland",
         "type": "scatter",
         "x": [
          -0.28453035365226537
         ],
         "y": [
          -0.5312403814248042
         ]
        },
        {
         "marker": {
          "color": "rgba(255, 128, 255, 0.8)"
         },
         "mode": "markers",
         "name": "Sweden",
         "type": "scatter",
         "x": [
          -2.3770419329327055
         ],
         "y": [
          -0.011719575781303204
         ]
        },
        {
         "marker": {
          "color": "rgba(255, 128, 2, 0.8)"
         },
         "mode": "markers",
         "name": "Sweden",
         "type": "scatter",
         "x": [
          0.2989622339842152
         ],
         "y": [
          -0.34049853188639395
         ]
        },
        {
         "marker": {
          "color": "rgba(255, 128, 255, 0.8)"
         },
         "mode": "markers",
         "name": "Sweden",
         "type": "scatter",
         "x": [
          -0.8512805515576088
         ],
         "y": [
          0.6948842907384398
         ]
        },
        {
         "marker": {
          "color": "rgba(255, 128, 2, 0.8)"
         },
         "mode": "markers",
         "name": "Switzerland",
         "type": "scatter",
         "x": [
          1.760372428272016
         ],
         "y": [
          0.3787047863896615
         ]
        },
        {
         "marker": {
          "color": "rgba(255, 128, 2, 0.8)"
         },
         "mode": "markers",
         "name": "Switzerland",
         "type": "scatter",
         "x": [
          6.198087215888916
         ],
         "y": [
          10.312848682746244
         ]
        },
        {
         "marker": {
          "color": "rgba(255, 128, 255, 0.8)"
         },
         "mode": "markers",
         "name": "Switzerland",
         "type": "scatter",
         "x": [
          -4.520488286656829
         ],
         "y": [
          -0.1664468383153992
         ]
        },
        {
         "marker": {
          "color": "rgba(255, 128, 2, 0.8)"
         },
         "mode": "markers",
         "name": "Switzerland",
         "type": "scatter",
         "x": [
          0.6447013271171157
         ],
         "y": [
          -0.66165820041702
         ]
        },
        {
         "marker": {
          "color": "rgba(255, 128, 255, 0.8)"
         },
         "mode": "markers",
         "name": "Syria",
         "type": "scatter",
         "x": [
          -1.400619892236774
         ],
         "y": [
          0.9359999386450069
         ]
        },
        {
         "marker": {
          "color": "rgba(255, 128, 255, 0.8)"
         },
         "mode": "markers",
         "name": "Taiwan Province of China",
         "type": "scatter",
         "x": [
          -2.6752455149989656
         ],
         "y": [
          0.29571995859545414
         ]
        },
        {
         "marker": {
          "color": "rgba(255, 128, 2, 0.8)"
         },
         "mode": "markers",
         "name": "Taiwan Province of China",
         "type": "scatter",
         "x": [
          3.297606011264574
         ],
         "y": [
          -0.7522066717668607
         ]
        },
        {
         "marker": {
          "color": "rgba(255, 128, 255, 0.8)"
         },
         "mode": "markers",
         "name": "Taiwan Province of China",
         "type": "scatter",
         "x": [
          -1.5087632529532264
         ],
         "y": [
          3.4409784944341544
         ]
        },
        {
         "marker": {
          "color": "rgba(255, 128, 255, 0.8)"
         },
         "mode": "markers",
         "name": "Tanzania",
         "type": "scatter",
         "x": [
          -0.21924323612913593
         ],
         "y": [
          -1.5817554995797602
         ]
        },
        {
         "marker": {
          "color": "rgba(255, 128, 255, 0.8)"
         },
         "mode": "markers",
         "name": "Tanzania",
         "type": "scatter",
         "x": [
          -1.8329853134216325
         ],
         "y": [
          0.8713149366130242
         ]
        },
        {
         "marker": {
          "color": "rgba(255, 128, 2, 0.8)"
         },
         "mode": "markers",
         "name": "Thailand",
         "type": "scatter",
         "x": [
          0.9910242007209182
         ],
         "y": [
          -0.8058215949115294
         ]
        },
        {
         "marker": {
          "color": "rgba(255, 128, 255, 0.8)"
         },
         "mode": "markers",
         "name": "Thailand",
         "type": "scatter",
         "x": [
          -2.8841838799607014
         ],
         "y": [
          0.44170570792702635
         ]
        },
        {
         "marker": {
          "color": "rgba(255, 128, 255, 0.8)"
         },
         "mode": "markers",
         "name": "Thailand",
         "type": "scatter",
         "x": [
          -1.5154118502567409
         ],
         "y": [
          -0.2798510790480954
         ]
        },
        {
         "marker": {
          "color": "rgba(255, 128, 2, 0.8)"
         },
         "mode": "markers",
         "name": "Thailand",
         "type": "scatter",
         "x": [
          2.9498805349573805
         ],
         "y": [
          -0.17417398830297476
         ]
        },
        {
         "marker": {
          "color": "rgba(255, 128, 255, 0.8)"
         },
         "mode": "markers",
         "name": "Timor-Leste",
         "type": "scatter",
         "x": [
          -0.8429448223908933
         ],
         "y": [
          10.970501715155963
         ]
        },
        {
         "marker": {
          "color": "rgba(255, 128, 255, 0.8)"
         },
         "mode": "markers",
         "name": "Tunisia",
         "type": "scatter",
         "x": [
          -1.0177975395421235
         ],
         "y": [
          -1.292380450392888
         ]
        },
        {
         "marker": {
          "color": "rgba(255, 128, 255, 0.8)"
         },
         "mode": "markers",
         "name": "Tunisia",
         "type": "scatter",
         "x": [
          -0.5429332443163795
         ],
         "y": [
          -0.24820574918795096
         ]
        },
        {
         "marker": {
          "color": "rgba(255, 128, 2, 0.8)"
         },
         "mode": "markers",
         "name": "Turkey",
         "type": "scatter",
         "x": [
          1.011787207340523
         ],
         "y": [
          -0.5201430571760816
         ]
        },
        {
         "marker": {
          "color": "rgba(255, 128, 2, 0.8)"
         },
         "mode": "markers",
         "name": "Turkey",
         "type": "scatter",
         "x": [
          1.4479414242368593
         ],
         "y": [
          -0.8458451753853435
         ]
        },
        {
         "marker": {
          "color": "rgba(255, 128, 255, 0.8)"
         },
         "mode": "markers",
         "name": "Turkey",
         "type": "scatter",
         "x": [
          -2.3175917874575287
         ],
         "y": [
          1.282003290387475
         ]
        },
        {
         "marker": {
          "color": "rgba(255, 128, 255, 0.8)"
         },
         "mode": "markers",
         "name": "Turkey",
         "type": "scatter",
         "x": [
          -0.1881432309859117
         ],
         "y": [
          0.2256964363105879
         ]
        },
        {
         "marker": {
          "color": "rgba(255, 128, 255, 0.8)"
         },
         "mode": "markers",
         "name": "Ukraine",
         "type": "scatter",
         "x": [
          -1.4091853819592828
         ],
         "y": [
          0.20246117458157156
         ]
        },
        {
         "marker": {
          "color": "rgba(255, 128, 2, 0.8)"
         },
         "mode": "markers",
         "name": "Ukraine",
         "type": "scatter",
         "x": [
          0.21386537665676433
         ],
         "y": [
          -2.6592789439214424
         ]
        },
        {
         "marker": {
          "color": "rgba(255, 128, 2, 0.8)"
         },
         "mode": "markers",
         "name": "Ukraine",
         "type": "scatter",
         "x": [
          0.3335725398476374
         ],
         "y": [
          -0.5588109228820303
         ]
        },
        {
         "marker": {
          "color": "rgba(255, 128, 255, 0.8)"
         },
         "mode": "markers",
         "name": "Ukraine",
         "type": "scatter",
         "x": [
          -3.1597148784312985
         ],
         "y": [
          -0.18103125965515376
         ]
        },
        {
         "marker": {
          "color": "rgba(255, 128, 255, 0.8)"
         },
         "mode": "markers",
         "name": "United Arab Emirates",
         "type": "scatter",
         "x": [
          -0.732234089927702
         ],
         "y": [
          10.46192382345906
         ]
        },
        {
         "marker": {
          "color": "rgba(255, 128, 2, 0.8)"
         },
         "mode": "markers",
         "name": "United Arab Emirates",
         "type": "scatter",
         "x": [
          4.216308989037839
         ],
         "y": [
          -0.5472531262915105
         ]
        },
        {
         "marker": {
          "color": "rgba(255, 128, 2, 0.8)"
         },
         "mode": "markers",
         "name": "United Arab Emirates",
         "type": "scatter",
         "x": [
          4.120635105536039
         ],
         "y": [
          -0.7493580202922733
         ]
        },
        {
         "marker": {
          "color": "rgba(255, 128, 2, 0.8)"
         },
         "mode": "markers",
         "name": "United Arab Emirates",
         "type": "scatter",
         "x": [
          1.896090043002443
         ],
         "y": [
          -0.2177311449975132
         ]
        },
        {
         "marker": {
          "color": "rgba(255, 128, 255, 0.8)"
         },
         "mode": "markers",
         "name": "United Kingdom",
         "type": "scatter",
         "x": [
          -2.713036092690958
         ],
         "y": [
          -1.804069159693814
         ]
        },
        {
         "marker": {
          "color": "rgba(255, 128, 255, 0.8)"
         },
         "mode": "markers",
         "name": "United Kingdom",
         "type": "scatter",
         "x": [
          -3.7016064039878
         ],
         "y": [
          0.24989181470314525
         ]
        },
        {
         "marker": {
          "color": "rgba(255, 128, 255, 0.8)"
         },
         "mode": "markers",
         "name": "United Kingdom",
         "type": "scatter",
         "x": [
          -1.4480193017716447
         ],
         "y": [
          0.09741294101636071
         ]
        },
        {
         "marker": {
          "color": "rgba(255, 128, 255, 0.8)"
         },
         "mode": "markers",
         "name": "United Kingdom",
         "type": "scatter",
         "x": [
          -2.124207716953333
         ],
         "y": [
          -0.5484570613087065
         ]
        },
        {
         "marker": {
          "color": "rgba(255, 128, 255, 0.8)"
         },
         "mode": "markers",
         "name": "United States",
         "type": "scatter",
         "x": [
          -2.9138571433676934
         ],
         "y": [
          -2.1072670586716526
         ]
        },
        {
         "marker": {
          "color": "rgba(255, 128, 2, 0.8)"
         },
         "mode": "markers",
         "name": "United States",
         "type": "scatter",
         "x": [
          2.536127653364272
         ],
         "y": [
          0.16685453931452454
         ]
        },
        {
         "marker": {
          "color": "rgba(255, 128, 255, 0.8)"
         },
         "mode": "markers",
         "name": "United States",
         "type": "scatter",
         "x": [
          -2.6457753667657427
         ],
         "y": [
          0.06546901576357007
         ]
        },
        {
         "marker": {
          "color": "rgba(255, 128, 255, 0.8)"
         },
         "mode": "markers",
         "name": "United States",
         "type": "scatter",
         "x": [
          -2.3322588305085774
         ],
         "y": [
          0.12151747950246743
         ]
        },
        {
         "marker": {
          "color": "rgba(255, 128, 2, 0.8)"
         },
         "mode": "markers",
         "name": "Venezuela",
         "type": "scatter",
         "x": [
          1.0464778013887015
         ],
         "y": [
          -0.9181702335080104
         ]
        },
        {
         "marker": {
          "color": "rgba(255, 128, 255, 0.8)"
         },
         "mode": "markers",
         "name": "Venezuela",
         "type": "scatter",
         "x": [
          -4.969848362250733
         ],
         "y": [
          -0.01959110728655735
         ]
        },
        {
         "marker": {
          "color": "rgba(255, 128, 2, 0.8)"
         },
         "mode": "markers",
         "name": "Venezuela",
         "type": "scatter",
         "x": [
          3.915201921411354
         ],
         "y": [
          -0.4075207829223941
         ]
        },
        {
         "marker": {
          "color": "rgba(255, 128, 2, 0.8)"
         },
         "mode": "markers",
         "name": "Vietnam",
         "type": "scatter",
         "x": [
          3.9411908511058877
         ],
         "y": [
          -1.6117897418475762
         ]
        },
        {
         "marker": {
          "color": "rgba(255, 128, 255, 0.8)"
         },
         "mode": "markers",
         "name": "Vietnam",
         "type": "scatter",
         "x": [
          -2.8922415486558615
         ],
         "y": [
          -2.036599889381636
         ]
        },
        {
         "marker": {
          "color": "rgba(255, 128, 2, 0.8)"
         },
         "mode": "markers",
         "name": "Vietnam",
         "type": "scatter",
         "x": [
          3.8879375375726957
         ],
         "y": [
          -0.9049236071078666
         ]
        },
        {
         "marker": {
          "color": "rgba(255, 128, 255, 0.8)"
         },
         "mode": "markers",
         "name": "Zimbabwe",
         "type": "scatter",
         "x": [
          -4.217164484578662
         ],
         "y": [
          -0.2860299496398901
         ]
        },
        {
         "marker": {
          "color": "rgba(255, 128, 2, 0.8)"
         },
         "mode": "markers",
         "name": "Zimbabwe",
         "type": "scatter",
         "x": [
          0.28711575798162836
         ],
         "y": [
          -0.43726053042131646
         ]
        },
        {
         "marker": {
          "color": "rgba(255, 128, 2, 0.8)"
         },
         "mode": "markers",
         "name": "Zimbabwe",
         "type": "scatter",
         "x": [
          1.6158657315146283
         ],
         "y": [
          -0.9037380922252499
         ]
        }
       ],
       "layout": {
        "autosize": true,
        "template": {
         "data": {
          "bar": [
           {
            "error_x": {
             "color": "#2a3f5f"
            },
            "error_y": {
             "color": "#2a3f5f"
            },
            "marker": {
             "line": {
              "color": "#E5ECF6",
              "width": 0.5
             },
             "pattern": {
              "fillmode": "overlay",
              "size": 10,
              "solidity": 0.2
             }
            },
            "type": "bar"
           }
          ],
          "barpolar": [
           {
            "marker": {
             "line": {
              "color": "#E5ECF6",
              "width": 0.5
             },
             "pattern": {
              "fillmode": "overlay",
              "size": 10,
              "solidity": 0.2
             }
            },
            "type": "barpolar"
           }
          ],
          "carpet": [
           {
            "aaxis": {
             "endlinecolor": "#2a3f5f",
             "gridcolor": "white",
             "linecolor": "white",
             "minorgridcolor": "white",
             "startlinecolor": "#2a3f5f"
            },
            "baxis": {
             "endlinecolor": "#2a3f5f",
             "gridcolor": "white",
             "linecolor": "white",
             "minorgridcolor": "white",
             "startlinecolor": "#2a3f5f"
            },
            "type": "carpet"
           }
          ],
          "choropleth": [
           {
            "colorbar": {
             "outlinewidth": 0,
             "ticks": ""
            },
            "type": "choropleth"
           }
          ],
          "contour": [
           {
            "colorbar": {
             "outlinewidth": 0,
             "ticks": ""
            },
            "colorscale": [
             [
              0,
              "#0d0887"
             ],
             [
              0.1111111111111111,
              "#46039f"
             ],
             [
              0.2222222222222222,
              "#7201a8"
             ],
             [
              0.3333333333333333,
              "#9c179e"
             ],
             [
              0.4444444444444444,
              "#bd3786"
             ],
             [
              0.5555555555555556,
              "#d8576b"
             ],
             [
              0.6666666666666666,
              "#ed7953"
             ],
             [
              0.7777777777777778,
              "#fb9f3a"
             ],
             [
              0.8888888888888888,
              "#fdca26"
             ],
             [
              1,
              "#f0f921"
             ]
            ],
            "type": "contour"
           }
          ],
          "contourcarpet": [
           {
            "colorbar": {
             "outlinewidth": 0,
             "ticks": ""
            },
            "type": "contourcarpet"
           }
          ],
          "heatmap": [
           {
            "colorbar": {
             "outlinewidth": 0,
             "ticks": ""
            },
            "colorscale": [
             [
              0,
              "#0d0887"
             ],
             [
              0.1111111111111111,
              "#46039f"
             ],
             [
              0.2222222222222222,
              "#7201a8"
             ],
             [
              0.3333333333333333,
              "#9c179e"
             ],
             [
              0.4444444444444444,
              "#bd3786"
             ],
             [
              0.5555555555555556,
              "#d8576b"
             ],
             [
              0.6666666666666666,
              "#ed7953"
             ],
             [
              0.7777777777777778,
              "#fb9f3a"
             ],
             [
              0.8888888888888888,
              "#fdca26"
             ],
             [
              1,
              "#f0f921"
             ]
            ],
            "type": "heatmap"
           }
          ],
          "heatmapgl": [
           {
            "colorbar": {
             "outlinewidth": 0,
             "ticks": ""
            },
            "colorscale": [
             [
              0,
              "#0d0887"
             ],
             [
              0.1111111111111111,
              "#46039f"
             ],
             [
              0.2222222222222222,
              "#7201a8"
             ],
             [
              0.3333333333333333,
              "#9c179e"
             ],
             [
              0.4444444444444444,
              "#bd3786"
             ],
             [
              0.5555555555555556,
              "#d8576b"
             ],
             [
              0.6666666666666666,
              "#ed7953"
             ],
             [
              0.7777777777777778,
              "#fb9f3a"
             ],
             [
              0.8888888888888888,
              "#fdca26"
             ],
             [
              1,
              "#f0f921"
             ]
            ],
            "type": "heatmapgl"
           }
          ],
          "histogram": [
           {
            "marker": {
             "pattern": {
              "fillmode": "overlay",
              "size": 10,
              "solidity": 0.2
             }
            },
            "type": "histogram"
           }
          ],
          "histogram2d": [
           {
            "colorbar": {
             "outlinewidth": 0,
             "ticks": ""
            },
            "colorscale": [
             [
              0,
              "#0d0887"
             ],
             [
              0.1111111111111111,
              "#46039f"
             ],
             [
              0.2222222222222222,
              "#7201a8"
             ],
             [
              0.3333333333333333,
              "#9c179e"
             ],
             [
              0.4444444444444444,
              "#bd3786"
             ],
             [
              0.5555555555555556,
              "#d8576b"
             ],
             [
              0.6666666666666666,
              "#ed7953"
             ],
             [
              0.7777777777777778,
              "#fb9f3a"
             ],
             [
              0.8888888888888888,
              "#fdca26"
             ],
             [
              1,
              "#f0f921"
             ]
            ],
            "type": "histogram2d"
           }
          ],
          "histogram2dcontour": [
           {
            "colorbar": {
             "outlinewidth": 0,
             "ticks": ""
            },
            "colorscale": [
             [
              0,
              "#0d0887"
             ],
             [
              0.1111111111111111,
              "#46039f"
             ],
             [
              0.2222222222222222,
              "#7201a8"
             ],
             [
              0.3333333333333333,
              "#9c179e"
             ],
             [
              0.4444444444444444,
              "#bd3786"
             ],
             [
              0.5555555555555556,
              "#d8576b"
             ],
             [
              0.6666666666666666,
              "#ed7953"
             ],
             [
              0.7777777777777778,
              "#fb9f3a"
             ],
             [
              0.8888888888888888,
              "#fdca26"
             ],
             [
              1,
              "#f0f921"
             ]
            ],
            "type": "histogram2dcontour"
           }
          ],
          "mesh3d": [
           {
            "colorbar": {
             "outlinewidth": 0,
             "ticks": ""
            },
            "type": "mesh3d"
           }
          ],
          "parcoords": [
           {
            "line": {
             "colorbar": {
              "outlinewidth": 0,
              "ticks": ""
             }
            },
            "type": "parcoords"
           }
          ],
          "pie": [
           {
            "automargin": true,
            "type": "pie"
           }
          ],
          "scatter": [
           {
            "fillpattern": {
             "fillmode": "overlay",
             "size": 10,
             "solidity": 0.2
            },
            "type": "scatter"
           }
          ],
          "scatter3d": [
           {
            "line": {
             "colorbar": {
              "outlinewidth": 0,
              "ticks": ""
             }
            },
            "marker": {
             "colorbar": {
              "outlinewidth": 0,
              "ticks": ""
             }
            },
            "type": "scatter3d"
           }
          ],
          "scattercarpet": [
           {
            "marker": {
             "colorbar": {
              "outlinewidth": 0,
              "ticks": ""
             }
            },
            "type": "scattercarpet"
           }
          ],
          "scattergeo": [
           {
            "marker": {
             "colorbar": {
              "outlinewidth": 0,
              "ticks": ""
             }
            },
            "type": "scattergeo"
           }
          ],
          "scattergl": [
           {
            "marker": {
             "colorbar": {
              "outlinewidth": 0,
              "ticks": ""
             }
            },
            "type": "scattergl"
           }
          ],
          "scattermapbox": [
           {
            "marker": {
             "colorbar": {
              "outlinewidth": 0,
              "ticks": ""
             }
            },
            "type": "scattermapbox"
           }
          ],
          "scatterpolar": [
           {
            "marker": {
             "colorbar": {
              "outlinewidth": 0,
              "ticks": ""
             }
            },
            "type": "scatterpolar"
           }
          ],
          "scatterpolargl": [
           {
            "marker": {
             "colorbar": {
              "outlinewidth": 0,
              "ticks": ""
             }
            },
            "type": "scatterpolargl"
           }
          ],
          "scatterternary": [
           {
            "marker": {
             "colorbar": {
              "outlinewidth": 0,
              "ticks": ""
             }
            },
            "type": "scatterternary"
           }
          ],
          "surface": [
           {
            "colorbar": {
             "outlinewidth": 0,
             "ticks": ""
            },
            "colorscale": [
             [
              0,
              "#0d0887"
             ],
             [
              0.1111111111111111,
              "#46039f"
             ],
             [
              0.2222222222222222,
              "#7201a8"
             ],
             [
              0.3333333333333333,
              "#9c179e"
             ],
             [
              0.4444444444444444,
              "#bd3786"
             ],
             [
              0.5555555555555556,
              "#d8576b"
             ],
             [
              0.6666666666666666,
              "#ed7953"
             ],
             [
              0.7777777777777778,
              "#fb9f3a"
             ],
             [
              0.8888888888888888,
              "#fdca26"
             ],
             [
              1,
              "#f0f921"
             ]
            ],
            "type": "surface"
           }
          ],
          "table": [
           {
            "cells": {
             "fill": {
              "color": "#EBF0F8"
             },
             "line": {
              "color": "white"
             }
            },
            "header": {
             "fill": {
              "color": "#C8D4E3"
             },
             "line": {
              "color": "white"
             }
            },
            "type": "table"
           }
          ]
         },
         "layout": {
          "annotationdefaults": {
           "arrowcolor": "#2a3f5f",
           "arrowhead": 0,
           "arrowwidth": 1
          },
          "autotypenumbers": "strict",
          "coloraxis": {
           "colorbar": {
            "outlinewidth": 0,
            "ticks": ""
           }
          },
          "colorscale": {
           "diverging": [
            [
             0,
             "#8e0152"
            ],
            [
             0.1,
             "#c51b7d"
            ],
            [
             0.2,
             "#de77ae"
            ],
            [
             0.3,
             "#f1b6da"
            ],
            [
             0.4,
             "#fde0ef"
            ],
            [
             0.5,
             "#f7f7f7"
            ],
            [
             0.6,
             "#e6f5d0"
            ],
            [
             0.7,
             "#b8e186"
            ],
            [
             0.8,
             "#7fbc41"
            ],
            [
             0.9,
             "#4d9221"
            ],
            [
             1,
             "#276419"
            ]
           ],
           "sequential": [
            [
             0,
             "#0d0887"
            ],
            [
             0.1111111111111111,
             "#46039f"
            ],
            [
             0.2222222222222222,
             "#7201a8"
            ],
            [
             0.3333333333333333,
             "#9c179e"
            ],
            [
             0.4444444444444444,
             "#bd3786"
            ],
            [
             0.5555555555555556,
             "#d8576b"
            ],
            [
             0.6666666666666666,
             "#ed7953"
            ],
            [
             0.7777777777777778,
             "#fb9f3a"
            ],
            [
             0.8888888888888888,
             "#fdca26"
            ],
            [
             1,
             "#f0f921"
            ]
           ],
           "sequentialminus": [
            [
             0,
             "#0d0887"
            ],
            [
             0.1111111111111111,
             "#46039f"
            ],
            [
             0.2222222222222222,
             "#7201a8"
            ],
            [
             0.3333333333333333,
             "#9c179e"
            ],
            [
             0.4444444444444444,
             "#bd3786"
            ],
            [
             0.5555555555555556,
             "#d8576b"
            ],
            [
             0.6666666666666666,
             "#ed7953"
            ],
            [
             0.7777777777777778,
             "#fb9f3a"
            ],
            [
             0.8888888888888888,
             "#fdca26"
            ],
            [
             1,
             "#f0f921"
            ]
           ]
          },
          "colorway": [
           "#636efa",
           "#EF553B",
           "#00cc96",
           "#ab63fa",
           "#FFA15A",
           "#19d3f3",
           "#FF6692",
           "#B6E880",
           "#FF97FF",
           "#FECB52"
          ],
          "font": {
           "color": "#2a3f5f"
          },
          "geo": {
           "bgcolor": "white",
           "lakecolor": "white",
           "landcolor": "#E5ECF6",
           "showlakes": true,
           "showland": true,
           "subunitcolor": "white"
          },
          "hoverlabel": {
           "align": "left"
          },
          "hovermode": "closest",
          "mapbox": {
           "style": "light"
          },
          "paper_bgcolor": "white",
          "plot_bgcolor": "#E5ECF6",
          "polar": {
           "angularaxis": {
            "gridcolor": "white",
            "linecolor": "white",
            "ticks": ""
           },
           "bgcolor": "#E5ECF6",
           "radialaxis": {
            "gridcolor": "white",
            "linecolor": "white",
            "ticks": ""
           }
          },
          "scene": {
           "xaxis": {
            "backgroundcolor": "#E5ECF6",
            "gridcolor": "white",
            "gridwidth": 2,
            "linecolor": "white",
            "showbackground": true,
            "ticks": "",
            "zerolinecolor": "white"
           },
           "yaxis": {
            "backgroundcolor": "#E5ECF6",
            "gridcolor": "white",
            "gridwidth": 2,
            "linecolor": "white",
            "showbackground": true,
            "ticks": "",
            "zerolinecolor": "white"
           },
           "zaxis": {
            "backgroundcolor": "#E5ECF6",
            "gridcolor": "white",
            "gridwidth": 2,
            "linecolor": "white",
            "showbackground": true,
            "ticks": "",
            "zerolinecolor": "white"
           }
          },
          "shapedefaults": {
           "line": {
            "color": "#2a3f5f"
           }
          },
          "ternary": {
           "aaxis": {
            "gridcolor": "white",
            "linecolor": "white",
            "ticks": ""
           },
           "baxis": {
            "gridcolor": "white",
            "linecolor": "white",
            "ticks": ""
           },
           "bgcolor": "#E5ECF6",
           "caxis": {
            "gridcolor": "white",
            "linecolor": "white",
            "ticks": ""
           }
          },
          "title": {
           "x": 0.05
          },
          "xaxis": {
           "automargin": true,
           "gridcolor": "white",
           "linecolor": "white",
           "ticks": "",
           "title": {
            "standoff": 15
           },
           "zerolinecolor": "white",
           "zerolinewidth": 2
          },
          "yaxis": {
           "automargin": true,
           "gridcolor": "white",
           "linecolor": "white",
           "ticks": "",
           "title": {
            "standoff": 15
           },
           "zerolinecolor": "white",
           "zerolinewidth": 2
          }
         }
        },
        "title": {
         "text": "Visualizing Clusters in Two Dimensions Using PCA"
        },
        "xaxis": {
         "autorange": true,
         "range": [
          -7.562809564975668,
          6.9976733691523
         ],
         "ticklen": 5,
         "title": {
          "text": "PC1"
         },
         "type": "linear",
         "zeroline": false
        },
        "yaxis": {
         "autorange": true,
         "range": [
          -3.8648299114761073,
          12.238911934092684
         ],
         "ticklen": 5,
         "title": {
          "text": "PC2"
         },
         "type": "linear",
         "zeroline": false
        }
       }
      },
      "image/png": "[encoded data removed]",
      "text/html": [
       "<div>                            <div id=\"db9d1347-4954-4b21-bfd0-e5d4a14818e2\" class=\"plotly-graph-div\" style=\"height:525px; width:100%;\"></div>            <script type=\"text/javascript\">                require([\"plotly\"], function(Plotly) {                    window.PLOTLYENV=window.PLOTLYENV || {};                                    if (document.getElementById(\"db9d1347-4954-4b21-bfd0-e5d4a14818e2\")) {                    Plotly.newPlot(                        \"db9d1347-4954-4b21-bfd0-e5d4a14818e2\",                        [{\"marker\":{\"color\":\"rgba(255, 128, 2, 0.8)\"},\"mode\":\"markers\",\"name\":\"Afghanistan\",\"x\":[3.168327815329737],\"y\":[-0.7432967462045417],\"type\":\"scatter\"},{\"marker\":{\"color\":\"rgba(255, 128, 2, 0.8)\"},\"mode\":\"markers\",\"name\":\"Afghanistan\",\"x\":[0.8637690774296529],\"y\":[-1.1186076298020353],\"type\":\"scatter\"},{\"marker\":{\"color\":\"rgba(255, 128, 255, 0.8)\"},\"mode\":\"markers\",\"name\":\"Albania\",\"x\":[-2.0397487152694556],\"y\":[0.8563788067799941],\"type\":\"scatter\"},{\"marker\":{\"color\":\"rgba(255, 128, 255, 0.8)\"},\"mode\":\"markers\",\"name\":\"Argentina\",\"x\":[-2.8691900782570094],\"y\":[-1.9965095558863204],\"type\":\"scatter\"},{\"marker\":{\"color\":\"rgba(255, 128, 255, 0.8)\"},\"mode\":\"markers\",\"name\":\"Argentina\",\"x\":[-1.9907377741188903],\"y\":[0.6878273250400234],\"type\":\"scatter\"},{\"marker\":{\"color\":\"rgba(255, 128, 255, 0.8)\"},\"mode\":\"markers\",\"name\":\"Argentina\",\"x\":[-2.972931840422325],\"y\":[-1.4989716412024863],\"type\":\"scatter\"},{\"marker\":{\"color\":\"rgba(255, 128, 2, 0.8)\"},\"mode\":\"markers\",\"name\":\"Argentina\",\"x\":[0.9721970721288963],\"y\":[0.04533696704709073],\"type\":\"scatter\"},{\"marker\":{\"color\":\"rgba(255, 128, 255, 0.8)\"},\"mode\":\"markers\",\"name\":\"Armenia\",\"x\":[-1.9509281751638607],\"y\":[0.5369972734578448],\"type\":\"scatter\"},{\"marker\":{\"color\":\"rgba(255, 128, 2, 0.8)\"},\"mode\":\"markers\",\"name\":\"Armenia\",\"x\":[0.5233651821568894],\"y\":[-0.6794037219640571],\"type\":\"scatter\"},{\"marker\":{\"color\":\"rgba(255, 128, 2, 0.8)\"},\"mode\":\"markers\",\"name\":\"Armenia\",\"x\":[2.678068298859867],\"y\":[-0.4719021009800076],\"type\":\"scatter\"},{\"marker\":{\"color\":\"rgba(255, 128, 2, 0.8)\"},\"mode\":\"markers\",\"name\":\"Australia\",\"x\":[3.6723028812702476],\"y\":[-0.5410464583612555],\"type\":\"scatter\"},{\"marker\":{\"color\":\"rgba(255, 128, 2, 0.8)\"},\"mode\":\"markers\",\"name\":\"Australia\",\"x\":[1.74152799585739],\"y\":[-0.36802424723409455],\"type\":\"scatter\"},{\"marker\":{\"color\":\"rgba(255, 128, 2, 0.8)\"},\"mode\":\"markers\",\"name\":\"Australia\",\"x\":[3.160951544052967],\"y\":[1.9145657967566405],\"type\":\"scatter\"},{\"marker\":{\"color\":\"rgba(255, 128, 2, 0.8)\"},\"mode\":\"markers\",\"name\":\"Australia\",\"x\":[0.5949146405172901],\"y\":[-0.6801365403538339],\"type\":\"scatter\"},{\"marker\":{\"color\":\"rgba(255, 128, 255, 0.8)\"},\"mode\":\"markers\",\"name\":\"Austria\",\"x\":[-4.293521687653266],\"y\":[-0.40239520719995076],\"type\":\"scatter\"},{\"marker\":{\"color\":\"rgba(255, 128, 2, 0.8)\"},\"mode\":\"markers\",\"name\":\"Austria\",\"x\":[4.157303551833626],\"y\":[-1.2344060819679008],\"type\":\"scatter\"},{\"marker\":{\"color\":\"rgba(255, 128, 255, 0.8)\"},\"mode\":\"markers\",\"name\":\"Austria\",\"x\":[-0.9437844473429581],\"y\":[-0.49633851401271567],\"type\":\"scatter\"},{\"marker\":{\"color\":\"rgba(255, 128, 2, 0.8)\"},\"mode\":\"markers\",\"name\":\"Austria\",\"x\":[3.517970512678812],\"y\":[-1.0764817421596977],\"type\":\"scatter\"},{\"marker\":{\"color\":\"rgba(255, 128, 2, 0.8)\"},\"mode\":\"markers\",\"name\":\"Azerbaijan\",\"x\":[3.5598964925542482],\"y\":[-0.2619268704656154],\"type\":\"scatter\"},{\"marker\":{\"color\":\"rgba(255, 128, 2, 0.8)\"},\"mode\":\"markers\",\"name\":\"The Bahamas\",\"x\":[4.9128152325756895],\"y\":[-1.2859007687463806],\"type\":\"scatter\"},{\"marker\":{\"color\":\"rgba(255, 128, 255, 0.8)\"},\"mode\":\"markers\",\"name\":\"The Bahamas\",\"x\":[-2.672074663829871],\"y\":[-0.08347032103267987],\"type\":\"scatter\"},{\"marker\":{\"color\":\"rgba(255, 128, 255, 0.8)\"},\"mode\":\"markers\",\"name\":\"Bangladesh\",\"x\":[-3.2181382581550033],\"y\":[-0.18633716047970791],\"type\":\"scatter\"},{\"marker\":{\"color\":\"rgba(255, 128, 255, 0.8)\"},\"mode\":\"markers\",\"name\":\"Bangladesh\",\"x\":[-2.749671341920564],\"y\":[-1.0887533805936862],\"type\":\"scatter\"},{\"marker\":{\"color\":\"rgba(255, 128, 2, 0.8)\"},\"mode\":\"markers\",\"name\":\"Belarus\",\"x\":[1.8238435257136147],\"y\":[-0.9513821150884527],\"type\":\"scatter\"},{\"marker\":{\"color\":\"rgba(255, 128, 255, 0.8)\"},\"mode\":\"markers\",\"name\":\"Belarus\",\"x\":[-2.102145286836269],\"y\":[1.6783465116723086],\"type\":\"scatter\"},{\"marker\":{\"color\":\"rgba(255, 128, 255, 0.8)\"},\"mode\":\"markers\",\"name\":\"Belarus\",\"x\":[-2.2829880158297153],\"y\":[-1.3372294650474486],\"type\":\"scatter\"},{\"marker\":{\"color\":\"rgba(255, 128, 2, 0.8)\"},\"mode\":\"markers\",\"name\":\"Belarus\",\"x\":[1.9894168748323136],\"y\":[-0.15201295580791976],\"type\":\"scatter\"},{\"marker\":{\"color\":\"rgba(255, 128, 2, 0.8)\"},\"mode\":\"markers\",\"name\":\"Belgium\",\"x\":[3.5321164450453457],\"y\":[0.35053971821532587],\"type\":\"scatter\"},{\"marker\":{\"color\":\"rgba(255, 128, 2, 0.8)\"},\"mode\":\"markers\",\"name\":\"Belgium\",\"x\":[4.084921832659713],\"y\":[-1.1160114650468362],\"type\":\"scatter\"},{\"marker\":{\"color\":\"rgba(255, 128, 2, 0.8)\"},\"mode\":\"markers\",\"name\":\"Belgium\",\"x\":[1.0050251693229584],\"y\":[-1.0447195609061828],\"type\":\"scatter\"},{\"marker\":{\"color\":\"rgba(255, 128, 2, 0.8)\"},\"mode\":\"markers\",\"name\":\"Belgium\",\"x\":[1.1902557159257208],\"y\":[-0.037980550622645014],\"type\":\"scatter\"},{\"marker\":{\"color\":\"rgba(255, 128, 255, 0.8)\"},\"mode\":\"markers\",\"name\":\"Belize\",\"x\":[-2.2379823329218245],\"y\":[-0.10198489811457521],\"type\":\"scatter\"},{\"marker\":{\"color\":\"rgba(255, 128, 255, 0.8)\"},\"mode\":\"markers\",\"name\":\"Belize\",\"x\":[-2.6833562375495497],\"y\":[0.2358049616128557],\"type\":\"scatter\"},{\"marker\":{\"color\":\"rgba(255, 128, 2, 0.8)\"},\"mode\":\"markers\",\"name\":\"Belize\",\"x\":[3.3190258897213476],\"y\":[1.2451727387674087],\"type\":\"scatter\"},{\"marker\":{\"color\":\"rgba(255, 128, 255, 0.8)\"},\"mode\":\"markers\",\"name\":\"Belize\",\"x\":[-2.3903971914432733],\"y\":[1.1932978847050957],\"type\":\"scatter\"},{\"marker\":{\"color\":\"rgba(255, 128, 255, 0.8)\"},\"mode\":\"markers\",\"name\":\"Bosnia and Herzegovina\",\"x\":[-0.3625999353519882],\"y\":[-1.4368342053761634],\"type\":\"scatter\"},{\"marker\":{\"color\":\"rgba(255, 128, 255, 0.8)\"},\"mode\":\"markers\",\"name\":\"Bosnia and Herzegovina\",\"x\":[-3.814023640618078],\"y\":[-0.480820584269383],\"type\":\"scatter\"},{\"marker\":{\"color\":\"rgba(255, 128, 255, 0.8)\"},\"mode\":\"markers\",\"name\":\"Bosnia and Herzegovina\",\"x\":[-1.4006248513328878],\"y\":[0.4189564462895285],\"type\":\"scatter\"},{\"marker\":{\"color\":\"rgba(255, 128, 255, 0.8)\"},\"mode\":\"markers\",\"name\":\"Botswana\",\"x\":[-2.0229832258002607],\"y\":[-0.020442151853053578],\"type\":\"scatter\"},{\"marker\":{\"color\":\"rgba(255, 128, 255, 0.8)\"},\"mode\":\"markers\",\"name\":\"Brazil\",\"x\":[-2.4669977818840074],\"y\":[-1.1468029604692922],\"type\":\"scatter\"},{\"marker\":{\"color\":\"rgba(255, 128, 255, 0.8)\"},\"mode\":\"markers\",\"name\":\"Brazil\",\"x\":[-2.942278984780004],\"y\":[0.5884059022307278],\"type\":\"scatter\"},{\"marker\":{\"color\":\"rgba(255, 128, 2, 0.8)\"},\"mode\":\"markers\",\"name\":\"Brazil\",\"x\":[3.475577122375078],\"y\":[0.4218093515650199],\"type\":\"scatter\"},{\"marker\":{\"color\":\"rgba(255, 128, 2, 0.8)\"},\"mode\":\"markers\",\"name\":\"Brazil\",\"x\":[4.432619281997838],\"y\":[0.5191361191227309],\"type\":\"scatter\"},{\"marker\":{\"color\":\"rgba(255, 128, 255, 0.8)\"},\"mode\":\"markers\",\"name\":\"British Virgin Islands\",\"x\":[-4.818445752960172],\"y\":[-0.6576835333591389],\"type\":\"scatter\"},{\"marker\":{\"color\":\"rgba(255, 128, 255, 0.8)\"},\"mode\":\"markers\",\"name\":\"British Virgin Islands\",\"x\":[-1.3056898032276443],\"y\":[0.33118014269006546],\"type\":\"scatter\"},{\"marker\":{\"color\":\"rgba(255, 128, 2, 0.8)\"},\"mode\":\"markers\",\"name\":\"British Virgin Islands\",\"x\":[1.2091561884166449],\"y\":[-0.6758958461495639],\"type\":\"scatter\"},{\"marker\":{\"color\":\"rgba(255, 128, 255, 0.8)\"},\"mode\":\"markers\",\"name\":\"British Virgin Islands\",\"x\":[-2.924247654550116],\"y\":[-2.100798795315068],\"type\":\"scatter\"},{\"marker\":{\"color\":\"rgba(255, 128, 255, 0.8)\"},\"mode\":\"markers\",\"name\":\"Bulgaria\",\"x\":[-2.323961290086536],\"y\":[-0.2789922109767559],\"type\":\"scatter\"},{\"marker\":{\"color\":\"rgba(255, 128, 255, 0.8)\"},\"mode\":\"markers\",\"name\":\"Bulgaria\",\"x\":[-0.9018872416257068],\"y\":[-0.5093090593658185],\"type\":\"scatter\"},{\"marker\":{\"color\":\"rgba(255, 128, 255, 0.8)\"},\"mode\":\"markers\",\"name\":\"Bulgaria\",\"x\":[-0.3334246607409416],\"y\":[0.19413947944381824],\"type\":\"scatter\"},{\"marker\":{\"color\":\"rgba(255, 128, 255, 0.8)\"},\"mode\":\"markers\",\"name\":\"Bulgaria\",\"x\":[-2.517470403970857],\"y\":[0.8018531899810303],\"type\":\"scatter\"},{\"marker\":{\"color\":\"rgba(255, 128, 255, 0.8)\"},\"mode\":\"markers\",\"name\":\"Cambodia\",\"x\":[-3.355083555049063],\"y\":[0.3368951902930369],\"type\":\"scatter\"},{\"marker\":{\"color\":\"rgba(255, 128, 255, 0.8)\"},\"mode\":\"markers\",\"name\":\"Cambodia\",\"x\":[-2.3958147312742755],\"y\":[-0.11794228709216065],\"type\":\"scatter\"},{\"marker\":{\"color\":\"rgba(255, 128, 2, 0.8)\"},\"mode\":\"markers\",\"name\":\"Cameroon\",\"x\":[0.441765251169458],\"y\":[0.3320110909995727],\"type\":\"scatter\"},{\"marker\":{\"color\":\"rgba(255, 128, 255, 0.8)\"},\"mode\":\"markers\",\"name\":\"Cameroon\",\"x\":[-4.871637872360795],\"y\":[0.27334092568444274],\"type\":\"scatter\"},{\"marker\":{\"color\":\"rgba(255, 128, 2, 0.8)\"},\"mode\":\"markers\",\"name\":\"Canada\",\"x\":[2.537276540276398],\"y\":[-0.5299409298985461],\"type\":\"scatter\"},{\"marker\":{\"color\":\"rgba(255, 128, 2, 0.8)\"},\"mode\":\"markers\",\"name\":\"Canada\",\"x\":[4.117783368532887],\"y\":[-1.6526203241537358],\"type\":\"scatter\"},{\"marker\":{\"color\":\"rgba(255, 128, 2, 0.8)\"},\"mode\":\"markers\",\"name\":\"Canada\",\"x\":[3.612965255014185],\"y\":[-0.6807546114024997],\"type\":\"scatter\"},{\"marker\":{\"color\":\"rgba(255, 128, 2, 0.8)\"},\"mode\":\"markers\",\"name\":\"Canada\",\"x\":[1.6376469177503403],\"y\":[-0.3134275665793767],\"type\":\"scatter\"},{\"marker\":{\"color\":\"rgba(255, 128, 255, 0.8)\"},\"mode\":\"markers\",\"name\":\"Cayman Islands\",\"x\":[-2.506522743157457],\"y\":[-0.8915608692470146],\"type\":\"scatter\"},{\"marker\":{\"color\":\"rgba(255, 128, 255, 0.8)\"},\"mode\":\"markers\",\"name\":\"Cayman Islands\",\"x\":[-0.22655874509315566],\"y\":[-0.4042250926892636],\"type\":\"scatter\"},{\"marker\":{\"color\":\"rgba(255, 128, 2, 0.8)\"},\"mode\":\"markers\",\"name\":\"Cayman Islands\",\"x\":[1.4602309426517537],\"y\":[-0.6787478564663915],\"type\":\"scatter\"},{\"marker\":{\"color\":\"rgba(255, 128, 255, 0.8)\"},\"mode\":\"markers\",\"name\":\"Cayman Islands\",\"x\":[-5.076698981095328],\"y\":[-0.6734860103189607],\"type\":\"scatter\"},{\"marker\":{\"color\":\"rgba(255, 128, 2, 0.8)\"},\"mode\":\"markers\",\"name\":\"Chile\",\"x\":[2.537318213793625],\"y\":[-0.4974927339219101],\"type\":\"scatter\"},{\"marker\":{\"color\":\"rgba(255, 128, 2, 0.8)\"},\"mode\":\"markers\",\"name\":\"Chile\",\"x\":[1.524428419834136],\"y\":[-0.8730561839127919],\"type\":\"scatter\"},{\"marker\":{\"color\":\"rgba(255, 128, 2, 0.8)\"},\"mode\":\"markers\",\"name\":\"Chile\",\"x\":[4.198222269327438],\"y\":[-0.5145013853553985],\"type\":\"scatter\"},{\"marker\":{\"color\":\"rgba(255, 128, 2, 0.8)\"},\"mode\":\"markers\",\"name\":\"China\",\"x\":[3.2802193407582467],\"y\":[5.5377390435912295],\"type\":\"scatter\"},{\"marker\":{\"color\":\"rgba(255, 128, 255, 0.8)\"},\"mode\":\"markers\",\"name\":\"China\",\"x\":[-1.4504874283251905],\"y\":[0.3774084433300495],\"type\":\"scatter\"},{\"marker\":{\"color\":\"rgba(255, 128, 2, 0.8)\"},\"mode\":\"markers\",\"name\":\"China\",\"x\":[4.207778768914727],\"y\":[-0.1683042715376257],\"type\":\"scatter\"},{\"marker\":{\"color\":\"rgba(255, 128, 255, 0.8)\"},\"mode\":\"markers\",\"name\":\"China\",\"x\":[-1.7864306894843096],\"y\":[0.8974068916177017],\"type\":\"scatter\"},{\"marker\":{\"color\":\"rgba(255, 128, 2, 0.8)\"},\"mode\":\"markers\",\"name\":\"Colombia\",\"x\":[4.053272403028875],\"y\":[-1.2329452514501786],\"type\":\"scatter\"},{\"marker\":{\"color\":\"rgba(255, 128, 255, 0.8)\"},\"mode\":\"markers\",\"name\":\"Colombia\",\"x\":[-2.2153433220556287],\"y\":[0.011479140653857791],\"type\":\"scatter\"},{\"marker\":{\"color\":\"rgba(255, 128, 2, 0.8)\"},\"mode\":\"markers\",\"name\":\"Colombia\",\"x\":[0.7944230151409621],\"y\":[-0.34696097123034114],\"type\":\"scatter\"},{\"marker\":{\"color\":\"rgba(255, 128, 255, 0.8)\"},\"mode\":\"markers\",\"name\":\"Costa Rica\",\"x\":[-5.834841738535186],\"y\":[0.3375322880186255],\"type\":\"scatter\"},{\"marker\":{\"color\":\"rgba(255, 128, 255, 0.8)\"},\"mode\":\"markers\",\"name\":\"Costa Rica\",\"x\":[-1.0667303222683695],\"y\":[-0.5225057150081723],\"type\":\"scatter\"},{\"marker\":{\"color\":\"rgba(255, 128, 2, 0.8)\"},\"mode\":\"markers\",\"name\":\"Costa Rica\",\"x\":[4.031797361309157],\"y\":[6.631648424573802],\"type\":\"scatter\"},{\"marker\":{\"color\":\"rgba(255, 128, 255, 0.8)\"},\"mode\":\"markers\",\"name\":\"Costa Rica\",\"x\":[-1.2113427051554675],\"y\":[-0.9103869182243178],\"type\":\"scatter\"},{\"marker\":{\"color\":\"rgba(255, 128, 255, 0.8)\"},\"mode\":\"markers\",\"name\":\"Croatia\",\"x\":[-0.44075316598542247],\"y\":[0.06718325970366042],\"type\":\"scatter\"},{\"marker\":{\"color\":\"rgba(255, 128, 2, 0.8)\"},\"mode\":\"markers\",\"name\":\"Croatia\",\"x\":[0.7968575821784848],\"y\":[-0.32148671825731695],\"type\":\"scatter\"},{\"marker\":{\"color\":\"rgba(255, 128, 255, 0.8)\"},\"mode\":\"markers\",\"name\":\"Cyprus\",\"x\":[-3.7256365648592533],\"y\":[-0.6474845571110883],\"type\":\"scatter\"},{\"marker\":{\"color\":\"rgba(255, 128, 255, 0.8)\"},\"mode\":\"markers\",\"name\":\"Cyprus\",\"x\":[-0.03501256105291873],\"y\":[-0.020536956058493115],\"type\":\"scatter\"},{\"marker\":{\"color\":\"rgba(255, 128, 2, 0.8)\"},\"mode\":\"markers\",\"name\":\"Cyprus\",\"x\":[1.5865290287759102],\"y\":[0.041646015599435114],\"type\":\"scatter\"},{\"marker\":{\"color\":\"rgba(255, 128, 255, 0.8)\"},\"mode\":\"markers\",\"name\":\"Cyprus\",\"x\":[-5.195548056606714],\"y\":[0.16260597490566212],\"type\":\"scatter\"},{\"marker\":{\"color\":\"rgba(255, 128, 255, 0.8)\"},\"mode\":\"markers\",\"name\":\"Czech Republic\",\"x\":[-2.0491786981899347],\"y\":[2.170137246211972],\"type\":\"scatter\"},{\"marker\":{\"color\":\"rgba(255, 128, 2, 0.8)\"},\"mode\":\"markers\",\"name\":\"Czech Republic\",\"x\":[3.524673010378969],\"y\":[-1.006290190282341],\"type\":\"scatter\"},{\"marker\":{\"color\":\"rgba(255, 128, 255, 0.8)\"},\"mode\":\"markers\",\"name\":\"Czech Republic\",\"x\":[0.131003283790908],\"y\":[-0.6585406899235827],\"type\":\"scatter\"},{\"marker\":{\"color\":\"rgba(255, 128, 255, 0.8)\"},\"mode\":\"markers\",\"name\":\"Czech Republic\",\"x\":[-1.9874195459993178],\"y\":[1.0089717370327513],\"type\":\"scatter\"},{\"marker\":{\"color\":\"rgba(255, 128, 2, 0.8)\"},\"mode\":\"markers\",\"name\":\"Denmark\",\"x\":[3.4236946154317027],\"y\":[-0.8122475221607506],\"type\":\"scatter\"},{\"marker\":{\"color\":\"rgba(255, 128, 255, 0.8)\"},\"mode\":\"markers\",\"name\":\"Denmark\",\"x\":[-1.6421051450564217],\"y\":[-0.08806253607815381],\"type\":\"scatter\"},{\"marker\":{\"color\":\"rgba(255, 128, 255, 0.8)\"},\"mode\":\"markers\",\"name\":\"Denmark\",\"x\":[-0.7543165610237879],\"y\":[11.007604721725361],\"type\":\"scatter\"},{\"marker\":{\"color\":\"rgba(255, 128, 2, 0.8)\"},\"mode\":\"markers\",\"name\":\"Dominican Republic\",\"x\":[4.34415586496777],\"y\":[-0.02878011479152284],\"type\":\"scatter\"},{\"marker\":{\"color\":\"rgba(255, 128, 2, 0.8)\"},\"mode\":\"markers\",\"name\":\"Dominican Republic\",\"x\":[1.3570626038947695],\"y\":[-0.8045003128666619],\"type\":\"scatter\"},{\"marker\":{\"color\":\"rgba(255, 128, 255, 0.8)\"},\"mode\":\"markers\",\"name\":\"Ecuador\",\"x\":[-0.4189099255328675],\"y\":[0.1213977332599792],\"type\":\"scatter\"},{\"marker\":{\"color\":\"rgba(255, 128, 255, 0.8)\"},\"mode\":\"markers\",\"name\":\"Ecuador\",\"x\":[-0.3729143875203704],\"y\":[-1.210110726632943],\"type\":\"scatter\"},{\"marker\":{\"color\":\"rgba(255, 128, 255, 0.8)\"},\"mode\":\"markers\",\"name\":\"Egypt\",\"x\":[-2.266243246342181],\"y\":[-0.8358469593882178],\"type\":\"scatter\"},{\"marker\":{\"color\":\"rgba(255, 128, 2, 0.8)\"},\"mode\":\"markers\",\"name\":\"Egypt\",\"x\":[0.16356256211131198],\"y\":[-2.7241481974149844],\"type\":\"scatter\"},{\"marker\":{\"color\":\"rgba(255, 128, 2, 0.8)\"},\"mode\":\"markers\",\"name\":\"Egypt\",\"x\":[1.9733775139827248],\"y\":[-0.7549079898482323],\"type\":\"scatter\"},{\"marker\":{\"color\":\"rgba(255, 128, 2, 0.8)\"},\"mode\":\"markers\",\"name\":\"Estonia\",\"x\":[3.4775414444369224],\"y\":[-0.591846301198525],\"type\":\"scatter\"},{\"marker\":{\"color\":\"rgba(255, 128, 255, 0.8)\"},\"mode\":\"markers\",\"name\":\"Estonia\",\"x\":[-3.1969039822114342],\"y\":[0.693761883813678],\"type\":\"scatter\"},{\"marker\":{\"color\":\"rgba(255, 128, 255, 0.8)\"},\"mode\":\"markers\",\"name\":\"Estonia\",\"x\":[-2.0856609546579694],\"y\":[0.9286908026627531],\"type\":\"scatter\"},{\"marker\":{\"color\":\"rgba(255, 128, 2, 0.8)\"},\"mode\":\"markers\",\"name\":\"Estonia\",\"x\":[0.7775842962932344],\"y\":[-1.1547525052203376],\"type\":\"scatter\"},{\"marker\":{\"color\":\"rgba(255, 128, 2, 0.8)\"},\"mode\":\"markers\",\"name\":\"Finland\",\"x\":[1.338593242318051],\"y\":[-0.5475524762095296],\"type\":\"scatter\"},{\"marker\":{\"color\":\"rgba(255, 128, 255, 0.8)\"},\"mode\":\"markers\",\"name\":\"Finland\",\"x\":[-1.6390005072138722],\"y\":[0.20400984956484935],\"type\":\"scatter\"},{\"marker\":{\"color\":\"rgba(255, 128, 2, 0.8)\"},\"mode\":\"markers\",\"name\":\"France\",\"x\":[4.073626696279123],\"y\":[-1.371811856555015],\"type\":\"scatter\"},{\"marker\":{\"color\":\"rgba(255, 128, 2, 0.8)\"},\"mode\":\"markers\",\"name\":\"France\",\"x\":[1.9182308296223765],\"y\":[-0.8722426648075108],\"type\":\"scatter\"},{\"marker\":{\"color\":\"rgba(255, 128, 2, 0.8)\"},\"mode\":\"markers\",\"name\":\"France\",\"x\":[0.8938509116333623],\"y\":[-1.282892905660747],\"type\":\"scatter\"},{\"marker\":{\"color\":\"rgba(255, 128, 2, 0.8)\"},\"mode\":\"markers\",\"name\":\"France\",\"x\":[1.405220679235924],\"y\":[-0.3923052340050862],\"type\":\"scatter\"},{\"marker\":{\"color\":\"rgba(255, 128, 255, 0.8)\"},\"mode\":\"markers\",\"name\":\"Georgia\",\"x\":[-1.3065747647615988],\"y\":[-0.7492740540912998],\"type\":\"scatter\"},{\"marker\":{\"color\":\"rgba(255, 128, 2, 0.8)\"},\"mode\":\"markers\",\"name\":\"Georgia\",\"x\":[1.9576595187127985],\"y\":[-1.143703097400338],\"type\":\"scatter\"},{\"marker\":{\"color\":\"rgba(255, 128, 255, 0.8)\"},\"mode\":\"markers\",\"name\":\"Georgia\",\"x\":[-0.9148509244764366],\"y\":[-0.5302617652950291],\"type\":\"scatter\"},{\"marker\":{\"color\":\"rgba(255, 128, 2, 0.8)\"},\"mode\":\"markers\",\"name\":\"Georgia\",\"x\":[1.7352082352334859],\"y\":[-0.3520836475295971],\"type\":\"scatter\"},{\"marker\":{\"color\":\"rgba(255, 128, 2, 0.8)\"},\"mode\":\"markers\",\"name\":\"Germany\",\"x\":[1.3401800283710381],\"y\":[-0.7173293135606221],\"type\":\"scatter\"},{\"marker\":{\"color\":\"rgba(255, 128, 255, 0.8)\"},\"mode\":\"markers\",\"name\":\"Germany\",\"x\":[-1.4597130694135299],\"y\":[3.5729075211985384],\"type\":\"scatter\"},{\"marker\":{\"color\":\"rgba(255, 128, 255, 0.8)\"},\"mode\":\"markers\",\"name\":\"Germany\",\"x\":[-3.1867534719342534],\"y\":[0.9475386503546636],\"type\":\"scatter\"},{\"marker\":{\"color\":\"rgba(255, 128, 2, 0.8)\"},\"mode\":\"markers\",\"name\":\"Germany\",\"x\":[1.2932052011985984],\"y\":[-0.8434956433823794],\"type\":\"scatter\"},{\"marker\":{\"color\":\"rgba(255, 128, 255, 0.8)\"},\"mode\":\"markers\",\"name\":\"Ghana\",\"x\":[-1.1058246919893275],\"y\":[0.8905591647539765],\"type\":\"scatter\"},{\"marker\":{\"color\":\"rgba(255, 128, 255, 0.8)\"},\"mode\":\"markers\",\"name\":\"Ghana\",\"x\":[-1.2313681596084527],\"y\":[0.25263028619200906],\"type\":\"scatter\"},{\"marker\":{\"color\":\"rgba(255, 128, 2, 0.8)\"},\"mode\":\"markers\",\"name\":\"Gibraltar\",\"x\":[5.6852750133743095],\"y\":[3.3598495346982746],\"type\":\"scatter\"},{\"marker\":{\"color\":\"rgba(255, 128, 255, 0.8)\"},\"mode\":\"markers\",\"name\":\"Gibraltar\",\"x\":[-2.363076135549847],\"y\":[-0.30150161312656165],\"type\":\"scatter\"},{\"marker\":{\"color\":\"rgba(255, 128, 2, 0.8)\"},\"mode\":\"markers\",\"name\":\"Gibraltar\",\"x\":[0.8616780950536057],\"y\":[-0.25142951307806677],\"type\":\"scatter\"},{\"marker\":{\"color\":\"rgba(255, 128, 2, 0.8)\"},\"mode\":\"markers\",\"name\":\"Gibraltar\",\"x\":[1.4415633604520017],\"y\":[-0.47527832246144397],\"type\":\"scatter\"},{\"marker\":{\"color\":\"rgba(255, 128, 2, 0.8)\"},\"mode\":\"markers\",\"name\":\"Greece\",\"x\":[4.133604132432981],\"y\":[-0.24167625951572463],\"type\":\"scatter\"},{\"marker\":{\"color\":\"rgba(255, 128, 2, 0.8)\"},\"mode\":\"markers\",\"name\":\"Greece\",\"x\":[4.936906929544343],\"y\":[-1.0037421673941767],\"type\":\"scatter\"},{\"marker\":{\"color\":\"rgba(255, 128, 2, 0.8)\"},\"mode\":\"markers\",\"name\":\"Greece\",\"x\":[3.1584396055097073],\"y\":[-0.014074904205956215],\"type\":\"scatter\"},{\"marker\":{\"color\":\"rgba(255, 128, 2, 0.8)\"},\"mode\":\"markers\",\"name\":\"Greece\",\"x\":[1.6458062677420193],\"y\":[-0.57443599983064],\"type\":\"scatter\"},{\"marker\":{\"color\":\"rgba(255, 128, 255, 0.8)\"},\"mode\":\"markers\",\"name\":\"Guinea-Bissau\",\"x\":[-1.6422817681718846],\"y\":[0.23509026759647683],\"type\":\"scatter\"},{\"marker\":{\"color\":\"rgba(255, 128, 255, 0.8)\"},\"mode\":\"markers\",\"name\":\"China Hong Kong SAR\",\"x\":[-4.285456333916899],\"y\":[-0.20055233914554585],\"type\":\"scatter\"},{\"marker\":{\"color\":\"rgba(255, 128, 2, 0.8)\"},\"mode\":\"markers\",\"name\":\"China Hong Kong SAR\",\"x\":[2.0743547567398317],\"y\":[-0.6276349357894675],\"type\":\"scatter\"},{\"marker\":{\"color\":\"rgba(255, 128, 255, 0.8)\"},\"mode\":\"markers\",\"name\":\"China Hong Kong SAR\",\"x\":[-0.40555682550816385],\"y\":[-1.4337760937994428],\"type\":\"scatter\"},{\"marker\":{\"color\":\"rgba(255, 128, 2, 0.8)\"},\"mode\":\"markers\",\"name\":\"China Hong Kong SAR\",\"x\":[4.0813206349835935],\"y\":[0.2522773367673093],\"type\":\"scatter\"},{\"marker\":{\"color\":\"rgba(255, 128, 2, 0.8)\"},\"mode\":\"markers\",\"name\":\"Hungary\",\"x\":[4.8653982248230205],\"y\":[0.683100103652379],\"type\":\"scatter\"},{\"marker\":{\"color\":\"rgba(255, 128, 255, 0.8)\"},\"mode\":\"markers\",\"name\":\"Hungary\",\"x\":[-0.8791022952508797],\"y\":[-0.26028049124238645],\"type\":\"scatter\"},{\"marker\":{\"color\":\"rgba(255, 128, 255, 0.8)\"},\"mode\":\"markers\",\"name\":\"Iceland\",\"x\":[-0.6367241597509522],\"y\":[11.098230220031562],\"type\":\"scatter\"},{\"marker\":{\"color\":\"rgba(255, 128, 2, 0.8)\"},\"mode\":\"markers\",\"name\":\"India\",\"x\":[2.5472199010345773],\"y\":[-0.4153872576844571],\"type\":\"scatter\"},{\"marker\":{\"color\":\"rgba(255, 128, 2, 0.8)\"},\"mode\":\"markers\",\"name\":\"India\",\"x\":[2.7688663665633957],\"y\":[-0.28843746392651076],\"type\":\"scatter\"},{\"marker\":{\"color\":\"rgba(255, 128, 255, 0.8)\"},\"mode\":\"markers\",\"name\":\"India\",\"x\":[-0.6260779872181719],\"y\":[-0.14706158251456283],\"type\":\"scatter\"},{\"marker\":{\"color\":\"rgba(255, 128, 255, 0.8)\"},\"mode\":\"markers\",\"name\":\"India\",\"x\":[-1.8553975112586345],\"y\":[0.9788071190221046],\"type\":\"scatter\"},{\"marker\":{\"color\":\"rgba(255, 128, 2, 0.8)\"},\"mode\":\"markers\",\"name\":\"Indonesia\",\"x\":[2.4639806320243585],\"y\":[-0.5357815802577675],\"type\":\"scatter\"},{\"marker\":{\"color\":\"rgba(255, 128, 255, 0.8)\"},\"mode\":\"markers\",\"name\":\"Indonesia\",\"x\":[-1.807824669481021],\"y\":[0.8402034963724067],\"type\":\"scatter\"},{\"marker\":{\"color\":\"rgba(255, 128, 255, 0.8)\"},\"mode\":\"markers\",\"name\":\"Indonesia\",\"x\":[-2.0622376207049493],\"y\":[0.9555443147804318],\"type\":\"scatter\"},{\"marker\":{\"color\":\"rgba(255, 128, 2, 0.8)\"},\"mode\":\"markers\",\"name\":\"Indonesia\",\"x\":[0.32821098021425205],\"y\":[-0.4025282124215325],\"type\":\"scatter\"},{\"marker\":{\"color\":\"rgba(255, 128, 2, 0.8)\"},\"mode\":\"markers\",\"name\":\"Ireland\",\"x\":[3.6086896570942497],\"y\":[-1.0562440080189799],\"type\":\"scatter\"},{\"marker\":{\"color\":\"rgba(255, 128, 255, 0.8)\"},\"mode\":\"markers\",\"name\":\"Ireland\",\"x\":[-4.8078320588295895],\"y\":[0.8485212380310042],\"type\":\"scatter\"},{\"marker\":{\"color\":\"rgba(255, 128, 2, 0.8)\"},\"mode\":\"markers\",\"name\":\"Ireland\",\"x\":[1.9584838065407273],\"y\":[0.4781907685552446],\"type\":\"scatter\"},{\"marker\":{\"color\":\"rgba(255, 128, 255, 0.8)\"},\"mode\":\"markers\",\"name\":\"Ireland\",\"x\":[-1.8072008129687753],\"y\":[2.8087020421273787],\"type\":\"scatter\"},{\"marker\":{\"color\":\"rgba(255, 128, 255, 0.8)\"},\"mode\":\"markers\",\"name\":\"Israel\",\"x\":[-6.255611115175719],\"y\":[0.26500239765579914],\"type\":\"scatter\"},{\"marker\":{\"color\":\"rgba(255, 128, 255, 0.8)\"},\"mode\":\"markers\",\"name\":\"Israel\",\"x\":[-0.4239677094158045],\"y\":[-0.55334366436989],\"type\":\"scatter\"},{\"marker\":{\"color\":\"rgba(255, 128, 255, 0.8)\"},\"mode\":\"markers\",\"name\":\"Israel\",\"x\":[-0.21605801616127374],\"y\":[-0.4236611810366696],\"type\":\"scatter\"},{\"marker\":{\"color\":\"rgba(255, 128, 255, 0.8)\"},\"mode\":\"markers\",\"name\":\"Israel\",\"x\":[-5.770243875321091],\"y\":[0.23205958859970122],\"type\":\"scatter\"},{\"marker\":{\"color\":\"rgba(255, 128, 2, 0.8)\"},\"mode\":\"markers\",\"name\":\"Italy\",\"x\":[1.4169859430977056],\"y\":[-1.071812846292916],\"type\":\"scatter\"},{\"marker\":{\"color\":\"rgba(255, 128, 255, 0.8)\"},\"mode\":\"markers\",\"name\":\"Italy\",\"x\":[-2.305637949612899],\"y\":[0.8603102718564584],\"type\":\"scatter\"},{\"marker\":{\"color\":\"rgba(255, 128, 255, 0.8)\"},\"mode\":\"markers\",\"name\":\"Italy\",\"x\":[-1.6627354934220093],\"y\":[0.6095202745628928],\"type\":\"scatter\"},{\"marker\":{\"color\":\"rgba(255, 128, 2, 0.8)\"},\"mode\":\"markers\",\"name\":\"Italy\",\"x\":[1.9904847036004383],\"y\":[-1.0118014311586183],\"type\":\"scatter\"},{\"marker\":{\"color\":\"rgba(255, 128, 255, 0.8)\"},\"mode\":\"markers\",\"name\":\"Jamaica\",\"x\":[-1.4803565784860588],\"y\":[-0.19148868441405692],\"type\":\"scatter\"},{\"marker\":{\"color\":\"rgba(255, 128, 2, 0.8)\"},\"mode\":\"markers\",\"name\":\"Japan\",\"x\":[1.299256470172958],\"y\":[-0.14631574021313737],\"type\":\"scatter\"},{\"marker\":{\"color\":\"rgba(255, 128, 2, 0.8)\"},\"mode\":\"markers\",\"name\":\"Japan\",\"x\":[0.7153028007552275],\"y\":[-1.3901273969431676],\"type\":\"scatter\"},{\"marker\":{\"color\":\"rgba(255, 128, 255, 0.8)\"},\"mode\":\"markers\",\"name\":\"Japan\",\"x\":[-2.1091584647477757],\"y\":[-0.3946796905800637],\"type\":\"scatter\"},{\"marker\":{\"color\":\"rgba(255, 128, 255, 0.8)\"},\"mode\":\"markers\",\"name\":\"Japan\",\"x\":[-2.201691417496274],\"y\":[0.9027469459675425],\"type\":\"scatter\"},{\"marker\":{\"color\":\"rgba(255, 128, 2, 0.8)\"},\"mode\":\"markers\",\"name\":\"Kazakhstan\",\"x\":[1.0668436190238055],\"y\":[-0.01689114630001395],\"type\":\"scatter\"},{\"marker\":{\"color\":\"rgba(255, 128, 255, 0.8)\"},\"mode\":\"markers\",\"name\":\"Kazakhstan\",\"x\":[-5.864794379952759],\"y\":[0.2689208346375209],\"type\":\"scatter\"},{\"marker\":{\"color\":\"rgba(255, 128, 2, 0.8)\"},\"mode\":\"markers\",\"name\":\"Kazakhstan\",\"x\":[3.81577000799223],\"y\":[-1.3617458747522833],\"type\":\"scatter\"},{\"marker\":{\"color\":\"rgba(255, 128, 255, 0.8)\"},\"mode\":\"markers\",\"name\":\"Kenya\",\"x\":[-0.5592746477765393],\"y\":[-1.6645054552380454],\"type\":\"scatter\"},{\"marker\":{\"color\":\"rgba(255, 128, 2, 0.8)\"},\"mode\":\"markers\",\"name\":\"Kenya\",\"x\":[3.0323432372788295],\"y\":[1.6823752591464065],\"type\":\"scatter\"},{\"marker\":{\"color\":\"rgba(255, 128, 255, 0.8)\"},\"mode\":\"markers\",\"name\":\"Kenya\",\"x\":[-0.19773856185168523],\"y\":[-0.11769476727866282],\"type\":\"scatter\"},{\"marker\":{\"color\":\"rgba(255, 128, 2, 0.8)\"},\"mode\":\"markers\",\"name\":\"Korea\",\"x\":[3.2547489488549153],\"y\":[-0.6610527441478995],\"type\":\"scatter\"},{\"marker\":{\"color\":\"rgba(255, 128, 2, 0.8)\"},\"mode\":\"markers\",\"name\":\"Korea\",\"x\":[1.1044427751986206],\"y\":[0.1375709661745492],\"type\":\"scatter\"},{\"marker\":{\"color\":\"rgba(255, 128, 255, 0.8)\"},\"mode\":\"markers\",\"name\":\"Korea\",\"x\":[-0.37861161102393315],\"y\":[-0.22361731891279021],\"type\":\"scatter\"},{\"marker\":{\"color\":\"rgba(255, 128, 2, 0.8)\"},\"mode\":\"markers\",\"name\":\"Korea\",\"x\":[3.384126762355507],\"y\":[0.2500451549892531],\"type\":\"scatter\"},{\"marker\":{\"color\":\"rgba(255, 128, 255, 0.8)\"},\"mode\":\"markers\",\"name\":\"Lao PDR\",\"x\":[-3.5431608130108887],\"y\":[0.035082150679393256],\"type\":\"scatter\"},{\"marker\":{\"color\":\"rgba(255, 128, 2, 0.8)\"},\"mode\":\"markers\",\"name\":\"Lao PDR\",\"x\":[1.6004330935055517],\"y\":[-1.048804992936629],\"type\":\"scatter\"},{\"marker\":{\"color\":\"rgba(255, 128, 2, 0.8)\"},\"mode\":\"markers\",\"name\":\"Latvia\",\"x\":[1.7720396795910018],\"y\":[-1.0823314223439395],\"type\":\"scatter\"},{\"marker\":{\"color\":\"rgba(255, 128, 255, 0.8)\"},\"mode\":\"markers\",\"name\":\"Latvia\",\"x\":[-3.372287140496569],\"y\":[-0.12447079677295786],\"type\":\"scatter\"},{\"marker\":{\"color\":\"rgba(255, 128, 2, 0.8)\"},\"mode\":\"markers\",\"name\":\"Latvia\",\"x\":[1.9672286369344574],\"y\":[0.5372493287531581],\"type\":\"scatter\"},{\"marker\":{\"color\":\"rgba(255, 128, 255, 0.8)\"},\"mode\":\"markers\",\"name\":\"Lithuania\",\"x\":[-2.8912269225521467],\"y\":[-2.0422319434352927],\"type\":\"scatter\"},{\"marker\":{\"color\":\"rgba(255, 128, 255, 0.8)\"},\"mode\":\"markers\",\"name\":\"Lithuania\",\"x\":[-0.8460896461522456],\"y\":[0.15711344686840187],\"type\":\"scatter\"},{\"marker\":{\"color\":\"rgba(255, 128, 255, 0.8)\"},\"mode\":\"markers\",\"name\":\"Lithuania\",\"x\":[-0.3255579880186757],\"y\":[-1.4320532411891935],\"type\":\"scatter\"},{\"marker\":{\"color\":\"rgba(255, 128, 255, 0.8)\"},\"mode\":\"markers\",\"name\":\"Luxembourg\",\"x\":[0.06375826855503003],\"y\":[-0.35184431328223026],\"type\":\"scatter\"},{\"marker\":{\"color\":\"rgba(255, 128, 255, 0.8)\"},\"mode\":\"markers\",\"name\":\"Luxembourg\",\"x\":[-2.324681219795149],\"y\":[-1.1289110443097723],\"type\":\"scatter\"},{\"marker\":{\"color\":\"rgba(255, 128, 2, 0.8)\"},\"mode\":\"markers\",\"name\":\"Luxembourg\",\"x\":[0.3901956542373882],\"y\":[-1.1481995756032526],\"type\":\"scatter\"},{\"marker\":{\"color\":\"rgba(255, 128, 2, 0.8)\"},\"mode\":\"markers\",\"name\":\"Malaysia\",\"x\":[2.471175718650804],\"y\":[0.31124020947844827],\"type\":\"scatter\"},{\"marker\":{\"color\":\"rgba(255, 128, 2, 0.8)\"},\"mode\":\"markers\",\"name\":\"Malaysia\",\"x\":[3.3266191828213327],\"y\":[-0.691517456397708],\"type\":\"scatter\"},{\"marker\":{\"color\":\"rgba(255, 128, 255, 0.8)\"},\"mode\":\"markers\",\"name\":\"Malaysia\",\"x\":[-2.1483509978643838],\"y\":[1.8733538689117586],\"type\":\"scatter\"},{\"marker\":{\"color\":\"rgba(255, 128, 255, 0.8)\"},\"mode\":\"markers\",\"name\":\"Malaysia\",\"x\":[-0.271614963193955],\"y\":[-1.2770889443269617],\"type\":\"scatter\"},{\"marker\":{\"color\":\"rgba(255, 128, 2, 0.8)\"},\"mode\":\"markers\",\"name\":\"Malta\",\"x\":[2.5229455361731308],\"y\":[-0.34688830086496947],\"type\":\"scatter\"},{\"marker\":{\"color\":\"rgba(255, 128, 2, 0.8)\"},\"mode\":\"markers\",\"name\":\"Malta\",\"x\":[4.342096440198645],\"y\":[0.20066024174493818],\"type\":\"scatter\"},{\"marker\":{\"color\":\"rgba(255, 128, 255, 0.8)\"},\"mode\":\"markers\",\"name\":\"Malta\",\"x\":[-1.2143481781402086],\"y\":[-0.7895508462826768],\"type\":\"scatter\"},{\"marker\":{\"color\":\"rgba(255, 128, 2, 0.8)\"},\"mode\":\"markers\",\"name\":\"Malta\",\"x\":[3.793664513397198],\"y\":[0.9117997964508887],\"type\":\"scatter\"},{\"marker\":{\"color\":\"rgba(255, 128, 2, 0.8)\"},\"mode\":\"markers\",\"name\":\"Marshall Islands\",\"x\":[4.095702101119886],\"y\":[-1.2940835640386483],\"type\":\"scatter\"},{\"marker\":{\"color\":\"rgba(255, 128, 255, 0.8)\"},\"mode\":\"markers\",\"name\":\"Marshall Islands\",\"x\":[-0.3129126766623288],\"y\":[-0.21966992858088918],\"type\":\"scatter\"},{\"marker\":{\"color\":\"rgba(255, 128, 2, 0.8)\"},\"mode\":\"markers\",\"name\":\"Marshall Islands\",\"x\":[1.8019626694415982],\"y\":[-0.19589918844711493],\"type\":\"scatter\"},{\"marker\":{\"color\":\"rgba(255, 128, 2, 0.8)\"},\"mode\":\"markers\",\"name\":\"Marshall Islands\",\"x\":[1.8636389911837692],\"y\":[-0.3390521967742603],\"type\":\"scatter\"},{\"marker\":{\"color\":\"rgba(255, 128, 2, 0.8)\"},\"mode\":\"markers\",\"name\":\"Mauritius\",\"x\":[0.6450963407847096],\"y\":[-0.5906529761692856],\"type\":\"scatter\"},{\"marker\":{\"color\":\"rgba(255, 128, 2, 0.8)\"},\"mode\":\"markers\",\"name\":\"Mauritius\",\"x\":[3.7431558490550354],\"y\":[-0.2939146263043689],\"type\":\"scatter\"},{\"marker\":{\"color\":\"rgba(255, 128, 255, 0.8)\"},\"mode\":\"markers\",\"name\":\"Mauritius\",\"x\":[-0.9308243816788561],\"y\":[-0.850994367344989],\"type\":\"scatter\"},{\"marker\":{\"color\":\"rgba(255, 128, 2, 0.8)\"},\"mode\":\"markers\",\"name\":\"Mauritius\",\"x\":[3.2089443107964817],\"y\":[-1.5402557217648283],\"type\":\"scatter\"},{\"marker\":{\"color\":\"rgba(255, 128, 2, 0.8)\"},\"mode\":\"markers\",\"name\":\"Mexico\",\"x\":[1.843028581919311],\"y\":[-0.3787228961232283],\"type\":\"scatter\"},{\"marker\":{\"color\":\"rgba(255, 128, 255, 0.8)\"},\"mode\":\"markers\",\"name\":\"Mexico\",\"x\":[0.011821553710890973],\"y\":[-2.542030745779538],\"type\":\"scatter\"},{\"marker\":{\"color\":\"rgba(255, 128, 255, 0.8)\"},\"mode\":\"markers\",\"name\":\"Mexico\",\"x\":[-1.1634920874372305],\"y\":[-0.46058322154861164],\"type\":\"scatter\"},{\"marker\":{\"color\":\"rgba(255, 128, 255, 0.8)\"},\"mode\":\"markers\",\"name\":\"Mexico\",\"x\":[-2.0347793356195147],\"y\":[0.7160725793144133],\"type\":\"scatter\"},{\"marker\":{\"color\":\"rgba(255, 128, 2, 0.8)\"},\"mode\":\"markers\",\"name\":\"Moldova\",\"x\":[1.622086326947882],\"y\":[0.081963430432484],\"type\":\"scatter\"},{\"marker\":{\"color\":\"rgba(255, 128, 255, 0.8)\"},\"mode\":\"markers\",\"name\":\"Moldova\",\"x\":[-4.959324945866875],\"y\":[-0.4680131811956643],\"type\":\"scatter\"},{\"marker\":{\"color\":\"rgba(255, 128, 2, 0.8)\"},\"mode\":\"markers\",\"name\":\"Mongolia\",\"x\":[2.440798017255979],\"y\":[0.1255976201606833],\"type\":\"scatter\"},{\"marker\":{\"color\":\"rgba(255, 128, 255, 0.8)\"},\"mode\":\"markers\",\"name\":\"Mongolia\",\"x\":[-1.359391722563515],\"y\":[0.510113372046555],\"type\":\"scatter\"},{\"marker\":{\"color\":\"rgba(255, 128, 2, 0.8)\"},\"mode\":\"markers\",\"name\":\"Mongolia\",\"x\":[0.4774607371575665],\"y\":[-0.7090567978887813],\"type\":\"scatter\"},{\"marker\":{\"color\":\"rgba(255, 128, 255, 0.8)\"},\"mode\":\"markers\",\"name\":\"Montenegro\",\"x\":[-6.674674396942471],\"y\":[0.02185274289811444],\"type\":\"scatter\"},{\"marker\":{\"color\":\"rgba(255, 128, 255, 0.8)\"},\"mode\":\"markers\",\"name\":\"Morocco\",\"x\":[-4.013619394931861],\"y\":[-1.1566087076846747],\"type\":\"scatter\"},{\"marker\":{\"color\":\"rgba(255, 128, 255, 0.8)\"},\"mode\":\"markers\",\"name\":\"Netherlands\",\"x\":[0.17050083438676372],\"y\":[-0.15411513779202424],\"type\":\"scatter\"},{\"marker\":{\"color\":\"rgba(255, 128, 255, 0.8)\"},\"mode\":\"markers\",\"name\":\"Netherlands\",\"x\":[-2.31539913641267],\"y\":[-1.187836324911757],\"type\":\"scatter\"},{\"marker\":{\"color\":\"rgba(255, 128, 2, 0.8)\"},\"mode\":\"markers\",\"name\":\"Netherlands\",\"x\":[2.968702966430699],\"y\":[0.23293654406254508],\"type\":\"scatter\"},{\"marker\":{\"color\":\"rgba(255, 128, 255, 0.8)\"},\"mode\":\"markers\",\"name\":\"Netherlands\",\"x\":[-0.824890322820189],\"y\":[-0.9793821545957747],\"type\":\"scatter\"},{\"marker\":{\"color\":\"rgba(255, 128, 255, 0.8)\"},\"mode\":\"markers\",\"name\":\"New Zealand\",\"x\":[-3.115828208742577],\"y\":[-0.041954587677658965],\"type\":\"scatter\"},{\"marker\":{\"color\":\"rgba(255, 128, 2, 0.8)\"},\"mode\":\"markers\",\"name\":\"New Zealand\",\"x\":[4.49495483614543],\"y\":[2.9067223758477163],\"type\":\"scatter\"},{\"marker\":{\"color\":\"rgba(255, 128, 255, 0.8)\"},\"mode\":\"markers\",\"name\":\"New Zealand\",\"x\":[-1.0787742481873837],\"y\":[-0.7305142763151329],\"type\":\"scatter\"},{\"marker\":{\"color\":\"rgba(255, 128, 255, 0.8)\"},\"mode\":\"markers\",\"name\":\"Nigeria\",\"x\":[-1.373255305267414],\"y\":[0.6080243182938534],\"type\":\"scatter\"},{\"marker\":{\"color\":\"rgba(255, 128, 2, 0.8)\"},\"mode\":\"markers\",\"name\":\"Nigeria\",\"x\":[3.9585966797546694],\"y\":[-0.10286069634654277],\"type\":\"scatter\"},{\"marker\":{\"color\":\"rgba(255, 128, 2, 0.8)\"},\"mode\":\"markers\",\"name\":\"Nigeria\",\"x\":[4.154846175863682],\"y\":[-1.2547203069078865],\"type\":\"scatter\"},{\"marker\":{\"color\":\"rgba(255, 128, 2, 0.8)\"},\"mode\":\"markers\",\"name\":\"Nigeria\",\"x\":[0.6139826512225881],\"y\":[-0.24233795446790196],\"type\":\"scatter\"},{\"marker\":{\"color\":\"rgba(255, 128, 255, 0.8)\"},\"mode\":\"markers\",\"name\":\"Macedonia\",\"x\":[-3.4922653881975663],\"y\":[-0.5188670704529628],\"type\":\"scatter\"},{\"marker\":{\"color\":\"rgba(255, 128, 2, 0.8)\"},\"mode\":\"markers\",\"name\":\"Macedonia\",\"x\":[0.30280421724843665],\"y\":[-0.7881536475791385],\"type\":\"scatter\"},{\"marker\":{\"color\":\"rgba(255, 128, 255, 0.8)\"},\"mode\":\"markers\",\"name\":\"Macedonia\",\"x\":[-0.0989471330652364],\"y\":[-1.52760582887361],\"type\":\"scatter\"},{\"marker\":{\"color\":\"rgba(255, 128, 255, 0.8)\"},\"mode\":\"markers\",\"name\":\"Norway\",\"x\":[-0.6832123655227055],\"y\":[-0.3330156512666138],\"type\":\"scatter\"},{\"marker\":{\"color\":\"rgba(255, 128, 255, 0.8)\"},\"mode\":\"markers\",\"name\":\"Norway\",\"x\":[-2.000022748457704],\"y\":[0.5679195703765996],\"type\":\"scatter\"},{\"marker\":{\"color\":\"rgba(255, 128, 255, 0.8)\"},\"mode\":\"markers\",\"name\":\"Norway\",\"x\":[-2.6050187037259165],\"y\":[-0.35062980751716527],\"type\":\"scatter\"},{\"marker\":{\"color\":\"rgba(255, 128, 2, 0.8)\"},\"mode\":\"markers\",\"name\":\"Norway\",\"x\":[0.946947210722566],\"y\":[-0.19502049922972786],\"type\":\"scatter\"},{\"marker\":{\"color\":\"rgba(255, 128, 255, 0.8)\"},\"mode\":\"markers\",\"name\":\"Oman\",\"x\":[-2.3078598453391423],\"y\":[-1.0906263007760355],\"type\":\"scatter\"},{\"marker\":{\"color\":\"rgba(255, 128, 2, 0.8)\"},\"mode\":\"markers\",\"name\":\"Oman\",\"x\":[1.7833984981477713],\"y\":[0.9550798378527102],\"type\":\"scatter\"},{\"marker\":{\"color\":\"rgba(255, 128, 2, 0.8)\"},\"mode\":\"markers\",\"name\":\"Panama\",\"x\":[1.4395937178102542],\"y\":[-0.8186012145668453],\"type\":\"scatter\"},{\"marker\":{\"color\":\"rgba(255, 128, 255, 0.8)\"},\"mode\":\"markers\",\"name\":\"Panama\",\"x\":[-1.9078293340300871],\"y\":[-0.167304049799211],\"type\":\"scatter\"},{\"marker\":{\"color\":\"rgba(255, 128, 2, 0.8)\"},\"mode\":\"markers\",\"name\":\"Panama\",\"x\":[0.6944416179576943],\"y\":[-1.166678208390585],\"type\":\"scatter\"},{\"marker\":{\"color\":\"rgba(255, 128, 255, 0.8)\"},\"mode\":\"markers\",\"name\":\"Panama\",\"x\":[-2.4746232210615884],\"y\":[-0.3622376905258641],\"type\":\"scatter\"},{\"marker\":{\"color\":\"rgba(255, 128, 2, 0.8)\"},\"mode\":\"markers\",\"name\":\"Paraguay\",\"x\":[1.9149200406766103],\"y\":[0.6010882863115622],\"type\":\"scatter\"},{\"marker\":{\"color\":\"rgba(255, 128, 2, 0.8)\"},\"mode\":\"markers\",\"name\":\"Peru\",\"x\":[5.194371300011772],\"y\":[7.7946693169594665],\"type\":\"scatter\"},{\"marker\":{\"color\":\"rgba(255, 128, 2, 0.8)\"},\"mode\":\"markers\",\"name\":\"Peru\",\"x\":[3.562266361104331],\"y\":[0.46213513586222127],\"type\":\"scatter\"},{\"marker\":{\"color\":\"rgba(255, 128, 255, 0.8)\"},\"mode\":\"markers\",\"name\":\"Philippines\",\"x\":[-3.8805356745447392],\"y\":[-0.44403119413779724],\"type\":\"scatter\"},{\"marker\":{\"color\":\"rgba(255, 128, 2, 0.8)\"},\"mode\":\"markers\",\"name\":\"Philippines\",\"x\":[3.0115817545813375],\"y\":[1.6992273500331965],\"type\":\"scatter\"},{\"marker\":{\"color\":\"rgba(255, 128, 255, 0.8)\"},\"mode\":\"markers\",\"name\":\"Philippines\",\"x\":[-2.308037179803699],\"y\":[1.7262129751078674],\"type\":\"scatter\"},{\"marker\":{\"color\":\"rgba(255, 128, 255, 0.8)\"},\"mode\":\"markers\",\"name\":\"Philippines\",\"x\":[-4.767349722998576],\"y\":[-0.26086417462209716],\"type\":\"scatter\"},{\"marker\":{\"color\":\"rgba(255, 128, 2, 0.8)\"},\"mode\":\"markers\",\"name\":\"Poland\",\"x\":[2.375149493204307],\"y\":[-1.1542425430620082],\"type\":\"scatter\"},{\"marker\":{\"color\":\"rgba(255, 128, 2, 0.8)\"},\"mode\":\"markers\",\"name\":\"Poland\",\"x\":[3.9269633216888833],\"y\":[-1.3055701543613618],\"type\":\"scatter\"},{\"marker\":{\"color\":\"rgba(255, 128, 255, 0.8)\"},\"mode\":\"markers\",\"name\":\"Poland\",\"x\":[-1.8295983974118275],\"y\":[1.461860853240182],\"type\":\"scatter\"},{\"marker\":{\"color\":\"rgba(255, 128, 255, 0.8)\"},\"mode\":\"markers\",\"name\":\"Poland\",\"x\":[-0.2364128502152978],\"y\":[-0.06966090259682925],\"type\":\"scatter\"},{\"marker\":{\"color\":\"rgba(255, 128, 255, 0.8)\"},\"mode\":\"markers\",\"name\":\"Portugal\",\"x\":[-4.896854358170607],\"y\":[0.2526786773682942],\"type\":\"scatter\"},{\"marker\":{\"color\":\"rgba(255, 128, 2, 0.8)\"},\"mode\":\"markers\",\"name\":\"Portugal\",\"x\":[0.881193381556709],\"y\":[-0.8832019232904476],\"type\":\"scatter\"},{\"marker\":{\"color\":\"rgba(255, 128, 255, 0.8)\"},\"mode\":\"markers\",\"name\":\"Portugal\",\"x\":[0.24342126376867046],\"y\":[0.04072506346755044],\"type\":\"scatter\"},{\"marker\":{\"color\":\"rgba(255, 128, 255, 0.8)\"},\"mode\":\"markers\",\"name\":\"Romania\",\"x\":[-0.08681975358073636],\"y\":[-0.2991837436696456],\"type\":\"scatter\"},{\"marker\":{\"color\":\"rgba(255, 128, 2, 0.8)\"},\"mode\":\"markers\",\"name\":\"Romania\",\"x\":[0.8785400876496623],\"y\":[-0.08751610123316678],\"type\":\"scatter\"},{\"marker\":{\"color\":\"rgba(255, 128, 255, 0.8)\"},\"mode\":\"markers\",\"name\":\"Romania\",\"x\":[-3.1465720969944906],\"y\":[0.6639013680543935],\"type\":\"scatter\"},{\"marker\":{\"color\":\"rgba(255, 128, 2, 0.8)\"},\"mode\":\"markers\",\"name\":\"Romania\",\"x\":[1.1075171718158867],\"y\":[-0.08413860251089525],\"type\":\"scatter\"},{\"marker\":{\"color\":\"rgba(255, 128, 255, 0.8)\"},\"mode\":\"markers\",\"name\":\"Russian Federation\",\"x\":[-0.10956376959404429],\"y\":[-0.5964070936068749],\"type\":\"scatter\"},{\"marker\":{\"color\":\"rgba(255, 128, 2, 0.8)\"},\"mode\":\"markers\",\"name\":\"Russian Federation\",\"x\":[3.8664710499181205],\"y\":[-0.9161614589373283],\"type\":\"scatter\"},{\"marker\":{\"color\":\"rgba(255, 128, 2, 0.8)\"},\"mode\":\"markers\",\"name\":\"Russian Federation\",\"x\":[4.391180806728862],\"y\":[-1.2233358499394649],\"type\":\"scatter\"},{\"marker\":{\"color\":\"rgba(255, 128, 255, 0.8)\"},\"mode\":\"markers\",\"name\":\"Russian Federation\",\"x\":[-2.1231257041755915],\"y\":[0.8795625698972191],\"type\":\"scatter\"},{\"marker\":{\"color\":\"rgba(255, 128, 255, 0.8)\"},\"mode\":\"markers\",\"name\":\"Samoa\",\"x\":[-0.842368609312678],\"y\":[-0.03364483757935436],\"type\":\"scatter\"},{\"marker\":{\"color\":\"rgba(255, 128, 255, 0.8)\"},\"mode\":\"markers\",\"name\":\"Samoa\",\"x\":[-1.3851266043113415],\"y\":[-0.7601184152447726],\"type\":\"scatter\"},{\"marker\":{\"color\":\"rgba(255, 128, 2, 0.8)\"},\"mode\":\"markers\",\"name\":\"Saudi Arabia\",\"x\":[4.197220134747779],\"y\":[-1.2843640226581452],\"type\":\"scatter\"},{\"marker\":{\"color\":\"rgba(255, 128, 255, 0.8)\"},\"mode\":\"markers\",\"name\":\"Serbia\",\"x\":[-1.2827919188057526],\"y\":[0.27494970256403317],\"type\":\"scatter\"},{\"marker\":{\"color\":\"rgba(255, 128, 255, 0.8)\"},\"mode\":\"markers\",\"name\":\"Serbia\",\"x\":[-2.310446527272022],\"y\":[2.393986966712894],\"type\":\"scatter\"},{\"marker\":{\"color\":\"rgba(255, 128, 255, 0.8)\"},\"mode\":\"markers\",\"name\":\"Seychelles\",\"x\":[-2.4552789970526563],\"y\":[-1.0988606561327532],\"type\":\"scatter\"},{\"marker\":{\"color\":\"rgba(255, 128, 255, 0.8)\"},\"mode\":\"markers\",\"name\":\"Seychelles\",\"x\":[-2.278608905157475],\"y\":[0.5630701255603636],\"type\":\"scatter\"},{\"marker\":{\"color\":\"rgba(255, 128, 2, 0.8)\"},\"mode\":\"markers\",\"name\":\"Seychelles\",\"x\":[3.462258937842199],\"y\":[-1.075714890929133],\"type\":\"scatter\"},{\"marker\":{\"color\":\"rgba(255, 128, 255, 0.8)\"},\"mode\":\"markers\",\"name\":\"Seychelles\",\"x\":[-2.1295653967549533],\"y\":[-0.4901573773703726],\"type\":\"scatter\"},{\"marker\":{\"color\":\"rgba(255, 128, 2, 0.8)\"},\"mode\":\"markers\",\"name\":\"Sierra Leone\",\"x\":[2.187886211716661],\"y\":[-0.02426847489633838],\"type\":\"scatter\"},{\"marker\":{\"color\":\"rgba(255, 128, 255, 0.8)\"},\"mode\":\"markers\",\"name\":\"Sierra Leone\",\"x\":[-0.12755228964400186],\"y\":[-0.35395844241679203],\"type\":\"scatter\"},{\"marker\":{\"color\":\"rgba(255, 128, 255, 0.8)\"},\"mode\":\"markers\",\"name\":\"Singapore\",\"x\":[-1.9158337811448054],\"y\":[1.0648916738976477],\"type\":\"scatter\"},{\"marker\":{\"color\":\"rgba(255, 128, 255, 0.8)\"},\"mode\":\"markers\",\"name\":\"Singapore\",\"x\":[-0.3865447484247599],\"y\":[-1.029853736861159],\"type\":\"scatter\"},{\"marker\":{\"color\":\"rgba(255, 128, 255, 0.8)\"},\"mode\":\"markers\",\"name\":\"Singapore\",\"x\":[-1.7819293591320193],\"y\":[1.0629623339764045],\"type\":\"scatter\"},{\"marker\":{\"color\":\"rgba(255, 128, 255, 0.8)\"},\"mode\":\"markers\",\"name\":\"Singapore\",\"x\":[-2.0756727066449923],\"y\":[1.055164918373133],\"type\":\"scatter\"},{\"marker\":{\"color\":\"rgba(255, 128, 255, 0.8)\"},\"mode\":\"markers\",\"name\":\"Slovak Republic\",\"x\":[-2.1026486643686617],\"y\":[0.11634700321955448],\"type\":\"scatter\"},{\"marker\":{\"color\":\"rgba(255, 128, 255, 0.8)\"},\"mode\":\"markers\",\"name\":\"Slovak Republic\",\"x\":[-0.7265780772051688],\"y\":[1.2416768114165933],\"type\":\"scatter\"},{\"marker\":{\"color\":\"rgba(255, 128, 255, 0.8)\"},\"mode\":\"markers\",\"name\":\"Slovak Republic\",\"x\":[-1.2557829362889295],\"y\":[-0.7572604428786927],\"type\":\"scatter\"},{\"marker\":{\"color\":\"rgba(255, 128, 255, 0.8)\"},\"mode\":\"markers\",\"name\":\"Slovak Republic\",\"x\":[-2.6514322981581357],\"y\":[0.17264429402754752],\"type\":\"scatter\"},{\"marker\":{\"color\":\"rgba(255, 128, 255, 0.8)\"},\"mode\":\"markers\",\"name\":\"Slovenia\",\"x\":[-0.7040878019041823],\"y\":[-0.06498473637552009],\"type\":\"scatter\"},{\"marker\":{\"color\":\"rgba(255, 128, 255, 0.8)\"},\"mode\":\"markers\",\"name\":\"Slovenia\",\"x\":[-0.8594142388025382],\"y\":[-0.5576871325881388],\"type\":\"scatter\"},{\"marker\":{\"color\":\"rgba(255, 128, 2, 0.8)\"},\"mode\":\"markers\",\"name\":\"Slovenia\",\"x\":[5.3657355162297735],\"y\":[1.6775000378993976],\"type\":\"scatter\"},{\"marker\":{\"color\":\"rgba(255, 128, 2, 0.8)\"},\"mode\":\"markers\",\"name\":\"Slovenia\",\"x\":[3.3133384718920187],\"y\":[1.9469957503782522],\"type\":\"scatter\"},{\"marker\":{\"color\":\"rgba(255, 128, 2, 0.8)\"},\"mode\":\"markers\",\"name\":\"South Africa\",\"x\":[3.7479434740891864],\"y\":[-0.33718577151655565],\"type\":\"scatter\"},{\"marker\":{\"color\":\"rgba(255, 128, 255, 0.8)\"},\"mode\":\"markers\",\"name\":\"South Africa\",\"x\":[-2.8726186792168],\"y\":[-1.9973365176920062],\"type\":\"scatter\"},{\"marker\":{\"color\":\"rgba(255, 128, 255, 0.8)\"},\"mode\":\"markers\",\"name\":\"South Africa\",\"x\":[-5.2224028099585205],\"y\":[0.18618634161906358],\"type\":\"scatter\"},{\"marker\":{\"color\":\"rgba(255, 128, 255, 0.8)\"},\"mode\":\"markers\",\"name\":\"South Africa\",\"x\":[-6.763223411712284],\"y\":[1.2929552817139998],\"type\":\"scatter\"},{\"marker\":{\"color\":\"rgba(255, 128, 2, 0.8)\"},\"mode\":\"markers\",\"name\":\"Spain\",\"x\":[2.0242237277422106],\"y\":[-0.30643418502280034],\"type\":\"scatter\"},{\"marker\":{\"color\":\"rgba(255, 128, 2, 0.8)\"},\"mode\":\"markers\",\"name\":\"Spain\",\"x\":[0.43376149599941144],\"y\":[-0.6036946329909365],\"type\":\"scatter\"},{\"marker\":{\"color\":\"rgba(255, 128, 2, 0.8)\"},\"mode\":\"markers\",\"name\":\"Spain\",\"x\":[1.8140845486699366],\"y\":[-0.1848722338619974],\"type\":\"scatter\"},{\"marker\":{\"color\":\"rgba(255, 128, 255, 0.8)\"},\"mode\":\"markers\",\"name\":\"Spain\",\"x\":[-2.845684521388785],\"y\":[0.22576417908396318],\"type\":\"scatter\"},{\"marker\":{\"color\":\"rgba(255, 128, 255, 0.8)\"},\"mode\":\"markers\",\"name\":\"Sri Lanka\",\"x\":[-2.537611610652331],\"y\":[-1.2258478622195828],\"type\":\"scatter\"},{\"marker\":{\"color\":\"rgba(255, 128, 2, 0.8)\"},\"mode\":\"markers\",\"name\":\"Saint Kitts and Nevis\",\"x\":[1.45854577150207],\"y\":[-1.1027679637735888],\"type\":\"scatter\"},{\"marker\":{\"color\":\"rgba(255, 128, 2, 0.8)\"},\"mode\":\"markers\",\"name\":\"Saint Kitts and Nevis\",\"x\":[5.125416837464996],\"y\":[-1.049993910567945],\"type\":\"scatter\"},{\"marker\":{\"color\":\"rgba(255, 128, 255, 0.8)\"},\"mode\":\"markers\",\"name\":\"Saint Kitts and Nevis\",\"x\":[-1.7392673258759634],\"y\":[-0.07540472086549965],\"type\":\"scatter\"},{\"marker\":{\"color\":\"rgba(255, 128, 2, 0.8)\"},\"mode\":\"markers\",\"name\":\"Saint Lucia\",\"x\":[2.09550264460942],\"y\":[-1.1586160807052914],\"type\":\"scatter\"},{\"marker\":{\"color\":\"rgba(255, 128, 255, 0.8)\"},\"mode\":\"markers\",\"name\":\"Saint Vincent and the Grenadines\",\"x\":[-1.2062652178821394],\"y\":[0.3190337512698946],\"type\":\"scatter\"},{\"marker\":{\"color\":\"rgba(255, 128, 255, 0.8)\"},\"mode\":\"markers\",\"name\":\"Swaziland\",\"x\":[-0.28453035365226537],\"y\":[-0.5312403814248042],\"type\":\"scatter\"},{\"marker\":{\"color\":\"rgba(255, 128, 255, 0.8)\"},\"mode\":\"markers\",\"name\":\"Sweden\",\"x\":[-2.3770419329327055],\"y\":[-0.011719575781303204],\"type\":\"scatter\"},{\"marker\":{\"color\":\"rgba(255, 128, 2, 0.8)\"},\"mode\":\"markers\",\"name\":\"Sweden\",\"x\":[0.2989622339842152],\"y\":[-0.34049853188639395],\"type\":\"scatter\"},{\"marker\":{\"color\":\"rgba(255, 128, 255, 0.8)\"},\"mode\":\"markers\",\"name\":\"Sweden\",\"x\":[-0.8512805515576088],\"y\":[0.6948842907384398],\"type\":\"scatter\"},{\"marker\":{\"color\":\"rgba(255, 128, 2, 0.8)\"},\"mode\":\"markers\",\"name\":\"Switzerland\",\"x\":[1.760372428272016],\"y\":[0.3787047863896615],\"type\":\"scatter\"},{\"marker\":{\"color\":\"rgba(255, 128, 2, 0.8)\"},\"mode\":\"markers\",\"name\":\"Switzerland\",\"x\":[6.198087215888916],\"y\":[10.312848682746244],\"type\":\"scatter\"},{\"marker\":{\"color\":\"rgba(255, 128, 255, 0.8)\"},\"mode\":\"markers\",\"name\":\"Switzerland\",\"x\":[-4.520488286656829],\"y\":[-0.1664468383153992],\"type\":\"scatter\"},{\"marker\":{\"color\":\"rgba(255, 128, 2, 0.8)\"},\"mode\":\"markers\",\"name\":\"Switzerland\",\"x\":[0.6447013271171157],\"y\":[-0.66165820041702],\"type\":\"scatter\"},{\"marker\":{\"color\":\"rgba(255, 128, 255, 0.8)\"},\"mode\":\"markers\",\"name\":\"Syria\",\"x\":[-1.400619892236774],\"y\":[0.9359999386450069],\"type\":\"scatter\"},{\"marker\":{\"color\":\"rgba(255, 128, 255, 0.8)\"},\"mode\":\"markers\",\"name\":\"Taiwan Province of China\",\"x\":[-2.6752455149989656],\"y\":[0.29571995859545414],\"type\":\"scatter\"},{\"marker\":{\"color\":\"rgba(255, 128, 2, 0.8)\"},\"mode\":\"markers\",\"name\":\"Taiwan Province of China\",\"x\":[3.297606011264574],\"y\":[-0.7522066717668607],\"type\":\"scatter\"},{\"marker\":{\"color\":\"rgba(255, 128, 255, 0.8)\"},\"mode\":\"markers\",\"name\":\"Taiwan Province of China\",\"x\":[-1.5087632529532264],\"y\":[3.4409784944341544],\"type\":\"scatter\"},{\"marker\":{\"color\":\"rgba(255, 128, 255, 0.8)\"},\"mode\":\"markers\",\"name\":\"Tanzania\",\"x\":[-0.21924323612913593],\"y\":[-1.5817554995797602],\"type\":\"scatter\"},{\"marker\":{\"color\":\"rgba(255, 128, 255, 0.8)\"},\"mode\":\"markers\",\"name\":\"Tanzania\",\"x\":[-1.8329853134216325],\"y\":[0.8713149366130242],\"type\":\"scatter\"},{\"marker\":{\"color\":\"rgba(255, 128, 2, 0.8)\"},\"mode\":\"markers\",\"name\":\"Thailand\",\"x\":[0.9910242007209182],\"y\":[-0.8058215949115294],\"type\":\"scatter\"},{\"marker\":{\"color\":\"rgba(255, 128, 255, 0.8)\"},\"mode\":\"markers\",\"name\":\"Thailand\",\"x\":[-2.8841838799607014],\"y\":[0.44170570792702635],\"type\":\"scatter\"},{\"marker\":{\"color\":\"rgba(255, 128, 255, 0.8)\"},\"mode\":\"markers\",\"name\":\"Thailand\",\"x\":[-1.5154118502567409],\"y\":[-0.2798510790480954],\"type\":\"scatter\"},{\"marker\":{\"color\":\"rgba(255, 128, 2, 0.8)\"},\"mode\":\"markers\",\"name\":\"Thailand\",\"x\":[2.9498805349573805],\"y\":[-0.17417398830297476],\"type\":\"scatter\"},{\"marker\":{\"color\":\"rgba(255, 128, 255, 0.8)\"},\"mode\":\"markers\",\"name\":\"Timor-Leste\",\"x\":[-0.8429448223908933],\"y\":[10.970501715155963],\"type\":\"scatter\"},{\"marker\":{\"color\":\"rgba(255, 128, 255, 0.8)\"},\"mode\":\"markers\",\"name\":\"Tunisia\",\"x\":[-1.0177975395421235],\"y\":[-1.292380450392888],\"type\":\"scatter\"},{\"marker\":{\"color\":\"rgba(255, 128, 255, 0.8)\"},\"mode\":\"markers\",\"name\":\"Tunisia\",\"x\":[-0.5429332443163795],\"y\":[-0.24820574918795096],\"type\":\"scatter\"},{\"marker\":{\"color\":\"rgba(255, 128, 2, 0.8)\"},\"mode\":\"markers\",\"name\":\"Turkey\",\"x\":[1.011787207340523],\"y\":[-0.5201430571760816],\"type\":\"scatter\"},{\"marker\":{\"color\":\"rgba(255, 128, 2, 0.8)\"},\"mode\":\"markers\",\"name\":\"Turkey\",\"x\":[1.4479414242368593],\"y\":[-0.8458451753853435],\"type\":\"scatter\"},{\"marker\":{\"color\":\"rgba(255, 128, 255, 0.8)\"},\"mode\":\"markers\",\"name\":\"Turkey\",\"x\":[-2.3175917874575287],\"y\":[1.282003290387475],\"type\":\"scatter\"},{\"marker\":{\"color\":\"rgba(255, 128, 255, 0.8)\"},\"mode\":\"markers\",\"name\":\"Turkey\",\"x\":[-0.1881432309859117],\"y\":[0.2256964363105879],\"type\":\"scatter\"},{\"marker\":{\"color\":\"rgba(255, 128, 255, 0.8)\"},\"mode\":\"markers\",\"name\":\"Ukraine\",\"x\":[-1.4091853819592828],\"y\":[0.20246117458157156],\"type\":\"scatter\"},{\"marker\":{\"color\":\"rgba(255, 128, 2, 0.8)\"},\"mode\":\"markers\",\"name\":\"Ukraine\",\"x\":[0.21386537665676433],\"y\":[-2.6592789439214424],\"type\":\"scatter\"},{\"marker\":{\"color\":\"rgba(255, 128, 2, 0.8)\"},\"mode\":\"markers\",\"name\":\"Ukraine\",\"x\":[0.3335725398476374],\"y\":[-0.5588109228820303],\"type\":\"scatter\"},{\"marker\":{\"color\":\"rgba(255, 128, 255, 0.8)\"},\"mode\":\"markers\",\"name\":\"Ukraine\",\"x\":[-3.1597148784312985],\"y\":[-0.18103125965515376],\"type\":\"scatter\"},{\"marker\":{\"color\":\"rgba(255, 128, 255, 0.8)\"},\"mode\":\"markers\",\"name\":\"United Arab Emirates\",\"x\":[-0.732234089927702],\"y\":[10.46192382345906],\"type\":\"scatter\"},{\"marker\":{\"color\":\"rgba(255, 128, 2, 0.8)\"},\"mode\":\"markers\",\"name\":\"United Arab Emirates\",\"x\":[4.216308989037839],\"y\":[-0.5472531262915105],\"type\":\"scatter\"},{\"marker\":{\"color\":\"rgba(255, 128, 2, 0.8)\"},\"mode\":\"markers\",\"name\":\"United Arab Emirates\",\"x\":[4.120635105536039],\"y\":[-0.7493580202922733],\"type\":\"scatter\"},{\"marker\":{\"color\":\"rgba(255, 128, 2, 0.8)\"},\"mode\":\"markers\",\"name\":\"United Arab Emirates\",\"x\":[1.896090043002443],\"y\":[-0.2177311449975132],\"type\":\"scatter\"},{\"marker\":{\"color\":\"rgba(255, 128, 255, 0.8)\"},\"mode\":\"markers\",\"name\":\"United Kingdom\",\"x\":[-2.713036092690958],\"y\":[-1.804069159693814],\"type\":\"scatter\"},{\"marker\":{\"color\":\"rgba(255, 128, 255, 0.8)\"},\"mode\":\"markers\",\"name\":\"United Kingdom\",\"x\":[-3.7016064039878],\"y\":[0.24989181470314525],\"type\":\"scatter\"},{\"marker\":{\"color\":\"rgba(255, 128, 255, 0.8)\"},\"mode\":\"markers\",\"name\":\"United Kingdom\",\"x\":[-1.4480193017716447],\"y\":[0.09741294101636071],\"type\":\"scatter\"},{\"marker\":{\"color\":\"rgba(255, 128, 255, 0.8)\"},\"mode\":\"markers\",\"name\":\"United Kingdom\",\"x\":[-2.124207716953333],\"y\":[-0.5484570613087065],\"type\":\"scatter\"},{\"marker\":{\"color\":\"rgba(255, 128, 255, 0.8)\"},\"mode\":\"markers\",\"name\":\"United States\",\"x\":[-2.9138571433676934],\"y\":[-2.1072670586716526],\"type\":\"scatter\"},{\"marker\":{\"color\":\"rgba(255, 128, 2, 0.8)\"},\"mode\":\"markers\",\"name\":\"United States\",\"x\":[2.536127653364272],\"y\":[0.16685453931452454],\"type\":\"scatter\"},{\"marker\":{\"color\":\"rgba(255, 128, 255, 0.8)\"},\"mode\":\"markers\",\"name\":\"United States\",\"x\":[-2.6457753667657427],\"y\":[0.06546901576357007],\"type\":\"scatter\"},{\"marker\":{\"color\":\"rgba(255, 128, 255, 0.8)\"},\"mode\":\"markers\",\"name\":\"United States\",\"x\":[-2.3322588305085774],\"y\":[0.12151747950246743],\"type\":\"scatter\"},{\"marker\":{\"color\":\"rgba(255, 128, 2, 0.8)\"},\"mode\":\"markers\",\"name\":\"Venezuela\",\"x\":[1.0464778013887015],\"y\":[-0.9181702335080104],\"type\":\"scatter\"},{\"marker\":{\"color\":\"rgba(255, 128, 255, 0.8)\"},\"mode\":\"markers\",\"name\":\"Venezuela\",\"x\":[-4.969848362250733],\"y\":[-0.01959110728655735],\"type\":\"scatter\"},{\"marker\":{\"color\":\"rgba(255, 128, 2, 0.8)\"},\"mode\":\"markers\",\"name\":\"Venezuela\",\"x\":[3.915201921411354],\"y\":[-0.4075207829223941],\"type\":\"scatter\"},{\"marker\":{\"color\":\"rgba(255, 128, 2, 0.8)\"},\"mode\":\"markers\",\"name\":\"Vietnam\",\"x\":[3.9411908511058877],\"y\":[-1.6117897418475762],\"type\":\"scatter\"},{\"marker\":{\"color\":\"rgba(255, 128, 255, 0.8)\"},\"mode\":\"markers\",\"name\":\"Vietnam\",\"x\":[-2.8922415486558615],\"y\":[-2.036599889381636],\"type\":\"scatter\"},{\"marker\":{\"color\":\"rgba(255, 128, 2, 0.8)\"},\"mode\":\"markers\",\"name\":\"Vietnam\",\"x\":[3.8879375375726957],\"y\":[-0.9049236071078666],\"type\":\"scatter\"},{\"marker\":{\"color\":\"rgba(255, 128, 255, 0.8)\"},\"mode\":\"markers\",\"name\":\"Zimbabwe\",\"x\":[-4.217164484578662],\"y\":[-0.2860299496398901],\"type\":\"scatter\"},{\"marker\":{\"color\":\"rgba(255, 128, 2, 0.8)\"},\"mode\":\"markers\",\"name\":\"Zimbabwe\",\"x\":[0.28711575798162836],\"y\":[-0.43726053042131646],\"type\":\"scatter\"},{\"marker\":{\"color\":\"rgba(255, 128, 2, 0.8)\"},\"mode\":\"markers\",\"name\":\"Zimbabwe\",\"x\":[1.6158657315146283],\"y\":[-0.9037380922252499],\"type\":\"scatter\"}],                        {\"template\":{\"data\":{\"barpolar\":[{\"marker\":{\"line\":{\"color\":\"#E5ECF6\",\"width\":0.5},\"pattern\":{\"fillmode\":\"overlay\",\"size\":10,\"solidity\":0.2}},\"type\":\"barpolar\"}],\"bar\":[{\"error_x\":{\"color\":\"#2a3f5f\"},\"error_y\":{\"color\":\"#2a3f5f\"},\"marker\":{\"line\":{\"color\":\"#E5ECF6\",\"width\":0.5},\"pattern\":{\"fillmode\":\"overlay\",\"size\":10,\"solidity\":0.2}},\"type\":\"bar\"}],\"carpet\":[{\"aaxis\":{\"endlinecolor\":\"#2a3f5f\",\"gridcolor\":\"white\",\"linecolor\":\"white\",\"minorgridcolor\":\"white\",\"startlinecolor\":\"#2a3f5f\"},\"baxis\":{\"endlinecolor\":\"#2a3f5f\",\"gridcolor\":\"white\",\"linecolor\":\"white\",\"minorgridcolor\":\"white\",\"startlinecolor\":\"#2a3f5f\"},\"type\":\"carpet\"}],\"choropleth\":[{\"colorbar\":{\"outlinewidth\":0,\"ticks\":\"\"},\"type\":\"choropleth\"}],\"contourcarpet\":[{\"colorbar\":{\"outlinewidth\":0,\"ticks\":\"\"},\"type\":\"contourcarpet\"}],\"contour\":[{\"colorbar\":{\"outlinewidth\":0,\"ticks\":\"\"},\"colorscale\":[[0.0,\"#0d0887\"],[0.1111111111111111,\"#46039f\"],[0.2222222222222222,\"#7201a8\"],[0.3333333333333333,\"#9c179e\"],[0.4444444444444444,\"#bd3786\"],[0.5555555555555556,\"#d8576b\"],[0.6666666666666666,\"#ed7953\"],[0.7777777777777778,\"#fb9f3a\"],[0.8888888888888888,\"#fdca26\"],[1.0,\"#f0f921\"]],\"type\":\"contour\"}],\"heatmapgl\":[{\"colorbar\":{\"outlinewidth\":0,\"ticks\":\"\"},\"colorscale\":[[0.0,\"#0d0887\"],[0.1111111111111111,\"#46039f\"],[0.2222222222222222,\"#7201a8\"],[0.3333333333333333,\"#9c179e\"],[0.4444444444444444,\"#bd3786\"],[0.5555555555555556,\"#d8576b\"],[0.6666666666666666,\"#ed7953\"],[0.7777777777777778,\"#fb9f3a\"],[0.8888888888888888,\"#fdca26\"],[1.0,\"#f0f921\"]],\"type\":\"heatmapgl\"}],\"heatmap\":[{\"colorbar\":{\"outlinewidth\":0,\"ticks\":\"\"},\"colorscale\":[[0.0,\"#0d0887\"],[0.1111111111111111,\"#46039f\"],[0.2222222222222222,\"#7201a8\"],[0.3333333333333333,\"#9c179e\"],[0.4444444444444444,\"#bd3786\"],[0.5555555555555556,\"#d8576b\"],[0.6666666666666666,\"#ed7953\"],[0.7777777777777778,\"#fb9f3a\"],[0.8888888888888888,\"#fdca26\"],[1.0,\"#f0f921\"]],\"type\":\"heatmap\"}],\"histogram2dcontour\":[{\"colorbar\":{\"outlinewidth\":0,\"ticks\":\"\"},\"colorscale\":[[0.0,\"#0d0887\"],[0.1111111111111111,\"#46039f\"],[0.2222222222222222,\"#7201a8\"],[0.3333333333333333,\"#9c179e\"],[0.4444444444444444,\"#bd3786\"],[0.5555555555555556,\"#d8576b\"],[0.6666666666666666,\"#ed7953\"],[0.7777777777777778,\"#fb9f3a\"],[0.8888888888888888,\"#fdca26\"],[1.0,\"#f0f921\"]],\"type\":\"histogram2dcontour\"}],\"histogram2d\":[{\"colorbar\":{\"outlinewidth\":0,\"ticks\":\"\"},\"colorscale\":[[0.0,\"#0d0887\"],[0.1111111111111111,\"#46039f\"],[0.2222222222222222,\"#7201a8\"],[0.3333333333333333,\"#9c179e\"],[0.4444444444444444,\"#bd3786\"],[0.5555555555555556,\"#d8576b\"],[0.6666666666666666,\"#ed7953\"],[0.7777777777777778,\"#fb9f3a\"],[0.8888888888888888,\"#fdca26\"],[1.0,\"#f0f921\"]],\"type\":\"histogram2d\"}],\"histogram\":[{\"marker\":{\"pattern\":{\"fillmode\":\"overlay\",\"size\":10,\"solidity\":0.2}},\"type\":\"histogram\"}],\"mesh3d\":[{\"colorbar\":{\"outlinewidth\":0,\"ticks\":\"\"},\"type\":\"mesh3d\"}],\"parcoords\":[{\"line\":{\"colorbar\":{\"outlinewidth\":0,\"ticks\":\"\"}},\"type\":\"parcoords\"}],\"pie\":[{\"automargin\":true,\"type\":\"pie\"}],\"scatter3d\":[{\"line\":{\"colorbar\":{\"outlinewidth\":0,\"ticks\":\"\"}},\"marker\":{\"colorbar\":{\"outlinewidth\":0,\"ticks\":\"\"}},\"type\":\"scatter3d\"}],\"scattercarpet\":[{\"marker\":{\"colorbar\":{\"outlinewidth\":0,\"ticks\":\"\"}},\"type\":\"scattercarpet\"}],\"scattergeo\":[{\"marker\":{\"colorbar\":{\"outlinewidth\":0,\"ticks\":\"\"}},\"type\":\"scattergeo\"}],\"scattergl\":[{\"marker\":{\"colorbar\":{\"outlinewidth\":0,\"ticks\":\"\"}},\"type\":\"scattergl\"}],\"scattermapbox\":[{\"marker\":{\"colorbar\":{\"outlinewidth\":0,\"ticks\":\"\"}},\"type\":\"scattermapbox\"}],\"scatterpolargl\":[{\"marker\":{\"colorbar\":{\"outlinewidth\":0,\"ticks\":\"\"}},\"type\":\"scatterpolargl\"}],\"scatterpolar\":[{\"marker\":{\"colorbar\":{\"outlinewidth\":0,\"ticks\":\"\"}},\"type\":\"scatterpolar\"}],\"scatter\":[{\"fillpattern\":{\"fillmode\":\"overlay\",\"size\":10,\"solidity\":0.2},\"type\":\"scatter\"}],\"scatterternary\":[{\"marker\":{\"colorbar\":{\"outlinewidth\":0,\"ticks\":\"\"}},\"type\":\"scatterternary\"}],\"surface\":[{\"colorbar\":{\"outlinewidth\":0,\"ticks\":\"\"},\"colorscale\":[[0.0,\"#0d0887\"],[0.1111111111111111,\"#46039f\"],[0.2222222222222222,\"#7201a8\"],[0.3333333333333333,\"#9c179e\"],[0.4444444444444444,\"#bd3786\"],[0.5555555555555556,\"#d8576b\"],[0.6666666666666666,\"#ed7953\"],[0.7777777777777778,\"#fb9f3a\"],[0.8888888888888888,\"#fdca26\"],[1.0,\"#f0f921\"]],\"type\":\"surface\"}],\"table\":[{\"cells\":{\"fill\":{\"color\":\"#EBF0F8\"},\"line\":{\"color\":\"white\"}},\"header\":{\"fill\":{\"color\":\"#C8D4E3\"},\"line\":{\"color\":\"white\"}},\"type\":\"table\"}]},\"layout\":{\"annotationdefaults\":{\"arrowcolor\":\"#2a3f5f\",\"arrowhead\":0,\"arrowwidth\":1},\"autotypenumbers\":\"strict\",\"coloraxis\":{\"colorbar\":{\"outlinewidth\":0,\"ticks\":\"\"}},\"colorscale\":{\"diverging\":[[0,\"#8e0152\"],[0.1,\"#c51b7d\"],[0.2,\"#de77ae\"],[0.3,\"#f1b6da\"],[0.4,\"#fde0ef\"],[0.5,\"#f7f7f7\"],[0.6,\"#e6f5d0\"],[0.7,\"#b8e186\"],[0.8,\"#7fbc41\"],[0.9,\"#4d9221\"],[1,\"#276419\"]],\"sequential\":[[0.0,\"#0d0887\"],[0.1111111111111111,\"#46039f\"],[0.2222222222222222,\"#7201a8\"],[0.3333333333333333,\"#9c179e\"],[0.4444444444444444,\"#bd3786\"],[0.5555555555555556,\"#d8576b\"],[0.6666666666666666,\"#ed7953\"],[0.7777777777777778,\"#fb9f3a\"],[0.8888888888888888,\"#fdca26\"],[1.0,\"#f0f921\"]],\"sequentialminus\":[[0.0,\"#0d0887\"],[0.1111111111111111,\"#46039f\"],[0.2222222222222222,\"#7201a8\"],[0.3333333333333333,\"#9c179e\"],[0.4444444444444444,\"#bd3786\"],[0.5555555555555556,\"#d8576b\"],[0.6666666666666666,\"#ed7953\"],[0.7777777777777778,\"#fb9f3a\"],[0.8888888888888888,\"#fdca26\"],[1.0,\"#f0f921\"]]},\"colorway\":[\"#636efa\",\"#EF553B\",\"#00cc96\",\"#ab63fa\",\"#FFA15A\",\"#19d3f3\",\"#FF6692\",\"#B6E880\",\"#FF97FF\",\"#FECB52\"],\"font\":{\"color\":\"#2a3f5f\"},\"geo\":{\"bgcolor\":\"white\",\"lakecolor\":\"white\",\"landcolor\":\"#E5ECF6\",\"showlakes\":true,\"showland\":true,\"subunitcolor\":\"white\"},\"hoverlabel\":{\"align\":\"left\"},\"hovermode\":\"closest\",\"mapbox\":{\"style\":\"light\"},\"paper_bgcolor\":\"white\",\"plot_bgcolor\":\"#E5ECF6\",\"polar\":{\"angularaxis\":{\"gridcolor\":\"white\",\"linecolor\":\"white\",\"ticks\":\"\"},\"bgcolor\":\"#E5ECF6\",\"radialaxis\":{\"gridcolor\":\"white\",\"linecolor\":\"white\",\"ticks\":\"\"}},\"scene\":{\"xaxis\":{\"backgroundcolor\":\"#E5ECF6\",\"gridcolor\":\"white\",\"gridwidth\":2,\"linecolor\":\"white\",\"showbackground\":true,\"ticks\":\"\",\"zerolinecolor\":\"white\"},\"yaxis\":{\"backgroundcolor\":\"#E5ECF6\",\"gridcolor\":\"white\",\"gridwidth\":2,\"linecolor\":\"white\",\"showbackground\":true,\"ticks\":\"\",\"zerolinecolor\":\"white\"},\"zaxis\":{\"backgroundcolor\":\"#E5ECF6\",\"gridcolor\":\"white\",\"gridwidth\":2,\"linecolor\":\"white\",\"showbackground\":true,\"ticks\":\"\",\"zerolinecolor\":\"white\"}},\"shapedefaults\":{\"line\":{\"color\":\"#2a3f5f\"}},\"ternary\":{\"aaxis\":{\"gridcolor\":\"white\",\"linecolor\":\"white\",\"ticks\":\"\"},\"baxis\":{\"gridcolor\":\"white\",\"linecolor\":\"white\",\"ticks\":\"\"},\"bgcolor\":\"#E5ECF6\",\"caxis\":{\"gridcolor\":\"white\",\"linecolor\":\"white\",\"ticks\":\"\"}},\"title\":{\"x\":0.05},\"xaxis\":{\"automargin\":true,\"gridcolor\":\"white\",\"linecolor\":\"white\",\"ticks\":\"\",\"title\":{\"standoff\":15},\"zerolinecolor\":\"white\",\"zerolinewidth\":2},\"yaxis\":{\"automargin\":true,\"gridcolor\":\"white\",\"linecolor\":\"white\",\"ticks\":\"\",\"title\":{\"standoff\":15},\"zerolinecolor\":\"white\",\"zerolinewidth\":2}}},\"title\":{\"text\":\"Visualizing Clusters in Two Dimensions Using PCA\"},\"xaxis\":{\"ticklen\":5,\"title\":{\"text\":\"PC1\"},\"zeroline\":false},\"yaxis\":{\"ticklen\":5,\"title\":{\"text\":\"PC2\"},\"zeroline\":false}},                        {\"responsive\": true}                    ).then(function(){\n",
       "                            \n",
       "var gd = document.getElementById('db9d1347-4954-4b21-bfd0-e5d4a14818e2');\n",
       "var x = new MutationObserver(function (mutations, observer) {{\n",
       "        var display = window.getComputedStyle(gd).display;\n",
       "        if (!display || display === 'none') {{\n",
       "            console.log([gd, 'removed!']);\n",
       "            Plotly.purge(gd);\n",
       "            observer.disconnect();\n",
       "        }}\n",
       "}});\n",
       "\n",
       "// Listen for the removal of the full notebook cells\n",
       "var notebookContainer = gd.closest('#notebook-container');\n",
       "if (notebookContainer) {{\n",
       "    x.observe(notebookContainer, {childList: true});\n",
       "}}\n",
       "\n",
       "// Listen for the clearing of the current output cell\n",
       "var outputEl = gd.closest('.output');\n",
       "if (outputEl) {{\n",
       "    x.observe(outputEl, {childList: true});\n",
       "}}\n",
       "\n",
       "                        })                };                });            </script>        </div>"
      ]
     },
     "metadata": {},
     "output_type": "display_data"
    }
   ],
   "source": [
    "#for i in range(1, len(df.columns)):\n",
    "#    col_name = 'S'+ str(i)\n",
    "#    fig.add_trace(go.Scatter(x=df['DateTime'], y=df[col_name],\n",
    "#                        mode='lines', # 'lines' or 'markers'\n",
    "#                        name=col_name))\n",
    "country_cluster = []\n",
    "colors = ['rgba(255, 128, 255, 0.8)', 'rgba(255, 128, 2, 0.8)', 'rgba(0, 255, 200, 0.8)','rgba(255, 55, 0, 0.8)']\n",
    "#colors = ['rgba(255, 128, 255, 0.8)', 'rgba(255, 128, 2, 0.8)', 'rgba(0, 255, 200, 0.8)']\n",
    "for i in range(len(fA['Country'])):\n",
    "    country_cluster.append(go.Scatter(\n",
    "        x = [fA[\"PC1_2d\"][i]],\n",
    "        y = [fA[\"PC2_2d\"][i]],\n",
    "        mode = \"markers\",\n",
    "        name = fA['Country'][i],\n",
    "        marker = dict(color = colors[int(fA[0][i])]),\n",
    "        #text = cat_country[i+1]\n",
    "    ))\n",
    "    \n",
    "title = \"Visualizing Clusters in One Dimension Using PCA\"\n",
    "\n",
    "data = country_cluster #, trace4]\n",
    "\n",
    "title = \"Visualizing Clusters in Two Dimensions Using PCA\"\n",
    "\n",
    "layout = dict(title = title,\n",
    "              xaxis= dict(title= 'PC1',ticklen= 5,zeroline= False),\n",
    "              yaxis= dict(title= 'PC2',ticklen= 5,zeroline= False)\n",
    "             )\n",
    "\n",
    "fig = dict(data = data, layout = layout)\n",
    "\n",
    "iplot(fig)"
   ]
  },
  {
   "cell_type": "code",
   "execution_count": 18,
   "metadata": {},
   "outputs": [
    {
     "data": {
      "application/vnd.plotly.v1+json": {
       "config": {
        "linkText": "Export to plot.ly",
        "plotlyServerURL": "https://plot.ly",
        "showLink": false
       },
       "data": [
        {
         "marker": {
          "color": "rgba(255, 128, 2, 0.8)"
         },
         "mode": "markers",
         "name": "Cluster 1",
         "showlegend": false,
         "text": "",
         "type": "scatter",
         "x": [
          3.168327815329737
         ],
         "y": [
          0
         ]
        },
        {
         "marker": {
          "color": "rgba(255, 128, 2, 0.8)"
         },
         "mode": "markers",
         "name": "Cluster 1",
         "text": "",
         "type": "scatter",
         "x": [
          0.8637690774296529
         ],
         "y": [
          0
         ]
        },
        {
         "marker": {
          "color": "rgba(255, 128, 255, 0.8)"
         },
         "mode": "markers",
         "name": "Cluster 0",
         "text": "",
         "type": "scatter",
         "x": [
          -2.0397487152694556
         ],
         "y": [
          0
         ]
        },
        {
         "marker": {
          "color": "rgba(255, 128, 255, 0.8)"
         },
         "mode": "markers",
         "name": "Cluster 0",
         "text": "",
         "type": "scatter",
         "x": [
          -2.8691900782570094
         ],
         "y": [
          0
         ]
        },
        {
         "marker": {
          "color": "rgba(255, 128, 255, 0.8)"
         },
         "mode": "markers",
         "name": "Cluster 0",
         "text": "",
         "type": "scatter",
         "x": [
          -1.9907377741188903
         ],
         "y": [
          0
         ]
        },
        {
         "marker": {
          "color": "rgba(255, 128, 255, 0.8)"
         },
         "mode": "markers",
         "name": "Cluster 0",
         "text": "",
         "type": "scatter",
         "x": [
          -2.972931840422325
         ],
         "y": [
          0
         ]
        },
        {
         "marker": {
          "color": "rgba(255, 128, 2, 0.8)"
         },
         "mode": "markers",
         "name": "Cluster 1",
         "text": "",
         "type": "scatter",
         "x": [
          0.9721970721288963
         ],
         "y": [
          0
         ]
        },
        {
         "marker": {
          "color": "rgba(255, 128, 255, 0.8)"
         },
         "mode": "markers",
         "name": "Cluster 0",
         "text": "",
         "type": "scatter",
         "x": [
          -1.9509281751638607
         ],
         "y": [
          0
         ]
        },
        {
         "marker": {
          "color": "rgba(255, 128, 2, 0.8)"
         },
         "mode": "markers",
         "name": "Cluster 1",
         "text": "",
         "type": "scatter",
         "x": [
          0.5233651821568894
         ],
         "y": [
          0
         ]
        },
        {
         "marker": {
          "color": "rgba(255, 128, 2, 0.8)"
         },
         "mode": "markers",
         "name": "Cluster 1",
         "text": "",
         "type": "scatter",
         "x": [
          2.678068298859867
         ],
         "y": [
          0
         ]
        },
        {
         "marker": {
          "color": "rgba(255, 128, 2, 0.8)"
         },
         "mode": "markers",
         "name": "Cluster 1",
         "text": "",
         "type": "scatter",
         "x": [
          3.6723028812702476
         ],
         "y": [
          0
         ]
        },
        {
         "marker": {
          "color": "rgba(255, 128, 2, 0.8)"
         },
         "mode": "markers",
         "name": "Cluster 1",
         "text": "",
         "type": "scatter",
         "x": [
          1.74152799585739
         ],
         "y": [
          0
         ]
        },
        {
         "marker": {
          "color": "rgba(255, 128, 2, 0.8)"
         },
         "mode": "markers",
         "name": "Cluster 1",
         "text": "",
         "type": "scatter",
         "x": [
          3.160951544052967
         ],
         "y": [
          0
         ]
        },
        {
         "marker": {
          "color": "rgba(255, 128, 2, 0.8)"
         },
         "mode": "markers",
         "name": "Cluster 1",
         "text": "",
         "type": "scatter",
         "x": [
          0.5949146405172901
         ],
         "y": [
          0
         ]
        },
        {
         "marker": {
          "color": "rgba(255, 128, 255, 0.8)"
         },
         "mode": "markers",
         "name": "Cluster 0",
         "text": "",
         "type": "scatter",
         "x": [
          -4.293521687653266
         ],
         "y": [
          0
         ]
        },
        {
         "marker": {
          "color": "rgba(255, 128, 2, 0.8)"
         },
         "mode": "markers",
         "name": "Cluster 1",
         "text": "",
         "type": "scatter",
         "x": [
          4.157303551833626
         ],
         "y": [
          0
         ]
        },
        {
         "marker": {
          "color": "rgba(255, 128, 255, 0.8)"
         },
         "mode": "markers",
         "name": "Cluster 0",
         "text": "",
         "type": "scatter",
         "x": [
          -0.9437844473429581
         ],
         "y": [
          0
         ]
        },
        {
         "marker": {
          "color": "rgba(255, 128, 2, 0.8)"
         },
         "mode": "markers",
         "name": "Cluster 1",
         "text": "",
         "type": "scatter",
         "x": [
          3.517970512678812
         ],
         "y": [
          0
         ]
        },
        {
         "marker": {
          "color": "rgba(255, 128, 2, 0.8)"
         },
         "mode": "markers",
         "name": "Cluster 1",
         "text": "",
         "type": "scatter",
         "x": [
          3.5598964925542482
         ],
         "y": [
          0
         ]
        },
        {
         "marker": {
          "color": "rgba(255, 128, 2, 0.8)"
         },
         "mode": "markers",
         "name": "Cluster 1",
         "text": "",
         "type": "scatter",
         "x": [
          4.9128152325756895
         ],
         "y": [
          0
         ]
        },
        {
         "marker": {
          "color": "rgba(255, 128, 255, 0.8)"
         },
         "mode": "markers",
         "name": "Cluster 0",
         "text": "",
         "type": "scatter",
         "x": [
          -2.672074663829871
         ],
         "y": [
          0
         ]
        },
        {
         "marker": {
          "color": "rgba(255, 128, 255, 0.8)"
         },
         "mode": "markers",
         "name": "Cluster 0",
         "text": "",
         "type": "scatter",
         "x": [
          -3.2181382581550033
         ],
         "y": [
          0
         ]
        },
        {
         "marker": {
          "color": "rgba(255, 128, 255, 0.8)"
         },
         "mode": "markers",
         "name": "Cluster 0",
         "text": "",
         "type": "scatter",
         "x": [
          -2.749671341920564
         ],
         "y": [
          0
         ]
        },
        {
         "marker": {
          "color": "rgba(255, 128, 2, 0.8)"
         },
         "mode": "markers",
         "name": "Cluster 1",
         "text": "",
         "type": "scatter",
         "x": [
          1.8238435257136147
         ],
         "y": [
          0
         ]
        },
        {
         "marker": {
          "color": "rgba(255, 128, 255, 0.8)"
         },
         "mode": "markers",
         "name": "Cluster 0",
         "text": "",
         "type": "scatter",
         "x": [
          -2.102145286836269
         ],
         "y": [
          0
         ]
        },
        {
         "marker": {
          "color": "rgba(255, 128, 255, 0.8)"
         },
         "mode": "markers",
         "name": "Cluster 0",
         "text": "",
         "type": "scatter",
         "x": [
          -2.2829880158297153
         ],
         "y": [
          0
         ]
        },
        {
         "marker": {
          "color": "rgba(255, 128, 2, 0.8)"
         },
         "mode": "markers",
         "name": "Cluster 1",
         "text": "",
         "type": "scatter",
         "x": [
          1.9894168748323136
         ],
         "y": [
          0
         ]
        },
        {
         "marker": {
          "color": "rgba(255, 128, 2, 0.8)"
         },
         "mode": "markers",
         "name": "Cluster 1",
         "text": "",
         "type": "scatter",
         "x": [
          3.5321164450453457
         ],
         "y": [
          0
         ]
        },
        {
         "marker": {
          "color": "rgba(255, 128, 2, 0.8)"
         },
         "mode": "markers",
         "name": "Cluster 1",
         "text": "",
         "type": "scatter",
         "x": [
          4.084921832659713
         ],
         "y": [
          0
         ]
        },
        {
         "marker": {
          "color": "rgba(255, 128, 2, 0.8)"
         },
         "mode": "markers",
         "name": "Cluster 1",
         "text": "",
         "type": "scatter",
         "x": [
          1.0050251693229584
         ],
         "y": [
          0
         ]
        },
        {
         "marker": {
          "color": "rgba(255, 128, 2, 0.8)"
         },
         "mode": "markers",
         "name": "Cluster 1",
         "text": "",
         "type": "scatter",
         "x": [
          1.1902557159257208
         ],
         "y": [
          0
         ]
        },
        {
         "marker": {
          "color": "rgba(255, 128, 255, 0.8)"
         },
         "mode": "markers",
         "name": "Cluster 0",
         "text": "",
         "type": "scatter",
         "x": [
          -2.2379823329218245
         ],
         "y": [
          0
         ]
        },
        {
         "marker": {
          "color": "rgba(255, 128, 255, 0.8)"
         },
         "mode": "markers",
         "name": "Cluster 0",
         "text": "",
         "type": "scatter",
         "x": [
          -2.6833562375495497
         ],
         "y": [
          0
         ]
        },
        {
         "marker": {
          "color": "rgba(255, 128, 2, 0.8)"
         },
         "mode": "markers",
         "name": "Cluster 1",
         "text": "",
         "type": "scatter",
         "x": [
          3.3190258897213476
         ],
         "y": [
          0
         ]
        },
        {
         "marker": {
          "color": "rgba(255, 128, 255, 0.8)"
         },
         "mode": "markers",
         "name": "Cluster 0",
         "text": "",
         "type": "scatter",
         "x": [
          -2.3903971914432733
         ],
         "y": [
          0
         ]
        },
        {
         "marker": {
          "color": "rgba(255, 128, 255, 0.8)"
         },
         "mode": "markers",
         "name": "Cluster 0",
         "text": "",
         "type": "scatter",
         "x": [
          -0.3625999353519882
         ],
         "y": [
          0
         ]
        },
        {
         "marker": {
          "color": "rgba(255, 128, 255, 0.8)"
         },
         "mode": "markers",
         "name": "Cluster 0",
         "text": "",
         "type": "scatter",
         "x": [
          -3.814023640618078
         ],
         "y": [
          0
         ]
        },
        {
         "marker": {
          "color": "rgba(255, 128, 255, 0.8)"
         },
         "mode": "markers",
         "name": "Cluster 0",
         "text": "",
         "type": "scatter",
         "x": [
          -1.4006248513328878
         ],
         "y": [
          0
         ]
        },
        {
         "marker": {
          "color": "rgba(255, 128, 255, 0.8)"
         },
         "mode": "markers",
         "name": "Cluster 0",
         "text": "",
         "type": "scatter",
         "x": [
          -2.0229832258002607
         ],
         "y": [
          0
         ]
        },
        {
         "marker": {
          "color": "rgba(255, 128, 255, 0.8)"
         },
         "mode": "markers",
         "name": "Cluster 0",
         "text": "",
         "type": "scatter",
         "x": [
          -2.4669977818840074
         ],
         "y": [
          0
         ]
        },
        {
         "marker": {
          "color": "rgba(255, 128, 255, 0.8)"
         },
         "mode": "markers",
         "name": "Cluster 0",
         "text": "",
         "type": "scatter",
         "x": [
          -2.942278984780004
         ],
         "y": [
          0
         ]
        },
        {
         "marker": {
          "color": "rgba(255, 128, 2, 0.8)"
         },
         "mode": "markers",
         "name": "Cluster 1",
         "text": "",
         "type": "scatter",
         "x": [
          3.475577122375078
         ],
         "y": [
          0
         ]
        },
        {
         "marker": {
          "color": "rgba(255, 128, 2, 0.8)"
         },
         "mode": "markers",
         "name": "Cluster 1",
         "text": "",
         "type": "scatter",
         "x": [
          4.432619281997838
         ],
         "y": [
          0
         ]
        },
        {
         "marker": {
          "color": "rgba(255, 128, 255, 0.8)"
         },
         "mode": "markers",
         "name": "Cluster 0",
         "text": "",
         "type": "scatter",
         "x": [
          -4.818445752960172
         ],
         "y": [
          0
         ]
        },
        {
         "marker": {
          "color": "rgba(255, 128, 255, 0.8)"
         },
         "mode": "markers",
         "name": "Cluster 0",
         "text": "",
         "type": "scatter",
         "x": [
          -1.3056898032276443
         ],
         "y": [
          0
         ]
        },
        {
         "marker": {
          "color": "rgba(255, 128, 2, 0.8)"
         },
         "mode": "markers",
         "name": "Cluster 1",
         "text": "",
         "type": "scatter",
         "x": [
          1.2091561884166449
         ],
         "y": [
          0
         ]
        },
        {
         "marker": {
          "color": "rgba(255, 128, 255, 0.8)"
         },
         "mode": "markers",
         "name": "Cluster 0",
         "text": "",
         "type": "scatter",
         "x": [
          -2.924247654550116
         ],
         "y": [
          0
         ]
        },
        {
         "marker": {
          "color": "rgba(255, 128, 255, 0.8)"
         },
         "mode": "markers",
         "name": "Cluster 0",
         "text": "",
         "type": "scatter",
         "x": [
          -2.323961290086536
         ],
         "y": [
          0
         ]
        },
        {
         "marker": {
          "color": "rgba(255, 128, 255, 0.8)"
         },
         "mode": "markers",
         "name": "Cluster 0",
         "text": "",
         "type": "scatter",
         "x": [
          -0.9018872416257068
         ],
         "y": [
          0
         ]
        },
        {
         "marker": {
          "color": "rgba(255, 128, 255, 0.8)"
         },
         "mode": "markers",
         "name": "Cluster 0",
         "text": "",
         "type": "scatter",
         "x": [
          -0.3334246607409416
         ],
         "y": [
          0
         ]
        },
        {
         "marker": {
          "color": "rgba(255, 128, 255, 0.8)"
         },
         "mode": "markers",
         "name": "Cluster 0",
         "text": "",
         "type": "scatter",
         "x": [
          -2.517470403970857
         ],
         "y": [
          0
         ]
        },
        {
         "marker": {
          "color": "rgba(255, 128, 255, 0.8)"
         },
         "mode": "markers",
         "name": "Cluster 0",
         "text": "",
         "type": "scatter",
         "x": [
          -3.355083555049063
         ],
         "y": [
          0
         ]
        },
        {
         "marker": {
          "color": "rgba(255, 128, 255, 0.8)"
         },
         "mode": "markers",
         "name": "Cluster 0",
         "text": "",
         "type": "scatter",
         "x": [
          -2.3958147312742755
         ],
         "y": [
          0
         ]
        },
        {
         "marker": {
          "color": "rgba(255, 128, 2, 0.8)"
         },
         "mode": "markers",
         "name": "Cluster 1",
         "text": "",
         "type": "scatter",
         "x": [
          0.441765251169458
         ],
         "y": [
          0
         ]
        },
        {
         "marker": {
          "color": "rgba(255, 128, 255, 0.8)"
         },
         "mode": "markers",
         "name": "Cluster 0",
         "text": "",
         "type": "scatter",
         "x": [
          -4.871637872360795
         ],
         "y": [
          0
         ]
        },
        {
         "marker": {
          "color": "rgba(255, 128, 2, 0.8)"
         },
         "mode": "markers",
         "name": "Cluster 1",
         "text": "",
         "type": "scatter",
         "x": [
          2.537276540276398
         ],
         "y": [
          0
         ]
        },
        {
         "marker": {
          "color": "rgba(255, 128, 2, 0.8)"
         },
         "mode": "markers",
         "name": "Cluster 1",
         "text": "",
         "type": "scatter",
         "x": [
          4.117783368532887
         ],
         "y": [
          0
         ]
        },
        {
         "marker": {
          "color": "rgba(255, 128, 2, 0.8)"
         },
         "mode": "markers",
         "name": "Cluster 1",
         "text": "",
         "type": "scatter",
         "x": [
          3.612965255014185
         ],
         "y": [
          0
         ]
        },
        {
         "marker": {
          "color": "rgba(255, 128, 2, 0.8)"
         },
         "mode": "markers",
         "name": "Cluster 1",
         "text": "",
         "type": "scatter",
         "x": [
          1.6376469177503403
         ],
         "y": [
          0
         ]
        },
        {
         "marker": {
          "color": "rgba(255, 128, 255, 0.8)"
         },
         "mode": "markers",
         "name": "Cluster 0",
         "text": "",
         "type": "scatter",
         "x": [
          -2.506522743157457
         ],
         "y": [
          0
         ]
        },
        {
         "marker": {
          "color": "rgba(255, 128, 255, 0.8)"
         },
         "mode": "markers",
         "name": "Cluster 0",
         "text": "",
         "type": "scatter",
         "x": [
          -0.22655874509315566
         ],
         "y": [
          0
         ]
        },
        {
         "marker": {
          "color": "rgba(255, 128, 2, 0.8)"
         },
         "mode": "markers",
         "name": "Cluster 1",
         "text": "",
         "type": "scatter",
         "x": [
          1.4602309426517537
         ],
         "y": [
          0
         ]
        },
        {
         "marker": {
          "color": "rgba(255, 128, 255, 0.8)"
         },
         "mode": "markers",
         "name": "Cluster 0",
         "text": "",
         "type": "scatter",
         "x": [
          -5.076698981095328
         ],
         "y": [
          0
         ]
        },
        {
         "marker": {
          "color": "rgba(255, 128, 2, 0.8)"
         },
         "mode": "markers",
         "name": "Cluster 1",
         "text": "",
         "type": "scatter",
         "x": [
          2.537318213793625
         ],
         "y": [
          0
         ]
        },
        {
         "marker": {
          "color": "rgba(255, 128, 2, 0.8)"
         },
         "mode": "markers",
         "name": "Cluster 1",
         "text": "",
         "type": "scatter",
         "x": [
          1.524428419834136
         ],
         "y": [
          0
         ]
        },
        {
         "marker": {
          "color": "rgba(255, 128, 2, 0.8)"
         },
         "mode": "markers",
         "name": "Cluster 1",
         "text": "",
         "type": "scatter",
         "x": [
          4.198222269327438
         ],
         "y": [
          0
         ]
        },
        {
         "marker": {
          "color": "rgba(255, 128, 2, 0.8)"
         },
         "mode": "markers",
         "name": "Cluster 1",
         "text": "",
         "type": "scatter",
         "x": [
          3.2802193407582467
         ],
         "y": [
          0
         ]
        },
        {
         "marker": {
          "color": "rgba(255, 128, 255, 0.8)"
         },
         "mode": "markers",
         "name": "Cluster 0",
         "text": "",
         "type": "scatter",
         "x": [
          -1.4504874283251905
         ],
         "y": [
          0
         ]
        },
        {
         "marker": {
          "color": "rgba(255, 128, 2, 0.8)"
         },
         "mode": "markers",
         "name": "Cluster 1",
         "text": "",
         "type": "scatter",
         "x": [
          4.207778768914727
         ],
         "y": [
          0
         ]
        },
        {
         "marker": {
          "color": "rgba(255, 128, 255, 0.8)"
         },
         "mode": "markers",
         "name": "Cluster 0",
         "text": "",
         "type": "scatter",
         "x": [
          -1.7864306894843096
         ],
         "y": [
          0
         ]
        },
        {
         "marker": {
          "color": "rgba(255, 128, 2, 0.8)"
         },
         "mode": "markers",
         "name": "Cluster 1",
         "text": "",
         "type": "scatter",
         "x": [
          4.053272403028875
         ],
         "y": [
          0
         ]
        },
        {
         "marker": {
          "color": "rgba(255, 128, 255, 0.8)"
         },
         "mode": "markers",
         "name": "Cluster 0",
         "text": "",
         "type": "scatter",
         "x": [
          -2.2153433220556287
         ],
         "y": [
          0
         ]
        },
        {
         "marker": {
          "color": "rgba(255, 128, 2, 0.8)"
         },
         "mode": "markers",
         "name": "Cluster 1",
         "text": "",
         "type": "scatter",
         "x": [
          0.7944230151409621
         ],
         "y": [
          0
         ]
        },
        {
         "marker": {
          "color": "rgba(255, 128, 255, 0.8)"
         },
         "mode": "markers",
         "name": "Cluster 0",
         "text": "",
         "type": "scatter",
         "x": [
          -5.834841738535186
         ],
         "y": [
          0
         ]
        },
        {
         "marker": {
          "color": "rgba(255, 128, 255, 0.8)"
         },
         "mode": "markers",
         "name": "Cluster 0",
         "text": "",
         "type": "scatter",
         "x": [
          -1.0667303222683695
         ],
         "y": [
          0
         ]
        },
        {
         "marker": {
          "color": "rgba(255, 128, 2, 0.8)"
         },
         "mode": "markers",
         "name": "Cluster 1",
         "text": "",
         "type": "scatter",
         "x": [
          4.031797361309157
         ],
         "y": [
          0
         ]
        },
        {
         "marker": {
          "color": "rgba(255, 128, 255, 0.8)"
         },
         "mode": "markers",
         "name": "Cluster 0",
         "text": "",
         "type": "scatter",
         "x": [
          -1.2113427051554675
         ],
         "y": [
          0
         ]
        },
        {
         "marker": {
          "color": "rgba(255, 128, 255, 0.8)"
         },
         "mode": "markers",
         "name": "Cluster 0",
         "text": "",
         "type": "scatter",
         "x": [
          -0.44075316598542247
         ],
         "y": [
          0
         ]
        },
        {
         "marker": {
          "color": "rgba(255, 128, 2, 0.8)"
         },
         "mode": "markers",
         "name": "Cluster 1",
         "text": "",
         "type": "scatter",
         "x": [
          0.7968575821784848
         ],
         "y": [
          0
         ]
        },
        {
         "marker": {
          "color": "rgba(255, 128, 255, 0.8)"
         },
         "mode": "markers",
         "name": "Cluster 0",
         "text": "",
         "type": "scatter",
         "x": [
          -3.7256365648592533
         ],
         "y": [
          0
         ]
        },
        {
         "marker": {
          "color": "rgba(255, 128, 255, 0.8)"
         },
         "mode": "markers",
         "name": "Cluster 0",
         "text": "",
         "type": "scatter",
         "x": [
          -0.03501256105291873
         ],
         "y": [
          0
         ]
        },
        {
         "marker": {
          "color": "rgba(255, 128, 2, 0.8)"
         },
         "mode": "markers",
         "name": "Cluster 1",
         "text": "",
         "type": "scatter",
         "x": [
          1.5865290287759102
         ],
         "y": [
          0
         ]
        },
        {
         "marker": {
          "color": "rgba(255, 128, 255, 0.8)"
         },
         "mode": "markers",
         "name": "Cluster 0",
         "text": "",
         "type": "scatter",
         "x": [
          -5.195548056606714
         ],
         "y": [
          0
         ]
        },
        {
         "marker": {
          "color": "rgba(255, 128, 255, 0.8)"
         },
         "mode": "markers",
         "name": "Cluster 0",
         "text": "",
         "type": "scatter",
         "x": [
          -2.0491786981899347
         ],
         "y": [
          0
         ]
        },
        {
         "marker": {
          "color": "rgba(255, 128, 2, 0.8)"
         },
         "mode": "markers",
         "name": "Cluster 1",
         "text": "",
         "type": "scatter",
         "x": [
          3.524673010378969
         ],
         "y": [
          0
         ]
        },
        {
         "marker": {
          "color": "rgba(255, 128, 255, 0.8)"
         },
         "mode": "markers",
         "name": "Cluster 0",
         "text": "",
         "type": "scatter",
         "x": [
          0.131003283790908
         ],
         "y": [
          0
         ]
        },
        {
         "marker": {
          "color": "rgba(255, 128, 255, 0.8)"
         },
         "mode": "markers",
         "name": "Cluster 0",
         "text": "",
         "type": "scatter",
         "x": [
          -1.9874195459993178
         ],
         "y": [
          0
         ]
        },
        {
         "marker": {
          "color": "rgba(255, 128, 2, 0.8)"
         },
         "mode": "markers",
         "name": "Cluster 1",
         "text": "",
         "type": "scatter",
         "x": [
          3.4236946154317027
         ],
         "y": [
          0
         ]
        },
        {
         "marker": {
          "color": "rgba(255, 128, 255, 0.8)"
         },
         "mode": "markers",
         "name": "Cluster 0",
         "text": "",
         "type": "scatter",
         "x": [
          -1.6421051450564217
         ],
         "y": [
          0
         ]
        },
        {
         "marker": {
          "color": "rgba(255, 128, 255, 0.8)"
         },
         "mode": "markers",
         "name": "Cluster 0",
         "text": "",
         "type": "scatter",
         "x": [
          -0.7543165610237879
         ],
         "y": [
          0
         ]
        },
        {
         "marker": {
          "color": "rgba(255, 128, 2, 0.8)"
         },
         "mode": "markers",
         "name": "Cluster 1",
         "text": "",
         "type": "scatter",
         "x": [
          4.34415586496777
         ],
         "y": [
          0
         ]
        },
        {
         "marker": {
          "color": "rgba(255, 128, 2, 0.8)"
         },
         "mode": "markers",
         "name": "Cluster 1",
         "text": "",
         "type": "scatter",
         "x": [
          1.3570626038947695
         ],
         "y": [
          0
         ]
        },
        {
         "marker": {
          "color": "rgba(255, 128, 255, 0.8)"
         },
         "mode": "markers",
         "name": "Cluster 0",
         "text": "",
         "type": "scatter",
         "x": [
          -0.4189099255328675
         ],
         "y": [
          0
         ]
        },
        {
         "marker": {
          "color": "rgba(255, 128, 255, 0.8)"
         },
         "mode": "markers",
         "name": "Cluster 0",
         "text": "",
         "type": "scatter",
         "x": [
          -0.3729143875203704
         ],
         "y": [
          0
         ]
        },
        {
         "marker": {
          "color": "rgba(255, 128, 255, 0.8)"
         },
         "mode": "markers",
         "name": "Cluster 0",
         "text": "",
         "type": "scatter",
         "x": [
          -2.266243246342181
         ],
         "y": [
          0
         ]
        },
        {
         "marker": {
          "color": "rgba(255, 128, 2, 0.8)"
         },
         "mode": "markers",
         "name": "Cluster 1",
         "text": "",
         "type": "scatter",
         "x": [
          0.16356256211131198
         ],
         "y": [
          0
         ]
        },
        {
         "marker": {
          "color": "rgba(255, 128, 2, 0.8)"
         },
         "mode": "markers",
         "name": "Cluster 1",
         "text": "",
         "type": "scatter",
         "x": [
          1.9733775139827248
         ],
         "y": [
          0
         ]
        },
        {
         "marker": {
          "color": "rgba(255, 128, 2, 0.8)"
         },
         "mode": "markers",
         "name": "Cluster 1",
         "text": "",
         "type": "scatter",
         "x": [
          3.4775414444369224
         ],
         "y": [
          0
         ]
        },
        {
         "marker": {
          "color": "rgba(255, 128, 255, 0.8)"
         },
         "mode": "markers",
         "name": "Cluster 0",
         "text": "",
         "type": "scatter",
         "x": [
          -3.1969039822114342
         ],
         "y": [
          0
         ]
        },
        {
         "marker": {
          "color": "rgba(255, 128, 255, 0.8)"
         },
         "mode": "markers",
         "name": "Cluster 0",
         "text": "",
         "type": "scatter",
         "x": [
          -2.0856609546579694
         ],
         "y": [
          0
         ]
        },
        {
         "marker": {
          "color": "rgba(255, 128, 2, 0.8)"
         },
         "mode": "markers",
         "name": "Cluster 1",
         "text": "",
         "type": "scatter",
         "x": [
          0.7775842962932344
         ],
         "y": [
          0
         ]
        },
        {
         "marker": {
          "color": "rgba(255, 128, 2, 0.8)"
         },
         "mode": "markers",
         "name": "Cluster 1",
         "text": "",
         "type": "scatter",
         "x": [
          1.338593242318051
         ],
         "y": [
          0
         ]
        },
        {
         "marker": {
          "color": "rgba(255, 128, 255, 0.8)"
         },
         "mode": "markers",
         "name": "Cluster 0",
         "text": "",
         "type": "scatter",
         "x": [
          -1.6390005072138722
         ],
         "y": [
          0
         ]
        },
        {
         "marker": {
          "color": "rgba(255, 128, 2, 0.8)"
         },
         "mode": "markers",
         "name": "Cluster 1",
         "text": "",
         "type": "scatter",
         "x": [
          4.073626696279123
         ],
         "y": [
          0
         ]
        },
        {
         "marker": {
          "color": "rgba(255, 128, 2, 0.8)"
         },
         "mode": "markers",
         "name": "Cluster 1",
         "text": "",
         "type": "scatter",
         "x": [
          1.9182308296223765
         ],
         "y": [
          0
         ]
        },
        {
         "marker": {
          "color": "rgba(255, 128, 2, 0.8)"
         },
         "mode": "markers",
         "name": "Cluster 1",
         "text": "",
         "type": "scatter",
         "x": [
          0.8938509116333623
         ],
         "y": [
          0
         ]
        },
        {
         "marker": {
          "color": "rgba(255, 128, 2, 0.8)"
         },
         "mode": "markers",
         "name": "Cluster 1",
         "text": "",
         "type": "scatter",
         "x": [
          1.405220679235924
         ],
         "y": [
          0
         ]
        },
        {
         "marker": {
          "color": "rgba(255, 128, 255, 0.8)"
         },
         "mode": "markers",
         "name": "Cluster 0",
         "text": "",
         "type": "scatter",
         "x": [
          -1.3065747647615988
         ],
         "y": [
          0
         ]
        },
        {
         "marker": {
          "color": "rgba(255, 128, 2, 0.8)"
         },
         "mode": "markers",
         "name": "Cluster 1",
         "text": "",
         "type": "scatter",
         "x": [
          1.9576595187127985
         ],
         "y": [
          0
         ]
        },
        {
         "marker": {
          "color": "rgba(255, 128, 255, 0.8)"
         },
         "mode": "markers",
         "name": "Cluster 0",
         "text": "",
         "type": "scatter",
         "x": [
          -0.9148509244764366
         ],
         "y": [
          0
         ]
        },
        {
         "marker": {
          "color": "rgba(255, 128, 2, 0.8)"
         },
         "mode": "markers",
         "name": "Cluster 1",
         "text": "",
         "type": "scatter",
         "x": [
          1.7352082352334859
         ],
         "y": [
          0
         ]
        },
        {
         "marker": {
          "color": "rgba(255, 128, 2, 0.8)"
         },
         "mode": "markers",
         "name": "Cluster 1",
         "text": "",
         "type": "scatter",
         "x": [
          1.3401800283710381
         ],
         "y": [
          0
         ]
        },
        {
         "marker": {
          "color": "rgba(255, 128, 255, 0.8)"
         },
         "mode": "markers",
         "name": "Cluster 0",
         "text": "",
         "type": "scatter",
         "x": [
          -1.4597130694135299
         ],
         "y": [
          0
         ]
        },
        {
         "marker": {
          "color": "rgba(255, 128, 255, 0.8)"
         },
         "mode": "markers",
         "name": "Cluster 0",
         "text": "",
         "type": "scatter",
         "x": [
          -3.1867534719342534
         ],
         "y": [
          0
         ]
        },
        {
         "marker": {
          "color": "rgba(255, 128, 2, 0.8)"
         },
         "mode": "markers",
         "name": "Cluster 1",
         "text": "",
         "type": "scatter",
         "x": [
          1.2932052011985984
         ],
         "y": [
          0
         ]
        },
        {
         "marker": {
          "color": "rgba(255, 128, 255, 0.8)"
         },
         "mode": "markers",
         "name": "Cluster 0",
         "text": "",
         "type": "scatter",
         "x": [
          -1.1058246919893275
         ],
         "y": [
          0
         ]
        },
        {
         "marker": {
          "color": "rgba(255, 128, 255, 0.8)"
         },
         "mode": "markers",
         "name": "Cluster 0",
         "text": "",
         "type": "scatter",
         "x": [
          -1.2313681596084527
         ],
         "y": [
          0
         ]
        },
        {
         "marker": {
          "color": "rgba(255, 128, 2, 0.8)"
         },
         "mode": "markers",
         "name": "Cluster 1",
         "text": "",
         "type": "scatter",
         "x": [
          5.6852750133743095
         ],
         "y": [
          0
         ]
        },
        {
         "marker": {
          "color": "rgba(255, 128, 255, 0.8)"
         },
         "mode": "markers",
         "name": "Cluster 0",
         "text": "",
         "type": "scatter",
         "x": [
          -2.363076135549847
         ],
         "y": [
          0
         ]
        },
        {
         "marker": {
          "color": "rgba(255, 128, 2, 0.8)"
         },
         "mode": "markers",
         "name": "Cluster 1",
         "text": "",
         "type": "scatter",
         "x": [
          0.8616780950536057
         ],
         "y": [
          0
         ]
        },
        {
         "marker": {
          "color": "rgba(255, 128, 2, 0.8)"
         },
         "mode": "markers",
         "name": "Cluster 1",
         "text": "",
         "type": "scatter",
         "x": [
          1.4415633604520017
         ],
         "y": [
          0
         ]
        },
        {
         "marker": {
          "color": "rgba(255, 128, 2, 0.8)"
         },
         "mode": "markers",
         "name": "Cluster 1",
         "text": "",
         "type": "scatter",
         "x": [
          4.133604132432981
         ],
         "y": [
          0
         ]
        },
        {
         "marker": {
          "color": "rgba(255, 128, 2, 0.8)"
         },
         "mode": "markers",
         "name": "Cluster 1",
         "text": "",
         "type": "scatter",
         "x": [
          4.936906929544343
         ],
         "y": [
          0
         ]
        },
        {
         "marker": {
          "color": "rgba(255, 128, 2, 0.8)"
         },
         "mode": "markers",
         "name": "Cluster 1",
         "text": "",
         "type": "scatter",
         "x": [
          3.1584396055097073
         ],
         "y": [
          0
         ]
        }
       ],
       "layout": {
        "autosize": true,
        "template": {
         "data": {
          "bar": [
           {
            "error_x": {
             "color": "#2a3f5f"
            },
            "error_y": {
             "color": "#2a3f5f"
            },
            "marker": {
             "line": {
              "color": "#E5ECF6",
              "width": 0.5
             },
             "pattern": {
              "fillmode": "overlay",
              "size": 10,
              "solidity": 0.2
             }
            },
            "type": "bar"
           }
          ],
          "barpolar": [
           {
            "marker": {
             "line": {
              "color": "#E5ECF6",
              "width": 0.5
             },
             "pattern": {
              "fillmode": "overlay",
              "size": 10,
              "solidity": 0.2
             }
            },
            "type": "barpolar"
           }
          ],
          "carpet": [
           {
            "aaxis": {
             "endlinecolor": "#2a3f5f",
             "gridcolor": "white",
             "linecolor": "white",
             "minorgridcolor": "white",
             "startlinecolor": "#2a3f5f"
            },
            "baxis": {
             "endlinecolor": "#2a3f5f",
             "gridcolor": "white",
             "linecolor": "white",
             "minorgridcolor": "white",
             "startlinecolor": "#2a3f5f"
            },
            "type": "carpet"
           }
          ],
          "choropleth": [
           {
            "colorbar": {
             "outlinewidth": 0,
             "ticks": ""
            },
            "type": "choropleth"
           }
          ],
          "contour": [
           {
            "colorbar": {
             "outlinewidth": 0,
             "ticks": ""
            },
            "colorscale": [
             [
              0,
              "#0d0887"
             ],
             [
              0.1111111111111111,
              "#46039f"
             ],
             [
              0.2222222222222222,
              "#7201a8"
             ],
             [
              0.3333333333333333,
              "#9c179e"
             ],
             [
              0.4444444444444444,
              "#bd3786"
             ],
             [
              0.5555555555555556,
              "#d8576b"
             ],
             [
              0.6666666666666666,
              "#ed7953"
             ],
             [
              0.7777777777777778,
              "#fb9f3a"
             ],
             [
              0.8888888888888888,
              "#fdca26"
             ],
             [
              1,
              "#f0f921"
             ]
            ],
            "type": "contour"
           }
          ],
          "contourcarpet": [
           {
            "colorbar": {
             "outlinewidth": 0,
             "ticks": ""
            },
            "type": "contourcarpet"
           }
          ],
          "heatmap": [
           {
            "colorbar": {
             "outlinewidth": 0,
             "ticks": ""
            },
            "colorscale": [
             [
              0,
              "#0d0887"
             ],
             [
              0.1111111111111111,
              "#46039f"
             ],
             [
              0.2222222222222222,
              "#7201a8"
             ],
             [
              0.3333333333333333,
              "#9c179e"
             ],
             [
              0.4444444444444444,
              "#bd3786"
             ],
             [
              0.5555555555555556,
              "#d8576b"
             ],
             [
              0.6666666666666666,
              "#ed7953"
             ],
             [
              0.7777777777777778,
              "#fb9f3a"
             ],
             [
              0.8888888888888888,
              "#fdca26"
             ],
             [
              1,
              "#f0f921"
             ]
            ],
            "type": "heatmap"
           }
          ],
          "heatmapgl": [
           {
            "colorbar": {
             "outlinewidth": 0,
             "ticks": ""
            },
            "colorscale": [
             [
              0,
              "#0d0887"
             ],
             [
              0.1111111111111111,
              "#46039f"
             ],
             [
              0.2222222222222222,
              "#7201a8"
             ],
             [
              0.3333333333333333,
              "#9c179e"
             ],
             [
              0.4444444444444444,
              "#bd3786"
             ],
             [
              0.5555555555555556,
              "#d8576b"
             ],
             [
              0.6666666666666666,
              "#ed7953"
             ],
             [
              0.7777777777777778,
              "#fb9f3a"
             ],
             [
              0.8888888888888888,
              "#fdca26"
             ],
             [
              1,
              "#f0f921"
             ]
            ],
            "type": "heatmapgl"
           }
          ],
          "histogram": [
           {
            "marker": {
             "pattern": {
              "fillmode": "overlay",
              "size": 10,
              "solidity": 0.2
             }
            },
            "type": "histogram"
           }
          ],
          "histogram2d": [
           {
            "colorbar": {
             "outlinewidth": 0,
             "ticks": ""
            },
            "colorscale": [
             [
              0,
              "#0d0887"
             ],
             [
              0.1111111111111111,
              "#46039f"
             ],
             [
              0.2222222222222222,
              "#7201a8"
             ],
             [
              0.3333333333333333,
              "#9c179e"
             ],
             [
              0.4444444444444444,
              "#bd3786"
             ],
             [
              0.5555555555555556,
              "#d8576b"
             ],
             [
              0.6666666666666666,
              "#ed7953"
             ],
             [
              0.7777777777777778,
              "#fb9f3a"
             ],
             [
              0.8888888888888888,
              "#fdca26"
             ],
             [
              1,
              "#f0f921"
             ]
            ],
            "type": "histogram2d"
           }
          ],
          "histogram2dcontour": [
           {
            "colorbar": {
             "outlinewidth": 0,
             "ticks": ""
            },
            "colorscale": [
             [
              0,
              "#0d0887"
             ],
             [
              0.1111111111111111,
              "#46039f"
             ],
             [
              0.2222222222222222,
              "#7201a8"
             ],
             [
              0.3333333333333333,
              "#9c179e"
             ],
             [
              0.4444444444444444,
              "#bd3786"
             ],
             [
              0.5555555555555556,
              "#d8576b"
             ],
             [
              0.6666666666666666,
              "#ed7953"
             ],
             [
              0.7777777777777778,
              "#fb9f3a"
             ],
             [
              0.8888888888888888,
              "#fdca26"
             ],
             [
              1,
              "#f0f921"
             ]
            ],
            "type": "histogram2dcontour"
           }
          ],
          "mesh3d": [
           {
            "colorbar": {
             "outlinewidth": 0,
             "ticks": ""
            },
            "type": "mesh3d"
           }
          ],
          "parcoords": [
           {
            "line": {
             "colorbar": {
              "outlinewidth": 0,
              "ticks": ""
             }
            },
            "type": "parcoords"
           }
          ],
          "pie": [
           {
            "automargin": true,
            "type": "pie"
           }
          ],
          "scatter": [
           {
            "fillpattern": {
             "fillmode": "overlay",
             "size": 10,
             "solidity": 0.2
            },
            "type": "scatter"
           }
          ],
          "scatter3d": [
           {
            "line": {
             "colorbar": {
              "outlinewidth": 0,
              "ticks": ""
             }
            },
            "marker": {
             "colorbar": {
              "outlinewidth": 0,
              "ticks": ""
             }
            },
            "type": "scatter3d"
           }
          ],
          "scattercarpet": [
           {
            "marker": {
             "colorbar": {
              "outlinewidth": 0,
              "ticks": ""
             }
            },
            "type": "scattercarpet"
           }
          ],
          "scattergeo": [
           {
            "marker": {
             "colorbar": {
              "outlinewidth": 0,
              "ticks": ""
             }
            },
            "type": "scattergeo"
           }
          ],
          "scattergl": [
           {
            "marker": {
             "colorbar": {
              "outlinewidth": 0,
              "ticks": ""
             }
            },
            "type": "scattergl"
           }
          ],
          "scattermapbox": [
           {
            "marker": {
             "colorbar": {
              "outlinewidth": 0,
              "ticks": ""
             }
            },
            "type": "scattermapbox"
           }
          ],
          "scatterpolar": [
           {
            "marker": {
             "colorbar": {
              "outlinewidth": 0,
              "ticks": ""
             }
            },
            "type": "scatterpolar"
           }
          ],
          "scatterpolargl": [
           {
            "marker": {
             "colorbar": {
              "outlinewidth": 0,
              "ticks": ""
             }
            },
            "type": "scatterpolargl"
           }
          ],
          "scatterternary": [
           {
            "marker": {
             "colorbar": {
              "outlinewidth": 0,
              "ticks": ""
             }
            },
            "type": "scatterternary"
           }
          ],
          "surface": [
           {
            "colorbar": {
             "outlinewidth": 0,
             "ticks": ""
            },
            "colorscale": [
             [
              0,
              "#0d0887"
             ],
             [
              0.1111111111111111,
              "#46039f"
             ],
             [
              0.2222222222222222,
              "#7201a8"
             ],
             [
              0.3333333333333333,
              "#9c179e"
             ],
             [
              0.4444444444444444,
              "#bd3786"
             ],
             [
              0.5555555555555556,
              "#d8576b"
             ],
             [
              0.6666666666666666,
              "#ed7953"
             ],
             [
              0.7777777777777778,
              "#fb9f3a"
             ],
             [
              0.8888888888888888,
              "#fdca26"
             ],
             [
              1,
              "#f0f921"
             ]
            ],
            "type": "surface"
           }
          ],
          "table": [
           {
            "cells": {
             "fill": {
              "color": "#EBF0F8"
             },
             "line": {
              "color": "white"
             }
            },
            "header": {
             "fill": {
              "color": "#C8D4E3"
             },
             "line": {
              "color": "white"
             }
            },
            "type": "table"
           }
          ]
         },
         "layout": {
          "annotationdefaults": {
           "arrowcolor": "#2a3f5f",
           "arrowhead": 0,
           "arrowwidth": 1
          },
          "autotypenumbers": "strict",
          "coloraxis": {
           "colorbar": {
            "outlinewidth": 0,
            "ticks": ""
           }
          },
          "colorscale": {
           "diverging": [
            [
             0,
             "#8e0152"
            ],
            [
             0.1,
             "#c51b7d"
            ],
            [
             0.2,
             "#de77ae"
            ],
            [
             0.3,
             "#f1b6da"
            ],
            [
             0.4,
             "#fde0ef"
            ],
            [
             0.5,
             "#f7f7f7"
            ],
            [
             0.6,
             "#e6f5d0"
            ],
            [
             0.7,
             "#b8e186"
            ],
            [
             0.8,
             "#7fbc41"
            ],
            [
             0.9,
             "#4d9221"
            ],
            [
             1,
             "#276419"
            ]
           ],
           "sequential": [
            [
             0,
             "#0d0887"
            ],
            [
             0.1111111111111111,
             "#46039f"
            ],
            [
             0.2222222222222222,
             "#7201a8"
            ],
            [
             0.3333333333333333,
             "#9c179e"
            ],
            [
             0.4444444444444444,
             "#bd3786"
            ],
            [
             0.5555555555555556,
             "#d8576b"
            ],
            [
             0.6666666666666666,
             "#ed7953"
            ],
            [
             0.7777777777777778,
             "#fb9f3a"
            ],
            [
             0.8888888888888888,
             "#fdca26"
            ],
            [
             1,
             "#f0f921"
            ]
           ],
           "sequentialminus": [
            [
             0,
             "#0d0887"
            ],
            [
             0.1111111111111111,
             "#46039f"
            ],
            [
             0.2222222222222222,
             "#7201a8"
            ],
            [
             0.3333333333333333,
             "#9c179e"
            ],
            [
             0.4444444444444444,
             "#bd3786"
            ],
            [
             0.5555555555555556,
             "#d8576b"
            ],
            [
             0.6666666666666666,
             "#ed7953"
            ],
            [
             0.7777777777777778,
             "#fb9f3a"
            ],
            [
             0.8888888888888888,
             "#fdca26"
            ],
            [
             1,
             "#f0f921"
            ]
           ]
          },
          "colorway": [
           "#636efa",
           "#EF553B",
           "#00cc96",
           "#ab63fa",
           "#FFA15A",
           "#19d3f3",
           "#FF6692",
           "#B6E880",
           "#FF97FF",
           "#FECB52"
          ],
          "font": {
           "color": "#2a3f5f"
          },
          "geo": {
           "bgcolor": "white",
           "lakecolor": "white",
           "landcolor": "#E5ECF6",
           "showlakes": true,
           "showland": true,
           "subunitcolor": "white"
          },
          "hoverlabel": {
           "align": "left"
          },
          "hovermode": "closest",
          "mapbox": {
           "style": "light"
          },
          "paper_bgcolor": "white",
          "plot_bgcolor": "#E5ECF6",
          "polar": {
           "angularaxis": {
            "gridcolor": "white",
            "linecolor": "white",
            "ticks": ""
           },
           "bgcolor": "#E5ECF6",
           "radialaxis": {
            "gridcolor": "white",
            "linecolor": "white",
            "ticks": ""
           }
          },
          "scene": {
           "xaxis": {
            "backgroundcolor": "#E5ECF6",
            "gridcolor": "white",
            "gridwidth": 2,
            "linecolor": "white",
            "showbackground": true,
            "ticks": "",
            "zerolinecolor": "white"
           },
           "yaxis": {
            "backgroundcolor": "#E5ECF6",
            "gridcolor": "white",
            "gridwidth": 2,
            "linecolor": "white",
            "showbackground": true,
            "ticks": "",
            "zerolinecolor": "white"
           },
           "zaxis": {
            "backgroundcolor": "#E5ECF6",
            "gridcolor": "white",
            "gridwidth": 2,
            "linecolor": "white",
            "showbackground": true,
            "ticks": "",
            "zerolinecolor": "white"
           }
          },
          "shapedefaults": {
           "line": {
            "color": "#2a3f5f"
           }
          },
          "ternary": {
           "aaxis": {
            "gridcolor": "white",
            "linecolor": "white",
            "ticks": ""
           },
           "baxis": {
            "gridcolor": "white",
            "linecolor": "white",
            "ticks": ""
           },
           "bgcolor": "#E5ECF6",
           "caxis": {
            "gridcolor": "white",
            "linecolor": "white",
            "ticks": ""
           }
          },
          "title": {
           "x": 0.05
          },
          "xaxis": {
           "automargin": true,
           "gridcolor": "white",
           "linecolor": "white",
           "ticks": "",
           "title": {
            "standoff": 15
           },
           "zerolinecolor": "white",
           "zerolinewidth": 2
          },
          "yaxis": {
           "automargin": true,
           "gridcolor": "white",
           "linecolor": "white",
           "ticks": "",
           "title": {
            "standoff": 15
           },
           "zerolinecolor": "white",
           "zerolinewidth": 2
          }
         }
        },
        "title": {
         "text": "Visualizing Clusters in One Dimension Using PCA"
        },
        "xaxis": {
         "autorange": true,
         "range": [
          -6.5341300408154765,
          6.3845633156546
         ],
         "ticklen": 5,
         "title": {
          "text": "PC1"
         },
         "type": "linear",
         "zeroline": false
        },
        "yaxis": {
         "autorange": true,
         "range": [
          -1,
          1
         ],
         "ticklen": 5,
         "title": {
          "text": ""
         },
         "type": "linear",
         "zeroline": false
        }
       }
      },
      "image/png": "[encoded data removed]",
      "text/html": [
       "<div>                            <div id=\"9fba42d7-50e3-4114-9db3-6827dc39e12e\" class=\"plotly-graph-div\" style=\"height:525px; width:100%;\"></div>            <script type=\"text/javascript\">                require([\"plotly\"], function(Plotly) {                    window.PLOTLYENV=window.PLOTLYENV || {};                                    if (document.getElementById(\"9fba42d7-50e3-4114-9db3-6827dc39e12e\")) {                    Plotly.newPlot(                        \"9fba42d7-50e3-4114-9db3-6827dc39e12e\",                        [{\"marker\":{\"color\":\"rgba(255, 128, 2, 0.8)\"},\"mode\":\"markers\",\"name\":\"Cluster 1\",\"showlegend\":false,\"text\":\"\",\"x\":[3.168327815329737],\"y\":[0],\"type\":\"scatter\"},{\"marker\":{\"color\":\"rgba(255, 128, 2, 0.8)\"},\"mode\":\"markers\",\"name\":\"Cluster 1\",\"text\":\"\",\"x\":[0.8637690774296529],\"y\":[0],\"type\":\"scatter\"},{\"marker\":{\"color\":\"rgba(255, 128, 255, 0.8)\"},\"mode\":\"markers\",\"name\":\"Cluster 0\",\"text\":\"\",\"x\":[-2.0397487152694556],\"y\":[0],\"type\":\"scatter\"},{\"marker\":{\"color\":\"rgba(255, 128, 255, 0.8)\"},\"mode\":\"markers\",\"name\":\"Cluster 0\",\"text\":\"\",\"x\":[-2.8691900782570094],\"y\":[0],\"type\":\"scatter\"},{\"marker\":{\"color\":\"rgba(255, 128, 255, 0.8)\"},\"mode\":\"markers\",\"name\":\"Cluster 0\",\"text\":\"\",\"x\":[-1.9907377741188903],\"y\":[0],\"type\":\"scatter\"},{\"marker\":{\"color\":\"rgba(255, 128, 255, 0.8)\"},\"mode\":\"markers\",\"name\":\"Cluster 0\",\"text\":\"\",\"x\":[-2.972931840422325],\"y\":[0],\"type\":\"scatter\"},{\"marker\":{\"color\":\"rgba(255, 128, 2, 0.8)\"},\"mode\":\"markers\",\"name\":\"Cluster 1\",\"text\":\"\",\"x\":[0.9721970721288963],\"y\":[0],\"type\":\"scatter\"},{\"marker\":{\"color\":\"rgba(255, 128, 255, 0.8)\"},\"mode\":\"markers\",\"name\":\"Cluster 0\",\"text\":\"\",\"x\":[-1.9509281751638607],\"y\":[0],\"type\":\"scatter\"},{\"marker\":{\"color\":\"rgba(255, 128, 2, 0.8)\"},\"mode\":\"markers\",\"name\":\"Cluster 1\",\"text\":\"\",\"x\":[0.5233651821568894],\"y\":[0],\"type\":\"scatter\"},{\"marker\":{\"color\":\"rgba(255, 128, 2, 0.8)\"},\"mode\":\"markers\",\"name\":\"Cluster 1\",\"text\":\"\",\"x\":[2.678068298859867],\"y\":[0],\"type\":\"scatter\"},{\"marker\":{\"color\":\"rgba(255, 128, 2, 0.8)\"},\"mode\":\"markers\",\"name\":\"Cluster 1\",\"text\":\"\",\"x\":[3.6723028812702476],\"y\":[0],\"type\":\"scatter\"},{\"marker\":{\"color\":\"rgba(255, 128, 2, 0.8)\"},\"mode\":\"markers\",\"name\":\"Cluster 1\",\"text\":\"\",\"x\":[1.74152799585739],\"y\":[0],\"type\":\"scatter\"},{\"marker\":{\"color\":\"rgba(255, 128, 2, 0.8)\"},\"mode\":\"markers\",\"name\":\"Cluster 1\",\"text\":\"\",\"x\":[3.160951544052967],\"y\":[0],\"type\":\"scatter\"},{\"marker\":{\"color\":\"rgba(255, 128, 2, 0.8)\"},\"mode\":\"markers\",\"name\":\"Cluster 1\",\"text\":\"\",\"x\":[0.5949146405172901],\"y\":[0],\"type\":\"scatter\"},{\"marker\":{\"color\":\"rgba(255, 128, 255, 0.8)\"},\"mode\":\"markers\",\"name\":\"Cluster 0\",\"text\":\"\",\"x\":[-4.293521687653266],\"y\":[0],\"type\":\"scatter\"},{\"marker\":{\"color\":\"rgba(255, 128, 2, 0.8)\"},\"mode\":\"markers\",\"name\":\"Cluster 1\",\"text\":\"\",\"x\":[4.157303551833626],\"y\":[0],\"type\":\"scatter\"},{\"marker\":{\"color\":\"rgba(255, 128, 255, 0.8)\"},\"mode\":\"markers\",\"name\":\"Cluster 0\",\"text\":\"\",\"x\":[-0.9437844473429581],\"y\":[0],\"type\":\"scatter\"},{\"marker\":{\"color\":\"rgba(255, 128, 2, 0.8)\"},\"mode\":\"markers\",\"name\":\"Cluster 1\",\"text\":\"\",\"x\":[3.517970512678812],\"y\":[0],\"type\":\"scatter\"},{\"marker\":{\"color\":\"rgba(255, 128, 2, 0.8)\"},\"mode\":\"markers\",\"name\":\"Cluster 1\",\"text\":\"\",\"x\":[3.5598964925542482],\"y\":[0],\"type\":\"scatter\"},{\"marker\":{\"color\":\"rgba(255, 128, 2, 0.8)\"},\"mode\":\"markers\",\"name\":\"Cluster 1\",\"text\":\"\",\"x\":[4.9128152325756895],\"y\":[0],\"type\":\"scatter\"},{\"marker\":{\"color\":\"rgba(255, 128, 255, 0.8)\"},\"mode\":\"markers\",\"name\":\"Cluster 0\",\"text\":\"\",\"x\":[-2.672074663829871],\"y\":[0],\"type\":\"scatter\"},{\"marker\":{\"color\":\"rgba(255, 128, 255, 0.8)\"},\"mode\":\"markers\",\"name\":\"Cluster 0\",\"text\":\"\",\"x\":[-3.2181382581550033],\"y\":[0],\"type\":\"scatter\"},{\"marker\":{\"color\":\"rgba(255, 128, 255, 0.8)\"},\"mode\":\"markers\",\"name\":\"Cluster 0\",\"text\":\"\",\"x\":[-2.749671341920564],\"y\":[0],\"type\":\"scatter\"},{\"marker\":{\"color\":\"rgba(255, 128, 2, 0.8)\"},\"mode\":\"markers\",\"name\":\"Cluster 1\",\"text\":\"\",\"x\":[1.8238435257136147],\"y\":[0],\"type\":\"scatter\"},{\"marker\":{\"color\":\"rgba(255, 128, 255, 0.8)\"},\"mode\":\"markers\",\"name\":\"Cluster 0\",\"text\":\"\",\"x\":[-2.102145286836269],\"y\":[0],\"type\":\"scatter\"},{\"marker\":{\"color\":\"rgba(255, 128, 255, 0.8)\"},\"mode\":\"markers\",\"name\":\"Cluster 0\",\"text\":\"\",\"x\":[-2.2829880158297153],\"y\":[0],\"type\":\"scatter\"},{\"marker\":{\"color\":\"rgba(255, 128, 2, 0.8)\"},\"mode\":\"markers\",\"name\":\"Cluster 1\",\"text\":\"\",\"x\":[1.9894168748323136],\"y\":[0],\"type\":\"scatter\"},{\"marker\":{\"color\":\"rgba(255, 128, 2, 0.8)\"},\"mode\":\"markers\",\"name\":\"Cluster 1\",\"text\":\"\",\"x\":[3.5321164450453457],\"y\":[0],\"type\":\"scatter\"},{\"marker\":{\"color\":\"rgba(255, 128, 2, 0.8)\"},\"mode\":\"markers\",\"name\":\"Cluster 1\",\"text\":\"\",\"x\":[4.084921832659713],\"y\":[0],\"type\":\"scatter\"},{\"marker\":{\"color\":\"rgba(255, 128, 2, 0.8)\"},\"mode\":\"markers\",\"name\":\"Cluster 1\",\"text\":\"\",\"x\":[1.0050251693229584],\"y\":[0],\"type\":\"scatter\"},{\"marker\":{\"color\":\"rgba(255, 128, 2, 0.8)\"},\"mode\":\"markers\",\"name\":\"Cluster 1\",\"text\":\"\",\"x\":[1.1902557159257208],\"y\":[0],\"type\":\"scatter\"},{\"marker\":{\"color\":\"rgba(255, 128, 255, 0.8)\"},\"mode\":\"markers\",\"name\":\"Cluster 0\",\"text\":\"\",\"x\":[-2.2379823329218245],\"y\":[0],\"type\":\"scatter\"},{\"marker\":{\"color\":\"rgba(255, 128, 255, 0.8)\"},\"mode\":\"markers\",\"name\":\"Cluster 0\",\"text\":\"\",\"x\":[-2.6833562375495497],\"y\":[0],\"type\":\"scatter\"},{\"marker\":{\"color\":\"rgba(255, 128, 2, 0.8)\"},\"mode\":\"markers\",\"name\":\"Cluster 1\",\"text\":\"\",\"x\":[3.3190258897213476],\"y\":[0],\"type\":\"scatter\"},{\"marker\":{\"color\":\"rgba(255, 128, 255, 0.8)\"},\"mode\":\"markers\",\"name\":\"Cluster 0\",\"text\":\"\",\"x\":[-2.3903971914432733],\"y\":[0],\"type\":\"scatter\"},{\"marker\":{\"color\":\"rgba(255, 128, 255, 0.8)\"},\"mode\":\"markers\",\"name\":\"Cluster 0\",\"text\":\"\",\"x\":[-0.3625999353519882],\"y\":[0],\"type\":\"scatter\"},{\"marker\":{\"color\":\"rgba(255, 128, 255, 0.8)\"},\"mode\":\"markers\",\"name\":\"Cluster 0\",\"text\":\"\",\"x\":[-3.814023640618078],\"y\":[0],\"type\":\"scatter\"},{\"marker\":{\"color\":\"rgba(255, 128, 255, 0.8)\"},\"mode\":\"markers\",\"name\":\"Cluster 0\",\"text\":\"\",\"x\":[-1.4006248513328878],\"y\":[0],\"type\":\"scatter\"},{\"marker\":{\"color\":\"rgba(255, 128, 255, 0.8)\"},\"mode\":\"markers\",\"name\":\"Cluster 0\",\"text\":\"\",\"x\":[-2.0229832258002607],\"y\":[0],\"type\":\"scatter\"},{\"marker\":{\"color\":\"rgba(255, 128, 255, 0.8)\"},\"mode\":\"markers\",\"name\":\"Cluster 0\",\"text\":\"\",\"x\":[-2.4669977818840074],\"y\":[0],\"type\":\"scatter\"},{\"marker\":{\"color\":\"rgba(255, 128, 255, 0.8)\"},\"mode\":\"markers\",\"name\":\"Cluster 0\",\"text\":\"\",\"x\":[-2.942278984780004],\"y\":[0],\"type\":\"scatter\"},{\"marker\":{\"color\":\"rgba(255, 128, 2, 0.8)\"},\"mode\":\"markers\",\"name\":\"Cluster 1\",\"text\":\"\",\"x\":[3.475577122375078],\"y\":[0],\"type\":\"scatter\"},{\"marker\":{\"color\":\"rgba(255, 128, 2, 0.8)\"},\"mode\":\"markers\",\"name\":\"Cluster 1\",\"text\":\"\",\"x\":[4.432619281997838],\"y\":[0],\"type\":\"scatter\"},{\"marker\":{\"color\":\"rgba(255, 128, 255, 0.8)\"},\"mode\":\"markers\",\"name\":\"Cluster 0\",\"text\":\"\",\"x\":[-4.818445752960172],\"y\":[0],\"type\":\"scatter\"},{\"marker\":{\"color\":\"rgba(255, 128, 255, 0.8)\"},\"mode\":\"markers\",\"name\":\"Cluster 0\",\"text\":\"\",\"x\":[-1.3056898032276443],\"y\":[0],\"type\":\"scatter\"},{\"marker\":{\"color\":\"rgba(255, 128, 2, 0.8)\"},\"mode\":\"markers\",\"name\":\"Cluster 1\",\"text\":\"\",\"x\":[1.2091561884166449],\"y\":[0],\"type\":\"scatter\"},{\"marker\":{\"color\":\"rgba(255, 128, 255, 0.8)\"},\"mode\":\"markers\",\"name\":\"Cluster 0\",\"text\":\"\",\"x\":[-2.924247654550116],\"y\":[0],\"type\":\"scatter\"},{\"marker\":{\"color\":\"rgba(255, 128, 255, 0.8)\"},\"mode\":\"markers\",\"name\":\"Cluster 0\",\"text\":\"\",\"x\":[-2.323961290086536],\"y\":[0],\"type\":\"scatter\"},{\"marker\":{\"color\":\"rgba(255, 128, 255, 0.8)\"},\"mode\":\"markers\",\"name\":\"Cluster 0\",\"text\":\"\",\"x\":[-0.9018872416257068],\"y\":[0],\"type\":\"scatter\"},{\"marker\":{\"color\":\"rgba(255, 128, 255, 0.8)\"},\"mode\":\"markers\",\"name\":\"Cluster 0\",\"text\":\"\",\"x\":[-0.3334246607409416],\"y\":[0],\"type\":\"scatter\"},{\"marker\":{\"color\":\"rgba(255, 128, 255, 0.8)\"},\"mode\":\"markers\",\"name\":\"Cluster 0\",\"text\":\"\",\"x\":[-2.517470403970857],\"y\":[0],\"type\":\"scatter\"},{\"marker\":{\"color\":\"rgba(255, 128, 255, 0.8)\"},\"mode\":\"markers\",\"name\":\"Cluster 0\",\"text\":\"\",\"x\":[-3.355083555049063],\"y\":[0],\"type\":\"scatter\"},{\"marker\":{\"color\":\"rgba(255, 128, 255, 0.8)\"},\"mode\":\"markers\",\"name\":\"Cluster 0\",\"text\":\"\",\"x\":[-2.3958147312742755],\"y\":[0],\"type\":\"scatter\"},{\"marker\":{\"color\":\"rgba(255, 128, 2, 0.8)\"},\"mode\":\"markers\",\"name\":\"Cluster 1\",\"text\":\"\",\"x\":[0.441765251169458],\"y\":[0],\"type\":\"scatter\"},{\"marker\":{\"color\":\"rgba(255, 128, 255, 0.8)\"},\"mode\":\"markers\",\"name\":\"Cluster 0\",\"text\":\"\",\"x\":[-4.871637872360795],\"y\":[0],\"type\":\"scatter\"},{\"marker\":{\"color\":\"rgba(255, 128, 2, 0.8)\"},\"mode\":\"markers\",\"name\":\"Cluster 1\",\"text\":\"\",\"x\":[2.537276540276398],\"y\":[0],\"type\":\"scatter\"},{\"marker\":{\"color\":\"rgba(255, 128, 2, 0.8)\"},\"mode\":\"markers\",\"name\":\"Cluster 1\",\"text\":\"\",\"x\":[4.117783368532887],\"y\":[0],\"type\":\"scatter\"},{\"marker\":{\"color\":\"rgba(255, 128, 2, 0.8)\"},\"mode\":\"markers\",\"name\":\"Cluster 1\",\"text\":\"\",\"x\":[3.612965255014185],\"y\":[0],\"type\":\"scatter\"},{\"marker\":{\"color\":\"rgba(255, 128, 2, 0.8)\"},\"mode\":\"markers\",\"name\":\"Cluster 1\",\"text\":\"\",\"x\":[1.6376469177503403],\"y\":[0],\"type\":\"scatter\"},{\"marker\":{\"color\":\"rgba(255, 128, 255, 0.8)\"},\"mode\":\"markers\",\"name\":\"Cluster 0\",\"text\":\"\",\"x\":[-2.506522743157457],\"y\":[0],\"type\":\"scatter\"},{\"marker\":{\"color\":\"rgba(255, 128, 255, 0.8)\"},\"mode\":\"markers\",\"name\":\"Cluster 0\",\"text\":\"\",\"x\":[-0.22655874509315566],\"y\":[0],\"type\":\"scatter\"},{\"marker\":{\"color\":\"rgba(255, 128, 2, 0.8)\"},\"mode\":\"markers\",\"name\":\"Cluster 1\",\"text\":\"\",\"x\":[1.4602309426517537],\"y\":[0],\"type\":\"scatter\"},{\"marker\":{\"color\":\"rgba(255, 128, 255, 0.8)\"},\"mode\":\"markers\",\"name\":\"Cluster 0\",\"text\":\"\",\"x\":[-5.076698981095328],\"y\":[0],\"type\":\"scatter\"},{\"marker\":{\"color\":\"rgba(255, 128, 2, 0.8)\"},\"mode\":\"markers\",\"name\":\"Cluster 1\",\"text\":\"\",\"x\":[2.537318213793625],\"y\":[0],\"type\":\"scatter\"},{\"marker\":{\"color\":\"rgba(255, 128, 2, 0.8)\"},\"mode\":\"markers\",\"name\":\"Cluster 1\",\"text\":\"\",\"x\":[1.524428419834136],\"y\":[0],\"type\":\"scatter\"},{\"marker\":{\"color\":\"rgba(255, 128, 2, 0.8)\"},\"mode\":\"markers\",\"name\":\"Cluster 1\",\"text\":\"\",\"x\":[4.198222269327438],\"y\":[0],\"type\":\"scatter\"},{\"marker\":{\"color\":\"rgba(255, 128, 2, 0.8)\"},\"mode\":\"markers\",\"name\":\"Cluster 1\",\"text\":\"\",\"x\":[3.2802193407582467],\"y\":[0],\"type\":\"scatter\"},{\"marker\":{\"color\":\"rgba(255, 128, 255, 0.8)\"},\"mode\":\"markers\",\"name\":\"Cluster 0\",\"text\":\"\",\"x\":[-1.4504874283251905],\"y\":[0],\"type\":\"scatter\"},{\"marker\":{\"color\":\"rgba(255, 128, 2, 0.8)\"},\"mode\":\"markers\",\"name\":\"Cluster 1\",\"text\":\"\",\"x\":[4.207778768914727],\"y\":[0],\"type\":\"scatter\"},{\"marker\":{\"color\":\"rgba(255, 128, 255, 0.8)\"},\"mode\":\"markers\",\"name\":\"Cluster 0\",\"text\":\"\",\"x\":[-1.7864306894843096],\"y\":[0],\"type\":\"scatter\"},{\"marker\":{\"color\":\"rgba(255, 128, 2, 0.8)\"},\"mode\":\"markers\",\"name\":\"Cluster 1\",\"text\":\"\",\"x\":[4.053272403028875],\"y\":[0],\"type\":\"scatter\"},{\"marker\":{\"color\":\"rgba(255, 128, 255, 0.8)\"},\"mode\":\"markers\",\"name\":\"Cluster 0\",\"text\":\"\",\"x\":[-2.2153433220556287],\"y\":[0],\"type\":\"scatter\"},{\"marker\":{\"color\":\"rgba(255, 128, 2, 0.8)\"},\"mode\":\"markers\",\"name\":\"Cluster 1\",\"text\":\"\",\"x\":[0.7944230151409621],\"y\":[0],\"type\":\"scatter\"},{\"marker\":{\"color\":\"rgba(255, 128, 255, 0.8)\"},\"mode\":\"markers\",\"name\":\"Cluster 0\",\"text\":\"\",\"x\":[-5.834841738535186],\"y\":[0],\"type\":\"scatter\"},{\"marker\":{\"color\":\"rgba(255, 128, 255, 0.8)\"},\"mode\":\"markers\",\"name\":\"Cluster 0\",\"text\":\"\",\"x\":[-1.0667303222683695],\"y\":[0],\"type\":\"scatter\"},{\"marker\":{\"color\":\"rgba(255, 128, 2, 0.8)\"},\"mode\":\"markers\",\"name\":\"Cluster 1\",\"text\":\"\",\"x\":[4.031797361309157],\"y\":[0],\"type\":\"scatter\"},{\"marker\":{\"color\":\"rgba(255, 128, 255, 0.8)\"},\"mode\":\"markers\",\"name\":\"Cluster 0\",\"text\":\"\",\"x\":[-1.2113427051554675],\"y\":[0],\"type\":\"scatter\"},{\"marker\":{\"color\":\"rgba(255, 128, 255, 0.8)\"},\"mode\":\"markers\",\"name\":\"Cluster 0\",\"text\":\"\",\"x\":[-0.44075316598542247],\"y\":[0],\"type\":\"scatter\"},{\"marker\":{\"color\":\"rgba(255, 128, 2, 0.8)\"},\"mode\":\"markers\",\"name\":\"Cluster 1\",\"text\":\"\",\"x\":[0.7968575821784848],\"y\":[0],\"type\":\"scatter\"},{\"marker\":{\"color\":\"rgba(255, 128, 255, 0.8)\"},\"mode\":\"markers\",\"name\":\"Cluster 0\",\"text\":\"\",\"x\":[-3.7256365648592533],\"y\":[0],\"type\":\"scatter\"},{\"marker\":{\"color\":\"rgba(255, 128, 255, 0.8)\"},\"mode\":\"markers\",\"name\":\"Cluster 0\",\"text\":\"\",\"x\":[-0.03501256105291873],\"y\":[0],\"type\":\"scatter\"},{\"marker\":{\"color\":\"rgba(255, 128, 2, 0.8)\"},\"mode\":\"markers\",\"name\":\"Cluster 1\",\"text\":\"\",\"x\":[1.5865290287759102],\"y\":[0],\"type\":\"scatter\"},{\"marker\":{\"color\":\"rgba(255, 128, 255, 0.8)\"},\"mode\":\"markers\",\"name\":\"Cluster 0\",\"text\":\"\",\"x\":[-5.195548056606714],\"y\":[0],\"type\":\"scatter\"},{\"marker\":{\"color\":\"rgba(255, 128, 255, 0.8)\"},\"mode\":\"markers\",\"name\":\"Cluster 0\",\"text\":\"\",\"x\":[-2.0491786981899347],\"y\":[0],\"type\":\"scatter\"},{\"marker\":{\"color\":\"rgba(255, 128, 2, 0.8)\"},\"mode\":\"markers\",\"name\":\"Cluster 1\",\"text\":\"\",\"x\":[3.524673010378969],\"y\":[0],\"type\":\"scatter\"},{\"marker\":{\"color\":\"rgba(255, 128, 255, 0.8)\"},\"mode\":\"markers\",\"name\":\"Cluster 0\",\"text\":\"\",\"x\":[0.131003283790908],\"y\":[0],\"type\":\"scatter\"},{\"marker\":{\"color\":\"rgba(255, 128, 255, 0.8)\"},\"mode\":\"markers\",\"name\":\"Cluster 0\",\"text\":\"\",\"x\":[-1.9874195459993178],\"y\":[0],\"type\":\"scatter\"},{\"marker\":{\"color\":\"rgba(255, 128, 2, 0.8)\"},\"mode\":\"markers\",\"name\":\"Cluster 1\",\"text\":\"\",\"x\":[3.4236946154317027],\"y\":[0],\"type\":\"scatter\"},{\"marker\":{\"color\":\"rgba(255, 128, 255, 0.8)\"},\"mode\":\"markers\",\"name\":\"Cluster 0\",\"text\":\"\",\"x\":[-1.6421051450564217],\"y\":[0],\"type\":\"scatter\"},{\"marker\":{\"color\":\"rgba(255, 128, 255, 0.8)\"},\"mode\":\"markers\",\"name\":\"Cluster 0\",\"text\":\"\",\"x\":[-0.7543165610237879],\"y\":[0],\"type\":\"scatter\"},{\"marker\":{\"color\":\"rgba(255, 128, 2, 0.8)\"},\"mode\":\"markers\",\"name\":\"Cluster 1\",\"text\":\"\",\"x\":[4.34415586496777],\"y\":[0],\"type\":\"scatter\"},{\"marker\":{\"color\":\"rgba(255, 128, 2, 0.8)\"},\"mode\":\"markers\",\"name\":\"Cluster 1\",\"text\":\"\",\"x\":[1.3570626038947695],\"y\":[0],\"type\":\"scatter\"},{\"marker\":{\"color\":\"rgba(255, 128, 255, 0.8)\"},\"mode\":\"markers\",\"name\":\"Cluster 0\",\"text\":\"\",\"x\":[-0.4189099255328675],\"y\":[0],\"type\":\"scatter\"},{\"marker\":{\"color\":\"rgba(255, 128, 255, 0.8)\"},\"mode\":\"markers\",\"name\":\"Cluster 0\",\"text\":\"\",\"x\":[-0.3729143875203704],\"y\":[0],\"type\":\"scatter\"},{\"marker\":{\"color\":\"rgba(255, 128, 255, 0.8)\"},\"mode\":\"markers\",\"name\":\"Cluster 0\",\"text\":\"\",\"x\":[-2.266243246342181],\"y\":[0],\"type\":\"scatter\"},{\"marker\":{\"color\":\"rgba(255, 128, 2, 0.8)\"},\"mode\":\"markers\",\"name\":\"Cluster 1\",\"text\":\"\",\"x\":[0.16356256211131198],\"y\":[0],\"type\":\"scatter\"},{\"marker\":{\"color\":\"rgba(255, 128, 2, 0.8)\"},\"mode\":\"markers\",\"name\":\"Cluster 1\",\"text\":\"\",\"x\":[1.9733775139827248],\"y\":[0],\"type\":\"scatter\"},{\"marker\":{\"color\":\"rgba(255, 128, 2, 0.8)\"},\"mode\":\"markers\",\"name\":\"Cluster 1\",\"text\":\"\",\"x\":[3.4775414444369224],\"y\":[0],\"type\":\"scatter\"},{\"marker\":{\"color\":\"rgba(255, 128, 255, 0.8)\"},\"mode\":\"markers\",\"name\":\"Cluster 0\",\"text\":\"\",\"x\":[-3.1969039822114342],\"y\":[0],\"type\":\"scatter\"},{\"marker\":{\"color\":\"rgba(255, 128, 255, 0.8)\"},\"mode\":\"markers\",\"name\":\"Cluster 0\",\"text\":\"\",\"x\":[-2.0856609546579694],\"y\":[0],\"type\":\"scatter\"},{\"marker\":{\"color\":\"rgba(255, 128, 2, 0.8)\"},\"mode\":\"markers\",\"name\":\"Cluster 1\",\"text\":\"\",\"x\":[0.7775842962932344],\"y\":[0],\"type\":\"scatter\"},{\"marker\":{\"color\":\"rgba(255, 128, 2, 0.8)\"},\"mode\":\"markers\",\"name\":\"Cluster 1\",\"text\":\"\",\"x\":[1.338593242318051],\"y\":[0],\"type\":\"scatter\"},{\"marker\":{\"color\":\"rgba(255, 128, 255, 0.8)\"},\"mode\":\"markers\",\"name\":\"Cluster 0\",\"text\":\"\",\"x\":[-1.6390005072138722],\"y\":[0],\"type\":\"scatter\"},{\"marker\":{\"color\":\"rgba(255, 128, 2, 0.8)\"},\"mode\":\"markers\",\"name\":\"Cluster 1\",\"text\":\"\",\"x\":[4.073626696279123],\"y\":[0],\"type\":\"scatter\"},{\"marker\":{\"color\":\"rgba(255, 128, 2, 0.8)\"},\"mode\":\"markers\",\"name\":\"Cluster 1\",\"text\":\"\",\"x\":[1.9182308296223765],\"y\":[0],\"type\":\"scatter\"},{\"marker\":{\"color\":\"rgba(255, 128, 2, 0.8)\"},\"mode\":\"markers\",\"name\":\"Cluster 1\",\"text\":\"\",\"x\":[0.8938509116333623],\"y\":[0],\"type\":\"scatter\"},{\"marker\":{\"color\":\"rgba(255, 128, 2, 0.8)\"},\"mode\":\"markers\",\"name\":\"Cluster 1\",\"text\":\"\",\"x\":[1.405220679235924],\"y\":[0],\"type\":\"scatter\"},{\"marker\":{\"color\":\"rgba(255, 128, 255, 0.8)\"},\"mode\":\"markers\",\"name\":\"Cluster 0\",\"text\":\"\",\"x\":[-1.3065747647615988],\"y\":[0],\"type\":\"scatter\"},{\"marker\":{\"color\":\"rgba(255, 128, 2, 0.8)\"},\"mode\":\"markers\",\"name\":\"Cluster 1\",\"text\":\"\",\"x\":[1.9576595187127985],\"y\":[0],\"type\":\"scatter\"},{\"marker\":{\"color\":\"rgba(255, 128, 255, 0.8)\"},\"mode\":\"markers\",\"name\":\"Cluster 0\",\"text\":\"\",\"x\":[-0.9148509244764366],\"y\":[0],\"type\":\"scatter\"},{\"marker\":{\"color\":\"rgba(255, 128, 2, 0.8)\"},\"mode\":\"markers\",\"name\":\"Cluster 1\",\"text\":\"\",\"x\":[1.7352082352334859],\"y\":[0],\"type\":\"scatter\"},{\"marker\":{\"color\":\"rgba(255, 128, 2, 0.8)\"},\"mode\":\"markers\",\"name\":\"Cluster 1\",\"text\":\"\",\"x\":[1.3401800283710381],\"y\":[0],\"type\":\"scatter\"},{\"marker\":{\"color\":\"rgba(255, 128, 255, 0.8)\"},\"mode\":\"markers\",\"name\":\"Cluster 0\",\"text\":\"\",\"x\":[-1.4597130694135299],\"y\":[0],\"type\":\"scatter\"},{\"marker\":{\"color\":\"rgba(255, 128, 255, 0.8)\"},\"mode\":\"markers\",\"name\":\"Cluster 0\",\"text\":\"\",\"x\":[-3.1867534719342534],\"y\":[0],\"type\":\"scatter\"},{\"marker\":{\"color\":\"rgba(255, 128, 2, 0.8)\"},\"mode\":\"markers\",\"name\":\"Cluster 1\",\"text\":\"\",\"x\":[1.2932052011985984],\"y\":[0],\"type\":\"scatter\"},{\"marker\":{\"color\":\"rgba(255, 128, 255, 0.8)\"},\"mode\":\"markers\",\"name\":\"Cluster 0\",\"text\":\"\",\"x\":[-1.1058246919893275],\"y\":[0],\"type\":\"scatter\"},{\"marker\":{\"color\":\"rgba(255, 128, 255, 0.8)\"},\"mode\":\"markers\",\"name\":\"Cluster 0\",\"text\":\"\",\"x\":[-1.2313681596084527],\"y\":[0],\"type\":\"scatter\"},{\"marker\":{\"color\":\"rgba(255, 128, 2, 0.8)\"},\"mode\":\"markers\",\"name\":\"Cluster 1\",\"text\":\"\",\"x\":[5.6852750133743095],\"y\":[0],\"type\":\"scatter\"},{\"marker\":{\"color\":\"rgba(255, 128, 255, 0.8)\"},\"mode\":\"markers\",\"name\":\"Cluster 0\",\"text\":\"\",\"x\":[-2.363076135549847],\"y\":[0],\"type\":\"scatter\"},{\"marker\":{\"color\":\"rgba(255, 128, 2, 0.8)\"},\"mode\":\"markers\",\"name\":\"Cluster 1\",\"text\":\"\",\"x\":[0.8616780950536057],\"y\":[0],\"type\":\"scatter\"},{\"marker\":{\"color\":\"rgba(255, 128, 2, 0.8)\"},\"mode\":\"markers\",\"name\":\"Cluster 1\",\"text\":\"\",\"x\":[1.4415633604520017],\"y\":[0],\"type\":\"scatter\"},{\"marker\":{\"color\":\"rgba(255, 128, 2, 0.8)\"},\"mode\":\"markers\",\"name\":\"Cluster 1\",\"text\":\"\",\"x\":[4.133604132432981],\"y\":[0],\"type\":\"scatter\"},{\"marker\":{\"color\":\"rgba(255, 128, 2, 0.8)\"},\"mode\":\"markers\",\"name\":\"Cluster 1\",\"text\":\"\",\"x\":[4.936906929544343],\"y\":[0],\"type\":\"scatter\"},{\"marker\":{\"color\":\"rgba(255, 128, 2, 0.8)\"},\"mode\":\"markers\",\"name\":\"Cluster 1\",\"text\":\"\",\"x\":[3.1584396055097073],\"y\":[0],\"type\":\"scatter\"}],                        {\"template\":{\"data\":{\"barpolar\":[{\"marker\":{\"line\":{\"color\":\"#E5ECF6\",\"width\":0.5},\"pattern\":{\"fillmode\":\"overlay\",\"size\":10,\"solidity\":0.2}},\"type\":\"barpolar\"}],\"bar\":[{\"error_x\":{\"color\":\"#2a3f5f\"},\"error_y\":{\"color\":\"#2a3f5f\"},\"marker\":{\"line\":{\"color\":\"#E5ECF6\",\"width\":0.5},\"pattern\":{\"fillmode\":\"overlay\",\"size\":10,\"solidity\":0.2}},\"type\":\"bar\"}],\"carpet\":[{\"aaxis\":{\"endlinecolor\":\"#2a3f5f\",\"gridcolor\":\"white\",\"linecolor\":\"white\",\"minorgridcolor\":\"white\",\"startlinecolor\":\"#2a3f5f\"},\"baxis\":{\"endlinecolor\":\"#2a3f5f\",\"gridcolor\":\"white\",\"linecolor\":\"white\",\"minorgridcolor\":\"white\",\"startlinecolor\":\"#2a3f5f\"},\"type\":\"carpet\"}],\"choropleth\":[{\"colorbar\":{\"outlinewidth\":0,\"ticks\":\"\"},\"type\":\"choropleth\"}],\"contourcarpet\":[{\"colorbar\":{\"outlinewidth\":0,\"ticks\":\"\"},\"type\":\"contourcarpet\"}],\"contour\":[{\"colorbar\":{\"outlinewidth\":0,\"ticks\":\"\"},\"colorscale\":[[0.0,\"#0d0887\"],[0.1111111111111111,\"#46039f\"],[0.2222222222222222,\"#7201a8\"],[0.3333333333333333,\"#9c179e\"],[0.4444444444444444,\"#bd3786\"],[0.5555555555555556,\"#d8576b\"],[0.6666666666666666,\"#ed7953\"],[0.7777777777777778,\"#fb9f3a\"],[0.8888888888888888,\"#fdca26\"],[1.0,\"#f0f921\"]],\"type\":\"contour\"}],\"heatmapgl\":[{\"colorbar\":{\"outlinewidth\":0,\"ticks\":\"\"},\"colorscale\":[[0.0,\"#0d0887\"],[0.1111111111111111,\"#46039f\"],[0.2222222222222222,\"#7201a8\"],[0.3333333333333333,\"#9c179e\"],[0.4444444444444444,\"#bd3786\"],[0.5555555555555556,\"#d8576b\"],[0.6666666666666666,\"#ed7953\"],[0.7777777777777778,\"#fb9f3a\"],[0.8888888888888888,\"#fdca26\"],[1.0,\"#f0f921\"]],\"type\":\"heatmapgl\"}],\"heatmap\":[{\"colorbar\":{\"outlinewidth\":0,\"ticks\":\"\"},\"colorscale\":[[0.0,\"#0d0887\"],[0.1111111111111111,\"#46039f\"],[0.2222222222222222,\"#7201a8\"],[0.3333333333333333,\"#9c179e\"],[0.4444444444444444,\"#bd3786\"],[0.5555555555555556,\"#d8576b\"],[0.6666666666666666,\"#ed7953\"],[0.7777777777777778,\"#fb9f3a\"],[0.8888888888888888,\"#fdca26\"],[1.0,\"#f0f921\"]],\"type\":\"heatmap\"}],\"histogram2dcontour\":[{\"colorbar\":{\"outlinewidth\":0,\"ticks\":\"\"},\"colorscale\":[[0.0,\"#0d0887\"],[0.1111111111111111,\"#46039f\"],[0.2222222222222222,\"#7201a8\"],[0.3333333333333333,\"#9c179e\"],[0.4444444444444444,\"#bd3786\"],[0.5555555555555556,\"#d8576b\"],[0.6666666666666666,\"#ed7953\"],[0.7777777777777778,\"#fb9f3a\"],[0.8888888888888888,\"#fdca26\"],[1.0,\"#f0f921\"]],\"type\":\"histogram2dcontour\"}],\"histogram2d\":[{\"colorbar\":{\"outlinewidth\":0,\"ticks\":\"\"},\"colorscale\":[[0.0,\"#0d0887\"],[0.1111111111111111,\"#46039f\"],[0.2222222222222222,\"#7201a8\"],[0.3333333333333333,\"#9c179e\"],[0.4444444444444444,\"#bd3786\"],[0.5555555555555556,\"#d8576b\"],[0.6666666666666666,\"#ed7953\"],[0.7777777777777778,\"#fb9f3a\"],[0.8888888888888888,\"#fdca26\"],[1.0,\"#f0f921\"]],\"type\":\"histogram2d\"}],\"histogram\":[{\"marker\":{\"pattern\":{\"fillmode\":\"overlay\",\"size\":10,\"solidity\":0.2}},\"type\":\"histogram\"}],\"mesh3d\":[{\"colorbar\":{\"outlinewidth\":0,\"ticks\":\"\"},\"type\":\"mesh3d\"}],\"parcoords\":[{\"line\":{\"colorbar\":{\"outlinewidth\":0,\"ticks\":\"\"}},\"type\":\"parcoords\"}],\"pie\":[{\"automargin\":true,\"type\":\"pie\"}],\"scatter3d\":[{\"line\":{\"colorbar\":{\"outlinewidth\":0,\"ticks\":\"\"}},\"marker\":{\"colorbar\":{\"outlinewidth\":0,\"ticks\":\"\"}},\"type\":\"scatter3d\"}],\"scattercarpet\":[{\"marker\":{\"colorbar\":{\"outlinewidth\":0,\"ticks\":\"\"}},\"type\":\"scattercarpet\"}],\"scattergeo\":[{\"marker\":{\"colorbar\":{\"outlinewidth\":0,\"ticks\":\"\"}},\"type\":\"scattergeo\"}],\"scattergl\":[{\"marker\":{\"colorbar\":{\"outlinewidth\":0,\"ticks\":\"\"}},\"type\":\"scattergl\"}],\"scattermapbox\":[{\"marker\":{\"colorbar\":{\"outlinewidth\":0,\"ticks\":\"\"}},\"type\":\"scattermapbox\"}],\"scatterpolargl\":[{\"marker\":{\"colorbar\":{\"outlinewidth\":0,\"ticks\":\"\"}},\"type\":\"scatterpolargl\"}],\"scatterpolar\":[{\"marker\":{\"colorbar\":{\"outlinewidth\":0,\"ticks\":\"\"}},\"type\":\"scatterpolar\"}],\"scatter\":[{\"fillpattern\":{\"fillmode\":\"overlay\",\"size\":10,\"solidity\":0.2},\"type\":\"scatter\"}],\"scatterternary\":[{\"marker\":{\"colorbar\":{\"outlinewidth\":0,\"ticks\":\"\"}},\"type\":\"scatterternary\"}],\"surface\":[{\"colorbar\":{\"outlinewidth\":0,\"ticks\":\"\"},\"colorscale\":[[0.0,\"#0d0887\"],[0.1111111111111111,\"#46039f\"],[0.2222222222222222,\"#7201a8\"],[0.3333333333333333,\"#9c179e\"],[0.4444444444444444,\"#bd3786\"],[0.5555555555555556,\"#d8576b\"],[0.6666666666666666,\"#ed7953\"],[0.7777777777777778,\"#fb9f3a\"],[0.8888888888888888,\"#fdca26\"],[1.0,\"#f0f921\"]],\"type\":\"surface\"}],\"table\":[{\"cells\":{\"fill\":{\"color\":\"#EBF0F8\"},\"line\":{\"color\":\"white\"}},\"header\":{\"fill\":{\"color\":\"#C8D4E3\"},\"line\":{\"color\":\"white\"}},\"type\":\"table\"}]},\"layout\":{\"annotationdefaults\":{\"arrowcolor\":\"#2a3f5f\",\"arrowhead\":0,\"arrowwidth\":1},\"autotypenumbers\":\"strict\",\"coloraxis\":{\"colorbar\":{\"outlinewidth\":0,\"ticks\":\"\"}},\"colorscale\":{\"diverging\":[[0,\"#8e0152\"],[0.1,\"#c51b7d\"],[0.2,\"#de77ae\"],[0.3,\"#f1b6da\"],[0.4,\"#fde0ef\"],[0.5,\"#f7f7f7\"],[0.6,\"#e6f5d0\"],[0.7,\"#b8e186\"],[0.8,\"#7fbc41\"],[0.9,\"#4d9221\"],[1,\"#276419\"]],\"sequential\":[[0.0,\"#0d0887\"],[0.1111111111111111,\"#46039f\"],[0.2222222222222222,\"#7201a8\"],[0.3333333333333333,\"#9c179e\"],[0.4444444444444444,\"#bd3786\"],[0.5555555555555556,\"#d8576b\"],[0.6666666666666666,\"#ed7953\"],[0.7777777777777778,\"#fb9f3a\"],[0.8888888888888888,\"#fdca26\"],[1.0,\"#f0f921\"]],\"sequentialminus\":[[0.0,\"#0d0887\"],[0.1111111111111111,\"#46039f\"],[0.2222222222222222,\"#7201a8\"],[0.3333333333333333,\"#9c179e\"],[0.4444444444444444,\"#bd3786\"],[0.5555555555555556,\"#d8576b\"],[0.6666666666666666,\"#ed7953\"],[0.7777777777777778,\"#fb9f3a\"],[0.8888888888888888,\"#fdca26\"],[1.0,\"#f0f921\"]]},\"colorway\":[\"#636efa\",\"#EF553B\",\"#00cc96\",\"#ab63fa\",\"#FFA15A\",\"#19d3f3\",\"#FF6692\",\"#B6E880\",\"#FF97FF\",\"#FECB52\"],\"font\":{\"color\":\"#2a3f5f\"},\"geo\":{\"bgcolor\":\"white\",\"lakecolor\":\"white\",\"landcolor\":\"#E5ECF6\",\"showlakes\":true,\"showland\":true,\"subunitcolor\":\"white\"},\"hoverlabel\":{\"align\":\"left\"},\"hovermode\":\"closest\",\"mapbox\":{\"style\":\"light\"},\"paper_bgcolor\":\"white\",\"plot_bgcolor\":\"#E5ECF6\",\"polar\":{\"angularaxis\":{\"gridcolor\":\"white\",\"linecolor\":\"white\",\"ticks\":\"\"},\"bgcolor\":\"#E5ECF6\",\"radialaxis\":{\"gridcolor\":\"white\",\"linecolor\":\"white\",\"ticks\":\"\"}},\"scene\":{\"xaxis\":{\"backgroundcolor\":\"#E5ECF6\",\"gridcolor\":\"white\",\"gridwidth\":2,\"linecolor\":\"white\",\"showbackground\":true,\"ticks\":\"\",\"zerolinecolor\":\"white\"},\"yaxis\":{\"backgroundcolor\":\"#E5ECF6\",\"gridcolor\":\"white\",\"gridwidth\":2,\"linecolor\":\"white\",\"showbackground\":true,\"ticks\":\"\",\"zerolinecolor\":\"white\"},\"zaxis\":{\"backgroundcolor\":\"#E5ECF6\",\"gridcolor\":\"white\",\"gridwidth\":2,\"linecolor\":\"white\",\"showbackground\":true,\"ticks\":\"\",\"zerolinecolor\":\"white\"}},\"shapedefaults\":{\"line\":{\"color\":\"#2a3f5f\"}},\"ternary\":{\"aaxis\":{\"gridcolor\":\"white\",\"linecolor\":\"white\",\"ticks\":\"\"},\"baxis\":{\"gridcolor\":\"white\",\"linecolor\":\"white\",\"ticks\":\"\"},\"bgcolor\":\"#E5ECF6\",\"caxis\":{\"gridcolor\":\"white\",\"linecolor\":\"white\",\"ticks\":\"\"}},\"title\":{\"x\":0.05},\"xaxis\":{\"automargin\":true,\"gridcolor\":\"white\",\"linecolor\":\"white\",\"ticks\":\"\",\"title\":{\"standoff\":15},\"zerolinecolor\":\"white\",\"zerolinewidth\":2},\"yaxis\":{\"automargin\":true,\"gridcolor\":\"white\",\"linecolor\":\"white\",\"ticks\":\"\",\"title\":{\"standoff\":15},\"zerolinecolor\":\"white\",\"zerolinewidth\":2}}},\"title\":{\"text\":\"Visualizing Clusters in One Dimension Using PCA\"},\"xaxis\":{\"ticklen\":5,\"title\":{\"text\":\"PC1\"},\"zeroline\":false},\"yaxis\":{\"ticklen\":5,\"title\":{\"text\":\"\"},\"zeroline\":false}},                        {\"responsive\": true}                    ).then(function(){\n",
       "                            \n",
       "var gd = document.getElementById('9fba42d7-50e3-4114-9db3-6827dc39e12e');\n",
       "var x = new MutationObserver(function (mutations, observer) {{\n",
       "        var display = window.getComputedStyle(gd).display;\n",
       "        if (!display || display === 'none') {{\n",
       "            console.log([gd, 'removed!']);\n",
       "            Plotly.purge(gd);\n",
       "            observer.disconnect();\n",
       "        }}\n",
       "}});\n",
       "\n",
       "// Listen for the removal of the full notebook cells\n",
       "var notebookContainer = gd.closest('#notebook-container');\n",
       "if (notebookContainer) {{\n",
       "    x.observe(notebookContainer, {childList: true});\n",
       "}}\n",
       "\n",
       "// Listen for the clearing of the current output cell\n",
       "var outputEl = gd.closest('.output');\n",
       "if (outputEl) {{\n",
       "    x.observe(outputEl, {childList: true});\n",
       "}}\n",
       "\n",
       "                        })                };                });            </script>        </div>"
      ]
     },
     "metadata": {},
     "output_type": "display_data"
    }
   ],
   "source": [
    "data = []\n",
    "\n",
    "country_cluster = []\n",
    "colors = ['rgba(255, 128, 255, 0.8)', 'rgba(255, 128, 2, 0.8)', 'rgba(0, 255, 200, 0.8)']\n",
    "for i in range(124):\n",
    "    data.append(go.Scatter(\n",
    "                        x = [plotX[\"PC1_1d\"][i]], #x=df_X_reduced[0],\n",
    "                        y = [0], # ['Cluster ' + str(int(plotX['Cluster'][i]))], \n",
    "                        mode = \"markers\",\n",
    "                        name = 'Cluster ' + str(int(plotX['Cluster'][i])),\n",
    "                        #name = 'Cluster ' + str(int(plotX['Cluster'][i])) , # cat_country[i+1],\n",
    "                        marker = dict(color = colors[int(plotX['Cluster'][i])]),\n",
    "                        text = \"\"#cat_country[i+1]\n",
    "                        #showlegend=True\n",
    "                ))\n",
    "    \n",
    "title = \"Visualizing Clusters in One Dimension Using PCA\"\n",
    "\n",
    "layout = dict(title = title,\n",
    "              xaxis= dict(title= 'PC1',ticklen= 5,zeroline= False),\n",
    "              yaxis= dict(title= '',ticklen= 5,zeroline= False)\n",
    "             )\n",
    "\n",
    "fig = dict(data = data, layout = layout)\n",
    "\n",
    "fig['data'][0]['showlegend'] = False\n",
    "#fig['data'][0]['name'] = 'Humidity'\n",
    "\n",
    "iplot(fig)"
   ]
  },
  {
   "cell_type": "code",
   "execution_count": 21,
   "metadata": {},
   "outputs": [
    {
     "data": {
      "application/vnd.plotly.v1+json": {
       "config": {
        "linkText": "Export to plot.ly",
        "plotlyServerURL": "https://plot.ly",
        "showLink": false
       },
       "data": [
        {
         "marker": {
          "color": "rgba(255, 128, 255, 0.8)"
         },
         "mode": "markers",
         "name": "Cluster 0",
         "type": "scatter",
         "x": [
          -2.0397487152694556,
          -2.8691900782570094,
          -1.9907377741188903,
          -2.972931840422325,
          -1.9509281751638607,
          -4.293521687653266,
          -0.9437844473429581,
          -2.672074663829871,
          -3.2181382581550033,
          -2.749671341920564,
          -2.102145286836269,
          -2.2829880158297153,
          -2.2379823329218245,
          -2.6833562375495497,
          -2.3903971914432733,
          -0.3625999353519882,
          -3.814023640618078,
          -1.4006248513328878,
          -2.0229832258002607,
          -2.4669977818840074,
          -2.942278984780004,
          -4.818445752960172,
          -1.3056898032276443,
          -2.924247654550116,
          -2.323961290086536,
          -0.9018872416257068,
          -0.3334246607409416,
          -2.517470403970857,
          -3.355083555049063,
          -2.3958147312742755,
          -4.871637872360795,
          -2.506522743157457,
          -0.22655874509315566,
          -5.076698981095328,
          -1.4504874283251905,
          -1.7864306894843096,
          -2.2153433220556287,
          -5.834841738535186,
          -1.0667303222683695,
          -1.2113427051554675,
          -0.44075316598542247,
          -3.7256365648592533,
          -0.03501256105291873,
          -5.195548056606714,
          -2.0491786981899347,
          0.131003283790908,
          -1.9874195459993178,
          -1.6421051450564217,
          -0.7543165610237879,
          -0.4189099255328675,
          -0.3729143875203704,
          -2.266243246342181,
          -3.1969039822114342,
          -2.0856609546579694,
          -1.6390005072138722,
          -1.3065747647615988,
          -0.9148509244764366,
          -1.4597130694135299,
          -3.1867534719342534,
          -1.1058246919893275,
          -1.2313681596084527,
          -2.363076135549847,
          -1.6422817681718846,
          -4.285456333916899,
          -0.40555682550816385,
          -0.8791022952508797,
          -0.6367241597509522,
          -0.6260779872181719,
          -1.8553975112586345,
          -1.807824669481021,
          -2.0622376207049493,
          -4.8078320588295895,
          -1.8072008129687753,
          -6.255611115175719,
          -0.4239677094158045,
          -0.21605801616127374,
          -5.770243875321091,
          -2.305637949612899,
          -1.6627354934220093,
          -1.4803565784860588,
          -2.1091584647477757,
          -2.201691417496274,
          -5.864794379952759,
          -0.5592746477765393,
          -0.19773856185168523,
          -0.37861161102393315,
          -3.5431608130108887,
          -3.372287140496569,
          -2.8912269225521467,
          -0.8460896461522456,
          -0.3255579880186757,
          0.06375826855503003,
          -2.324681219795149,
          -2.1483509978643838,
          -0.271614963193955,
          -1.2143481781402086,
          -0.3129126766623288,
          -0.9308243816788561,
          0.011821553710890973,
          -1.1634920874372305,
          -2.0347793356195147,
          -4.959324945866875,
          -1.359391722563515,
          -6.674674396942471,
          -4.013619394931861,
          0.17050083438676372,
          -2.31539913641267,
          -0.824890322820189,
          -3.115828208742577,
          -1.0787742481873837,
          -1.373255305267414,
          -3.4922653881975663,
          -0.0989471330652364,
          -0.6832123655227055,
          -2.000022748457704,
          -2.6050187037259165,
          -2.3078598453391423,
          -1.9078293340300871,
          -2.4746232210615884,
          -3.8805356745447392,
          -2.308037179803699,
          -4.767349722998576,
          -1.8295983974118275,
          -0.2364128502152978,
          -4.896854358170607,
          0.24342126376867046,
          -0.08681975358073636,
          -3.1465720969944906,
          -0.10956376959404429,
          -2.1231257041755915,
          -0.842368609312678,
          -1.3851266043113415,
          -1.2827919188057526,
          -2.310446527272022,
          -2.4552789970526563,
          -2.278608905157475,
          -2.1295653967549533,
          -0.12755228964400186,
          -1.9158337811448054,
          -0.3865447484247599,
          -1.7819293591320193,
          -2.0756727066449923,
          -2.1026486643686617,
          -0.7265780772051688,
          -1.2557829362889295,
          -2.6514322981581357,
          -0.7040878019041823,
          -0.8594142388025382,
          -2.8726186792168,
          -5.2224028099585205,
          -6.763223411712284,
          -2.845684521388785,
          -2.537611610652331,
          -1.7392673258759634,
          -1.2062652178821394,
          -0.28453035365226537,
          -2.3770419329327055,
          -0.8512805515576088,
          -4.520488286656829,
          -1.400619892236774,
          -2.6752455149989656,
          -1.5087632529532264,
          -0.21924323612913593,
          -1.8329853134216325,
          -2.8841838799607014,
          -1.5154118502567409,
          -0.8429448223908933,
          -1.0177975395421235,
          -0.5429332443163795,
          -2.3175917874575287,
          -0.1881432309859117,
          -1.4091853819592828,
          -3.1597148784312985,
          -0.732234089927702,
          -2.713036092690958,
          -3.7016064039878,
          -1.4480193017716447,
          -2.124207716953333,
          -2.9138571433676934,
          -2.6457753667657427,
          -2.3322588305085774,
          -4.969848362250733,
          -2.8922415486558615,
          -4.217164484578662
         ],
         "y": [
          0,
          0,
          0,
          0,
          0,
          0,
          0,
          0,
          0,
          0,
          0,
          0,
          0,
          0,
          0,
          0,
          0,
          0,
          0,
          0,
          0,
          0,
          0,
          0,
          0,
          0,
          0,
          0,
          0,
          0,
          0,
          0,
          0,
          0,
          0,
          0,
          0,
          0,
          0,
          0,
          0,
          0,
          0,
          0,
          0,
          0,
          0,
          0,
          0,
          0,
          0,
          0,
          0,
          0,
          0,
          0,
          0,
          0,
          0,
          0,
          0,
          0,
          0,
          0,
          0,
          0,
          0,
          0,
          0,
          0,
          0,
          0,
          0,
          0,
          0,
          0,
          0,
          0,
          0,
          0,
          0,
          0,
          0,
          0,
          0,
          0,
          0,
          0,
          0,
          0,
          0,
          0,
          0,
          0,
          0,
          0,
          0,
          0,
          0,
          0,
          0,
          0,
          0,
          0,
          0,
          0,
          0,
          0,
          0,
          0,
          0,
          0,
          0,
          0,
          0,
          0,
          0,
          0,
          0,
          0,
          0,
          0,
          0,
          0,
          0,
          0,
          0,
          0,
          0,
          0,
          0,
          0,
          0,
          0,
          0,
          0,
          0,
          0,
          0,
          0,
          0,
          0,
          0,
          0,
          0,
          0,
          0,
          0,
          0,
          0,
          0,
          0,
          0,
          0,
          0,
          0,
          0,
          0,
          0,
          0,
          0,
          0,
          0,
          0,
          0,
          0,
          0,
          0,
          0,
          0,
          0,
          0,
          0,
          0,
          0,
          0,
          0,
          0,
          0,
          0,
          0,
          0,
          0,
          0
         ]
        },
        {
         "marker": {
          "color": "rgba(255, 128, 2, 0.8)"
         },
         "mode": "markers",
         "name": "Cluster 1",
         "type": "scatter",
         "x": [
          3.168327815329737,
          0.8637690774296529,
          0.9721970721288963,
          0.5233651821568894,
          2.678068298859867,
          3.6723028812702476,
          1.74152799585739,
          3.160951544052967,
          0.5949146405172901,
          4.157303551833626,
          3.517970512678812,
          3.5598964925542482,
          4.9128152325756895,
          1.8238435257136147,
          1.9894168748323136,
          3.5321164450453457,
          4.084921832659713,
          1.0050251693229584,
          1.1902557159257208,
          3.3190258897213476,
          3.475577122375078,
          4.432619281997838,
          1.2091561884166449,
          0.441765251169458,
          2.537276540276398,
          4.117783368532887,
          3.612965255014185,
          1.6376469177503403,
          1.4602309426517537,
          2.537318213793625,
          1.524428419834136,
          4.198222269327438,
          3.2802193407582467,
          4.207778768914727,
          4.053272403028875,
          0.7944230151409621,
          4.031797361309157,
          0.7968575821784848,
          1.5865290287759102,
          3.524673010378969,
          3.4236946154317027,
          4.34415586496777,
          1.3570626038947695,
          0.16356256211131198,
          1.9733775139827248,
          3.4775414444369224,
          0.7775842962932344,
          1.338593242318051,
          4.073626696279123,
          1.9182308296223765,
          0.8938509116333623,
          1.405220679235924,
          1.9576595187127985,
          1.7352082352334859,
          1.3401800283710381,
          1.2932052011985984,
          5.6852750133743095,
          0.8616780950536057,
          1.4415633604520017,
          4.133604132432981,
          4.936906929544343,
          3.1584396055097073,
          1.6458062677420193,
          2.0743547567398317,
          4.0813206349835935,
          4.8653982248230205,
          2.5472199010345773,
          2.7688663665633957,
          2.4639806320243585,
          0.32821098021425205,
          3.6086896570942497,
          1.9584838065407273,
          1.4169859430977056,
          1.9904847036004383,
          1.299256470172958,
          0.7153028007552275,
          1.0668436190238055,
          3.81577000799223,
          3.0323432372788295,
          3.2547489488549153,
          1.1044427751986206,
          3.384126762355507,
          1.6004330935055517,
          1.7720396795910018,
          1.9672286369344574,
          0.3901956542373882,
          2.471175718650804,
          3.3266191828213327,
          2.5229455361731308,
          4.342096440198645,
          3.793664513397198,
          4.095702101119886,
          1.8019626694415982,
          1.8636389911837692,
          0.6450963407847096,
          3.7431558490550354,
          3.2089443107964817,
          1.843028581919311,
          1.622086326947882,
          2.440798017255979,
          0.4774607371575665,
          2.968702966430699,
          4.49495483614543,
          3.9585966797546694,
          4.154846175863682,
          0.6139826512225881,
          0.30280421724843665,
          0.946947210722566,
          1.7833984981477713,
          1.4395937178102542,
          0.6944416179576943,
          1.9149200406766103,
          5.194371300011772,
          3.562266361104331,
          3.0115817545813375,
          2.375149493204307,
          3.9269633216888833,
          0.881193381556709,
          0.8785400876496623,
          1.1075171718158867,
          3.8664710499181205,
          4.391180806728862,
          4.197220134747779,
          3.462258937842199,
          2.187886211716661,
          5.3657355162297735,
          3.3133384718920187,
          3.7479434740891864,
          2.0242237277422106,
          0.43376149599941144,
          1.8140845486699366,
          1.45854577150207,
          5.125416837464996,
          2.09550264460942,
          0.2989622339842152,
          1.760372428272016,
          6.198087215888916,
          0.6447013271171157,
          3.297606011264574,
          0.9910242007209182,
          2.9498805349573805,
          1.011787207340523,
          1.4479414242368593,
          0.21386537665676433,
          0.3335725398476374,
          4.216308989037839,
          4.120635105536039,
          1.896090043002443,
          2.536127653364272,
          1.0464778013887015,
          3.915201921411354,
          3.9411908511058877,
          3.8879375375726957,
          0.28711575798162836,
          1.6158657315146283
         ],
         "y": [
          0,
          0,
          0,
          0,
          0,
          0,
          0,
          0,
          0,
          0,
          0,
          0,
          0,
          0,
          0,
          0,
          0,
          0,
          0,
          0,
          0,
          0,
          0,
          0,
          0,
          0,
          0,
          0,
          0,
          0,
          0,
          0,
          0,
          0,
          0,
          0,
          0,
          0,
          0,
          0,
          0,
          0,
          0,
          0,
          0,
          0,
          0,
          0,
          0,
          0,
          0,
          0,
          0,
          0,
          0,
          0,
          0,
          0,
          0,
          0,
          0,
          0,
          0,
          0,
          0,
          0,
          0,
          0,
          0,
          0,
          0,
          0,
          0,
          0,
          0,
          0,
          0,
          0,
          0,
          0,
          0,
          0,
          0,
          0,
          0,
          0,
          0,
          0,
          0,
          0,
          0,
          0,
          0,
          0,
          0,
          0,
          0,
          0,
          0,
          0,
          0,
          0,
          0,
          0,
          0,
          0,
          0,
          0,
          0,
          0,
          0,
          0,
          0,
          0,
          0,
          0,
          0,
          0,
          0,
          0,
          0,
          0,
          0,
          0,
          0,
          0,
          0,
          0,
          0,
          0,
          0,
          0,
          0,
          0,
          0,
          0,
          0,
          0,
          0,
          0,
          0,
          0,
          0,
          0,
          0,
          0,
          0,
          0,
          0,
          0,
          0,
          0,
          0,
          0,
          0
         ]
        }
       ],
       "layout": {
        "autosize": true,
        "template": {
         "data": {
          "bar": [
           {
            "error_x": {
             "color": "#2a3f5f"
            },
            "error_y": {
             "color": "#2a3f5f"
            },
            "marker": {
             "line": {
              "color": "#E5ECF6",
              "width": 0.5
             },
             "pattern": {
              "fillmode": "overlay",
              "size": 10,
              "solidity": 0.2
             }
            },
            "type": "bar"
           }
          ],
          "barpolar": [
           {
            "marker": {
             "line": {
              "color": "#E5ECF6",
              "width": 0.5
             },
             "pattern": {
              "fillmode": "overlay",
              "size": 10,
              "solidity": 0.2
             }
            },
            "type": "barpolar"
           }
          ],
          "carpet": [
           {
            "aaxis": {
             "endlinecolor": "#2a3f5f",
             "gridcolor": "white",
             "linecolor": "white",
             "minorgridcolor": "white",
             "startlinecolor": "#2a3f5f"
            },
            "baxis": {
             "endlinecolor": "#2a3f5f",
             "gridcolor": "white",
             "linecolor": "white",
             "minorgridcolor": "white",
             "startlinecolor": "#2a3f5f"
            },
            "type": "carpet"
           }
          ],
          "choropleth": [
           {
            "colorbar": {
             "outlinewidth": 0,
             "ticks": ""
            },
            "type": "choropleth"
           }
          ],
          "contour": [
           {
            "colorbar": {
             "outlinewidth": 0,
             "ticks": ""
            },
            "colorscale": [
             [
              0,
              "#0d0887"
             ],
             [
              0.1111111111111111,
              "#46039f"
             ],
             [
              0.2222222222222222,
              "#7201a8"
             ],
             [
              0.3333333333333333,
              "#9c179e"
             ],
             [
              0.4444444444444444,
              "#bd3786"
             ],
             [
              0.5555555555555556,
              "#d8576b"
             ],
             [
              0.6666666666666666,
              "#ed7953"
             ],
             [
              0.7777777777777778,
              "#fb9f3a"
             ],
             [
              0.8888888888888888,
              "#fdca26"
             ],
             [
              1,
              "#f0f921"
             ]
            ],
            "type": "contour"
           }
          ],
          "contourcarpet": [
           {
            "colorbar": {
             "outlinewidth": 0,
             "ticks": ""
            },
            "type": "contourcarpet"
           }
          ],
          "heatmap": [
           {
            "colorbar": {
             "outlinewidth": 0,
             "ticks": ""
            },
            "colorscale": [
             [
              0,
              "#0d0887"
             ],
             [
              0.1111111111111111,
              "#46039f"
             ],
             [
              0.2222222222222222,
              "#7201a8"
             ],
             [
              0.3333333333333333,
              "#9c179e"
             ],
             [
              0.4444444444444444,
              "#bd3786"
             ],
             [
              0.5555555555555556,
              "#d8576b"
             ],
             [
              0.6666666666666666,
              "#ed7953"
             ],
             [
              0.7777777777777778,
              "#fb9f3a"
             ],
             [
              0.8888888888888888,
              "#fdca26"
             ],
             [
              1,
              "#f0f921"
             ]
            ],
            "type": "heatmap"
           }
          ],
          "heatmapgl": [
           {
            "colorbar": {
             "outlinewidth": 0,
             "ticks": ""
            },
            "colorscale": [
             [
              0,
              "#0d0887"
             ],
             [
              0.1111111111111111,
              "#46039f"
             ],
             [
              0.2222222222222222,
              "#7201a8"
             ],
             [
              0.3333333333333333,
              "#9c179e"
             ],
             [
              0.4444444444444444,
              "#bd3786"
             ],
             [
              0.5555555555555556,
              "#d8576b"
             ],
             [
              0.6666666666666666,
              "#ed7953"
             ],
             [
              0.7777777777777778,
              "#fb9f3a"
             ],
             [
              0.8888888888888888,
              "#fdca26"
             ],
             [
              1,
              "#f0f921"
             ]
            ],
            "type": "heatmapgl"
           }
          ],
          "histogram": [
           {
            "marker": {
             "pattern": {
              "fillmode": "overlay",
              "size": 10,
              "solidity": 0.2
             }
            },
            "type": "histogram"
           }
          ],
          "histogram2d": [
           {
            "colorbar": {
             "outlinewidth": 0,
             "ticks": ""
            },
            "colorscale": [
             [
              0,
              "#0d0887"
             ],
             [
              0.1111111111111111,
              "#46039f"
             ],
             [
              0.2222222222222222,
              "#7201a8"
             ],
             [
              0.3333333333333333,
              "#9c179e"
             ],
             [
              0.4444444444444444,
              "#bd3786"
             ],
             [
              0.5555555555555556,
              "#d8576b"
             ],
             [
              0.6666666666666666,
              "#ed7953"
             ],
             [
              0.7777777777777778,
              "#fb9f3a"
             ],
             [
              0.8888888888888888,
              "#fdca26"
             ],
             [
              1,
              "#f0f921"
             ]
            ],
            "type": "histogram2d"
           }
          ],
          "histogram2dcontour": [
           {
            "colorbar": {
             "outlinewidth": 0,
             "ticks": ""
            },
            "colorscale": [
             [
              0,
              "#0d0887"
             ],
             [
              0.1111111111111111,
              "#46039f"
             ],
             [
              0.2222222222222222,
              "#7201a8"
             ],
             [
              0.3333333333333333,
              "#9c179e"
             ],
             [
              0.4444444444444444,
              "#bd3786"
             ],
             [
              0.5555555555555556,
              "#d8576b"
             ],
             [
              0.6666666666666666,
              "#ed7953"
             ],
             [
              0.7777777777777778,
              "#fb9f3a"
             ],
             [
              0.8888888888888888,
              "#fdca26"
             ],
             [
              1,
              "#f0f921"
             ]
            ],
            "type": "histogram2dcontour"
           }
          ],
          "mesh3d": [
           {
            "colorbar": {
             "outlinewidth": 0,
             "ticks": ""
            },
            "type": "mesh3d"
           }
          ],
          "parcoords": [
           {
            "line": {
             "colorbar": {
              "outlinewidth": 0,
              "ticks": ""
             }
            },
            "type": "parcoords"
           }
          ],
          "pie": [
           {
            "automargin": true,
            "type": "pie"
           }
          ],
          "scatter": [
           {
            "fillpattern": {
             "fillmode": "overlay",
             "size": 10,
             "solidity": 0.2
            },
            "type": "scatter"
           }
          ],
          "scatter3d": [
           {
            "line": {
             "colorbar": {
              "outlinewidth": 0,
              "ticks": ""
             }
            },
            "marker": {
             "colorbar": {
              "outlinewidth": 0,
              "ticks": ""
             }
            },
            "type": "scatter3d"
           }
          ],
          "scattercarpet": [
           {
            "marker": {
             "colorbar": {
              "outlinewidth": 0,
              "ticks": ""
             }
            },
            "type": "scattercarpet"
           }
          ],
          "scattergeo": [
           {
            "marker": {
             "colorbar": {
              "outlinewidth": 0,
              "ticks": ""
             }
            },
            "type": "scattergeo"
           }
          ],
          "scattergl": [
           {
            "marker": {
             "colorbar": {
              "outlinewidth": 0,
              "ticks": ""
             }
            },
            "type": "scattergl"
           }
          ],
          "scattermapbox": [
           {
            "marker": {
             "colorbar": {
              "outlinewidth": 0,
              "ticks": ""
             }
            },
            "type": "scattermapbox"
           }
          ],
          "scatterpolar": [
           {
            "marker": {
             "colorbar": {
              "outlinewidth": 0,
              "ticks": ""
             }
            },
            "type": "scatterpolar"
           }
          ],
          "scatterpolargl": [
           {
            "marker": {
             "colorbar": {
              "outlinewidth": 0,
              "ticks": ""
             }
            },
            "type": "scatterpolargl"
           }
          ],
          "scatterternary": [
           {
            "marker": {
             "colorbar": {
              "outlinewidth": 0,
              "ticks": ""
             }
            },
            "type": "scatterternary"
           }
          ],
          "surface": [
           {
            "colorbar": {
             "outlinewidth": 0,
             "ticks": ""
            },
            "colorscale": [
             [
              0,
              "#0d0887"
             ],
             [
              0.1111111111111111,
              "#46039f"
             ],
             [
              0.2222222222222222,
              "#7201a8"
             ],
             [
              0.3333333333333333,
              "#9c179e"
             ],
             [
              0.4444444444444444,
              "#bd3786"
             ],
             [
              0.5555555555555556,
              "#d8576b"
             ],
             [
              0.6666666666666666,
              "#ed7953"
             ],
             [
              0.7777777777777778,
              "#fb9f3a"
             ],
             [
              0.8888888888888888,
              "#fdca26"
             ],
             [
              1,
              "#f0f921"
             ]
            ],
            "type": "surface"
           }
          ],
          "table": [
           {
            "cells": {
             "fill": {
              "color": "#EBF0F8"
             },
             "line": {
              "color": "white"
             }
            },
            "header": {
             "fill": {
              "color": "#C8D4E3"
             },
             "line": {
              "color": "white"
             }
            },
            "type": "table"
           }
          ]
         },
         "layout": {
          "annotationdefaults": {
           "arrowcolor": "#2a3f5f",
           "arrowhead": 0,
           "arrowwidth": 1
          },
          "autotypenumbers": "strict",
          "coloraxis": {
           "colorbar": {
            "outlinewidth": 0,
            "ticks": ""
           }
          },
          "colorscale": {
           "diverging": [
            [
             0,
             "#8e0152"
            ],
            [
             0.1,
             "#c51b7d"
            ],
            [
             0.2,
             "#de77ae"
            ],
            [
             0.3,
             "#f1b6da"
            ],
            [
             0.4,
             "#fde0ef"
            ],
            [
             0.5,
             "#f7f7f7"
            ],
            [
             0.6,
             "#e6f5d0"
            ],
            [
             0.7,
             "#b8e186"
            ],
            [
             0.8,
             "#7fbc41"
            ],
            [
             0.9,
             "#4d9221"
            ],
            [
             1,
             "#276419"
            ]
           ],
           "sequential": [
            [
             0,
             "#0d0887"
            ],
            [
             0.1111111111111111,
             "#46039f"
            ],
            [
             0.2222222222222222,
             "#7201a8"
            ],
            [
             0.3333333333333333,
             "#9c179e"
            ],
            [
             0.4444444444444444,
             "#bd3786"
            ],
            [
             0.5555555555555556,
             "#d8576b"
            ],
            [
             0.6666666666666666,
             "#ed7953"
            ],
            [
             0.7777777777777778,
             "#fb9f3a"
            ],
            [
             0.8888888888888888,
             "#fdca26"
            ],
            [
             1,
             "#f0f921"
            ]
           ],
           "sequentialminus": [
            [
             0,
             "#0d0887"
            ],
            [
             0.1111111111111111,
             "#46039f"
            ],
            [
             0.2222222222222222,
             "#7201a8"
            ],
            [
             0.3333333333333333,
             "#9c179e"
            ],
            [
             0.4444444444444444,
             "#bd3786"
            ],
            [
             0.5555555555555556,
             "#d8576b"
            ],
            [
             0.6666666666666666,
             "#ed7953"
            ],
            [
             0.7777777777777778,
             "#fb9f3a"
            ],
            [
             0.8888888888888888,
             "#fdca26"
            ],
            [
             1,
             "#f0f921"
            ]
           ]
          },
          "colorway": [
           "#636efa",
           "#EF553B",
           "#00cc96",
           "#ab63fa",
           "#FFA15A",
           "#19d3f3",
           "#FF6692",
           "#B6E880",
           "#FF97FF",
           "#FECB52"
          ],
          "font": {
           "color": "#2a3f5f"
          },
          "geo": {
           "bgcolor": "white",
           "lakecolor": "white",
           "landcolor": "#E5ECF6",
           "showlakes": true,
           "showland": true,
           "subunitcolor": "white"
          },
          "hoverlabel": {
           "align": "left"
          },
          "hovermode": "closest",
          "mapbox": {
           "style": "light"
          },
          "paper_bgcolor": "white",
          "plot_bgcolor": "#E5ECF6",
          "polar": {
           "angularaxis": {
            "gridcolor": "white",
            "linecolor": "white",
            "ticks": ""
           },
           "bgcolor": "#E5ECF6",
           "radialaxis": {
            "gridcolor": "white",
            "linecolor": "white",
            "ticks": ""
           }
          },
          "scene": {
           "xaxis": {
            "backgroundcolor": "#E5ECF6",
            "gridcolor": "white",
            "gridwidth": 2,
            "linecolor": "white",
            "showbackground": true,
            "ticks": "",
            "zerolinecolor": "white"
           },
           "yaxis": {
            "backgroundcolor": "#E5ECF6",
            "gridcolor": "white",
            "gridwidth": 2,
            "linecolor": "white",
            "showbackground": true,
            "ticks": "",
            "zerolinecolor": "white"
           },
           "zaxis": {
            "backgroundcolor": "#E5ECF6",
            "gridcolor": "white",
            "gridwidth": 2,
            "linecolor": "white",
            "showbackground": true,
            "ticks": "",
            "zerolinecolor": "white"
           }
          },
          "shapedefaults": {
           "line": {
            "color": "#2a3f5f"
           }
          },
          "ternary": {
           "aaxis": {
            "gridcolor": "white",
            "linecolor": "white",
            "ticks": ""
           },
           "baxis": {
            "gridcolor": "white",
            "linecolor": "white",
            "ticks": ""
           },
           "bgcolor": "#E5ECF6",
           "caxis": {
            "gridcolor": "white",
            "linecolor": "white",
            "ticks": ""
           }
          },
          "title": {
           "x": 0.05
          },
          "xaxis": {
           "automargin": true,
           "gridcolor": "white",
           "linecolor": "white",
           "ticks": "",
           "title": {
            "standoff": 15
           },
           "zerolinecolor": "white",
           "zerolinewidth": 2
          },
          "yaxis": {
           "automargin": true,
           "gridcolor": "white",
           "linecolor": "white",
           "ticks": "",
           "title": {
            "standoff": 15
           },
           "zerolinecolor": "white",
           "zerolinewidth": 2
          }
         }
        },
        "title": {
         "text": "Visualizing Clusters in One Dimension Using PCA"
        },
        "xaxis": {
         "autorange": true,
         "range": [
          -7.54999433593928,
          6.984858140115913
         ],
         "ticklen": 5,
         "title": {
          "text": "PC1"
         },
         "type": "linear",
         "zeroline": false
        },
        "yaxis": {
         "autorange": true,
         "range": [
          -1,
          1
         ],
         "ticklen": 5,
         "title": {
          "text": ""
         },
         "type": "linear",
         "zeroline": false
        }
       }
      },
      "image/png": "[encoded data removed]",
      "text/html": [
       "<div>                            <div id=\"34cd2619-238d-4568-ae4a-eab3b3d9fd02\" class=\"plotly-graph-div\" style=\"height:525px; width:100%;\"></div>            <script type=\"text/javascript\">                require([\"plotly\"], function(Plotly) {                    window.PLOTLYENV=window.PLOTLYENV || {};                                    if (document.getElementById(\"34cd2619-238d-4568-ae4a-eab3b3d9fd02\")) {                    Plotly.newPlot(                        \"34cd2619-238d-4568-ae4a-eab3b3d9fd02\",                        [{\"marker\":{\"color\":\"rgba(255, 128, 255, 0.8)\"},\"mode\":\"markers\",\"name\":\"Cluster 0\",\"x\":[-2.0397487152694556,-2.8691900782570094,-1.9907377741188903,-2.972931840422325,-1.9509281751638607,-4.293521687653266,-0.9437844473429581,-2.672074663829871,-3.2181382581550033,-2.749671341920564,-2.102145286836269,-2.2829880158297153,-2.2379823329218245,-2.6833562375495497,-2.3903971914432733,-0.3625999353519882,-3.814023640618078,-1.4006248513328878,-2.0229832258002607,-2.4669977818840074,-2.942278984780004,-4.818445752960172,-1.3056898032276443,-2.924247654550116,-2.323961290086536,-0.9018872416257068,-0.3334246607409416,-2.517470403970857,-3.355083555049063,-2.3958147312742755,-4.871637872360795,-2.506522743157457,-0.22655874509315566,-5.076698981095328,-1.4504874283251905,-1.7864306894843096,-2.2153433220556287,-5.834841738535186,-1.0667303222683695,-1.2113427051554675,-0.44075316598542247,-3.7256365648592533,-0.03501256105291873,-5.195548056606714,-2.0491786981899347,0.131003283790908,-1.9874195459993178,-1.6421051450564217,-0.7543165610237879,-0.4189099255328675,-0.3729143875203704,-2.266243246342181,-3.1969039822114342,-2.0856609546579694,-1.6390005072138722,-1.3065747647615988,-0.9148509244764366,-1.4597130694135299,-3.1867534719342534,-1.1058246919893275,-1.2313681596084527,-2.363076135549847,-1.6422817681718846,-4.285456333916899,-0.40555682550816385,-0.8791022952508797,-0.6367241597509522,-0.6260779872181719,-1.8553975112586345,-1.807824669481021,-2.0622376207049493,-4.8078320588295895,-1.8072008129687753,-6.255611115175719,-0.4239677094158045,-0.21605801616127374,-5.770243875321091,-2.305637949612899,-1.6627354934220093,-1.4803565784860588,-2.1091584647477757,-2.201691417496274,-5.864794379952759,-0.5592746477765393,-0.19773856185168523,-0.37861161102393315,-3.5431608130108887,-3.372287140496569,-2.8912269225521467,-0.8460896461522456,-0.3255579880186757,0.06375826855503003,-2.324681219795149,-2.1483509978643838,-0.271614963193955,-1.2143481781402086,-0.3129126766623288,-0.9308243816788561,0.011821553710890973,-1.1634920874372305,-2.0347793356195147,-4.959324945866875,-1.359391722563515,-6.674674396942471,-4.013619394931861,0.17050083438676372,-2.31539913641267,-0.824890322820189,-3.115828208742577,-1.0787742481873837,-1.373255305267414,-3.4922653881975663,-0.0989471330652364,-0.6832123655227055,-2.000022748457704,-2.6050187037259165,-2.3078598453391423,-1.9078293340300871,-2.4746232210615884,-3.8805356745447392,-2.308037179803699,-4.767349722998576,-1.8295983974118275,-0.2364128502152978,-4.896854358170607,0.24342126376867046,-0.08681975358073636,-3.1465720969944906,-0.10956376959404429,-2.1231257041755915,-0.842368609312678,-1.3851266043113415,-1.2827919188057526,-2.310446527272022,-2.4552789970526563,-2.278608905157475,-2.1295653967549533,-0.12755228964400186,-1.9158337811448054,-0.3865447484247599,-1.7819293591320193,-2.0756727066449923,-2.1026486643686617,-0.7265780772051688,-1.2557829362889295,-2.6514322981581357,-0.7040878019041823,-0.8594142388025382,-2.8726186792168,-5.2224028099585205,-6.763223411712284,-2.845684521388785,-2.537611610652331,-1.7392673258759634,-1.2062652178821394,-0.28453035365226537,-2.3770419329327055,-0.8512805515576088,-4.520488286656829,-1.400619892236774,-2.6752455149989656,-1.5087632529532264,-0.21924323612913593,-1.8329853134216325,-2.8841838799607014,-1.5154118502567409,-0.8429448223908933,-1.0177975395421235,-0.5429332443163795,-2.3175917874575287,-0.1881432309859117,-1.4091853819592828,-3.1597148784312985,-0.732234089927702,-2.713036092690958,-3.7016064039878,-1.4480193017716447,-2.124207716953333,-2.9138571433676934,-2.6457753667657427,-2.3322588305085774,-4.969848362250733,-2.8922415486558615,-4.217164484578662],\"y\":[0,0,0,0,0,0,0,0,0,0,0,0,0,0,0,0,0,0,0,0,0,0,0,0,0,0,0,0,0,0,0,0,0,0,0,0,0,0,0,0,0,0,0,0,0,0,0,0,0,0,0,0,0,0,0,0,0,0,0,0,0,0,0,0,0,0,0,0,0,0,0,0,0,0,0,0,0,0,0,0,0,0,0,0,0,0,0,0,0,0,0,0,0,0,0,0,0,0,0,0,0,0,0,0,0,0,0,0,0,0,0,0,0,0,0,0,0,0,0,0,0,0,0,0,0,0,0,0,0,0,0,0,0,0,0,0,0,0,0,0,0,0,0,0,0,0,0,0,0,0,0,0,0,0,0,0,0,0,0,0,0,0,0,0,0,0,0,0,0,0,0,0,0,0,0,0,0,0,0,0,0,0,0,0],\"type\":\"scatter\"},{\"marker\":{\"color\":\"rgba(255, 128, 2, 0.8)\"},\"mode\":\"markers\",\"name\":\"Cluster 1\",\"x\":[3.168327815329737,0.8637690774296529,0.9721970721288963,0.5233651821568894,2.678068298859867,3.6723028812702476,1.74152799585739,3.160951544052967,0.5949146405172901,4.157303551833626,3.517970512678812,3.5598964925542482,4.9128152325756895,1.8238435257136147,1.9894168748323136,3.5321164450453457,4.084921832659713,1.0050251693229584,1.1902557159257208,3.3190258897213476,3.475577122375078,4.432619281997838,1.2091561884166449,0.441765251169458,2.537276540276398,4.117783368532887,3.612965255014185,1.6376469177503403,1.4602309426517537,2.537318213793625,1.524428419834136,4.198222269327438,3.2802193407582467,4.207778768914727,4.053272403028875,0.7944230151409621,4.031797361309157,0.7968575821784848,1.5865290287759102,3.524673010378969,3.4236946154317027,4.34415586496777,1.3570626038947695,0.16356256211131198,1.9733775139827248,3.4775414444369224,0.7775842962932344,1.338593242318051,4.073626696279123,1.9182308296223765,0.8938509116333623,1.405220679235924,1.9576595187127985,1.7352082352334859,1.3401800283710381,1.2932052011985984,5.6852750133743095,0.8616780950536057,1.4415633604520017,4.133604132432981,4.936906929544343,3.1584396055097073,1.6458062677420193,2.0743547567398317,4.0813206349835935,4.8653982248230205,2.5472199010345773,2.7688663665633957,2.4639806320243585,0.32821098021425205,3.6086896570942497,1.9584838065407273,1.4169859430977056,1.9904847036004383,1.299256470172958,0.7153028007552275,1.0668436190238055,3.81577000799223,3.0323432372788295,3.2547489488549153,1.1044427751986206,3.384126762355507,1.6004330935055517,1.7720396795910018,1.9672286369344574,0.3901956542373882,2.471175718650804,3.3266191828213327,2.5229455361731308,4.342096440198645,3.793664513397198,4.095702101119886,1.8019626694415982,1.8636389911837692,0.6450963407847096,3.7431558490550354,3.2089443107964817,1.843028581919311,1.622086326947882,2.440798017255979,0.4774607371575665,2.968702966430699,4.49495483614543,3.9585966797546694,4.154846175863682,0.6139826512225881,0.30280421724843665,0.946947210722566,1.7833984981477713,1.4395937178102542,0.6944416179576943,1.9149200406766103,5.194371300011772,3.562266361104331,3.0115817545813375,2.375149493204307,3.9269633216888833,0.881193381556709,0.8785400876496623,1.1075171718158867,3.8664710499181205,4.391180806728862,4.197220134747779,3.462258937842199,2.187886211716661,5.3657355162297735,3.3133384718920187,3.7479434740891864,2.0242237277422106,0.43376149599941144,1.8140845486699366,1.45854577150207,5.125416837464996,2.09550264460942,0.2989622339842152,1.760372428272016,6.198087215888916,0.6447013271171157,3.297606011264574,0.9910242007209182,2.9498805349573805,1.011787207340523,1.4479414242368593,0.21386537665676433,0.3335725398476374,4.216308989037839,4.120635105536039,1.896090043002443,2.536127653364272,1.0464778013887015,3.915201921411354,3.9411908511058877,3.8879375375726957,0.28711575798162836,1.6158657315146283],\"y\":[0,0,0,0,0,0,0,0,0,0,0,0,0,0,0,0,0,0,0,0,0,0,0,0,0,0,0,0,0,0,0,0,0,0,0,0,0,0,0,0,0,0,0,0,0,0,0,0,0,0,0,0,0,0,0,0,0,0,0,0,0,0,0,0,0,0,0,0,0,0,0,0,0,0,0,0,0,0,0,0,0,0,0,0,0,0,0,0,0,0,0,0,0,0,0,0,0,0,0,0,0,0,0,0,0,0,0,0,0,0,0,0,0,0,0,0,0,0,0,0,0,0,0,0,0,0,0,0,0,0,0,0,0,0,0,0,0,0,0,0,0,0,0,0,0,0,0,0,0,0,0,0,0,0,0],\"type\":\"scatter\"}],                        {\"template\":{\"data\":{\"barpolar\":[{\"marker\":{\"line\":{\"color\":\"#E5ECF6\",\"width\":0.5},\"pattern\":{\"fillmode\":\"overlay\",\"size\":10,\"solidity\":0.2}},\"type\":\"barpolar\"}],\"bar\":[{\"error_x\":{\"color\":\"#2a3f5f\"},\"error_y\":{\"color\":\"#2a3f5f\"},\"marker\":{\"line\":{\"color\":\"#E5ECF6\",\"width\":0.5},\"pattern\":{\"fillmode\":\"overlay\",\"size\":10,\"solidity\":0.2}},\"type\":\"bar\"}],\"carpet\":[{\"aaxis\":{\"endlinecolor\":\"#2a3f5f\",\"gridcolor\":\"white\",\"linecolor\":\"white\",\"minorgridcolor\":\"white\",\"startlinecolor\":\"#2a3f5f\"},\"baxis\":{\"endlinecolor\":\"#2a3f5f\",\"gridcolor\":\"white\",\"linecolor\":\"white\",\"minorgridcolor\":\"white\",\"startlinecolor\":\"#2a3f5f\"},\"type\":\"carpet\"}],\"choropleth\":[{\"colorbar\":{\"outlinewidth\":0,\"ticks\":\"\"},\"type\":\"choropleth\"}],\"contourcarpet\":[{\"colorbar\":{\"outlinewidth\":0,\"ticks\":\"\"},\"type\":\"contourcarpet\"}],\"contour\":[{\"colorbar\":{\"outlinewidth\":0,\"ticks\":\"\"},\"colorscale\":[[0.0,\"#0d0887\"],[0.1111111111111111,\"#46039f\"],[0.2222222222222222,\"#7201a8\"],[0.3333333333333333,\"#9c179e\"],[0.4444444444444444,\"#bd3786\"],[0.5555555555555556,\"#d8576b\"],[0.6666666666666666,\"#ed7953\"],[0.7777777777777778,\"#fb9f3a\"],[0.8888888888888888,\"#fdca26\"],[1.0,\"#f0f921\"]],\"type\":\"contour\"}],\"heatmapgl\":[{\"colorbar\":{\"outlinewidth\":0,\"ticks\":\"\"},\"colorscale\":[[0.0,\"#0d0887\"],[0.1111111111111111,\"#46039f\"],[0.2222222222222222,\"#7201a8\"],[0.3333333333333333,\"#9c179e\"],[0.4444444444444444,\"#bd3786\"],[0.5555555555555556,\"#d8576b\"],[0.6666666666666666,\"#ed7953\"],[0.7777777777777778,\"#fb9f3a\"],[0.8888888888888888,\"#fdca26\"],[1.0,\"#f0f921\"]],\"type\":\"heatmapgl\"}],\"heatmap\":[{\"colorbar\":{\"outlinewidth\":0,\"ticks\":\"\"},\"colorscale\":[[0.0,\"#0d0887\"],[0.1111111111111111,\"#46039f\"],[0.2222222222222222,\"#7201a8\"],[0.3333333333333333,\"#9c179e\"],[0.4444444444444444,\"#bd3786\"],[0.5555555555555556,\"#d8576b\"],[0.6666666666666666,\"#ed7953\"],[0.7777777777777778,\"#fb9f3a\"],[0.8888888888888888,\"#fdca26\"],[1.0,\"#f0f921\"]],\"type\":\"heatmap\"}],\"histogram2dcontour\":[{\"colorbar\":{\"outlinewidth\":0,\"ticks\":\"\"},\"colorscale\":[[0.0,\"#0d0887\"],[0.1111111111111111,\"#46039f\"],[0.2222222222222222,\"#7201a8\"],[0.3333333333333333,\"#9c179e\"],[0.4444444444444444,\"#bd3786\"],[0.5555555555555556,\"#d8576b\"],[0.6666666666666666,\"#ed7953\"],[0.7777777777777778,\"#fb9f3a\"],[0.8888888888888888,\"#fdca26\"],[1.0,\"#f0f921\"]],\"type\":\"histogram2dcontour\"}],\"histogram2d\":[{\"colorbar\":{\"outlinewidth\":0,\"ticks\":\"\"},\"colorscale\":[[0.0,\"#0d0887\"],[0.1111111111111111,\"#46039f\"],[0.2222222222222222,\"#7201a8\"],[0.3333333333333333,\"#9c179e\"],[0.4444444444444444,\"#bd3786\"],[0.5555555555555556,\"#d8576b\"],[0.6666666666666666,\"#ed7953\"],[0.7777777777777778,\"#fb9f3a\"],[0.8888888888888888,\"#fdca26\"],[1.0,\"#f0f921\"]],\"type\":\"histogram2d\"}],\"histogram\":[{\"marker\":{\"pattern\":{\"fillmode\":\"overlay\",\"size\":10,\"solidity\":0.2}},\"type\":\"histogram\"}],\"mesh3d\":[{\"colorbar\":{\"outlinewidth\":0,\"ticks\":\"\"},\"type\":\"mesh3d\"}],\"parcoords\":[{\"line\":{\"colorbar\":{\"outlinewidth\":0,\"ticks\":\"\"}},\"type\":\"parcoords\"}],\"pie\":[{\"automargin\":true,\"type\":\"pie\"}],\"scatter3d\":[{\"line\":{\"colorbar\":{\"outlinewidth\":0,\"ticks\":\"\"}},\"marker\":{\"colorbar\":{\"outlinewidth\":0,\"ticks\":\"\"}},\"type\":\"scatter3d\"}],\"scattercarpet\":[{\"marker\":{\"colorbar\":{\"outlinewidth\":0,\"ticks\":\"\"}},\"type\":\"scattercarpet\"}],\"scattergeo\":[{\"marker\":{\"colorbar\":{\"outlinewidth\":0,\"ticks\":\"\"}},\"type\":\"scattergeo\"}],\"scattergl\":[{\"marker\":{\"colorbar\":{\"outlinewidth\":0,\"ticks\":\"\"}},\"type\":\"scattergl\"}],\"scattermapbox\":[{\"marker\":{\"colorbar\":{\"outlinewidth\":0,\"ticks\":\"\"}},\"type\":\"scattermapbox\"}],\"scatterpolargl\":[{\"marker\":{\"colorbar\":{\"outlinewidth\":0,\"ticks\":\"\"}},\"type\":\"scatterpolargl\"}],\"scatterpolar\":[{\"marker\":{\"colorbar\":{\"outlinewidth\":0,\"ticks\":\"\"}},\"type\":\"scatterpolar\"}],\"scatter\":[{\"fillpattern\":{\"fillmode\":\"overlay\",\"size\":10,\"solidity\":0.2},\"type\":\"scatter\"}],\"scatterternary\":[{\"marker\":{\"colorbar\":{\"outlinewidth\":0,\"ticks\":\"\"}},\"type\":\"scatterternary\"}],\"surface\":[{\"colorbar\":{\"outlinewidth\":0,\"ticks\":\"\"},\"colorscale\":[[0.0,\"#0d0887\"],[0.1111111111111111,\"#46039f\"],[0.2222222222222222,\"#7201a8\"],[0.3333333333333333,\"#9c179e\"],[0.4444444444444444,\"#bd3786\"],[0.5555555555555556,\"#d8576b\"],[0.6666666666666666,\"#ed7953\"],[0.7777777777777778,\"#fb9f3a\"],[0.8888888888888888,\"#fdca26\"],[1.0,\"#f0f921\"]],\"type\":\"surface\"}],\"table\":[{\"cells\":{\"fill\":{\"color\":\"#EBF0F8\"},\"line\":{\"color\":\"white\"}},\"header\":{\"fill\":{\"color\":\"#C8D4E3\"},\"line\":{\"color\":\"white\"}},\"type\":\"table\"}]},\"layout\":{\"annotationdefaults\":{\"arrowcolor\":\"#2a3f5f\",\"arrowhead\":0,\"arrowwidth\":1},\"autotypenumbers\":\"strict\",\"coloraxis\":{\"colorbar\":{\"outlinewidth\":0,\"ticks\":\"\"}},\"colorscale\":{\"diverging\":[[0,\"#8e0152\"],[0.1,\"#c51b7d\"],[0.2,\"#de77ae\"],[0.3,\"#f1b6da\"],[0.4,\"#fde0ef\"],[0.5,\"#f7f7f7\"],[0.6,\"#e6f5d0\"],[0.7,\"#b8e186\"],[0.8,\"#7fbc41\"],[0.9,\"#4d9221\"],[1,\"#276419\"]],\"sequential\":[[0.0,\"#0d0887\"],[0.1111111111111111,\"#46039f\"],[0.2222222222222222,\"#7201a8\"],[0.3333333333333333,\"#9c179e\"],[0.4444444444444444,\"#bd3786\"],[0.5555555555555556,\"#d8576b\"],[0.6666666666666666,\"#ed7953\"],[0.7777777777777778,\"#fb9f3a\"],[0.8888888888888888,\"#fdca26\"],[1.0,\"#f0f921\"]],\"sequentialminus\":[[0.0,\"#0d0887\"],[0.1111111111111111,\"#46039f\"],[0.2222222222222222,\"#7201a8\"],[0.3333333333333333,\"#9c179e\"],[0.4444444444444444,\"#bd3786\"],[0.5555555555555556,\"#d8576b\"],[0.6666666666666666,\"#ed7953\"],[0.7777777777777778,\"#fb9f3a\"],[0.8888888888888888,\"#fdca26\"],[1.0,\"#f0f921\"]]},\"colorway\":[\"#636efa\",\"#EF553B\",\"#00cc96\",\"#ab63fa\",\"#FFA15A\",\"#19d3f3\",\"#FF6692\",\"#B6E880\",\"#FF97FF\",\"#FECB52\"],\"font\":{\"color\":\"#2a3f5f\"},\"geo\":{\"bgcolor\":\"white\",\"lakecolor\":\"white\",\"landcolor\":\"#E5ECF6\",\"showlakes\":true,\"showland\":true,\"subunitcolor\":\"white\"},\"hoverlabel\":{\"align\":\"left\"},\"hovermode\":\"closest\",\"mapbox\":{\"style\":\"light\"},\"paper_bgcolor\":\"white\",\"plot_bgcolor\":\"#E5ECF6\",\"polar\":{\"angularaxis\":{\"gridcolor\":\"white\",\"linecolor\":\"white\",\"ticks\":\"\"},\"bgcolor\":\"#E5ECF6\",\"radialaxis\":{\"gridcolor\":\"white\",\"linecolor\":\"white\",\"ticks\":\"\"}},\"scene\":{\"xaxis\":{\"backgroundcolor\":\"#E5ECF6\",\"gridcolor\":\"white\",\"gridwidth\":2,\"linecolor\":\"white\",\"showbackground\":true,\"ticks\":\"\",\"zerolinecolor\":\"white\"},\"yaxis\":{\"backgroundcolor\":\"#E5ECF6\",\"gridcolor\":\"white\",\"gridwidth\":2,\"linecolor\":\"white\",\"showbackground\":true,\"ticks\":\"\",\"zerolinecolor\":\"white\"},\"zaxis\":{\"backgroundcolor\":\"#E5ECF6\",\"gridcolor\":\"white\",\"gridwidth\":2,\"linecolor\":\"white\",\"showbackground\":true,\"ticks\":\"\",\"zerolinecolor\":\"white\"}},\"shapedefaults\":{\"line\":{\"color\":\"#2a3f5f\"}},\"ternary\":{\"aaxis\":{\"gridcolor\":\"white\",\"linecolor\":\"white\",\"ticks\":\"\"},\"baxis\":{\"gridcolor\":\"white\",\"linecolor\":\"white\",\"ticks\":\"\"},\"bgcolor\":\"#E5ECF6\",\"caxis\":{\"gridcolor\":\"white\",\"linecolor\":\"white\",\"ticks\":\"\"}},\"title\":{\"x\":0.05},\"xaxis\":{\"automargin\":true,\"gridcolor\":\"white\",\"linecolor\":\"white\",\"ticks\":\"\",\"title\":{\"standoff\":15},\"zerolinecolor\":\"white\",\"zerolinewidth\":2},\"yaxis\":{\"automargin\":true,\"gridcolor\":\"white\",\"linecolor\":\"white\",\"ticks\":\"\",\"title\":{\"standoff\":15},\"zerolinecolor\":\"white\",\"zerolinewidth\":2}}},\"title\":{\"text\":\"Visualizing Clusters in One Dimension Using PCA\"},\"xaxis\":{\"ticklen\":5,\"title\":{\"text\":\"PC1\"},\"zeroline\":false},\"yaxis\":{\"ticklen\":5,\"title\":{\"text\":\"\"},\"zeroline\":false}},                        {\"responsive\": true}                    ).then(function(){\n",
       "                            \n",
       "var gd = document.getElementById('34cd2619-238d-4568-ae4a-eab3b3d9fd02');\n",
       "var x = new MutationObserver(function (mutations, observer) {{\n",
       "        var display = window.getComputedStyle(gd).display;\n",
       "        if (!display || display === 'none') {{\n",
       "            console.log([gd, 'removed!']);\n",
       "            Plotly.purge(gd);\n",
       "            observer.disconnect();\n",
       "        }}\n",
       "}});\n",
       "\n",
       "// Listen for the removal of the full notebook cells\n",
       "var notebookContainer = gd.closest('#notebook-container');\n",
       "if (notebookContainer) {{\n",
       "    x.observe(notebookContainer, {childList: true});\n",
       "}}\n",
       "\n",
       "// Listen for the clearing of the current output cell\n",
       "var outputEl = gd.closest('.output');\n",
       "if (outputEl) {{\n",
       "    x.observe(outputEl, {childList: true});\n",
       "}}\n",
       "\n",
       "                        })                };                });            </script>        </div>"
      ]
     },
     "metadata": {},
     "output_type": "display_data"
    }
   ],
   "source": [
    "#Instructions for building the 1-D plot\n",
    "\n",
    "#trace1 is for 'Cluster 0'\n",
    "trace1 = go.Scatter(\n",
    "                    x = cluster0[\"PC1_1d\"], #x=df_X_reduced[0],\n",
    "                    y = cluster0[\"dummy\"],\n",
    "                    mode = \"markers\",\n",
    "                    name = \"Cluster 0\",\n",
    "                    marker = dict(color = 'rgba(255, 128, 255, 0.8)'),\n",
    "                    text = None)\n",
    "\n",
    "#trace2 is for 'Cluster 1'\n",
    "trace2 = go.Scatter(\n",
    "                    x = cluster1[\"PC1_1d\"],\n",
    "                    y = cluster1[\"dummy\"],\n",
    "                    mode = \"markers\",\n",
    "                    name = \"Cluster 1\",\n",
    "                    marker = dict(color = 'rgba(255, 128, 2, 0.8)'),\n",
    "                    text = None)\n",
    "\n",
    "#trace3 is for 'Cluster 2'\n",
    "#trace3 = go.Scatter(\n",
    "#                    x = cluster2[\"PC1_1d\"],\n",
    "#                    y = cluster2[\"dummy\"],\n",
    "#                    mode = \"markers\",\n",
    "#                    name = \"Cluster 2\",\n",
    "#                    marker = dict(color = 'rgba(0, 255, 200, 0.8)'),\n",
    "#                    text = None)\n",
    "\n",
    "#######################################################################\n",
    "#trace4 is for 'Cluster 3'\n",
    "#trace4 = go.Scatter(\n",
    "#                    x = cluster3[\"PC1_1d\"],\n",
    "#                    y = cluster3[\"dummy\"],\n",
    "#                    mode = \"markers\",\n",
    "#                    name = \"Cluster 3\",\n",
    "#                    marker = dict(color = 'rgba(200, 105, 45, 0.8)'),\n",
    "#                    text = None)\n",
    "\n",
    "data = [trace1, trace2] #, trace3, trace4] #, trace4]\n",
    "\n",
    "title = \"Visualizing Clusters in One Dimension Using PCA\"\n",
    "\n",
    "layout = dict(title = title,\n",
    "              xaxis= dict(title= 'PC1',ticklen= 5,zeroline= False),\n",
    "              yaxis= dict(title= '',ticklen= 5,zeroline= False)\n",
    "             )\n",
    "\n",
    "fig = dict(data = data, layout = layout)\n",
    "\n",
    "iplot(fig)"
   ]
  },
  {
   "cell_type": "code",
   "execution_count": 199,
   "metadata": {
    "scrolled": true
   },
   "outputs": [
    {
     "data": {
      "application/vnd.plotly.v1+json": {
       "config": {
        "linkText": "Export to plot.ly",
        "plotlyServerURL": "https://plot.ly",
        "showLink": false
       },
       "data": [
        {
         "marker": {
          "color": "rgba(255, 128, 255, 0.8)"
         },
         "mode": "markers",
         "name": "Cluster 0",
         "type": "scatter",
         "x": [
          0.9470347126621884,
          -0.9105488903308053,
          -0.6102014838259117,
          0.6415571417046955,
          0.3933281571558572,
          1.0898674909240076,
          0.3794102371467186,
          0.7946066345468943,
          -1.9705893623793729,
          -3.3303237689282867,
          0.06356876681381797,
          -2.0724463211203674,
          1.763034320576131,
          -2.4168856295429233,
          0.08275578979617926,
          1.3234956404536224,
          -0.14962706802315484,
          -0.725732252542601,
          0.2171271088062786,
          -1.9014799831659592,
          0.8877068796926283,
          -1.7238842646286818,
          -0.06122712789638119,
          -0.771749745136523,
          0.150463711822755,
          2.3681409667212097,
          2.08000992168823,
          -1.7876473348265014,
          2.3877783545745035,
          -2.158193885361466,
          -1.8234376311397882,
          0.5480659351405356,
          -2.56110395516093,
          -0.37183317092477186,
          2.214848284231639,
          -0.43630142909989217,
          0.543567462439684,
          -0.16063249326246198,
          3.0296244581867193,
          -1.614998093248674,
          -1.9800481103024647,
          0.507308947480066,
          1.3866606674988324,
          -1.60258413036584,
          -2.279976737741396,
          -0.41065711506233954,
          -0.15500108757802256,
          -1.08860898983832,
          0.2513099602557385,
          0.35089016814908186,
          -1.66095257943486,
          -2.373071202074392,
          -1.5448025273846104,
          -1.2092827560858002,
          0.57128521938494,
          -1.984673316323414,
          -0.4608517840567882,
          0.4035975919616767,
          -1.6295164460609994,
          -1.217890965793465,
          -1.620835305289775,
          -2.5416207568296394,
          -0.9646901351852292,
          -1.7920514912779124,
          -1.6555343580498785,
          0.9872729219000659,
          -1.6520809752175247,
          -1.6156400311595078,
          -0.4123399331545193
         ],
         "y": [
          -1.8323383702863456,
          -1.7935233519673854,
          -2.2111167567605055,
          -2.7734466085535816,
          -2.6849337477228152,
          -2.7102836572663827,
          -2.861788174393492,
          -1.3116591927336168,
          -0.045355001167000045,
          -0.5466338034475134,
          -1.6921264891848966,
          -0.40999019007832355,
          -1.304122493394397,
          -1.181604812248556,
          -2.4092258184600017,
          -2.001181680263939,
          -1.7497977162929503,
          -0.1441802340558749,
          -2.3468081709876762,
          -0.9709500904664549,
          -2.352664439213091,
          -1.0138029134453859,
          -3.23275072279499,
          -1.9120647268496695,
          -2.5814656702237113,
          -2.2445302057678065,
          -2.4879384263818336,
          -2.0812035511477807,
          -0.15762534581450832,
          -1.133368732270468,
          -1.1923174747774241,
          -2.3341513197026043,
          -0.22231338477006166,
          0.22773574321250906,
          -1.7598894216060113,
          -2.1935647232908595,
          -3.32226529719284,
          -2.2793948929719594,
          -2.2895682986004604,
          -0.3599615126761441,
          -0.44183789760637404,
          -2.466047788954215,
          -3.512635129057846,
          -1.2013609878677245,
          -1.2536432780988729,
          -0.7902156724743851,
          -2.0190746466075624,
          -1.153955111942251,
          -2.659666307107328,
          -1.7639294384111672,
          -1.2076169573363598,
          -1.4208516038970782,
          -2.1081463163039493,
          -1.8913397103946108,
          -2.044735080160411,
          -1.9359425398075163,
          -0.8326198475128591,
          -2.2402374323763694,
          -0.7986795640664477,
          -2.0408994663671507,
          -1.9233257544943783,
          0.1255884217603113,
          -1.2032202149092608,
          -0.28491098198570336,
          -1.070071905043816,
          -2.829808710891295,
          -1.365684464368342,
          -1.5630314060997272,
          -3.0642418781312593
         ]
        },
        {
         "marker": {
          "color": "rgba(255, 128, 2, 0.8)"
         },
         "mode": "markers",
         "name": "Cluster 1",
         "type": "scatter",
         "x": [
          -5.247778093700507,
          -2.633793163762815,
          -3.623529527250134,
          -3.104964543211558,
          -2.8922969049039473,
          -3.4719878339891963,
          -3.938294422113421,
          -3.5122550021842556,
          -4.352277575415163,
          -4.20522921561692,
          -1.5144126714701795,
          -2.2202317865407033,
          -4.543298347669702,
          -3.723496510388182,
          -3.5969122571030625,
          -3.5128651190830333,
          -3.977239384911582,
          -2.348726616260419,
          -0.8858155363554578,
          -4.049737860724456,
          -4.146760150828885,
          -2.8295603819871373,
          -2.639684802275793,
          -4.410630503330624,
          -2.8964204481454736,
          -3.4930211319102957,
          -3.486905814679758,
          -3.842318400576153,
          -2.47170415032118,
          -2.601114039337194,
          -4.707945900936872,
          -3.493085693889976,
          -3.0017337918541367
         ],
         "y": [
          3.338920282782582,
          2.6801155586245162,
          1.4596147183034691,
          1.2892832412355528,
          1.3742527828265476,
          3.385971869002,
          4.856397605862955,
          2.275573574030243,
          3.791388340595842,
          3.1135845347538127,
          4.780762895055021,
          1.0590017997468775,
          2.809501076789897,
          2.385252401547171,
          1.976942733784825,
          2.537645740254028,
          2.2634892221040768,
          3.1034697343366524,
          1.2909753131859192,
          3.034515826644569,
          2.789451118488051,
          0.9698888766591398,
          1.316055723508045,
          2.518746606079014,
          1.7196390356114908,
          2.6281121995950105,
          2.2700359645794452,
          2.673253395313664,
          1.641184974407607,
          2.1993450813085973,
          3.120964510966068,
          1.8008200909660887,
          1.5654627065993054
         ]
        },
        {
         "marker": {
          "color": "rgba(0, 255, 200, 0.8)"
         },
         "mode": "markers",
         "name": "Cluster 2",
         "type": "scatter",
         "x": [
          8.843845051918446,
          8.43849471690786,
          7.011155726774598,
          5.091912812735733,
          8.449028501182724,
          6.2303383717880685,
          3.94714847509899,
          3.625991824902292,
          9.309746774545921,
          6.551281344053021,
          3.156238443895816,
          4.824899061372215,
          9.763770890456916,
          7.079298925298972,
          7.309592352045746,
          5.875412975235898,
          4.344742305020435,
          5.440195137530471,
          11.394876994125159,
          6.591727365732305,
          5.108827807628343,
          6.034738897575683
         ],
         "y": [
          3.0323794717008044,
          4.270929530057887,
          5.714606515576361,
          -1.2913239558889378,
          2.8198383765588435,
          -1.2167659509362188,
          0.356781328739834,
          -0.4139846533723735,
          4.022453365292195,
          5.539387495893286,
          -0.05124879101772098,
          2.7600753944480387,
          2.6412496998931276,
          1.8809816324422697,
          -0.2950489812917316,
          0.2337880824547063,
          3.0794842679339074,
          0.3911177909845634,
          1.3624658969272994,
          1.1915006046792658,
          -1.899320414231069,
          0.7173471041383248
         ]
        }
       ],
       "layout": {
        "template": {
         "data": {
          "bar": [
           {
            "error_x": {
             "color": "#2a3f5f"
            },
            "error_y": {
             "color": "#2a3f5f"
            },
            "marker": {
             "line": {
              "color": "#E5ECF6",
              "width": 0.5
             },
             "pattern": {
              "fillmode": "overlay",
              "size": 10,
              "solidity": 0.2
             }
            },
            "type": "bar"
           }
          ],
          "barpolar": [
           {
            "marker": {
             "line": {
              "color": "#E5ECF6",
              "width": 0.5
             },
             "pattern": {
              "fillmode": "overlay",
              "size": 10,
              "solidity": 0.2
             }
            },
            "type": "barpolar"
           }
          ],
          "carpet": [
           {
            "aaxis": {
             "endlinecolor": "#2a3f5f",
             "gridcolor": "white",
             "linecolor": "white",
             "minorgridcolor": "white",
             "startlinecolor": "#2a3f5f"
            },
            "baxis": {
             "endlinecolor": "#2a3f5f",
             "gridcolor": "white",
             "linecolor": "white",
             "minorgridcolor": "white",
             "startlinecolor": "#2a3f5f"
            },
            "type": "carpet"
           }
          ],
          "choropleth": [
           {
            "colorbar": {
             "outlinewidth": 0,
             "ticks": ""
            },
            "type": "choropleth"
           }
          ],
          "contour": [
           {
            "colorbar": {
             "outlinewidth": 0,
             "ticks": ""
            },
            "colorscale": [
             [
              0,
              "#0d0887"
             ],
             [
              0.1111111111111111,
              "#46039f"
             ],
             [
              0.2222222222222222,
              "#7201a8"
             ],
             [
              0.3333333333333333,
              "#9c179e"
             ],
             [
              0.4444444444444444,
              "#bd3786"
             ],
             [
              0.5555555555555556,
              "#d8576b"
             ],
             [
              0.6666666666666666,
              "#ed7953"
             ],
             [
              0.7777777777777778,
              "#fb9f3a"
             ],
             [
              0.8888888888888888,
              "#fdca26"
             ],
             [
              1,
              "#f0f921"
             ]
            ],
            "type": "contour"
           }
          ],
          "contourcarpet": [
           {
            "colorbar": {
             "outlinewidth": 0,
             "ticks": ""
            },
            "type": "contourcarpet"
           }
          ],
          "heatmap": [
           {
            "colorbar": {
             "outlinewidth": 0,
             "ticks": ""
            },
            "colorscale": [
             [
              0,
              "#0d0887"
             ],
             [
              0.1111111111111111,
              "#46039f"
             ],
             [
              0.2222222222222222,
              "#7201a8"
             ],
             [
              0.3333333333333333,
              "#9c179e"
             ],
             [
              0.4444444444444444,
              "#bd3786"
             ],
             [
              0.5555555555555556,
              "#d8576b"
             ],
             [
              0.6666666666666666,
              "#ed7953"
             ],
             [
              0.7777777777777778,
              "#fb9f3a"
             ],
             [
              0.8888888888888888,
              "#fdca26"
             ],
             [
              1,
              "#f0f921"
             ]
            ],
            "type": "heatmap"
           }
          ],
          "heatmapgl": [
           {
            "colorbar": {
             "outlinewidth": 0,
             "ticks": ""
            },
            "colorscale": [
             [
              0,
              "#0d0887"
             ],
             [
              0.1111111111111111,
              "#46039f"
             ],
             [
              0.2222222222222222,
              "#7201a8"
             ],
             [
              0.3333333333333333,
              "#9c179e"
             ],
             [
              0.4444444444444444,
              "#bd3786"
             ],
             [
              0.5555555555555556,
              "#d8576b"
             ],
             [
              0.6666666666666666,
              "#ed7953"
             ],
             [
              0.7777777777777778,
              "#fb9f3a"
             ],
             [
              0.8888888888888888,
              "#fdca26"
             ],
             [
              1,
              "#f0f921"
             ]
            ],
            "type": "heatmapgl"
           }
          ],
          "histogram": [
           {
            "marker": {
             "pattern": {
              "fillmode": "overlay",
              "size": 10,
              "solidity": 0.2
             }
            },
            "type": "histogram"
           }
          ],
          "histogram2d": [
           {
            "colorbar": {
             "outlinewidth": 0,
             "ticks": ""
            },
            "colorscale": [
             [
              0,
              "#0d0887"
             ],
             [
              0.1111111111111111,
              "#46039f"
             ],
             [
              0.2222222222222222,
              "#7201a8"
             ],
             [
              0.3333333333333333,
              "#9c179e"
             ],
             [
              0.4444444444444444,
              "#bd3786"
             ],
             [
              0.5555555555555556,
              "#d8576b"
             ],
             [
              0.6666666666666666,
              "#ed7953"
             ],
             [
              0.7777777777777778,
              "#fb9f3a"
             ],
             [
              0.8888888888888888,
              "#fdca26"
             ],
             [
              1,
              "#f0f921"
             ]
            ],
            "type": "histogram2d"
           }
          ],
          "histogram2dcontour": [
           {
            "colorbar": {
             "outlinewidth": 0,
             "ticks": ""
            },
            "colorscale": [
             [
              0,
              "#0d0887"
             ],
             [
              0.1111111111111111,
              "#46039f"
             ],
             [
              0.2222222222222222,
              "#7201a8"
             ],
             [
              0.3333333333333333,
              "#9c179e"
             ],
             [
              0.4444444444444444,
              "#bd3786"
             ],
             [
              0.5555555555555556,
              "#d8576b"
             ],
             [
              0.6666666666666666,
              "#ed7953"
             ],
             [
              0.7777777777777778,
              "#fb9f3a"
             ],
             [
              0.8888888888888888,
              "#fdca26"
             ],
             [
              1,
              "#f0f921"
             ]
            ],
            "type": "histogram2dcontour"
           }
          ],
          "mesh3d": [
           {
            "colorbar": {
             "outlinewidth": 0,
             "ticks": ""
            },
            "type": "mesh3d"
           }
          ],
          "parcoords": [
           {
            "line": {
             "colorbar": {
              "outlinewidth": 0,
              "ticks": ""
             }
            },
            "type": "parcoords"
           }
          ],
          "pie": [
           {
            "automargin": true,
            "type": "pie"
           }
          ],
          "scatter": [
           {
            "fillpattern": {
             "fillmode": "overlay",
             "size": 10,
             "solidity": 0.2
            },
            "type": "scatter"
           }
          ],
          "scatter3d": [
           {
            "line": {
             "colorbar": {
              "outlinewidth": 0,
              "ticks": ""
             }
            },
            "marker": {
             "colorbar": {
              "outlinewidth": 0,
              "ticks": ""
             }
            },
            "type": "scatter3d"
           }
          ],
          "scattercarpet": [
           {
            "marker": {
             "colorbar": {
              "outlinewidth": 0,
              "ticks": ""
             }
            },
            "type": "scattercarpet"
           }
          ],
          "scattergeo": [
           {
            "marker": {
             "colorbar": {
              "outlinewidth": 0,
              "ticks": ""
             }
            },
            "type": "scattergeo"
           }
          ],
          "scattergl": [
           {
            "marker": {
             "colorbar": {
              "outlinewidth": 0,
              "ticks": ""
             }
            },
            "type": "scattergl"
           }
          ],
          "scattermapbox": [
           {
            "marker": {
             "colorbar": {
              "outlinewidth": 0,
              "ticks": ""
             }
            },
            "type": "scattermapbox"
           }
          ],
          "scatterpolar": [
           {
            "marker": {
             "colorbar": {
              "outlinewidth": 0,
              "ticks": ""
             }
            },
            "type": "scatterpolar"
           }
          ],
          "scatterpolargl": [
           {
            "marker": {
             "colorbar": {
              "outlinewidth": 0,
              "ticks": ""
             }
            },
            "type": "scatterpolargl"
           }
          ],
          "scatterternary": [
           {
            "marker": {
             "colorbar": {
              "outlinewidth": 0,
              "ticks": ""
             }
            },
            "type": "scatterternary"
           }
          ],
          "surface": [
           {
            "colorbar": {
             "outlinewidth": 0,
             "ticks": ""
            },
            "colorscale": [
             [
              0,
              "#0d0887"
             ],
             [
              0.1111111111111111,
              "#46039f"
             ],
             [
              0.2222222222222222,
              "#7201a8"
             ],
             [
              0.3333333333333333,
              "#9c179e"
             ],
             [
              0.4444444444444444,
              "#bd3786"
             ],
             [
              0.5555555555555556,
              "#d8576b"
             ],
             [
              0.6666666666666666,
              "#ed7953"
             ],
             [
              0.7777777777777778,
              "#fb9f3a"
             ],
             [
              0.8888888888888888,
              "#fdca26"
             ],
             [
              1,
              "#f0f921"
             ]
            ],
            "type": "surface"
           }
          ],
          "table": [
           {
            "cells": {
             "fill": {
              "color": "#EBF0F8"
             },
             "line": {
              "color": "white"
             }
            },
            "header": {
             "fill": {
              "color": "#C8D4E3"
             },
             "line": {
              "color": "white"
             }
            },
            "type": "table"
           }
          ]
         },
         "layout": {
          "annotationdefaults": {
           "arrowcolor": "#2a3f5f",
           "arrowhead": 0,
           "arrowwidth": 1
          },
          "autotypenumbers": "strict",
          "coloraxis": {
           "colorbar": {
            "outlinewidth": 0,
            "ticks": ""
           }
          },
          "colorscale": {
           "diverging": [
            [
             0,
             "#8e0152"
            ],
            [
             0.1,
             "#c51b7d"
            ],
            [
             0.2,
             "#de77ae"
            ],
            [
             0.3,
             "#f1b6da"
            ],
            [
             0.4,
             "#fde0ef"
            ],
            [
             0.5,
             "#f7f7f7"
            ],
            [
             0.6,
             "#e6f5d0"
            ],
            [
             0.7,
             "#b8e186"
            ],
            [
             0.8,
             "#7fbc41"
            ],
            [
             0.9,
             "#4d9221"
            ],
            [
             1,
             "#276419"
            ]
           ],
           "sequential": [
            [
             0,
             "#0d0887"
            ],
            [
             0.1111111111111111,
             "#46039f"
            ],
            [
             0.2222222222222222,
             "#7201a8"
            ],
            [
             0.3333333333333333,
             "#9c179e"
            ],
            [
             0.4444444444444444,
             "#bd3786"
            ],
            [
             0.5555555555555556,
             "#d8576b"
            ],
            [
             0.6666666666666666,
             "#ed7953"
            ],
            [
             0.7777777777777778,
             "#fb9f3a"
            ],
            [
             0.8888888888888888,
             "#fdca26"
            ],
            [
             1,
             "#f0f921"
            ]
           ],
           "sequentialminus": [
            [
             0,
             "#0d0887"
            ],
            [
             0.1111111111111111,
             "#46039f"
            ],
            [
             0.2222222222222222,
             "#7201a8"
            ],
            [
             0.3333333333333333,
             "#9c179e"
            ],
            [
             0.4444444444444444,
             "#bd3786"
            ],
            [
             0.5555555555555556,
             "#d8576b"
            ],
            [
             0.6666666666666666,
             "#ed7953"
            ],
            [
             0.7777777777777778,
             "#fb9f3a"
            ],
            [
             0.8888888888888888,
             "#fdca26"
            ],
            [
             1,
             "#f0f921"
            ]
           ]
          },
          "colorway": [
           "#636efa",
           "#EF553B",
           "#00cc96",
           "#ab63fa",
           "#FFA15A",
           "#19d3f3",
           "#FF6692",
           "#B6E880",
           "#FF97FF",
           "#FECB52"
          ],
          "font": {
           "color": "#2a3f5f"
          },
          "geo": {
           "bgcolor": "white",
           "lakecolor": "white",
           "landcolor": "#E5ECF6",
           "showlakes": true,
           "showland": true,
           "subunitcolor": "white"
          },
          "hoverlabel": {
           "align": "left"
          },
          "hovermode": "closest",
          "mapbox": {
           "style": "light"
          },
          "paper_bgcolor": "white",
          "plot_bgcolor": "#E5ECF6",
          "polar": {
           "angularaxis": {
            "gridcolor": "white",
            "linecolor": "white",
            "ticks": ""
           },
           "bgcolor": "#E5ECF6",
           "radialaxis": {
            "gridcolor": "white",
            "linecolor": "white",
            "ticks": ""
           }
          },
          "scene": {
           "xaxis": {
            "backgroundcolor": "#E5ECF6",
            "gridcolor": "white",
            "gridwidth": 2,
            "linecolor": "white",
            "showbackground": true,
            "ticks": "",
            "zerolinecolor": "white"
           },
           "yaxis": {
            "backgroundcolor": "#E5ECF6",
            "gridcolor": "white",
            "gridwidth": 2,
            "linecolor": "white",
            "showbackground": true,
            "ticks": "",
            "zerolinecolor": "white"
           },
           "zaxis": {
            "backgroundcolor": "#E5ECF6",
            "gridcolor": "white",
            "gridwidth": 2,
            "linecolor": "white",
            "showbackground": true,
            "ticks": "",
            "zerolinecolor": "white"
           }
          },
          "shapedefaults": {
           "line": {
            "color": "#2a3f5f"
           }
          },
          "ternary": {
           "aaxis": {
            "gridcolor": "white",
            "linecolor": "white",
            "ticks": ""
           },
           "baxis": {
            "gridcolor": "white",
            "linecolor": "white",
            "ticks": ""
           },
           "bgcolor": "#E5ECF6",
           "caxis": {
            "gridcolor": "white",
            "linecolor": "white",
            "ticks": ""
           }
          },
          "title": {
           "x": 0.05
          },
          "xaxis": {
           "automargin": true,
           "gridcolor": "white",
           "linecolor": "white",
           "ticks": "",
           "title": {
            "standoff": 15
           },
           "zerolinecolor": "white",
           "zerolinewidth": 2
          },
          "yaxis": {
           "automargin": true,
           "gridcolor": "white",
           "linecolor": "white",
           "ticks": "",
           "title": {
            "standoff": 15
           },
           "zerolinecolor": "white",
           "zerolinewidth": 2
          }
         }
        },
        "title": {
         "text": "Visualizing Clusters in Two Dimensions Using PCA"
        },
        "xaxis": {
         "ticklen": 5,
         "title": {
          "text": "PC1"
         },
         "zeroline": false
        },
        "yaxis": {
         "ticklen": 5,
         "title": {
          "text": "PC2"
         },
         "zeroline": false
        }
       }
      },
      "text/html": [
       "<div>                            <div id=\"dae81246-85d2-4e7b-9ec5-025cf0b577bf\" class=\"plotly-graph-div\" style=\"height:525px; width:100%;\"></div>            <script type=\"text/javascript\">                require([\"plotly\"], function(Plotly) {                    window.PLOTLYENV=window.PLOTLYENV || {};                                    if (document.getElementById(\"dae81246-85d2-4e7b-9ec5-025cf0b577bf\")) {                    Plotly.newPlot(                        \"dae81246-85d2-4e7b-9ec5-025cf0b577bf\",                        [{\"marker\":{\"color\":\"rgba(255, 128, 255, 0.8)\"},\"mode\":\"markers\",\"name\":\"Cluster 0\",\"x\":[0.9470347126621884,-0.9105488903308053,-0.6102014838259117,0.6415571417046955,0.3933281571558572,1.0898674909240076,0.3794102371467186,0.7946066345468943,-1.9705893623793729,-3.3303237689282867,0.06356876681381797,-2.0724463211203674,1.763034320576131,-2.4168856295429233,0.08275578979617926,1.3234956404536224,-0.14962706802315484,-0.725732252542601,0.2171271088062786,-1.9014799831659592,0.8877068796926283,-1.7238842646286818,-0.06122712789638119,-0.771749745136523,0.150463711822755,2.3681409667212097,2.08000992168823,-1.7876473348265014,2.3877783545745035,-2.158193885361466,-1.8234376311397882,0.5480659351405356,-2.56110395516093,-0.37183317092477186,2.214848284231639,-0.43630142909989217,0.543567462439684,-0.16063249326246198,3.0296244581867193,-1.614998093248674,-1.9800481103024647,0.507308947480066,1.3866606674988324,-1.60258413036584,-2.279976737741396,-0.41065711506233954,-0.15500108757802256,-1.08860898983832,0.2513099602557385,0.35089016814908186,-1.66095257943486,-2.373071202074392,-1.5448025273846104,-1.2092827560858002,0.57128521938494,-1.984673316323414,-0.4608517840567882,0.4035975919616767,-1.6295164460609994,-1.217890965793465,-1.620835305289775,-2.5416207568296394,-0.9646901351852292,-1.7920514912779124,-1.6555343580498785,0.9872729219000659,-1.6520809752175247,-1.6156400311595078,-0.4123399331545193],\"y\":[-1.8323383702863456,-1.7935233519673854,-2.2111167567605055,-2.7734466085535816,-2.6849337477228152,-2.7102836572663827,-2.861788174393492,-1.3116591927336168,-0.045355001167000045,-0.5466338034475134,-1.6921264891848966,-0.40999019007832355,-1.304122493394397,-1.181604812248556,-2.4092258184600017,-2.001181680263939,-1.7497977162929503,-0.1441802340558749,-2.3468081709876762,-0.9709500904664549,-2.352664439213091,-1.0138029134453859,-3.23275072279499,-1.9120647268496695,-2.5814656702237113,-2.2445302057678065,-2.4879384263818336,-2.0812035511477807,-0.15762534581450832,-1.133368732270468,-1.1923174747774241,-2.3341513197026043,-0.22231338477006166,0.22773574321250906,-1.7598894216060113,-2.1935647232908595,-3.32226529719284,-2.2793948929719594,-2.2895682986004604,-0.3599615126761441,-0.44183789760637404,-2.466047788954215,-3.512635129057846,-1.2013609878677245,-1.2536432780988729,-0.7902156724743851,-2.0190746466075624,-1.153955111942251,-2.659666307107328,-1.7639294384111672,-1.2076169573363598,-1.4208516038970782,-2.1081463163039493,-1.8913397103946108,-2.044735080160411,-1.9359425398075163,-0.8326198475128591,-2.2402374323763694,-0.7986795640664477,-2.0408994663671507,-1.9233257544943783,0.1255884217603113,-1.2032202149092608,-0.28491098198570336,-1.070071905043816,-2.829808710891295,-1.365684464368342,-1.5630314060997272,-3.0642418781312593],\"type\":\"scatter\"},{\"marker\":{\"color\":\"rgba(255, 128, 2, 0.8)\"},\"mode\":\"markers\",\"name\":\"Cluster 1\",\"x\":[-5.247778093700507,-2.633793163762815,-3.623529527250134,-3.104964543211558,-2.8922969049039473,-3.4719878339891963,-3.938294422113421,-3.5122550021842556,-4.352277575415163,-4.20522921561692,-1.5144126714701795,-2.2202317865407033,-4.543298347669702,-3.723496510388182,-3.5969122571030625,-3.5128651190830333,-3.977239384911582,-2.348726616260419,-0.8858155363554578,-4.049737860724456,-4.146760150828885,-2.8295603819871373,-2.639684802275793,-4.410630503330624,-2.8964204481454736,-3.4930211319102957,-3.486905814679758,-3.842318400576153,-2.47170415032118,-2.601114039337194,-4.707945900936872,-3.493085693889976,-3.0017337918541367],\"y\":[3.338920282782582,2.6801155586245162,1.4596147183034691,1.2892832412355528,1.3742527828265476,3.385971869002,4.856397605862955,2.275573574030243,3.791388340595842,3.1135845347538127,4.780762895055021,1.0590017997468775,2.809501076789897,2.385252401547171,1.976942733784825,2.537645740254028,2.2634892221040768,3.1034697343366524,1.2909753131859192,3.034515826644569,2.789451118488051,0.9698888766591398,1.316055723508045,2.518746606079014,1.7196390356114908,2.6281121995950105,2.2700359645794452,2.673253395313664,1.641184974407607,2.1993450813085973,3.120964510966068,1.8008200909660887,1.5654627065993054],\"type\":\"scatter\"},{\"marker\":{\"color\":\"rgba(0, 255, 200, 0.8)\"},\"mode\":\"markers\",\"name\":\"Cluster 2\",\"x\":[8.843845051918446,8.43849471690786,7.011155726774598,5.091912812735733,8.449028501182724,6.2303383717880685,3.94714847509899,3.625991824902292,9.309746774545921,6.551281344053021,3.156238443895816,4.824899061372215,9.763770890456916,7.079298925298972,7.309592352045746,5.875412975235898,4.344742305020435,5.440195137530471,11.394876994125159,6.591727365732305,5.108827807628343,6.034738897575683],\"y\":[3.0323794717008044,4.270929530057887,5.714606515576361,-1.2913239558889378,2.8198383765588435,-1.2167659509362188,0.356781328739834,-0.4139846533723735,4.022453365292195,5.539387495893286,-0.05124879101772098,2.7600753944480387,2.6412496998931276,1.8809816324422697,-0.2950489812917316,0.2337880824547063,3.0794842679339074,0.3911177909845634,1.3624658969272994,1.1915006046792658,-1.899320414231069,0.7173471041383248],\"type\":\"scatter\"}],                        {\"template\":{\"data\":{\"barpolar\":[{\"marker\":{\"line\":{\"color\":\"#E5ECF6\",\"width\":0.5},\"pattern\":{\"fillmode\":\"overlay\",\"size\":10,\"solidity\":0.2}},\"type\":\"barpolar\"}],\"bar\":[{\"error_x\":{\"color\":\"#2a3f5f\"},\"error_y\":{\"color\":\"#2a3f5f\"},\"marker\":{\"line\":{\"color\":\"#E5ECF6\",\"width\":0.5},\"pattern\":{\"fillmode\":\"overlay\",\"size\":10,\"solidity\":0.2}},\"type\":\"bar\"}],\"carpet\":[{\"aaxis\":{\"endlinecolor\":\"#2a3f5f\",\"gridcolor\":\"white\",\"linecolor\":\"white\",\"minorgridcolor\":\"white\",\"startlinecolor\":\"#2a3f5f\"},\"baxis\":{\"endlinecolor\":\"#2a3f5f\",\"gridcolor\":\"white\",\"linecolor\":\"white\",\"minorgridcolor\":\"white\",\"startlinecolor\":\"#2a3f5f\"},\"type\":\"carpet\"}],\"choropleth\":[{\"colorbar\":{\"outlinewidth\":0,\"ticks\":\"\"},\"type\":\"choropleth\"}],\"contourcarpet\":[{\"colorbar\":{\"outlinewidth\":0,\"ticks\":\"\"},\"type\":\"contourcarpet\"}],\"contour\":[{\"colorbar\":{\"outlinewidth\":0,\"ticks\":\"\"},\"colorscale\":[[0.0,\"#0d0887\"],[0.1111111111111111,\"#46039f\"],[0.2222222222222222,\"#7201a8\"],[0.3333333333333333,\"#9c179e\"],[0.4444444444444444,\"#bd3786\"],[0.5555555555555556,\"#d8576b\"],[0.6666666666666666,\"#ed7953\"],[0.7777777777777778,\"#fb9f3a\"],[0.8888888888888888,\"#fdca26\"],[1.0,\"#f0f921\"]],\"type\":\"contour\"}],\"heatmapgl\":[{\"colorbar\":{\"outlinewidth\":0,\"ticks\":\"\"},\"colorscale\":[[0.0,\"#0d0887\"],[0.1111111111111111,\"#46039f\"],[0.2222222222222222,\"#7201a8\"],[0.3333333333333333,\"#9c179e\"],[0.4444444444444444,\"#bd3786\"],[0.5555555555555556,\"#d8576b\"],[0.6666666666666666,\"#ed7953\"],[0.7777777777777778,\"#fb9f3a\"],[0.8888888888888888,\"#fdca26\"],[1.0,\"#f0f921\"]],\"type\":\"heatmapgl\"}],\"heatmap\":[{\"colorbar\":{\"outlinewidth\":0,\"ticks\":\"\"},\"colorscale\":[[0.0,\"#0d0887\"],[0.1111111111111111,\"#46039f\"],[0.2222222222222222,\"#7201a8\"],[0.3333333333333333,\"#9c179e\"],[0.4444444444444444,\"#bd3786\"],[0.5555555555555556,\"#d8576b\"],[0.6666666666666666,\"#ed7953\"],[0.7777777777777778,\"#fb9f3a\"],[0.8888888888888888,\"#fdca26\"],[1.0,\"#f0f921\"]],\"type\":\"heatmap\"}],\"histogram2dcontour\":[{\"colorbar\":{\"outlinewidth\":0,\"ticks\":\"\"},\"colorscale\":[[0.0,\"#0d0887\"],[0.1111111111111111,\"#46039f\"],[0.2222222222222222,\"#7201a8\"],[0.3333333333333333,\"#9c179e\"],[0.4444444444444444,\"#bd3786\"],[0.5555555555555556,\"#d8576b\"],[0.6666666666666666,\"#ed7953\"],[0.7777777777777778,\"#fb9f3a\"],[0.8888888888888888,\"#fdca26\"],[1.0,\"#f0f921\"]],\"type\":\"histogram2dcontour\"}],\"histogram2d\":[{\"colorbar\":{\"outlinewidth\":0,\"ticks\":\"\"},\"colorscale\":[[0.0,\"#0d0887\"],[0.1111111111111111,\"#46039f\"],[0.2222222222222222,\"#7201a8\"],[0.3333333333333333,\"#9c179e\"],[0.4444444444444444,\"#bd3786\"],[0.5555555555555556,\"#d8576b\"],[0.6666666666666666,\"#ed7953\"],[0.7777777777777778,\"#fb9f3a\"],[0.8888888888888888,\"#fdca26\"],[1.0,\"#f0f921\"]],\"type\":\"histogram2d\"}],\"histogram\":[{\"marker\":{\"pattern\":{\"fillmode\":\"overlay\",\"size\":10,\"solidity\":0.2}},\"type\":\"histogram\"}],\"mesh3d\":[{\"colorbar\":{\"outlinewidth\":0,\"ticks\":\"\"},\"type\":\"mesh3d\"}],\"parcoords\":[{\"line\":{\"colorbar\":{\"outlinewidth\":0,\"ticks\":\"\"}},\"type\":\"parcoords\"}],\"pie\":[{\"automargin\":true,\"type\":\"pie\"}],\"scatter3d\":[{\"line\":{\"colorbar\":{\"outlinewidth\":0,\"ticks\":\"\"}},\"marker\":{\"colorbar\":{\"outlinewidth\":0,\"ticks\":\"\"}},\"type\":\"scatter3d\"}],\"scattercarpet\":[{\"marker\":{\"colorbar\":{\"outlinewidth\":0,\"ticks\":\"\"}},\"type\":\"scattercarpet\"}],\"scattergeo\":[{\"marker\":{\"colorbar\":{\"outlinewidth\":0,\"ticks\":\"\"}},\"type\":\"scattergeo\"}],\"scattergl\":[{\"marker\":{\"colorbar\":{\"outlinewidth\":0,\"ticks\":\"\"}},\"type\":\"scattergl\"}],\"scattermapbox\":[{\"marker\":{\"colorbar\":{\"outlinewidth\":0,\"ticks\":\"\"}},\"type\":\"scattermapbox\"}],\"scatterpolargl\":[{\"marker\":{\"colorbar\":{\"outlinewidth\":0,\"ticks\":\"\"}},\"type\":\"scatterpolargl\"}],\"scatterpolar\":[{\"marker\":{\"colorbar\":{\"outlinewidth\":0,\"ticks\":\"\"}},\"type\":\"scatterpolar\"}],\"scatter\":[{\"fillpattern\":{\"fillmode\":\"overlay\",\"size\":10,\"solidity\":0.2},\"type\":\"scatter\"}],\"scatterternary\":[{\"marker\":{\"colorbar\":{\"outlinewidth\":0,\"ticks\":\"\"}},\"type\":\"scatterternary\"}],\"surface\":[{\"colorbar\":{\"outlinewidth\":0,\"ticks\":\"\"},\"colorscale\":[[0.0,\"#0d0887\"],[0.1111111111111111,\"#46039f\"],[0.2222222222222222,\"#7201a8\"],[0.3333333333333333,\"#9c179e\"],[0.4444444444444444,\"#bd3786\"],[0.5555555555555556,\"#d8576b\"],[0.6666666666666666,\"#ed7953\"],[0.7777777777777778,\"#fb9f3a\"],[0.8888888888888888,\"#fdca26\"],[1.0,\"#f0f921\"]],\"type\":\"surface\"}],\"table\":[{\"cells\":{\"fill\":{\"color\":\"#EBF0F8\"},\"line\":{\"color\":\"white\"}},\"header\":{\"fill\":{\"color\":\"#C8D4E3\"},\"line\":{\"color\":\"white\"}},\"type\":\"table\"}]},\"layout\":{\"annotationdefaults\":{\"arrowcolor\":\"#2a3f5f\",\"arrowhead\":0,\"arrowwidth\":1},\"autotypenumbers\":\"strict\",\"coloraxis\":{\"colorbar\":{\"outlinewidth\":0,\"ticks\":\"\"}},\"colorscale\":{\"diverging\":[[0,\"#8e0152\"],[0.1,\"#c51b7d\"],[0.2,\"#de77ae\"],[0.3,\"#f1b6da\"],[0.4,\"#fde0ef\"],[0.5,\"#f7f7f7\"],[0.6,\"#e6f5d0\"],[0.7,\"#b8e186\"],[0.8,\"#7fbc41\"],[0.9,\"#4d9221\"],[1,\"#276419\"]],\"sequential\":[[0.0,\"#0d0887\"],[0.1111111111111111,\"#46039f\"],[0.2222222222222222,\"#7201a8\"],[0.3333333333333333,\"#9c179e\"],[0.4444444444444444,\"#bd3786\"],[0.5555555555555556,\"#d8576b\"],[0.6666666666666666,\"#ed7953\"],[0.7777777777777778,\"#fb9f3a\"],[0.8888888888888888,\"#fdca26\"],[1.0,\"#f0f921\"]],\"sequentialminus\":[[0.0,\"#0d0887\"],[0.1111111111111111,\"#46039f\"],[0.2222222222222222,\"#7201a8\"],[0.3333333333333333,\"#9c179e\"],[0.4444444444444444,\"#bd3786\"],[0.5555555555555556,\"#d8576b\"],[0.6666666666666666,\"#ed7953\"],[0.7777777777777778,\"#fb9f3a\"],[0.8888888888888888,\"#fdca26\"],[1.0,\"#f0f921\"]]},\"colorway\":[\"#636efa\",\"#EF553B\",\"#00cc96\",\"#ab63fa\",\"#FFA15A\",\"#19d3f3\",\"#FF6692\",\"#B6E880\",\"#FF97FF\",\"#FECB52\"],\"font\":{\"color\":\"#2a3f5f\"},\"geo\":{\"bgcolor\":\"white\",\"lakecolor\":\"white\",\"landcolor\":\"#E5ECF6\",\"showlakes\":true,\"showland\":true,\"subunitcolor\":\"white\"},\"hoverlabel\":{\"align\":\"left\"},\"hovermode\":\"closest\",\"mapbox\":{\"style\":\"light\"},\"paper_bgcolor\":\"white\",\"plot_bgcolor\":\"#E5ECF6\",\"polar\":{\"angularaxis\":{\"gridcolor\":\"white\",\"linecolor\":\"white\",\"ticks\":\"\"},\"bgcolor\":\"#E5ECF6\",\"radialaxis\":{\"gridcolor\":\"white\",\"linecolor\":\"white\",\"ticks\":\"\"}},\"scene\":{\"xaxis\":{\"backgroundcolor\":\"#E5ECF6\",\"gridcolor\":\"white\",\"gridwidth\":2,\"linecolor\":\"white\",\"showbackground\":true,\"ticks\":\"\",\"zerolinecolor\":\"white\"},\"yaxis\":{\"backgroundcolor\":\"#E5ECF6\",\"gridcolor\":\"white\",\"gridwidth\":2,\"linecolor\":\"white\",\"showbackground\":true,\"ticks\":\"\",\"zerolinecolor\":\"white\"},\"zaxis\":{\"backgroundcolor\":\"#E5ECF6\",\"gridcolor\":\"white\",\"gridwidth\":2,\"linecolor\":\"white\",\"showbackground\":true,\"ticks\":\"\",\"zerolinecolor\":\"white\"}},\"shapedefaults\":{\"line\":{\"color\":\"#2a3f5f\"}},\"ternary\":{\"aaxis\":{\"gridcolor\":\"white\",\"linecolor\":\"white\",\"ticks\":\"\"},\"baxis\":{\"gridcolor\":\"white\",\"linecolor\":\"white\",\"ticks\":\"\"},\"bgcolor\":\"#E5ECF6\",\"caxis\":{\"gridcolor\":\"white\",\"linecolor\":\"white\",\"ticks\":\"\"}},\"title\":{\"x\":0.05},\"xaxis\":{\"automargin\":true,\"gridcolor\":\"white\",\"linecolor\":\"white\",\"ticks\":\"\",\"title\":{\"standoff\":15},\"zerolinecolor\":\"white\",\"zerolinewidth\":2},\"yaxis\":{\"automargin\":true,\"gridcolor\":\"white\",\"linecolor\":\"white\",\"ticks\":\"\",\"title\":{\"standoff\":15},\"zerolinecolor\":\"white\",\"zerolinewidth\":2}}},\"title\":{\"text\":\"Visualizing Clusters in Two Dimensions Using PCA\"},\"xaxis\":{\"ticklen\":5,\"title\":{\"text\":\"PC1\"},\"zeroline\":false},\"yaxis\":{\"ticklen\":5,\"title\":{\"text\":\"PC2\"},\"zeroline\":false}},                        {\"responsive\": true}                    ).then(function(){\n",
       "                            \n",
       "var gd = document.getElementById('dae81246-85d2-4e7b-9ec5-025cf0b577bf');\n",
       "var x = new MutationObserver(function (mutations, observer) {{\n",
       "        var display = window.getComputedStyle(gd).display;\n",
       "        if (!display || display === 'none') {{\n",
       "            console.log([gd, 'removed!']);\n",
       "            Plotly.purge(gd);\n",
       "            observer.disconnect();\n",
       "        }}\n",
       "}});\n",
       "\n",
       "// Listen for the removal of the full notebook cells\n",
       "var notebookContainer = gd.closest('#notebook-container');\n",
       "if (notebookContainer) {{\n",
       "    x.observe(notebookContainer, {childList: true});\n",
       "}}\n",
       "\n",
       "// Listen for the clearing of the current output cell\n",
       "var outputEl = gd.closest('.output');\n",
       "if (outputEl) {{\n",
       "    x.observe(outputEl, {childList: true});\n",
       "}}\n",
       "\n",
       "                        })                };                });            </script>        </div>"
      ]
     },
     "metadata": {},
     "output_type": "display_data"
    }
   ],
   "source": [
    "#Instructions for building the 2-D plot\n",
    "\n",
    "#trace1 is for 'Cluster 0'\n",
    "trace1 = go.Scatter(\n",
    "                    x = cluster0[\"PC1_2d\"],\n",
    "                    y = cluster0[\"PC2_2d\"],\n",
    "                    mode = \"markers\",\n",
    "                    name = \"Cluster 0\",\n",
    "                    marker = dict(color = 'rgba(255, 128, 255, 0.8)'),\n",
    "                    text = None)\n",
    "\n",
    "#trace2 is for 'Cluster 1'\n",
    "trace2 = go.Scatter(\n",
    "                    x = cluster1[\"PC1_2d\"],\n",
    "                    y = cluster1[\"PC2_2d\"],\n",
    "                    mode = \"markers\",\n",
    "                    name = \"Cluster 1\",\n",
    "                    marker = dict(color = 'rgba(255, 128, 2, 0.8)'),\n",
    "                    text = None)\n",
    "\n",
    "#trace3 is for 'Cluster 2'\n",
    "trace3 = go.Scatter(\n",
    "                    x = cluster2[\"PC1_2d\"],\n",
    "                    y = cluster2[\"PC2_2d\"],\n",
    "                    mode = \"markers\",\n",
    "                    name = \"Cluster 2\",\n",
    "                    marker = dict(color = 'rgba(0, 255, 200, 0.8)'),\n",
    "                    text = None)\n",
    "###################################################\n",
    "#trace4 is for 'Cluster 3'\n",
    "#trace4 = go.Scatter(\n",
    "#                    x = cluster2[\"PC1_2d\"],\n",
    "#                    y = cluster2[\"PC2_2d\"],\n",
    "#                    mode = \"markers\",\n",
    "#                    name = \"Cluster 3\",\n",
    "#                    marker = dict(color = 'rgba(200, 105, 45, 0.8)'),\n",
    "#                    text = None)\n",
    "\n",
    "data = [trace1, trace2, trace3] #, trace4]\n",
    "\n",
    "title = \"Visualizing Clusters in Two Dimensions Using PCA\"\n",
    "\n",
    "layout = dict(title = title,\n",
    "              xaxis= dict(title= 'PC1',ticklen= 5,zeroline= False),\n",
    "              yaxis= dict(title= 'PC2',ticklen= 5,zeroline= False)\n",
    "             )\n",
    "\n",
    "fig = dict(data = data, layout = layout)\n",
    "\n",
    "iplot(fig)"
   ]
  },
  {
   "cell_type": "code",
   "execution_count": null,
   "metadata": {},
   "outputs": [],
   "source": [
    "data = []\n",
    "colors = ['rgba(255, 128, 255, 0.8)', 'rgba(255, 128, 2, 0.8)', 'rgba(0, 255, 200, 0.8)']\n",
    "for i in range(124):\n",
    "    data.append(go.Scatter(\n",
    "                        x = [plotX[\"PC1_1d\"][i]], #x=df_X_reduced[0],\n",
    "                        y = [plotX[\"PC2_2d\"][i]],\n",
    "                        mode = \"markers\",\n",
    "#                         name = cat_country[i+1],\n",
    "                        marker = dict(color = colors[int(plotX['Cluster'][i])]),\n",
    "                        text = cat_country[i+1]))\n",
    " \n",
    "title = \"Visualizing Clusters in One Dimension Using PCA\"\n",
    "\n",
    "layout = dict(title = title,\n",
    "              xaxis= dict(title= 'PC1',ticklen= 5,zeroline= False),\n",
    "              yaxis= dict(title= '',ticklen= 5,zeroline= False)\n",
    "             )\n",
    "\n",
    "fig = dict(data = data, layout = layout)\n",
    "\n",
    "iplot(fig)"
   ]
  },
  {
   "cell_type": "code",
   "execution_count": null,
   "metadata": {},
   "outputs": [],
   "source": [
    "data = []\n",
    "colors = ['rgba(255, 128, 255, 0.8)', 'rgba(255, 128, 2, 0.8)', 'rgba(0, 255, 200, 0.8)']\n",
    "for i in range(len(cat_country)):\n",
    "    data.append(go.Scatter(\n",
    "                        x = [plotX[\"PC1_1d\"][i]], #x=df_X_reduced[0],\n",
    "                        y = [0],\n",
    "                        mode = \"markers\",\n",
    "#                         name = cat_country[i+1],\n",
    "                        marker = dict(color = colors[int(plotX['Cluster'][i])]),\n",
    "                        text = cat_country[i+1]))\n",
    "\n",
    "title = \"Visualizing Clusters in One Dimension Using PCA\"\n",
    "\n",
    "layout = dict(title = title,\n",
    "              xaxis= dict(title= 'PC1',ticklen= 5,zeroline= False),\n",
    "              yaxis= dict(title= '',ticklen= 5,zeroline= False)\n",
    "             )\n",
    "\n",
    "fig = dict(data = data, layout = layout, )\n"
   ]
  },
  {
   "cell_type": "code",
   "execution_count": 238,
   "metadata": {
    "scrolled": true
   },
   "outputs": [],
   "source": [
    "#Initialize our scaler\n",
    "#scaler = StandardScaler()\n",
    "\n",
    "#Scale each column in numer\n",
    "\n",
    "#plotX will hold the values we wish to plot\n",
    "plotX = pd.DataFrame(np.array(Y.sample(124)))\n",
    "plotX.columns = Y.columns"
   ]
  },
  {
   "cell_type": "code",
   "execution_count": 239,
   "metadata": {},
   "outputs": [],
   "source": [
    "#Set our perplexity\n",
    "perplexity = 50\n",
    "\n",
    "#T-SNE with one dimension\n",
    "tsne_1d = TSNE(n_components=1, perplexity=perplexity)\n",
    "\n",
    "#T-SNE with two dimensions\n",
    "tsne_2d = TSNE(n_components=2, perplexity=perplexity)\n",
    "\n",
    "#T-SNE with three dimensions\n",
    "tsne_3d = TSNE(n_components=3, perplexity=perplexity)"
   ]
  },
  {
   "cell_type": "code",
   "execution_count": 240,
   "metadata": {},
   "outputs": [
    {
     "name": "stderr",
     "output_type": "stream",
     "text": [
      "/home/edjard/anaconda3/lib/python3.7/site-packages/sklearn/manifold/t_sne.py:333: DeprecationWarning:\n",
      "\n",
      "`np.float` is a deprecated alias for the builtin `float`. To silence this warning, use `float` by itself. Doing this will not modify any behavior and is safe. If you specifically wanted the numpy scalar type, use `np.float64` here.\n",
      "Deprecated in NumPy 1.20; for more details and guidance: https://numpy.org/devdocs/release/1.20.0-notes.html#deprecations\n",
      "\n",
      "/home/edjard/anaconda3/lib/python3.7/site-packages/sklearn/manifold/t_sne.py:334: DeprecationWarning:\n",
      "\n",
      "`np.float` is a deprecated alias for the builtin `float`. To silence this warning, use `float` by itself. Doing this will not modify any behavior and is safe. If you specifically wanted the numpy scalar type, use `np.float64` here.\n",
      "Deprecated in NumPy 1.20; for more details and guidance: https://numpy.org/devdocs/release/1.20.0-notes.html#deprecations\n",
      "\n",
      "/home/edjard/anaconda3/lib/python3.7/site-packages/sklearn/manifold/t_sne.py:333: DeprecationWarning:\n",
      "\n",
      "`np.float` is a deprecated alias for the builtin `float`. To silence this warning, use `float` by itself. Doing this will not modify any behavior and is safe. If you specifically wanted the numpy scalar type, use `np.float64` here.\n",
      "Deprecated in NumPy 1.20; for more details and guidance: https://numpy.org/devdocs/release/1.20.0-notes.html#deprecations\n",
      "\n",
      "/home/edjard/anaconda3/lib/python3.7/site-packages/sklearn/manifold/t_sne.py:334: DeprecationWarning:\n",
      "\n",
      "`np.float` is a deprecated alias for the builtin `float`. To silence this warning, use `float` by itself. Doing this will not modify any behavior and is safe. If you specifically wanted the numpy scalar type, use `np.float64` here.\n",
      "Deprecated in NumPy 1.20; for more details and guidance: https://numpy.org/devdocs/release/1.20.0-notes.html#deprecations\n",
      "\n",
      "/home/edjard/anaconda3/lib/python3.7/site-packages/sklearn/manifold/t_sne.py:333: DeprecationWarning:\n",
      "\n",
      "`np.float` is a deprecated alias for the builtin `float`. To silence this warning, use `float` by itself. Doing this will not modify any behavior and is safe. If you specifically wanted the numpy scalar type, use `np.float64` here.\n",
      "Deprecated in NumPy 1.20; for more details and guidance: https://numpy.org/devdocs/release/1.20.0-notes.html#deprecations\n",
      "\n",
      "/home/edjard/anaconda3/lib/python3.7/site-packages/sklearn/manifold/t_sne.py:334: DeprecationWarning:\n",
      "\n",
      "`np.float` is a deprecated alias for the builtin `float`. To silence this warning, use `float` by itself. Doing this will not modify any behavior and is safe. If you specifically wanted the numpy scalar type, use `np.float64` here.\n",
      "Deprecated in NumPy 1.20; for more details and guidance: https://numpy.org/devdocs/release/1.20.0-notes.html#deprecations\n",
      "\n",
      "/home/edjard/anaconda3/lib/python3.7/site-packages/sklearn/manifold/t_sne.py:333: DeprecationWarning:\n",
      "\n",
      "`np.float` is a deprecated alias for the builtin `float`. To silence this warning, use `float` by itself. Doing this will not modify any behavior and is safe. If you specifically wanted the numpy scalar type, use `np.float64` here.\n",
      "Deprecated in NumPy 1.20; for more details and guidance: https://numpy.org/devdocs/release/1.20.0-notes.html#deprecations\n",
      "\n",
      "/home/edjard/anaconda3/lib/python3.7/site-packages/sklearn/manifold/t_sne.py:334: DeprecationWarning:\n",
      "\n",
      "`np.float` is a deprecated alias for the builtin `float`. To silence this warning, use `float` by itself. Doing this will not modify any behavior and is safe. If you specifically wanted the numpy scalar type, use `np.float64` here.\n",
      "Deprecated in NumPy 1.20; for more details and guidance: https://numpy.org/devdocs/release/1.20.0-notes.html#deprecations\n",
      "\n",
      "/home/edjard/anaconda3/lib/python3.7/site-packages/sklearn/manifold/t_sne.py:333: DeprecationWarning:\n",
      "\n",
      "`np.float` is a deprecated alias for the builtin `float`. To silence this warning, use `float` by itself. Doing this will not modify any behavior and is safe. If you specifically wanted the numpy scalar type, use `np.float64` here.\n",
      "Deprecated in NumPy 1.20; for more details and guidance: https://numpy.org/devdocs/release/1.20.0-notes.html#deprecations\n",
      "\n",
      "/home/edjard/anaconda3/lib/python3.7/site-packages/sklearn/manifold/t_sne.py:334: DeprecationWarning:\n",
      "\n",
      "`np.float` is a deprecated alias for the builtin `float`. To silence this warning, use `float` by itself. Doing this will not modify any behavior and is safe. If you specifically wanted the numpy scalar type, use `np.float64` here.\n",
      "Deprecated in NumPy 1.20; for more details and guidance: https://numpy.org/devdocs/release/1.20.0-notes.html#deprecations\n",
      "\n",
      "/home/edjard/anaconda3/lib/python3.7/site-packages/sklearn/manifold/t_sne.py:333: DeprecationWarning:\n",
      "\n",
      "`np.float` is a deprecated alias for the builtin `float`. To silence this warning, use `float` by itself. Doing this will not modify any behavior and is safe. If you specifically wanted the numpy scalar type, use `np.float64` here.\n",
      "Deprecated in NumPy 1.20; for more details and guidance: https://numpy.org/devdocs/release/1.20.0-notes.html#deprecations\n",
      "\n",
      "/home/edjard/anaconda3/lib/python3.7/site-packages/sklearn/manifold/t_sne.py:334: DeprecationWarning:\n",
      "\n",
      "`np.float` is a deprecated alias for the builtin `float`. To silence this warning, use `float` by itself. Doing this will not modify any behavior and is safe. If you specifically wanted the numpy scalar type, use `np.float64` here.\n",
      "Deprecated in NumPy 1.20; for more details and guidance: https://numpy.org/devdocs/release/1.20.0-notes.html#deprecations\n",
      "\n"
     ]
    }
   ],
   "source": [
    "#This DataFrame holds a single dimension,built by T-SNE\n",
    "TCs_1d = pd.DataFrame(tsne_1d.fit_transform(plotX.drop([\"Cluster\"], axis=1)))\n",
    "\n",
    "#This DataFrame contains two dimensions, built by T-SNE\n",
    "TCs_2d = pd.DataFrame(tsne_2d.fit_transform(plotX.drop([\"Cluster\"], axis=1)))\n",
    "\n",
    "#And this DataFrame contains three dimensions, built by T-SNE\n",
    "TCs_3d = pd.DataFrame(tsne_3d.fit_transform(plotX.drop([\"Cluster\"], axis=1)))"
   ]
  },
  {
   "cell_type": "code",
   "execution_count": 241,
   "metadata": {},
   "outputs": [],
   "source": [
    "TCs_1d.columns = [\"TC1_1d\"]\n",
    "\n",
    "PCs_1d.columns = [\"PC1_1d\"]\n",
    "\n",
    "#\"TC1_2d\" means: 'The first component of the components created for 2-D visualization, by T-SNE.'\n",
    "#And \"TC2_2d\" means: 'The second component of the components created for 2-D visualization, by T-SNE.'\n",
    "TCs_2d.columns = [\"TC1_2d\",\"TC2_2d\"]\n",
    "\n",
    "TCs_3d.columns = [\"TC1_3d\",\"TC2_3d\",\"TC3_3d\"]\n"
   ]
  },
  {
   "cell_type": "code",
   "execution_count": 242,
   "metadata": {},
   "outputs": [],
   "source": [
    "plotX = pd.concat([plotX,TCs_1d,TCs_2d,TCs_3d], axis=1, join='inner')"
   ]
  },
  {
   "cell_type": "code",
   "execution_count": 243,
   "metadata": {},
   "outputs": [],
   "source": [
    "plotX[\"dummy\"] = 0\n",
    "\n",
    "cluster0 = plotX[plotX[\"Cluster\"] == 0]\n",
    "cluster1 = plotX[plotX[\"Cluster\"] == 1]\n",
    "cluster2 = plotX[plotX[\"Cluster\"] == 2]"
   ]
  },
  {
   "cell_type": "code",
   "execution_count": 244,
   "metadata": {},
   "outputs": [
    {
     "data": {
      "application/vnd.plotly.v1+json": {
       "config": {
        "linkText": "Export to plot.ly",
        "plotlyServerURL": "https://plot.ly",
        "showLink": false
       },
       "data": [
        {
         "marker": {
          "color": "rgba(255, 128, 255, 0.8)"
         },
         "mode": "markers",
         "name": "Cluster 0",
         "type": "scatter",
         "x": [
          -0.8900030851364136,
          -5.099568843841553,
          -2.3326282501220703,
          -3.8141026496887207,
          -3.2165119647979736,
          -4.4540510177612305,
          -2.0893447399139404,
          -2.1681065559387207,
          -4.0441975593566895,
          -4.603553771972656,
          -4.189441204071045,
          -4.531219482421875,
          -2.729440927505493,
          -3.1012425422668457,
          -2.6643881797790527,
          -4.552244186401367,
          -2.004105806350708,
          -2.5370726585388184,
          -3.958709239959717,
          -3.689805269241333,
          -1.844655990600586,
          -4.2446818351745605,
          -2.577702760696411,
          -4.679316997528076,
          -4.226080417633057,
          -4.807546615600586,
          -2.5579471588134766,
          -4.321291923522949,
          -2.198776960372925,
          -1.9800149202346802,
          -4.271594047546387,
          -4.922408103942871,
          -3.9539835453033447,
          -4.434628486633301,
          -4.464277267456055,
          -4.117545127868652,
          -3.6172401905059814,
          -2.5640785694122314,
          -3.262556314468384,
          -5.070423126220703,
          -3.1514437198638916,
          -4.571890354156494,
          -5.3131914138793945,
          -2.6886749267578125,
          -4.933218955993652,
          -2.338811159133911,
          -5.088043212890625,
          -2.9314463138580322,
          -3.973939895629883,
          -3.213804006576538,
          -1.147740125656128,
          -4.953530311584473,
          -2.4273722171783447,
          -3.2510364055633545,
          -2.4392712116241455,
          -2.978320360183716,
          -1.7676265239715576,
          -2.743983030319214,
          -4.399338245391846,
          -3.6756064891815186,
          -3.5587332248687744,
          -3.643843173980713,
          -5.101039409637451,
          -3.5632271766662598,
          -3.52911114692688,
          -3.3463151454925537,
          -2.3794748783111572
         ],
         "y": [
          0,
          0,
          0,
          0,
          0,
          0,
          0,
          0,
          0,
          0,
          0,
          0,
          0,
          0,
          0,
          0,
          0,
          0,
          0,
          0,
          0,
          0,
          0,
          0,
          0,
          0,
          0,
          0,
          0,
          0,
          0,
          0,
          0,
          0,
          0,
          0,
          0,
          0,
          0,
          0,
          0,
          0,
          0,
          0,
          0,
          0,
          0,
          0,
          0,
          0,
          0,
          0,
          0,
          0,
          0,
          0,
          0,
          0,
          0,
          0,
          0,
          0,
          0,
          0,
          0,
          0,
          0
         ]
        },
        {
         "marker": {
          "color": "rgba(255, 128, 2, 0.8)"
         },
         "mode": "markers",
         "name": "Cluster 1",
         "type": "scatter",
         "x": [
          -0.1052607074379921,
          -0.24214646220207214,
          0.12840548157691956,
          0.44784390926361084,
          -0.11872173100709915,
          0.8516097068786621,
          0.8750741481781006,
          0.8405755758285522,
          0.8672286868095398,
          -0.7362869381904602,
          0.8899839520454407,
          0.7310776114463806,
          -0.8278462290763855,
          -0.49745598435401917,
          -0.33027273416519165,
          -0.4264192581176758,
          0.9053677916526794,
          0.8266586661338806,
          0.16725467145442963,
          -0.4224995970726013,
          0.2731488347053528,
          -0.25259116291999817
         ],
         "y": [
          0,
          0,
          0,
          0,
          0,
          0,
          0,
          0,
          0,
          0,
          0,
          0,
          0,
          0,
          0,
          0,
          0,
          0,
          0,
          0,
          0,
          0
         ]
        },
        {
         "marker": {
          "color": "rgba(0, 255, 200, 0.8)"
         },
         "mode": "markers",
         "name": "Cluster 2",
         "type": "scatter",
         "x": [
          -6.732928276062012,
          -6.009688377380371,
          -6.323679447174072,
          -7.76676082611084,
          -6.627791404724121,
          -7.019443511962891,
          -6.857781410217285,
          -1.83193838596344,
          -6.958154678344727,
          -5.2895355224609375,
          -7.710988521575928,
          -6.622428894042969,
          -7.316768646240234,
          -6.440019130706787,
          -7.326706409454346,
          -6.674345016479492,
          -5.290596961975098,
          -5.69767427444458,
          -6.645284652709961,
          -6.712496280670166,
          -5.965046405792236,
          -7.682611465454102,
          -6.170008659362793,
          -6.846635341644287,
          -6.740571022033691,
          -7.7083611488342285,
          -6.842365741729736,
          -6.087461471557617,
          -6.080066680908203,
          -6.327511310577393,
          -6.983334541320801,
          -6.951199054718018,
          -6.345559120178223,
          -6.305725574493408,
          -6.670262813568115
         ],
         "y": [
          0,
          0,
          0,
          0,
          0,
          0,
          0,
          0,
          0,
          0,
          0,
          0,
          0,
          0,
          0,
          0,
          0,
          0,
          0,
          0,
          0,
          0,
          0,
          0,
          0,
          0,
          0,
          0,
          0,
          0,
          0,
          0,
          0,
          0,
          0
         ]
        }
       ],
       "layout": {
        "template": {
         "data": {
          "bar": [
           {
            "error_x": {
             "color": "#2a3f5f"
            },
            "error_y": {
             "color": "#2a3f5f"
            },
            "marker": {
             "line": {
              "color": "#E5ECF6",
              "width": 0.5
             },
             "pattern": {
              "fillmode": "overlay",
              "size": 10,
              "solidity": 0.2
             }
            },
            "type": "bar"
           }
          ],
          "barpolar": [
           {
            "marker": {
             "line": {
              "color": "#E5ECF6",
              "width": 0.5
             },
             "pattern": {
              "fillmode": "overlay",
              "size": 10,
              "solidity": 0.2
             }
            },
            "type": "barpolar"
           }
          ],
          "carpet": [
           {
            "aaxis": {
             "endlinecolor": "#2a3f5f",
             "gridcolor": "white",
             "linecolor": "white",
             "minorgridcolor": "white",
             "startlinecolor": "#2a3f5f"
            },
            "baxis": {
             "endlinecolor": "#2a3f5f",
             "gridcolor": "white",
             "linecolor": "white",
             "minorgridcolor": "white",
             "startlinecolor": "#2a3f5f"
            },
            "type": "carpet"
           }
          ],
          "choropleth": [
           {
            "colorbar": {
             "outlinewidth": 0,
             "ticks": ""
            },
            "type": "choropleth"
           }
          ],
          "contour": [
           {
            "colorbar": {
             "outlinewidth": 0,
             "ticks": ""
            },
            "colorscale": [
             [
              0,
              "#0d0887"
             ],
             [
              0.1111111111111111,
              "#46039f"
             ],
             [
              0.2222222222222222,
              "#7201a8"
             ],
             [
              0.3333333333333333,
              "#9c179e"
             ],
             [
              0.4444444444444444,
              "#bd3786"
             ],
             [
              0.5555555555555556,
              "#d8576b"
             ],
             [
              0.6666666666666666,
              "#ed7953"
             ],
             [
              0.7777777777777778,
              "#fb9f3a"
             ],
             [
              0.8888888888888888,
              "#fdca26"
             ],
             [
              1,
              "#f0f921"
             ]
            ],
            "type": "contour"
           }
          ],
          "contourcarpet": [
           {
            "colorbar": {
             "outlinewidth": 0,
             "ticks": ""
            },
            "type": "contourcarpet"
           }
          ],
          "heatmap": [
           {
            "colorbar": {
             "outlinewidth": 0,
             "ticks": ""
            },
            "colorscale": [
             [
              0,
              "#0d0887"
             ],
             [
              0.1111111111111111,
              "#46039f"
             ],
             [
              0.2222222222222222,
              "#7201a8"
             ],
             [
              0.3333333333333333,
              "#9c179e"
             ],
             [
              0.4444444444444444,
              "#bd3786"
             ],
             [
              0.5555555555555556,
              "#d8576b"
             ],
             [
              0.6666666666666666,
              "#ed7953"
             ],
             [
              0.7777777777777778,
              "#fb9f3a"
             ],
             [
              0.8888888888888888,
              "#fdca26"
             ],
             [
              1,
              "#f0f921"
             ]
            ],
            "type": "heatmap"
           }
          ],
          "heatmapgl": [
           {
            "colorbar": {
             "outlinewidth": 0,
             "ticks": ""
            },
            "colorscale": [
             [
              0,
              "#0d0887"
             ],
             [
              0.1111111111111111,
              "#46039f"
             ],
             [
              0.2222222222222222,
              "#7201a8"
             ],
             [
              0.3333333333333333,
              "#9c179e"
             ],
             [
              0.4444444444444444,
              "#bd3786"
             ],
             [
              0.5555555555555556,
              "#d8576b"
             ],
             [
              0.6666666666666666,
              "#ed7953"
             ],
             [
              0.7777777777777778,
              "#fb9f3a"
             ],
             [
              0.8888888888888888,
              "#fdca26"
             ],
             [
              1,
              "#f0f921"
             ]
            ],
            "type": "heatmapgl"
           }
          ],
          "histogram": [
           {
            "marker": {
             "pattern": {
              "fillmode": "overlay",
              "size": 10,
              "solidity": 0.2
             }
            },
            "type": "histogram"
           }
          ],
          "histogram2d": [
           {
            "colorbar": {
             "outlinewidth": 0,
             "ticks": ""
            },
            "colorscale": [
             [
              0,
              "#0d0887"
             ],
             [
              0.1111111111111111,
              "#46039f"
             ],
             [
              0.2222222222222222,
              "#7201a8"
             ],
             [
              0.3333333333333333,
              "#9c179e"
             ],
             [
              0.4444444444444444,
              "#bd3786"
             ],
             [
              0.5555555555555556,
              "#d8576b"
             ],
             [
              0.6666666666666666,
              "#ed7953"
             ],
             [
              0.7777777777777778,
              "#fb9f3a"
             ],
             [
              0.8888888888888888,
              "#fdca26"
             ],
             [
              1,
              "#f0f921"
             ]
            ],
            "type": "histogram2d"
           }
          ],
          "histogram2dcontour": [
           {
            "colorbar": {
             "outlinewidth": 0,
             "ticks": ""
            },
            "colorscale": [
             [
              0,
              "#0d0887"
             ],
             [
              0.1111111111111111,
              "#46039f"
             ],
             [
              0.2222222222222222,
              "#7201a8"
             ],
             [
              0.3333333333333333,
              "#9c179e"
             ],
             [
              0.4444444444444444,
              "#bd3786"
             ],
             [
              0.5555555555555556,
              "#d8576b"
             ],
             [
              0.6666666666666666,
              "#ed7953"
             ],
             [
              0.7777777777777778,
              "#fb9f3a"
             ],
             [
              0.8888888888888888,
              "#fdca26"
             ],
             [
              1,
              "#f0f921"
             ]
            ],
            "type": "histogram2dcontour"
           }
          ],
          "mesh3d": [
           {
            "colorbar": {
             "outlinewidth": 0,
             "ticks": ""
            },
            "type": "mesh3d"
           }
          ],
          "parcoords": [
           {
            "line": {
             "colorbar": {
              "outlinewidth": 0,
              "ticks": ""
             }
            },
            "type": "parcoords"
           }
          ],
          "pie": [
           {
            "automargin": true,
            "type": "pie"
           }
          ],
          "scatter": [
           {
            "fillpattern": {
             "fillmode": "overlay",
             "size": 10,
             "solidity": 0.2
            },
            "type": "scatter"
           }
          ],
          "scatter3d": [
           {
            "line": {
             "colorbar": {
              "outlinewidth": 0,
              "ticks": ""
             }
            },
            "marker": {
             "colorbar": {
              "outlinewidth": 0,
              "ticks": ""
             }
            },
            "type": "scatter3d"
           }
          ],
          "scattercarpet": [
           {
            "marker": {
             "colorbar": {
              "outlinewidth": 0,
              "ticks": ""
             }
            },
            "type": "scattercarpet"
           }
          ],
          "scattergeo": [
           {
            "marker": {
             "colorbar": {
              "outlinewidth": 0,
              "ticks": ""
             }
            },
            "type": "scattergeo"
           }
          ],
          "scattergl": [
           {
            "marker": {
             "colorbar": {
              "outlinewidth": 0,
              "ticks": ""
             }
            },
            "type": "scattergl"
           }
          ],
          "scattermapbox": [
           {
            "marker": {
             "colorbar": {
              "outlinewidth": 0,
              "ticks": ""
             }
            },
            "type": "scattermapbox"
           }
          ],
          "scatterpolar": [
           {
            "marker": {
             "colorbar": {
              "outlinewidth": 0,
              "ticks": ""
             }
            },
            "type": "scatterpolar"
           }
          ],
          "scatterpolargl": [
           {
            "marker": {
             "colorbar": {
              "outlinewidth": 0,
              "ticks": ""
             }
            },
            "type": "scatterpolargl"
           }
          ],
          "scatterternary": [
           {
            "marker": {
             "colorbar": {
              "outlinewidth": 0,
              "ticks": ""
             }
            },
            "type": "scatterternary"
           }
          ],
          "surface": [
           {
            "colorbar": {
             "outlinewidth": 0,
             "ticks": ""
            },
            "colorscale": [
             [
              0,
              "#0d0887"
             ],
             [
              0.1111111111111111,
              "#46039f"
             ],
             [
              0.2222222222222222,
              "#7201a8"
             ],
             [
              0.3333333333333333,
              "#9c179e"
             ],
             [
              0.4444444444444444,
              "#bd3786"
             ],
             [
              0.5555555555555556,
              "#d8576b"
             ],
             [
              0.6666666666666666,
              "#ed7953"
             ],
             [
              0.7777777777777778,
              "#fb9f3a"
             ],
             [
              0.8888888888888888,
              "#fdca26"
             ],
             [
              1,
              "#f0f921"
             ]
            ],
            "type": "surface"
           }
          ],
          "table": [
           {
            "cells": {
             "fill": {
              "color": "#EBF0F8"
             },
             "line": {
              "color": "white"
             }
            },
            "header": {
             "fill": {
              "color": "#C8D4E3"
             },
             "line": {
              "color": "white"
             }
            },
            "type": "table"
           }
          ]
         },
         "layout": {
          "annotationdefaults": {
           "arrowcolor": "#2a3f5f",
           "arrowhead": 0,
           "arrowwidth": 1
          },
          "autotypenumbers": "strict",
          "coloraxis": {
           "colorbar": {
            "outlinewidth": 0,
            "ticks": ""
           }
          },
          "colorscale": {
           "diverging": [
            [
             0,
             "#8e0152"
            ],
            [
             0.1,
             "#c51b7d"
            ],
            [
             0.2,
             "#de77ae"
            ],
            [
             0.3,
             "#f1b6da"
            ],
            [
             0.4,
             "#fde0ef"
            ],
            [
             0.5,
             "#f7f7f7"
            ],
            [
             0.6,
             "#e6f5d0"
            ],
            [
             0.7,
             "#b8e186"
            ],
            [
             0.8,
             "#7fbc41"
            ],
            [
             0.9,
             "#4d9221"
            ],
            [
             1,
             "#276419"
            ]
           ],
           "sequential": [
            [
             0,
             "#0d0887"
            ],
            [
             0.1111111111111111,
             "#46039f"
            ],
            [
             0.2222222222222222,
             "#7201a8"
            ],
            [
             0.3333333333333333,
             "#9c179e"
            ],
            [
             0.4444444444444444,
             "#bd3786"
            ],
            [
             0.5555555555555556,
             "#d8576b"
            ],
            [
             0.6666666666666666,
             "#ed7953"
            ],
            [
             0.7777777777777778,
             "#fb9f3a"
            ],
            [
             0.8888888888888888,
             "#fdca26"
            ],
            [
             1,
             "#f0f921"
            ]
           ],
           "sequentialminus": [
            [
             0,
             "#0d0887"
            ],
            [
             0.1111111111111111,
             "#46039f"
            ],
            [
             0.2222222222222222,
             "#7201a8"
            ],
            [
             0.3333333333333333,
             "#9c179e"
            ],
            [
             0.4444444444444444,
             "#bd3786"
            ],
            [
             0.5555555555555556,
             "#d8576b"
            ],
            [
             0.6666666666666666,
             "#ed7953"
            ],
            [
             0.7777777777777778,
             "#fb9f3a"
            ],
            [
             0.8888888888888888,
             "#fdca26"
            ],
            [
             1,
             "#f0f921"
            ]
           ]
          },
          "colorway": [
           "#636efa",
           "#EF553B",
           "#00cc96",
           "#ab63fa",
           "#FFA15A",
           "#19d3f3",
           "#FF6692",
           "#B6E880",
           "#FF97FF",
           "#FECB52"
          ],
          "font": {
           "color": "#2a3f5f"
          },
          "geo": {
           "bgcolor": "white",
           "lakecolor": "white",
           "landcolor": "#E5ECF6",
           "showlakes": true,
           "showland": true,
           "subunitcolor": "white"
          },
          "hoverlabel": {
           "align": "left"
          },
          "hovermode": "closest",
          "mapbox": {
           "style": "light"
          },
          "paper_bgcolor": "white",
          "plot_bgcolor": "#E5ECF6",
          "polar": {
           "angularaxis": {
            "gridcolor": "white",
            "linecolor": "white",
            "ticks": ""
           },
           "bgcolor": "#E5ECF6",
           "radialaxis": {
            "gridcolor": "white",
            "linecolor": "white",
            "ticks": ""
           }
          },
          "scene": {
           "xaxis": {
            "backgroundcolor": "#E5ECF6",
            "gridcolor": "white",
            "gridwidth": 2,
            "linecolor": "white",
            "showbackground": true,
            "ticks": "",
            "zerolinecolor": "white"
           },
           "yaxis": {
            "backgroundcolor": "#E5ECF6",
            "gridcolor": "white",
            "gridwidth": 2,
            "linecolor": "white",
            "showbackground": true,
            "ticks": "",
            "zerolinecolor": "white"
           },
           "zaxis": {
            "backgroundcolor": "#E5ECF6",
            "gridcolor": "white",
            "gridwidth": 2,
            "linecolor": "white",
            "showbackground": true,
            "ticks": "",
            "zerolinecolor": "white"
           }
          },
          "shapedefaults": {
           "line": {
            "color": "#2a3f5f"
           }
          },
          "ternary": {
           "aaxis": {
            "gridcolor": "white",
            "linecolor": "white",
            "ticks": ""
           },
           "baxis": {
            "gridcolor": "white",
            "linecolor": "white",
            "ticks": ""
           },
           "bgcolor": "#E5ECF6",
           "caxis": {
            "gridcolor": "white",
            "linecolor": "white",
            "ticks": ""
           }
          },
          "title": {
           "x": 0.05
          },
          "xaxis": {
           "automargin": true,
           "gridcolor": "white",
           "linecolor": "white",
           "ticks": "",
           "title": {
            "standoff": 15
           },
           "zerolinecolor": "white",
           "zerolinewidth": 2
          },
          "yaxis": {
           "automargin": true,
           "gridcolor": "white",
           "linecolor": "white",
           "ticks": "",
           "title": {
            "standoff": 15
           },
           "zerolinecolor": "white",
           "zerolinewidth": 2
          }
         }
        },
        "title": {
         "text": "Visualizing Clusters in One Dimension Using T-SNE (perplexity=50)"
        },
        "xaxis": {
         "ticklen": 5,
         "title": {
          "text": "TC1"
         },
         "zeroline": false
        },
        "yaxis": {
         "ticklen": 5,
         "title": {
          "text": ""
         },
         "zeroline": false
        }
       }
      },
      "text/html": [
       "<div>                            <div id=\"3bbe56bf-8326-48fc-ad73-edd6769fa183\" class=\"plotly-graph-div\" style=\"height:525px; width:100%;\"></div>            <script type=\"text/javascript\">                require([\"plotly\"], function(Plotly) {                    window.PLOTLYENV=window.PLOTLYENV || {};                                    if (document.getElementById(\"3bbe56bf-8326-48fc-ad73-edd6769fa183\")) {                    Plotly.newPlot(                        \"3bbe56bf-8326-48fc-ad73-edd6769fa183\",                        [{\"marker\":{\"color\":\"rgba(255, 128, 255, 0.8)\"},\"mode\":\"markers\",\"name\":\"Cluster 0\",\"x\":[-0.8900030851364136,-5.099568843841553,-2.3326282501220703,-3.8141026496887207,-3.2165119647979736,-4.4540510177612305,-2.0893447399139404,-2.1681065559387207,-4.0441975593566895,-4.603553771972656,-4.189441204071045,-4.531219482421875,-2.729440927505493,-3.1012425422668457,-2.6643881797790527,-4.552244186401367,-2.004105806350708,-2.5370726585388184,-3.958709239959717,-3.689805269241333,-1.844655990600586,-4.2446818351745605,-2.577702760696411,-4.679316997528076,-4.226080417633057,-4.807546615600586,-2.5579471588134766,-4.321291923522949,-2.198776960372925,-1.9800149202346802,-4.271594047546387,-4.922408103942871,-3.9539835453033447,-4.434628486633301,-4.464277267456055,-4.117545127868652,-3.6172401905059814,-2.5640785694122314,-3.262556314468384,-5.070423126220703,-3.1514437198638916,-4.571890354156494,-5.3131914138793945,-2.6886749267578125,-4.933218955993652,-2.338811159133911,-5.088043212890625,-2.9314463138580322,-3.973939895629883,-3.213804006576538,-1.147740125656128,-4.953530311584473,-2.4273722171783447,-3.2510364055633545,-2.4392712116241455,-2.978320360183716,-1.7676265239715576,-2.743983030319214,-4.399338245391846,-3.6756064891815186,-3.5587332248687744,-3.643843173980713,-5.101039409637451,-3.5632271766662598,-3.52911114692688,-3.3463151454925537,-2.3794748783111572],\"y\":[0,0,0,0,0,0,0,0,0,0,0,0,0,0,0,0,0,0,0,0,0,0,0,0,0,0,0,0,0,0,0,0,0,0,0,0,0,0,0,0,0,0,0,0,0,0,0,0,0,0,0,0,0,0,0,0,0,0,0,0,0,0,0,0,0,0,0],\"type\":\"scatter\"},{\"marker\":{\"color\":\"rgba(255, 128, 2, 0.8)\"},\"mode\":\"markers\",\"name\":\"Cluster 1\",\"x\":[-0.1052607074379921,-0.24214646220207214,0.12840548157691956,0.44784390926361084,-0.11872173100709915,0.8516097068786621,0.8750741481781006,0.8405755758285522,0.8672286868095398,-0.7362869381904602,0.8899839520454407,0.7310776114463806,-0.8278462290763855,-0.49745598435401917,-0.33027273416519165,-0.4264192581176758,0.9053677916526794,0.8266586661338806,0.16725467145442963,-0.4224995970726013,0.2731488347053528,-0.25259116291999817],\"y\":[0,0,0,0,0,0,0,0,0,0,0,0,0,0,0,0,0,0,0,0,0,0],\"type\":\"scatter\"},{\"marker\":{\"color\":\"rgba(0, 255, 200, 0.8)\"},\"mode\":\"markers\",\"name\":\"Cluster 2\",\"x\":[-6.732928276062012,-6.009688377380371,-6.323679447174072,-7.76676082611084,-6.627791404724121,-7.019443511962891,-6.857781410217285,-1.83193838596344,-6.958154678344727,-5.2895355224609375,-7.710988521575928,-6.622428894042969,-7.316768646240234,-6.440019130706787,-7.326706409454346,-6.674345016479492,-5.290596961975098,-5.69767427444458,-6.645284652709961,-6.712496280670166,-5.965046405792236,-7.682611465454102,-6.170008659362793,-6.846635341644287,-6.740571022033691,-7.7083611488342285,-6.842365741729736,-6.087461471557617,-6.080066680908203,-6.327511310577393,-6.983334541320801,-6.951199054718018,-6.345559120178223,-6.305725574493408,-6.670262813568115],\"y\":[0,0,0,0,0,0,0,0,0,0,0,0,0,0,0,0,0,0,0,0,0,0,0,0,0,0,0,0,0,0,0,0,0,0,0],\"type\":\"scatter\"}],                        {\"template\":{\"data\":{\"barpolar\":[{\"marker\":{\"line\":{\"color\":\"#E5ECF6\",\"width\":0.5},\"pattern\":{\"fillmode\":\"overlay\",\"size\":10,\"solidity\":0.2}},\"type\":\"barpolar\"}],\"bar\":[{\"error_x\":{\"color\":\"#2a3f5f\"},\"error_y\":{\"color\":\"#2a3f5f\"},\"marker\":{\"line\":{\"color\":\"#E5ECF6\",\"width\":0.5},\"pattern\":{\"fillmode\":\"overlay\",\"size\":10,\"solidity\":0.2}},\"type\":\"bar\"}],\"carpet\":[{\"aaxis\":{\"endlinecolor\":\"#2a3f5f\",\"gridcolor\":\"white\",\"linecolor\":\"white\",\"minorgridcolor\":\"white\",\"startlinecolor\":\"#2a3f5f\"},\"baxis\":{\"endlinecolor\":\"#2a3f5f\",\"gridcolor\":\"white\",\"linecolor\":\"white\",\"minorgridcolor\":\"white\",\"startlinecolor\":\"#2a3f5f\"},\"type\":\"carpet\"}],\"choropleth\":[{\"colorbar\":{\"outlinewidth\":0,\"ticks\":\"\"},\"type\":\"choropleth\"}],\"contourcarpet\":[{\"colorbar\":{\"outlinewidth\":0,\"ticks\":\"\"},\"type\":\"contourcarpet\"}],\"contour\":[{\"colorbar\":{\"outlinewidth\":0,\"ticks\":\"\"},\"colorscale\":[[0.0,\"#0d0887\"],[0.1111111111111111,\"#46039f\"],[0.2222222222222222,\"#7201a8\"],[0.3333333333333333,\"#9c179e\"],[0.4444444444444444,\"#bd3786\"],[0.5555555555555556,\"#d8576b\"],[0.6666666666666666,\"#ed7953\"],[0.7777777777777778,\"#fb9f3a\"],[0.8888888888888888,\"#fdca26\"],[1.0,\"#f0f921\"]],\"type\":\"contour\"}],\"heatmapgl\":[{\"colorbar\":{\"outlinewidth\":0,\"ticks\":\"\"},\"colorscale\":[[0.0,\"#0d0887\"],[0.1111111111111111,\"#46039f\"],[0.2222222222222222,\"#7201a8\"],[0.3333333333333333,\"#9c179e\"],[0.4444444444444444,\"#bd3786\"],[0.5555555555555556,\"#d8576b\"],[0.6666666666666666,\"#ed7953\"],[0.7777777777777778,\"#fb9f3a\"],[0.8888888888888888,\"#fdca26\"],[1.0,\"#f0f921\"]],\"type\":\"heatmapgl\"}],\"heatmap\":[{\"colorbar\":{\"outlinewidth\":0,\"ticks\":\"\"},\"colorscale\":[[0.0,\"#0d0887\"],[0.1111111111111111,\"#46039f\"],[0.2222222222222222,\"#7201a8\"],[0.3333333333333333,\"#9c179e\"],[0.4444444444444444,\"#bd3786\"],[0.5555555555555556,\"#d8576b\"],[0.6666666666666666,\"#ed7953\"],[0.7777777777777778,\"#fb9f3a\"],[0.8888888888888888,\"#fdca26\"],[1.0,\"#f0f921\"]],\"type\":\"heatmap\"}],\"histogram2dcontour\":[{\"colorbar\":{\"outlinewidth\":0,\"ticks\":\"\"},\"colorscale\":[[0.0,\"#0d0887\"],[0.1111111111111111,\"#46039f\"],[0.2222222222222222,\"#7201a8\"],[0.3333333333333333,\"#9c179e\"],[0.4444444444444444,\"#bd3786\"],[0.5555555555555556,\"#d8576b\"],[0.6666666666666666,\"#ed7953\"],[0.7777777777777778,\"#fb9f3a\"],[0.8888888888888888,\"#fdca26\"],[1.0,\"#f0f921\"]],\"type\":\"histogram2dcontour\"}],\"histogram2d\":[{\"colorbar\":{\"outlinewidth\":0,\"ticks\":\"\"},\"colorscale\":[[0.0,\"#0d0887\"],[0.1111111111111111,\"#46039f\"],[0.2222222222222222,\"#7201a8\"],[0.3333333333333333,\"#9c179e\"],[0.4444444444444444,\"#bd3786\"],[0.5555555555555556,\"#d8576b\"],[0.6666666666666666,\"#ed7953\"],[0.7777777777777778,\"#fb9f3a\"],[0.8888888888888888,\"#fdca26\"],[1.0,\"#f0f921\"]],\"type\":\"histogram2d\"}],\"histogram\":[{\"marker\":{\"pattern\":{\"fillmode\":\"overlay\",\"size\":10,\"solidity\":0.2}},\"type\":\"histogram\"}],\"mesh3d\":[{\"colorbar\":{\"outlinewidth\":0,\"ticks\":\"\"},\"type\":\"mesh3d\"}],\"parcoords\":[{\"line\":{\"colorbar\":{\"outlinewidth\":0,\"ticks\":\"\"}},\"type\":\"parcoords\"}],\"pie\":[{\"automargin\":true,\"type\":\"pie\"}],\"scatter3d\":[{\"line\":{\"colorbar\":{\"outlinewidth\":0,\"ticks\":\"\"}},\"marker\":{\"colorbar\":{\"outlinewidth\":0,\"ticks\":\"\"}},\"type\":\"scatter3d\"}],\"scattercarpet\":[{\"marker\":{\"colorbar\":{\"outlinewidth\":0,\"ticks\":\"\"}},\"type\":\"scattercarpet\"}],\"scattergeo\":[{\"marker\":{\"colorbar\":{\"outlinewidth\":0,\"ticks\":\"\"}},\"type\":\"scattergeo\"}],\"scattergl\":[{\"marker\":{\"colorbar\":{\"outlinewidth\":0,\"ticks\":\"\"}},\"type\":\"scattergl\"}],\"scattermapbox\":[{\"marker\":{\"colorbar\":{\"outlinewidth\":0,\"ticks\":\"\"}},\"type\":\"scattermapbox\"}],\"scatterpolargl\":[{\"marker\":{\"colorbar\":{\"outlinewidth\":0,\"ticks\":\"\"}},\"type\":\"scatterpolargl\"}],\"scatterpolar\":[{\"marker\":{\"colorbar\":{\"outlinewidth\":0,\"ticks\":\"\"}},\"type\":\"scatterpolar\"}],\"scatter\":[{\"fillpattern\":{\"fillmode\":\"overlay\",\"size\":10,\"solidity\":0.2},\"type\":\"scatter\"}],\"scatterternary\":[{\"marker\":{\"colorbar\":{\"outlinewidth\":0,\"ticks\":\"\"}},\"type\":\"scatterternary\"}],\"surface\":[{\"colorbar\":{\"outlinewidth\":0,\"ticks\":\"\"},\"colorscale\":[[0.0,\"#0d0887\"],[0.1111111111111111,\"#46039f\"],[0.2222222222222222,\"#7201a8\"],[0.3333333333333333,\"#9c179e\"],[0.4444444444444444,\"#bd3786\"],[0.5555555555555556,\"#d8576b\"],[0.6666666666666666,\"#ed7953\"],[0.7777777777777778,\"#fb9f3a\"],[0.8888888888888888,\"#fdca26\"],[1.0,\"#f0f921\"]],\"type\":\"surface\"}],\"table\":[{\"cells\":{\"fill\":{\"color\":\"#EBF0F8\"},\"line\":{\"color\":\"white\"}},\"header\":{\"fill\":{\"color\":\"#C8D4E3\"},\"line\":{\"color\":\"white\"}},\"type\":\"table\"}]},\"layout\":{\"annotationdefaults\":{\"arrowcolor\":\"#2a3f5f\",\"arrowhead\":0,\"arrowwidth\":1},\"autotypenumbers\":\"strict\",\"coloraxis\":{\"colorbar\":{\"outlinewidth\":0,\"ticks\":\"\"}},\"colorscale\":{\"diverging\":[[0,\"#8e0152\"],[0.1,\"#c51b7d\"],[0.2,\"#de77ae\"],[0.3,\"#f1b6da\"],[0.4,\"#fde0ef\"],[0.5,\"#f7f7f7\"],[0.6,\"#e6f5d0\"],[0.7,\"#b8e186\"],[0.8,\"#7fbc41\"],[0.9,\"#4d9221\"],[1,\"#276419\"]],\"sequential\":[[0.0,\"#0d0887\"],[0.1111111111111111,\"#46039f\"],[0.2222222222222222,\"#7201a8\"],[0.3333333333333333,\"#9c179e\"],[0.4444444444444444,\"#bd3786\"],[0.5555555555555556,\"#d8576b\"],[0.6666666666666666,\"#ed7953\"],[0.7777777777777778,\"#fb9f3a\"],[0.8888888888888888,\"#fdca26\"],[1.0,\"#f0f921\"]],\"sequentialminus\":[[0.0,\"#0d0887\"],[0.1111111111111111,\"#46039f\"],[0.2222222222222222,\"#7201a8\"],[0.3333333333333333,\"#9c179e\"],[0.4444444444444444,\"#bd3786\"],[0.5555555555555556,\"#d8576b\"],[0.6666666666666666,\"#ed7953\"],[0.7777777777777778,\"#fb9f3a\"],[0.8888888888888888,\"#fdca26\"],[1.0,\"#f0f921\"]]},\"colorway\":[\"#636efa\",\"#EF553B\",\"#00cc96\",\"#ab63fa\",\"#FFA15A\",\"#19d3f3\",\"#FF6692\",\"#B6E880\",\"#FF97FF\",\"#FECB52\"],\"font\":{\"color\":\"#2a3f5f\"},\"geo\":{\"bgcolor\":\"white\",\"lakecolor\":\"white\",\"landcolor\":\"#E5ECF6\",\"showlakes\":true,\"showland\":true,\"subunitcolor\":\"white\"},\"hoverlabel\":{\"align\":\"left\"},\"hovermode\":\"closest\",\"mapbox\":{\"style\":\"light\"},\"paper_bgcolor\":\"white\",\"plot_bgcolor\":\"#E5ECF6\",\"polar\":{\"angularaxis\":{\"gridcolor\":\"white\",\"linecolor\":\"white\",\"ticks\":\"\"},\"bgcolor\":\"#E5ECF6\",\"radialaxis\":{\"gridcolor\":\"white\",\"linecolor\":\"white\",\"ticks\":\"\"}},\"scene\":{\"xaxis\":{\"backgroundcolor\":\"#E5ECF6\",\"gridcolor\":\"white\",\"gridwidth\":2,\"linecolor\":\"white\",\"showbackground\":true,\"ticks\":\"\",\"zerolinecolor\":\"white\"},\"yaxis\":{\"backgroundcolor\":\"#E5ECF6\",\"gridcolor\":\"white\",\"gridwidth\":2,\"linecolor\":\"white\",\"showbackground\":true,\"ticks\":\"\",\"zerolinecolor\":\"white\"},\"zaxis\":{\"backgroundcolor\":\"#E5ECF6\",\"gridcolor\":\"white\",\"gridwidth\":2,\"linecolor\":\"white\",\"showbackground\":true,\"ticks\":\"\",\"zerolinecolor\":\"white\"}},\"shapedefaults\":{\"line\":{\"color\":\"#2a3f5f\"}},\"ternary\":{\"aaxis\":{\"gridcolor\":\"white\",\"linecolor\":\"white\",\"ticks\":\"\"},\"baxis\":{\"gridcolor\":\"white\",\"linecolor\":\"white\",\"ticks\":\"\"},\"bgcolor\":\"#E5ECF6\",\"caxis\":{\"gridcolor\":\"white\",\"linecolor\":\"white\",\"ticks\":\"\"}},\"title\":{\"x\":0.05},\"xaxis\":{\"automargin\":true,\"gridcolor\":\"white\",\"linecolor\":\"white\",\"ticks\":\"\",\"title\":{\"standoff\":15},\"zerolinecolor\":\"white\",\"zerolinewidth\":2},\"yaxis\":{\"automargin\":true,\"gridcolor\":\"white\",\"linecolor\":\"white\",\"ticks\":\"\",\"title\":{\"standoff\":15},\"zerolinecolor\":\"white\",\"zerolinewidth\":2}}},\"title\":{\"text\":\"Visualizing Clusters in One Dimension Using T-SNE (perplexity=50)\"},\"xaxis\":{\"ticklen\":5,\"title\":{\"text\":\"TC1\"},\"zeroline\":false},\"yaxis\":{\"ticklen\":5,\"title\":{\"text\":\"\"},\"zeroline\":false}},                        {\"responsive\": true}                    ).then(function(){\n",
       "                            \n",
       "var gd = document.getElementById('3bbe56bf-8326-48fc-ad73-edd6769fa183');\n",
       "var x = new MutationObserver(function (mutations, observer) {{\n",
       "        var display = window.getComputedStyle(gd).display;\n",
       "        if (!display || display === 'none') {{\n",
       "            console.log([gd, 'removed!']);\n",
       "            Plotly.purge(gd);\n",
       "            observer.disconnect();\n",
       "        }}\n",
       "}});\n",
       "\n",
       "// Listen for the removal of the full notebook cells\n",
       "var notebookContainer = gd.closest('#notebook-container');\n",
       "if (notebookContainer) {{\n",
       "    x.observe(notebookContainer, {childList: true});\n",
       "}}\n",
       "\n",
       "// Listen for the clearing of the current output cell\n",
       "var outputEl = gd.closest('.output');\n",
       "if (outputEl) {{\n",
       "    x.observe(outputEl, {childList: true});\n",
       "}}\n",
       "\n",
       "                        })                };                });            </script>        </div>"
      ]
     },
     "metadata": {},
     "output_type": "display_data"
    }
   ],
   "source": [
    "#Instructions for building the 1-D plot\n",
    "\n",
    "#trace1 is for 'Cluster 0'\n",
    "trace1 = go.Scatter(\n",
    "                    x = cluster0[\"TC1_1d\"],\n",
    "                    y = cluster0[\"dummy\"],\n",
    "                    mode = \"markers\",\n",
    "                    name = \"Cluster 0\",\n",
    "                    marker = dict(color = 'rgba(255, 128, 255, 0.8)'),\n",
    "                    text = None)\n",
    "\n",
    "#trace2 is for 'Cluster 1'\n",
    "trace2 = go.Scatter(\n",
    "                    x = cluster1[\"TC1_1d\"],\n",
    "                    y = cluster1[\"dummy\"],\n",
    "                    mode = \"markers\",\n",
    "                    name = \"Cluster 1\",\n",
    "                    marker = dict(color = 'rgba(255, 128, 2, 0.8)'),\n",
    "                    text = None)\n",
    "\n",
    "#trace3 is for 'Cluster 2'\n",
    "trace3 = go.Scatter(\n",
    "                    x = cluster2[\"TC1_1d\"],\n",
    "                    y = cluster2[\"dummy\"],\n",
    "                    mode = \"markers\",\n",
    "                    name = \"Cluster 2\",\n",
    "                    marker = dict(color = 'rgba(0, 255, 200, 0.8)'),\n",
    "                    text = None)\n",
    "\n",
    "data = [trace1, trace2, trace3]\n",
    "\n",
    "title = \"Visualizing Clusters in One Dimension Using T-SNE (perplexity=\" + str(perplexity) + \")\"\n",
    "\n",
    "layout = dict(title = title,\n",
    "              xaxis= dict(title= 'TC1',ticklen= 5,zeroline= False),\n",
    "              yaxis= dict(title= '',ticklen= 5,zeroline= False)\n",
    "             )\n",
    "\n",
    "fig = dict(data = data, layout = layout)\n",
    "\n",
    "iplot(fig)"
   ]
  },
  {
   "cell_type": "code",
   "execution_count": 161,
   "metadata": {},
   "outputs": [
    {
     "data": {
      "application/vnd.plotly.v1+json": {
       "config": {
        "linkText": "Export to plot.ly",
        "plotlyServerURL": "https://plot.ly",
        "showLink": false
       },
       "data": [
        {
         "marker": {
          "color": "rgba(255, 128, 255, 0.8)"
         },
         "mode": "markers",
         "name": "Cluster 0",
         "type": "scatter",
         "x": [
          -5.8993048667907715,
          -3.082573652267456,
          -0.44237080216407776,
          -1.2417443990707397,
          -4.992147922515869,
          -4.20668363571167,
          -1.5479682683944702,
          -1.0133136510849,
          -1.5813853740692139,
          -4.122983455657959,
          -2.643134355545044,
          -2.1816346645355225,
          -3.1160190105438232,
          -2.1478302478790283,
          -2.7928426265716553,
          -4.221612930297852,
          -3.1934654712677,
          -4.169419765472412,
          -3.6749658584594727,
          -2.3029282093048096,
          -1.7862462997436523,
          -3.6262691020965576,
          -3.7369537353515625,
          -1.6142584085464478,
          -4.7099761962890625,
          -4.072922229766846,
          -3.3294787406921387,
          -2.3054118156433105,
          -2.11244535446167,
          -2.674349546432495,
          -2.747580051422119,
          -3.1147701740264893,
          -4.900009632110596,
          -3.9899966716766357,
          -3.6766040325164795,
          -1.9283897876739502,
          -2.2459404468536377,
          -5.132495880126953,
          -3.8291690349578857,
          -4.575316905975342,
          -0.7807493209838867,
          -3.345278024673462,
          -2.7345926761627197,
          -3.213247537612915,
          -3.739082098007202,
          -2.671288013458252,
          -2.3619203567504883,
          -2.582634210586548,
          -1.3340702056884766,
          -4.091586112976074,
          -2.5237598419189453,
          -4.4073567390441895,
          -4.004046440124512,
          -3.545520067214966,
          -3.6071388721466064,
          -2.5710532665252686,
          -4.723520755767822,
          -4.761120319366455,
          -3.4193475246429443,
          -4.988004207611084,
          -4.148369312286377,
          -2.169177770614624,
          -4.039498805999756,
          -3.883314609527588,
          -2.0260303020477295,
          -3.1414096355438232,
          -2.3390777111053467
         ],
         "y": [
          1.6402887105941772,
          1.5132263898849487,
          0.08200599998235703,
          1.320153832435608,
          -0.27751561999320984,
          -0.7777015566825867,
          -1.5883430242538452,
          1.5785439014434814,
          1.394960641860962,
          -1.2592179775238037,
          0.7709395885467529,
          2.0588836669921875,
          -1.8000699281692505,
          -1.0851856470108032,
          0.111704520881176,
          -0.7481521964073181,
          -0.08793094009160995,
          -1.2751508951187134,
          -1.0921518802642822,
          1.1775739192962646,
          -0.9338213205337524,
          -1.3724933862686157,
          -0.6034621000289917,
          1.3188625574111938,
          0.6527281999588013,
          0.07294178754091263,
          0.24726875126361847,
          -0.20514018833637238,
          2.4666714668273926,
          -0.6658804416656494,
          1.5345282554626465,
          2.5715487003326416,
          -0.8971802592277527,
          2.3944923877716064,
          -1.133711576461792,
          -0.01989920064806938,
          1.5128673315048218,
          0.7222948670387268,
          0.022778352722525597,
          0.27528324723243713,
          -0.35449841618537903,
          2.2080116271972656,
          -0.6198363900184631,
          -0.41089358925819397,
          -1.4537540674209595,
          1.802498459815979,
          -0.16858431696891785,
          0.9207003116607666,
          2.2445712089538574,
          1.0993202924728394,
          1.3412779569625854,
          -0.01581455208361149,
          2.5421581268310547,
          -0.13553084433078766,
          -0.2969949245452881,
          1.1556575298309326,
          -0.05401185154914856,
          0.10095071792602539,
          -0.2223646491765976,
          -0.6388439536094666,
          -0.5810821652412415,
          1.143899917602539,
          1.3890570402145386,
          1.2843654155731201,
          0.16480474174022675,
          2.0056447982788086,
          -1.4757483005523682
         ]
        },
        {
         "marker": {
          "color": "rgba(255, 128, 2, 0.8)"
         },
         "mode": "markers",
         "name": "Cluster 1",
         "type": "scatter",
         "x": [
          0.260570228099823,
          2.3493897914886475,
          1.3567650318145752,
          1.6866860389709473,
          0.3294208347797394,
          0.018058018758893013,
          1.8765287399291992,
          0.06099516153335571,
          1.9291152954101562,
          1.4184647798538208,
          1.8355822563171387,
          0.41052451729774475,
          0.6414970755577087,
          0.7983442544937134,
          0.6061873435974121,
          2.138535976409912,
          0.815666675567627,
          0.7689405679702759,
          1.6898912191390991,
          2.3074493408203125,
          2.063542604446411,
          1.8742331266403198
         ],
         "y": [
          0.18147006630897522,
          -0.23624563217163086,
          0.2245607078075409,
          0.5493166446685791,
          0.7952259182929993,
          -0.5277853012084961,
          -0.8585857152938843,
          -0.5691791772842407,
          -0.3371513783931732,
          0.3855178952217102,
          -0.7404839396476746,
          0.39391613006591797,
          0.6545656323432922,
          1.1559430360794067,
          0.9893800020217896,
          0.7871484756469727,
          -0.008706806227564812,
          -0.03445521369576454,
          -1.0989645719528198,
          -0.23208296298980713,
          -0.7525631189346313,
          -0.8144682049751282
         ]
        },
        {
         "marker": {
          "color": "rgba(0, 255, 200, 0.8)"
         },
         "mode": "markers",
         "name": "Cluster 2",
         "type": "scatter",
         "x": [
          -7.207015037536621,
          -8.698064804077148,
          -7.198712348937988,
          -6.066840648651123,
          -7.518502712249756,
          -6.461801528930664,
          -6.27833890914917,
          -7.07344913482666,
          -7.961979389190674,
          -6.566975116729736,
          -5.201481819152832,
          -7.689368724822998,
          -5.192807674407959,
          -7.798593997955322,
          -7.550320625305176,
          -6.634429931640625,
          -6.049200534820557,
          -7.05655574798584,
          -8.726764678955078,
          -6.274646282196045,
          -4.512280464172363,
          -6.926661968231201,
          -6.837509632110596,
          -7.411218166351318,
          -7.045763969421387,
          -7.47088098526001,
          -6.645695209503174,
          -7.081274509429932,
          -8.667486190795898,
          -6.391584873199463,
          -7.033421993255615,
          -7.808656215667725,
          -7.653369903564453,
          -5.72074556350708,
          -7.782777309417725
         ],
         "y": [
          -0.5969775319099426,
          -0.26883238554000854,
          -0.14746597409248352,
          -0.6959072947502136,
          0.16408772766590118,
          -1.0523637533187866,
          -0.05468187853693962,
          -0.46793490648269653,
          0.5562759637832642,
          -0.38094958662986755,
          -0.5155337452888489,
          -0.05317360535264015,
          -0.918962836265564,
          -1.5121592283248901,
          -0.8571149706840515,
          -0.08451927453279495,
          -0.204202339053154,
          -0.6675801873207092,
          -0.84749436378479,
          -0.20351561903953552,
          2.604994535446167,
          -1.4648165702819824,
          -1.2117290496826172,
          -1.1139124631881714,
          -0.5336785912513733,
          -0.3923134505748749,
          0.5753955245018005,
          0.6146296858787537,
          -0.3345605432987213,
          -0.23203922808170319,
          -1.08028244972229,
          -2.0621590614318848,
          -0.761967658996582,
          -0.19907847046852112,
          -0.5556919574737549
         ]
        }
       ],
       "layout": {
        "template": {
         "data": {
          "bar": [
           {
            "error_x": {
             "color": "#2a3f5f"
            },
            "error_y": {
             "color": "#2a3f5f"
            },
            "marker": {
             "line": {
              "color": "#E5ECF6",
              "width": 0.5
             },
             "pattern": {
              "fillmode": "overlay",
              "size": 10,
              "solidity": 0.2
             }
            },
            "type": "bar"
           }
          ],
          "barpolar": [
           {
            "marker": {
             "line": {
              "color": "#E5ECF6",
              "width": 0.5
             },
             "pattern": {
              "fillmode": "overlay",
              "size": 10,
              "solidity": 0.2
             }
            },
            "type": "barpolar"
           }
          ],
          "carpet": [
           {
            "aaxis": {
             "endlinecolor": "#2a3f5f",
             "gridcolor": "white",
             "linecolor": "white",
             "minorgridcolor": "white",
             "startlinecolor": "#2a3f5f"
            },
            "baxis": {
             "endlinecolor": "#2a3f5f",
             "gridcolor": "white",
             "linecolor": "white",
             "minorgridcolor": "white",
             "startlinecolor": "#2a3f5f"
            },
            "type": "carpet"
           }
          ],
          "choropleth": [
           {
            "colorbar": {
             "outlinewidth": 0,
             "ticks": ""
            },
            "type": "choropleth"
           }
          ],
          "contour": [
           {
            "colorbar": {
             "outlinewidth": 0,
             "ticks": ""
            },
            "colorscale": [
             [
              0,
              "#0d0887"
             ],
             [
              0.1111111111111111,
              "#46039f"
             ],
             [
              0.2222222222222222,
              "#7201a8"
             ],
             [
              0.3333333333333333,
              "#9c179e"
             ],
             [
              0.4444444444444444,
              "#bd3786"
             ],
             [
              0.5555555555555556,
              "#d8576b"
             ],
             [
              0.6666666666666666,
              "#ed7953"
             ],
             [
              0.7777777777777778,
              "#fb9f3a"
             ],
             [
              0.8888888888888888,
              "#fdca26"
             ],
             [
              1,
              "#f0f921"
             ]
            ],
            "type": "contour"
           }
          ],
          "contourcarpet": [
           {
            "colorbar": {
             "outlinewidth": 0,
             "ticks": ""
            },
            "type": "contourcarpet"
           }
          ],
          "heatmap": [
           {
            "colorbar": {
             "outlinewidth": 0,
             "ticks": ""
            },
            "colorscale": [
             [
              0,
              "#0d0887"
             ],
             [
              0.1111111111111111,
              "#46039f"
             ],
             [
              0.2222222222222222,
              "#7201a8"
             ],
             [
              0.3333333333333333,
              "#9c179e"
             ],
             [
              0.4444444444444444,
              "#bd3786"
             ],
             [
              0.5555555555555556,
              "#d8576b"
             ],
             [
              0.6666666666666666,
              "#ed7953"
             ],
             [
              0.7777777777777778,
              "#fb9f3a"
             ],
             [
              0.8888888888888888,
              "#fdca26"
             ],
             [
              1,
              "#f0f921"
             ]
            ],
            "type": "heatmap"
           }
          ],
          "heatmapgl": [
           {
            "colorbar": {
             "outlinewidth": 0,
             "ticks": ""
            },
            "colorscale": [
             [
              0,
              "#0d0887"
             ],
             [
              0.1111111111111111,
              "#46039f"
             ],
             [
              0.2222222222222222,
              "#7201a8"
             ],
             [
              0.3333333333333333,
              "#9c179e"
             ],
             [
              0.4444444444444444,
              "#bd3786"
             ],
             [
              0.5555555555555556,
              "#d8576b"
             ],
             [
              0.6666666666666666,
              "#ed7953"
             ],
             [
              0.7777777777777778,
              "#fb9f3a"
             ],
             [
              0.8888888888888888,
              "#fdca26"
             ],
             [
              1,
              "#f0f921"
             ]
            ],
            "type": "heatmapgl"
           }
          ],
          "histogram": [
           {
            "marker": {
             "pattern": {
              "fillmode": "overlay",
              "size": 10,
              "solidity": 0.2
             }
            },
            "type": "histogram"
           }
          ],
          "histogram2d": [
           {
            "colorbar": {
             "outlinewidth": 0,
             "ticks": ""
            },
            "colorscale": [
             [
              0,
              "#0d0887"
             ],
             [
              0.1111111111111111,
              "#46039f"
             ],
             [
              0.2222222222222222,
              "#7201a8"
             ],
             [
              0.3333333333333333,
              "#9c179e"
             ],
             [
              0.4444444444444444,
              "#bd3786"
             ],
             [
              0.5555555555555556,
              "#d8576b"
             ],
             [
              0.6666666666666666,
              "#ed7953"
             ],
             [
              0.7777777777777778,
              "#fb9f3a"
             ],
             [
              0.8888888888888888,
              "#fdca26"
             ],
             [
              1,
              "#f0f921"
             ]
            ],
            "type": "histogram2d"
           }
          ],
          "histogram2dcontour": [
           {
            "colorbar": {
             "outlinewidth": 0,
             "ticks": ""
            },
            "colorscale": [
             [
              0,
              "#0d0887"
             ],
             [
              0.1111111111111111,
              "#46039f"
             ],
             [
              0.2222222222222222,
              "#7201a8"
             ],
             [
              0.3333333333333333,
              "#9c179e"
             ],
             [
              0.4444444444444444,
              "#bd3786"
             ],
             [
              0.5555555555555556,
              "#d8576b"
             ],
             [
              0.6666666666666666,
              "#ed7953"
             ],
             [
              0.7777777777777778,
              "#fb9f3a"
             ],
             [
              0.8888888888888888,
              "#fdca26"
             ],
             [
              1,
              "#f0f921"
             ]
            ],
            "type": "histogram2dcontour"
           }
          ],
          "mesh3d": [
           {
            "colorbar": {
             "outlinewidth": 0,
             "ticks": ""
            },
            "type": "mesh3d"
           }
          ],
          "parcoords": [
           {
            "line": {
             "colorbar": {
              "outlinewidth": 0,
              "ticks": ""
             }
            },
            "type": "parcoords"
           }
          ],
          "pie": [
           {
            "automargin": true,
            "type": "pie"
           }
          ],
          "scatter": [
           {
            "fillpattern": {
             "fillmode": "overlay",
             "size": 10,
             "solidity": 0.2
            },
            "type": "scatter"
           }
          ],
          "scatter3d": [
           {
            "line": {
             "colorbar": {
              "outlinewidth": 0,
              "ticks": ""
             }
            },
            "marker": {
             "colorbar": {
              "outlinewidth": 0,
              "ticks": ""
             }
            },
            "type": "scatter3d"
           }
          ],
          "scattercarpet": [
           {
            "marker": {
             "colorbar": {
              "outlinewidth": 0,
              "ticks": ""
             }
            },
            "type": "scattercarpet"
           }
          ],
          "scattergeo": [
           {
            "marker": {
             "colorbar": {
              "outlinewidth": 0,
              "ticks": ""
             }
            },
            "type": "scattergeo"
           }
          ],
          "scattergl": [
           {
            "marker": {
             "colorbar": {
              "outlinewidth": 0,
              "ticks": ""
             }
            },
            "type": "scattergl"
           }
          ],
          "scattermapbox": [
           {
            "marker": {
             "colorbar": {
              "outlinewidth": 0,
              "ticks": ""
             }
            },
            "type": "scattermapbox"
           }
          ],
          "scatterpolar": [
           {
            "marker": {
             "colorbar": {
              "outlinewidth": 0,
              "ticks": ""
             }
            },
            "type": "scatterpolar"
           }
          ],
          "scatterpolargl": [
           {
            "marker": {
             "colorbar": {
              "outlinewidth": 0,
              "ticks": ""
             }
            },
            "type": "scatterpolargl"
           }
          ],
          "scatterternary": [
           {
            "marker": {
             "colorbar": {
              "outlinewidth": 0,
              "ticks": ""
             }
            },
            "type": "scatterternary"
           }
          ],
          "surface": [
           {
            "colorbar": {
             "outlinewidth": 0,
             "ticks": ""
            },
            "colorscale": [
             [
              0,
              "#0d0887"
             ],
             [
              0.1111111111111111,
              "#46039f"
             ],
             [
              0.2222222222222222,
              "#7201a8"
             ],
             [
              0.3333333333333333,
              "#9c179e"
             ],
             [
              0.4444444444444444,
              "#bd3786"
             ],
             [
              0.5555555555555556,
              "#d8576b"
             ],
             [
              0.6666666666666666,
              "#ed7953"
             ],
             [
              0.7777777777777778,
              "#fb9f3a"
             ],
             [
              0.8888888888888888,
              "#fdca26"
             ],
             [
              1,
              "#f0f921"
             ]
            ],
            "type": "surface"
           }
          ],
          "table": [
           {
            "cells": {
             "fill": {
              "color": "#EBF0F8"
             },
             "line": {
              "color": "white"
             }
            },
            "header": {
             "fill": {
              "color": "#C8D4E3"
             },
             "line": {
              "color": "white"
             }
            },
            "type": "table"
           }
          ]
         },
         "layout": {
          "annotationdefaults": {
           "arrowcolor": "#2a3f5f",
           "arrowhead": 0,
           "arrowwidth": 1
          },
          "autotypenumbers": "strict",
          "coloraxis": {
           "colorbar": {
            "outlinewidth": 0,
            "ticks": ""
           }
          },
          "colorscale": {
           "diverging": [
            [
             0,
             "#8e0152"
            ],
            [
             0.1,
             "#c51b7d"
            ],
            [
             0.2,
             "#de77ae"
            ],
            [
             0.3,
             "#f1b6da"
            ],
            [
             0.4,
             "#fde0ef"
            ],
            [
             0.5,
             "#f7f7f7"
            ],
            [
             0.6,
             "#e6f5d0"
            ],
            [
             0.7,
             "#b8e186"
            ],
            [
             0.8,
             "#7fbc41"
            ],
            [
             0.9,
             "#4d9221"
            ],
            [
             1,
             "#276419"
            ]
           ],
           "sequential": [
            [
             0,
             "#0d0887"
            ],
            [
             0.1111111111111111,
             "#46039f"
            ],
            [
             0.2222222222222222,
             "#7201a8"
            ],
            [
             0.3333333333333333,
             "#9c179e"
            ],
            [
             0.4444444444444444,
             "#bd3786"
            ],
            [
             0.5555555555555556,
             "#d8576b"
            ],
            [
             0.6666666666666666,
             "#ed7953"
            ],
            [
             0.7777777777777778,
             "#fb9f3a"
            ],
            [
             0.8888888888888888,
             "#fdca26"
            ],
            [
             1,
             "#f0f921"
            ]
           ],
           "sequentialminus": [
            [
             0,
             "#0d0887"
            ],
            [
             0.1111111111111111,
             "#46039f"
            ],
            [
             0.2222222222222222,
             "#7201a8"
            ],
            [
             0.3333333333333333,
             "#9c179e"
            ],
            [
             0.4444444444444444,
             "#bd3786"
            ],
            [
             0.5555555555555556,
             "#d8576b"
            ],
            [
             0.6666666666666666,
             "#ed7953"
            ],
            [
             0.7777777777777778,
             "#fb9f3a"
            ],
            [
             0.8888888888888888,
             "#fdca26"
            ],
            [
             1,
             "#f0f921"
            ]
           ]
          },
          "colorway": [
           "#636efa",
           "#EF553B",
           "#00cc96",
           "#ab63fa",
           "#FFA15A",
           "#19d3f3",
           "#FF6692",
           "#B6E880",
           "#FF97FF",
           "#FECB52"
          ],
          "font": {
           "color": "#2a3f5f"
          },
          "geo": {
           "bgcolor": "white",
           "lakecolor": "white",
           "landcolor": "#E5ECF6",
           "showlakes": true,
           "showland": true,
           "subunitcolor": "white"
          },
          "hoverlabel": {
           "align": "left"
          },
          "hovermode": "closest",
          "mapbox": {
           "style": "light"
          },
          "paper_bgcolor": "white",
          "plot_bgcolor": "#E5ECF6",
          "polar": {
           "angularaxis": {
            "gridcolor": "white",
            "linecolor": "white",
            "ticks": ""
           },
           "bgcolor": "#E5ECF6",
           "radialaxis": {
            "gridcolor": "white",
            "linecolor": "white",
            "ticks": ""
           }
          },
          "scene": {
           "xaxis": {
            "backgroundcolor": "#E5ECF6",
            "gridcolor": "white",
            "gridwidth": 2,
            "linecolor": "white",
            "showbackground": true,
            "ticks": "",
            "zerolinecolor": "white"
           },
           "yaxis": {
            "backgroundcolor": "#E5ECF6",
            "gridcolor": "white",
            "gridwidth": 2,
            "linecolor": "white",
            "showbackground": true,
            "ticks": "",
            "zerolinecolor": "white"
           },
           "zaxis": {
            "backgroundcolor": "#E5ECF6",
            "gridcolor": "white",
            "gridwidth": 2,
            "linecolor": "white",
            "showbackground": true,
            "ticks": "",
            "zerolinecolor": "white"
           }
          },
          "shapedefaults": {
           "line": {
            "color": "#2a3f5f"
           }
          },
          "ternary": {
           "aaxis": {
            "gridcolor": "white",
            "linecolor": "white",
            "ticks": ""
           },
           "baxis": {
            "gridcolor": "white",
            "linecolor": "white",
            "ticks": ""
           },
           "bgcolor": "#E5ECF6",
           "caxis": {
            "gridcolor": "white",
            "linecolor": "white",
            "ticks": ""
           }
          },
          "title": {
           "x": 0.05
          },
          "xaxis": {
           "automargin": true,
           "gridcolor": "white",
           "linecolor": "white",
           "ticks": "",
           "title": {
            "standoff": 15
           },
           "zerolinecolor": "white",
           "zerolinewidth": 2
          },
          "yaxis": {
           "automargin": true,
           "gridcolor": "white",
           "linecolor": "white",
           "ticks": "",
           "title": {
            "standoff": 15
           },
           "zerolinecolor": "white",
           "zerolinewidth": 2
          }
         }
        },
        "title": {
         "text": "Visualizing Clusters in Two Dimensions Using T-SNE (perplexity=50)"
        },
        "xaxis": {
         "ticklen": 5,
         "title": {
          "text": "TC1"
         },
         "zeroline": false
        },
        "yaxis": {
         "ticklen": 5,
         "title": {
          "text": "TC2"
         },
         "zeroline": false
        }
       }
      },
      "text/html": [
       "<div>                            <div id=\"f7028b51-70a7-4b0e-8b36-e552aaadbfb0\" class=\"plotly-graph-div\" style=\"height:525px; width:100%;\"></div>            <script type=\"text/javascript\">                require([\"plotly\"], function(Plotly) {                    window.PLOTLYENV=window.PLOTLYENV || {};                                    if (document.getElementById(\"f7028b51-70a7-4b0e-8b36-e552aaadbfb0\")) {                    Plotly.newPlot(                        \"f7028b51-70a7-4b0e-8b36-e552aaadbfb0\",                        [{\"marker\":{\"color\":\"rgba(255, 128, 255, 0.8)\"},\"mode\":\"markers\",\"name\":\"Cluster 0\",\"x\":[-5.8993048667907715,-3.082573652267456,-0.44237080216407776,-1.2417443990707397,-4.992147922515869,-4.20668363571167,-1.5479682683944702,-1.0133136510849,-1.5813853740692139,-4.122983455657959,-2.643134355545044,-2.1816346645355225,-3.1160190105438232,-2.1478302478790283,-2.7928426265716553,-4.221612930297852,-3.1934654712677,-4.169419765472412,-3.6749658584594727,-2.3029282093048096,-1.7862462997436523,-3.6262691020965576,-3.7369537353515625,-1.6142584085464478,-4.7099761962890625,-4.072922229766846,-3.3294787406921387,-2.3054118156433105,-2.11244535446167,-2.674349546432495,-2.747580051422119,-3.1147701740264893,-4.900009632110596,-3.9899966716766357,-3.6766040325164795,-1.9283897876739502,-2.2459404468536377,-5.132495880126953,-3.8291690349578857,-4.575316905975342,-0.7807493209838867,-3.345278024673462,-2.7345926761627197,-3.213247537612915,-3.739082098007202,-2.671288013458252,-2.3619203567504883,-2.582634210586548,-1.3340702056884766,-4.091586112976074,-2.5237598419189453,-4.4073567390441895,-4.004046440124512,-3.545520067214966,-3.6071388721466064,-2.5710532665252686,-4.723520755767822,-4.761120319366455,-3.4193475246429443,-4.988004207611084,-4.148369312286377,-2.169177770614624,-4.039498805999756,-3.883314609527588,-2.0260303020477295,-3.1414096355438232,-2.3390777111053467],\"y\":[1.6402887105941772,1.5132263898849487,0.08200599998235703,1.320153832435608,-0.27751561999320984,-0.7777015566825867,-1.5883430242538452,1.5785439014434814,1.394960641860962,-1.2592179775238037,0.7709395885467529,2.0588836669921875,-1.8000699281692505,-1.0851856470108032,0.111704520881176,-0.7481521964073181,-0.08793094009160995,-1.2751508951187134,-1.0921518802642822,1.1775739192962646,-0.9338213205337524,-1.3724933862686157,-0.6034621000289917,1.3188625574111938,0.6527281999588013,0.07294178754091263,0.24726875126361847,-0.20514018833637238,2.4666714668273926,-0.6658804416656494,1.5345282554626465,2.5715487003326416,-0.8971802592277527,2.3944923877716064,-1.133711576461792,-0.01989920064806938,1.5128673315048218,0.7222948670387268,0.022778352722525597,0.27528324723243713,-0.35449841618537903,2.2080116271972656,-0.6198363900184631,-0.41089358925819397,-1.4537540674209595,1.802498459815979,-0.16858431696891785,0.9207003116607666,2.2445712089538574,1.0993202924728394,1.3412779569625854,-0.01581455208361149,2.5421581268310547,-0.13553084433078766,-0.2969949245452881,1.1556575298309326,-0.05401185154914856,0.10095071792602539,-0.2223646491765976,-0.6388439536094666,-0.5810821652412415,1.143899917602539,1.3890570402145386,1.2843654155731201,0.16480474174022675,2.0056447982788086,-1.4757483005523682],\"type\":\"scatter\"},{\"marker\":{\"color\":\"rgba(255, 128, 2, 0.8)\"},\"mode\":\"markers\",\"name\":\"Cluster 1\",\"x\":[0.260570228099823,2.3493897914886475,1.3567650318145752,1.6866860389709473,0.3294208347797394,0.018058018758893013,1.8765287399291992,0.06099516153335571,1.9291152954101562,1.4184647798538208,1.8355822563171387,0.41052451729774475,0.6414970755577087,0.7983442544937134,0.6061873435974121,2.138535976409912,0.815666675567627,0.7689405679702759,1.6898912191390991,2.3074493408203125,2.063542604446411,1.8742331266403198],\"y\":[0.18147006630897522,-0.23624563217163086,0.2245607078075409,0.5493166446685791,0.7952259182929993,-0.5277853012084961,-0.8585857152938843,-0.5691791772842407,-0.3371513783931732,0.3855178952217102,-0.7404839396476746,0.39391613006591797,0.6545656323432922,1.1559430360794067,0.9893800020217896,0.7871484756469727,-0.008706806227564812,-0.03445521369576454,-1.0989645719528198,-0.23208296298980713,-0.7525631189346313,-0.8144682049751282],\"type\":\"scatter\"},{\"marker\":{\"color\":\"rgba(0, 255, 200, 0.8)\"},\"mode\":\"markers\",\"name\":\"Cluster 2\",\"x\":[-7.207015037536621,-8.698064804077148,-7.198712348937988,-6.066840648651123,-7.518502712249756,-6.461801528930664,-6.27833890914917,-7.07344913482666,-7.961979389190674,-6.566975116729736,-5.201481819152832,-7.689368724822998,-5.192807674407959,-7.798593997955322,-7.550320625305176,-6.634429931640625,-6.049200534820557,-7.05655574798584,-8.726764678955078,-6.274646282196045,-4.512280464172363,-6.926661968231201,-6.837509632110596,-7.411218166351318,-7.045763969421387,-7.47088098526001,-6.645695209503174,-7.081274509429932,-8.667486190795898,-6.391584873199463,-7.033421993255615,-7.808656215667725,-7.653369903564453,-5.72074556350708,-7.782777309417725],\"y\":[-0.5969775319099426,-0.26883238554000854,-0.14746597409248352,-0.6959072947502136,0.16408772766590118,-1.0523637533187866,-0.05468187853693962,-0.46793490648269653,0.5562759637832642,-0.38094958662986755,-0.5155337452888489,-0.05317360535264015,-0.918962836265564,-1.5121592283248901,-0.8571149706840515,-0.08451927453279495,-0.204202339053154,-0.6675801873207092,-0.84749436378479,-0.20351561903953552,2.604994535446167,-1.4648165702819824,-1.2117290496826172,-1.1139124631881714,-0.5336785912513733,-0.3923134505748749,0.5753955245018005,0.6146296858787537,-0.3345605432987213,-0.23203922808170319,-1.08028244972229,-2.0621590614318848,-0.761967658996582,-0.19907847046852112,-0.5556919574737549],\"type\":\"scatter\"}],                        {\"template\":{\"data\":{\"barpolar\":[{\"marker\":{\"line\":{\"color\":\"#E5ECF6\",\"width\":0.5},\"pattern\":{\"fillmode\":\"overlay\",\"size\":10,\"solidity\":0.2}},\"type\":\"barpolar\"}],\"bar\":[{\"error_x\":{\"color\":\"#2a3f5f\"},\"error_y\":{\"color\":\"#2a3f5f\"},\"marker\":{\"line\":{\"color\":\"#E5ECF6\",\"width\":0.5},\"pattern\":{\"fillmode\":\"overlay\",\"size\":10,\"solidity\":0.2}},\"type\":\"bar\"}],\"carpet\":[{\"aaxis\":{\"endlinecolor\":\"#2a3f5f\",\"gridcolor\":\"white\",\"linecolor\":\"white\",\"minorgridcolor\":\"white\",\"startlinecolor\":\"#2a3f5f\"},\"baxis\":{\"endlinecolor\":\"#2a3f5f\",\"gridcolor\":\"white\",\"linecolor\":\"white\",\"minorgridcolor\":\"white\",\"startlinecolor\":\"#2a3f5f\"},\"type\":\"carpet\"}],\"choropleth\":[{\"colorbar\":{\"outlinewidth\":0,\"ticks\":\"\"},\"type\":\"choropleth\"}],\"contourcarpet\":[{\"colorbar\":{\"outlinewidth\":0,\"ticks\":\"\"},\"type\":\"contourcarpet\"}],\"contour\":[{\"colorbar\":{\"outlinewidth\":0,\"ticks\":\"\"},\"colorscale\":[[0.0,\"#0d0887\"],[0.1111111111111111,\"#46039f\"],[0.2222222222222222,\"#7201a8\"],[0.3333333333333333,\"#9c179e\"],[0.4444444444444444,\"#bd3786\"],[0.5555555555555556,\"#d8576b\"],[0.6666666666666666,\"#ed7953\"],[0.7777777777777778,\"#fb9f3a\"],[0.8888888888888888,\"#fdca26\"],[1.0,\"#f0f921\"]],\"type\":\"contour\"}],\"heatmapgl\":[{\"colorbar\":{\"outlinewidth\":0,\"ticks\":\"\"},\"colorscale\":[[0.0,\"#0d0887\"],[0.1111111111111111,\"#46039f\"],[0.2222222222222222,\"#7201a8\"],[0.3333333333333333,\"#9c179e\"],[0.4444444444444444,\"#bd3786\"],[0.5555555555555556,\"#d8576b\"],[0.6666666666666666,\"#ed7953\"],[0.7777777777777778,\"#fb9f3a\"],[0.8888888888888888,\"#fdca26\"],[1.0,\"#f0f921\"]],\"type\":\"heatmapgl\"}],\"heatmap\":[{\"colorbar\":{\"outlinewidth\":0,\"ticks\":\"\"},\"colorscale\":[[0.0,\"#0d0887\"],[0.1111111111111111,\"#46039f\"],[0.2222222222222222,\"#7201a8\"],[0.3333333333333333,\"#9c179e\"],[0.4444444444444444,\"#bd3786\"],[0.5555555555555556,\"#d8576b\"],[0.6666666666666666,\"#ed7953\"],[0.7777777777777778,\"#fb9f3a\"],[0.8888888888888888,\"#fdca26\"],[1.0,\"#f0f921\"]],\"type\":\"heatmap\"}],\"histogram2dcontour\":[{\"colorbar\":{\"outlinewidth\":0,\"ticks\":\"\"},\"colorscale\":[[0.0,\"#0d0887\"],[0.1111111111111111,\"#46039f\"],[0.2222222222222222,\"#7201a8\"],[0.3333333333333333,\"#9c179e\"],[0.4444444444444444,\"#bd3786\"],[0.5555555555555556,\"#d8576b\"],[0.6666666666666666,\"#ed7953\"],[0.7777777777777778,\"#fb9f3a\"],[0.8888888888888888,\"#fdca26\"],[1.0,\"#f0f921\"]],\"type\":\"histogram2dcontour\"}],\"histogram2d\":[{\"colorbar\":{\"outlinewidth\":0,\"ticks\":\"\"},\"colorscale\":[[0.0,\"#0d0887\"],[0.1111111111111111,\"#46039f\"],[0.2222222222222222,\"#7201a8\"],[0.3333333333333333,\"#9c179e\"],[0.4444444444444444,\"#bd3786\"],[0.5555555555555556,\"#d8576b\"],[0.6666666666666666,\"#ed7953\"],[0.7777777777777778,\"#fb9f3a\"],[0.8888888888888888,\"#fdca26\"],[1.0,\"#f0f921\"]],\"type\":\"histogram2d\"}],\"histogram\":[{\"marker\":{\"pattern\":{\"fillmode\":\"overlay\",\"size\":10,\"solidity\":0.2}},\"type\":\"histogram\"}],\"mesh3d\":[{\"colorbar\":{\"outlinewidth\":0,\"ticks\":\"\"},\"type\":\"mesh3d\"}],\"parcoords\":[{\"line\":{\"colorbar\":{\"outlinewidth\":0,\"ticks\":\"\"}},\"type\":\"parcoords\"}],\"pie\":[{\"automargin\":true,\"type\":\"pie\"}],\"scatter3d\":[{\"line\":{\"colorbar\":{\"outlinewidth\":0,\"ticks\":\"\"}},\"marker\":{\"colorbar\":{\"outlinewidth\":0,\"ticks\":\"\"}},\"type\":\"scatter3d\"}],\"scattercarpet\":[{\"marker\":{\"colorbar\":{\"outlinewidth\":0,\"ticks\":\"\"}},\"type\":\"scattercarpet\"}],\"scattergeo\":[{\"marker\":{\"colorbar\":{\"outlinewidth\":0,\"ticks\":\"\"}},\"type\":\"scattergeo\"}],\"scattergl\":[{\"marker\":{\"colorbar\":{\"outlinewidth\":0,\"ticks\":\"\"}},\"type\":\"scattergl\"}],\"scattermapbox\":[{\"marker\":{\"colorbar\":{\"outlinewidth\":0,\"ticks\":\"\"}},\"type\":\"scattermapbox\"}],\"scatterpolargl\":[{\"marker\":{\"colorbar\":{\"outlinewidth\":0,\"ticks\":\"\"}},\"type\":\"scatterpolargl\"}],\"scatterpolar\":[{\"marker\":{\"colorbar\":{\"outlinewidth\":0,\"ticks\":\"\"}},\"type\":\"scatterpolar\"}],\"scatter\":[{\"fillpattern\":{\"fillmode\":\"overlay\",\"size\":10,\"solidity\":0.2},\"type\":\"scatter\"}],\"scatterternary\":[{\"marker\":{\"colorbar\":{\"outlinewidth\":0,\"ticks\":\"\"}},\"type\":\"scatterternary\"}],\"surface\":[{\"colorbar\":{\"outlinewidth\":0,\"ticks\":\"\"},\"colorscale\":[[0.0,\"#0d0887\"],[0.1111111111111111,\"#46039f\"],[0.2222222222222222,\"#7201a8\"],[0.3333333333333333,\"#9c179e\"],[0.4444444444444444,\"#bd3786\"],[0.5555555555555556,\"#d8576b\"],[0.6666666666666666,\"#ed7953\"],[0.7777777777777778,\"#fb9f3a\"],[0.8888888888888888,\"#fdca26\"],[1.0,\"#f0f921\"]],\"type\":\"surface\"}],\"table\":[{\"cells\":{\"fill\":{\"color\":\"#EBF0F8\"},\"line\":{\"color\":\"white\"}},\"header\":{\"fill\":{\"color\":\"#C8D4E3\"},\"line\":{\"color\":\"white\"}},\"type\":\"table\"}]},\"layout\":{\"annotationdefaults\":{\"arrowcolor\":\"#2a3f5f\",\"arrowhead\":0,\"arrowwidth\":1},\"autotypenumbers\":\"strict\",\"coloraxis\":{\"colorbar\":{\"outlinewidth\":0,\"ticks\":\"\"}},\"colorscale\":{\"diverging\":[[0,\"#8e0152\"],[0.1,\"#c51b7d\"],[0.2,\"#de77ae\"],[0.3,\"#f1b6da\"],[0.4,\"#fde0ef\"],[0.5,\"#f7f7f7\"],[0.6,\"#e6f5d0\"],[0.7,\"#b8e186\"],[0.8,\"#7fbc41\"],[0.9,\"#4d9221\"],[1,\"#276419\"]],\"sequential\":[[0.0,\"#0d0887\"],[0.1111111111111111,\"#46039f\"],[0.2222222222222222,\"#7201a8\"],[0.3333333333333333,\"#9c179e\"],[0.4444444444444444,\"#bd3786\"],[0.5555555555555556,\"#d8576b\"],[0.6666666666666666,\"#ed7953\"],[0.7777777777777778,\"#fb9f3a\"],[0.8888888888888888,\"#fdca26\"],[1.0,\"#f0f921\"]],\"sequentialminus\":[[0.0,\"#0d0887\"],[0.1111111111111111,\"#46039f\"],[0.2222222222222222,\"#7201a8\"],[0.3333333333333333,\"#9c179e\"],[0.4444444444444444,\"#bd3786\"],[0.5555555555555556,\"#d8576b\"],[0.6666666666666666,\"#ed7953\"],[0.7777777777777778,\"#fb9f3a\"],[0.8888888888888888,\"#fdca26\"],[1.0,\"#f0f921\"]]},\"colorway\":[\"#636efa\",\"#EF553B\",\"#00cc96\",\"#ab63fa\",\"#FFA15A\",\"#19d3f3\",\"#FF6692\",\"#B6E880\",\"#FF97FF\",\"#FECB52\"],\"font\":{\"color\":\"#2a3f5f\"},\"geo\":{\"bgcolor\":\"white\",\"lakecolor\":\"white\",\"landcolor\":\"#E5ECF6\",\"showlakes\":true,\"showland\":true,\"subunitcolor\":\"white\"},\"hoverlabel\":{\"align\":\"left\"},\"hovermode\":\"closest\",\"mapbox\":{\"style\":\"light\"},\"paper_bgcolor\":\"white\",\"plot_bgcolor\":\"#E5ECF6\",\"polar\":{\"angularaxis\":{\"gridcolor\":\"white\",\"linecolor\":\"white\",\"ticks\":\"\"},\"bgcolor\":\"#E5ECF6\",\"radialaxis\":{\"gridcolor\":\"white\",\"linecolor\":\"white\",\"ticks\":\"\"}},\"scene\":{\"xaxis\":{\"backgroundcolor\":\"#E5ECF6\",\"gridcolor\":\"white\",\"gridwidth\":2,\"linecolor\":\"white\",\"showbackground\":true,\"ticks\":\"\",\"zerolinecolor\":\"white\"},\"yaxis\":{\"backgroundcolor\":\"#E5ECF6\",\"gridcolor\":\"white\",\"gridwidth\":2,\"linecolor\":\"white\",\"showbackground\":true,\"ticks\":\"\",\"zerolinecolor\":\"white\"},\"zaxis\":{\"backgroundcolor\":\"#E5ECF6\",\"gridcolor\":\"white\",\"gridwidth\":2,\"linecolor\":\"white\",\"showbackground\":true,\"ticks\":\"\",\"zerolinecolor\":\"white\"}},\"shapedefaults\":{\"line\":{\"color\":\"#2a3f5f\"}},\"ternary\":{\"aaxis\":{\"gridcolor\":\"white\",\"linecolor\":\"white\",\"ticks\":\"\"},\"baxis\":{\"gridcolor\":\"white\",\"linecolor\":\"white\",\"ticks\":\"\"},\"bgcolor\":\"#E5ECF6\",\"caxis\":{\"gridcolor\":\"white\",\"linecolor\":\"white\",\"ticks\":\"\"}},\"title\":{\"x\":0.05},\"xaxis\":{\"automargin\":true,\"gridcolor\":\"white\",\"linecolor\":\"white\",\"ticks\":\"\",\"title\":{\"standoff\":15},\"zerolinecolor\":\"white\",\"zerolinewidth\":2},\"yaxis\":{\"automargin\":true,\"gridcolor\":\"white\",\"linecolor\":\"white\",\"ticks\":\"\",\"title\":{\"standoff\":15},\"zerolinecolor\":\"white\",\"zerolinewidth\":2}}},\"title\":{\"text\":\"Visualizing Clusters in Two Dimensions Using T-SNE (perplexity=50)\"},\"xaxis\":{\"ticklen\":5,\"title\":{\"text\":\"TC1\"},\"zeroline\":false},\"yaxis\":{\"ticklen\":5,\"title\":{\"text\":\"TC2\"},\"zeroline\":false}},                        {\"responsive\": true}                    ).then(function(){\n",
       "                            \n",
       "var gd = document.getElementById('f7028b51-70a7-4b0e-8b36-e552aaadbfb0');\n",
       "var x = new MutationObserver(function (mutations, observer) {{\n",
       "        var display = window.getComputedStyle(gd).display;\n",
       "        if (!display || display === 'none') {{\n",
       "            console.log([gd, 'removed!']);\n",
       "            Plotly.purge(gd);\n",
       "            observer.disconnect();\n",
       "        }}\n",
       "}});\n",
       "\n",
       "// Listen for the removal of the full notebook cells\n",
       "var notebookContainer = gd.closest('#notebook-container');\n",
       "if (notebookContainer) {{\n",
       "    x.observe(notebookContainer, {childList: true});\n",
       "}}\n",
       "\n",
       "// Listen for the clearing of the current output cell\n",
       "var outputEl = gd.closest('.output');\n",
       "if (outputEl) {{\n",
       "    x.observe(outputEl, {childList: true});\n",
       "}}\n",
       "\n",
       "                        })                };                });            </script>        </div>"
      ]
     },
     "metadata": {},
     "output_type": "display_data"
    }
   ],
   "source": [
    "#Instructions for building the 2-D plot\n",
    "\n",
    "#trace1 is for 'Cluster 0'\n",
    "trace1 = go.Scatter(\n",
    "                    x = cluster0[\"TC1_2d\"],\n",
    "                    y = cluster0[\"TC2_2d\"],\n",
    "                    mode = \"markers\",\n",
    "                    name = \"Cluster 0\",\n",
    "                    marker = dict(color = 'rgba(255, 128, 255, 0.8)'),\n",
    "                    text = None)\n",
    "\n",
    "#trace2 is for 'Cluster 1'\n",
    "trace2 = go.Scatter(\n",
    "                    x = cluster1[\"TC1_2d\"],\n",
    "                    y = cluster1[\"TC2_2d\"],\n",
    "                    mode = \"markers\",\n",
    "                    name = \"Cluster 1\",\n",
    "                    marker = dict(color = 'rgba(255, 128, 2, 0.8)'),\n",
    "                    text = None)\n",
    "\n",
    "#trace3 is for 'Cluster 2'\n",
    "trace3 = go.Scatter(\n",
    "                    x = cluster2[\"TC1_2d\"],\n",
    "                    y = cluster2[\"TC2_2d\"],\n",
    "                    mode = \"markers\",\n",
    "                    name = \"Cluster 2\",\n",
    "                    marker = dict(color = 'rgba(0, 255, 200, 0.8)'),\n",
    "                    text = None)\n",
    "\n",
    "data = [trace1, trace2, trace3]\n",
    "\n",
    "title = \"Visualizing Clusters in Two Dimensions Using T-SNE (perplexity=\" + str(perplexity) + \")\"\n",
    "\n",
    "layout = dict(title = title,\n",
    "              xaxis= dict(title= 'TC1',ticklen= 5,zeroline= False),\n",
    "              yaxis= dict(title= 'TC2',ticklen= 5,zeroline= False)\n",
    "             )\n",
    "\n",
    "fig = dict(data = data, layout = layout)\n",
    "\n",
    "iplot(fig)"
   ]
  },
  {
   "cell_type": "code",
   "execution_count": 245,
   "metadata": {},
   "outputs": [
    {
     "data": {
      "application/vnd.plotly.v1+json": {
       "config": {
        "linkText": "Export to plot.ly",
        "plotlyServerURL": "https://plot.ly",
        "showLink": false
       },
       "data": [
        {
         "marker": {
          "color": "rgba(255, 128, 255, 0.8)"
         },
         "mode": "markers",
         "name": "Cluster 0",
         "type": "scatter3d",
         "x": [
          -187.2921142578125,
          79.30619812011719,
          -204.8904266357422,
          -23.554454803466797,
          -73.73931884765625,
          -37.963233947753906,
          1.0926038026809692,
          -129.93333435058594,
          93.57073974609375,
          -16.882362365722656,
          -162.13040161132812,
          89.38630676269531,
          25.060152053833008,
          63.715850830078125,
          21.32588768005371,
          25.71341323852539,
          34.929500579833984,
          -49.98904800415039,
          -71.92476654052734,
          146.51364135742188,
          -110.20863342285156,
          25.246091842651367,
          -68.75486755371094,
          11.902443885803223,
          -63.74835205078125,
          9.964943885803223,
          95.67317962646484,
          71.8945083618164,
          -38.07256317138672,
          81.03575897216797,
          -42.55498123168945,
          30.6622257232666,
          -41.52513885498047,
          -103.14315032958984,
          -159.30178833007812,
          -1.0101264715194702,
          -144.3543243408203,
          76.85977935791016,
          101.40634155273438,
          -82.13299560546875,
          -91.74920654296875,
          -30.896949768066406,
          153.74891662597656,
          111.78327941894531,
          34.066192626953125,
          44.7546272277832,
          88.71892547607422,
          92.24955749511719,
          5.539441108703613,
          -190.78358459472656,
          -70.73479461669922,
          10.112735748291016,
          -43.14582443237305,
          -60.454132080078125,
          -89.59436798095703,
          20.390928268432617,
          -141.26388549804688,
          35.75603485107422,
          68.84126281738281,
          -2.040099859237671,
          -58.779014587402344,
          113.96525573730469,
          88.07064819335938,
          47.363075256347656,
          62.67758560180664,
          -102.45369720458984,
          -62.254486083984375
         ],
         "y": [
          -103.3397445678711,
          -74.67658996582031,
          -2.569054126739502,
          19.30604362487793,
          148.01026916503906,
          -149.82742309570312,
          76.85336303710938,
          106.57740783691406,
          161.7872314453125,
          -11.677420616149902,
          -197.31568908691406,
          53.13947296142578,
          43.1180305480957,
          -34.85409164428711,
          -184.46250915527344,
          17.358600616455078,
          108.12425994873047,
          205.99313354492188,
          -94.03844451904297,
          -118.82994079589844,
          100.47174072265625,
          178.3173828125,
          103.16645812988281,
          -90.05757141113281,
          7.266306400299072,
          -36.341514587402344,
          -12.876880645751953,
          4.406582832336426,
          -33.39497756958008,
          -123.0827865600586,
          -41.99750900268555,
          29.764795303344727,
          -139.10203552246094,
          -161.78701782226562,
          -8.221489906311035,
          36.851200103759766,
          -43.592559814453125,
          -49.58289337158203,
          166.3494873046875,
          -78.56119537353516,
          -10.048144340515137,
          -94.9421157836914,
          27.509492874145508,
          -76.84080505371094,
          162.30091857910156,
          107.22122955322266,
          13.547222137451172,
          -186.3183135986328,
          146.3881378173828,
          67.27306365966797,
          41.30607604980469,
          -87.11144256591797,
          85.00885772705078,
          42.49466323852539,
          163.82652282714844,
          75.00968170166016,
          -108.8796615600586,
          -154.38043212890625,
          67.54105377197266,
          109.86516571044922,
          45.52339553833008,
          92.80892944335938,
          54.790855407714844,
          119.4745101928711,
          -150.3604278564453,
          85.29080200195312,
          80.58130645751953
         ],
         "z": [
          26.183998107910156,
          24.841554641723633,
          6.299160957336426,
          96.01729583740234,
          114.55281066894531,
          86.90115356445312,
          7.386089324951172,
          -60.324485778808594,
          -37.33747482299805,
          31.237607955932617,
          1.6218761205673218,
          84.43311309814453,
          -196.1943817138672,
          -103.24906921386719,
          -81.49314880371094,
          -138.76669311523438,
          -26.13848114013672,
          -10.19465446472168,
          83.88157653808594,
          74.4124984741211,
          68.28617858886719,
          11.68499755859375,
          13.891499519348145,
          -102.25668334960938,
          -162.84432983398438,
          116.93280792236328,
          -172.6269989013672,
          123.11035919189453,
          184.64300537109375,
          79.03133392333984,
          77.9059066772461,
          52.74858093261719,
          -125.32427978515625,
          -60.896820068359375,
          -63.478004455566406,
          151.24632263183594,
          -8.643648147583008,
          188.0395965576172,
          35.52632522583008,
          -168.32730102539062,
          -93.0818862915039,
          144.61767578125,
          131.1644744873047,
          -138.8749542236328,
          -85.42916870117188,
          41.55641174316406,
          -64.03633117675781,
          42.68815612792969,
          86.67291259765625,
          -17.576900482177734,
          183.92137145996094,
          80.7601547241211,
          86.84542846679688,
          33.892364501953125,
          -53.45947265625,
          101.5506820678711,
          -30.414411544799805,
          123.86361694335938,
          164.07518005371094,
          154.10777282714844,
          -102.63652038574219,
          8.522390365600586,
          -129.9311981201172,
          -145.4012451171875,
          -138.9921112060547,
          -153.61346435546875,
          -49.5898551940918
         ]
        },
        {
         "marker": {
          "color": "rgba(255, 128, 2, 0.8)"
         },
         "mode": "markers",
         "name": "Cluster 1",
         "type": "scatter3d",
         "x": [
          87.34613037109375,
          146.3777618408203,
          -132.60182189941406,
          -145.99093627929688,
          32.927608489990234,
          -17.980419158935547,
          40.72246170043945,
          -119.86729431152344,
          -92.88861846923828,
          -178.1073455810547,
          -115.70480346679688,
          -26.465566635131836,
          29.4200496673584,
          -28.371257781982422,
          -152.412841796875,
          -150.31117248535156,
          -114.72119140625,
          -26.1207218170166,
          -82.09626770019531,
          -178.88754272460938,
          -118.14514923095703,
          -152.6720733642578
         ],
         "y": [
          128.35528564453125,
          -127.99079132080078,
          18.695363998413086,
          -84.21417236328125,
          1.8466333150863647,
          -43.09027862548828,
          -55.04688262939453,
          47.6317138671875,
          13.52978229522705,
          72.59661102294922,
          43.797935485839844,
          25.725751876831055,
          -0.05230644345283508,
          78.59794616699219,
          46.83808898925781,
          135.9398193359375,
          -30.69598388671875,
          134.39013671875,
          -5.308585166931152,
          -2.380544662475586,
          -31.42915153503418,
          -61.28727722167969
         ],
         "z": [
          106.49465942382812,
          -65.21287536621094,
          38.20037078857422,
          87.27011108398438,
          -14.716695785522461,
          -36.57773971557617,
          -39.71699905395508,
          127.4333267211914,
          101.27130889892578,
          77.10173034667969,
          -24.925010681152344,
          -33.77298355102539,
          209.33802795410156,
          -160.52635192871094,
          -107.44918060302734,
          12.447848320007324,
          140.2915496826172,
          -35.79884719848633,
          -14.320510864257812,
          89.24357604980469,
          56.36405563354492,
          -113.58737182617188
         ]
        },
        {
         "marker": {
          "color": "rgba(0, 255, 200, 0.8)"
         },
         "mode": "markers",
         "name": "Cluster 2",
         "type": "scatter3d",
         "x": [
          144.93507385253906,
          -21.967605590820312,
          49.13344955444336,
          180.8297119140625,
          93.76156616210938,
          -41.15794372558594,
          40.37920379638672,
          58.782196044921875,
          12.96788215637207,
          -12.5631685256958,
          160.45501708984375,
          13.764883041381836,
          143.04800415039062,
          77.47238159179688,
          70.2376937866211,
          -2.066464424133301,
          -42.14524841308594,
          56.883209228515625,
          28.135923385620117,
          -31.14629364013672,
          146.64561462402344,
          27.588361740112305,
          139.66497802734375,
          146.87254333496094,
          -46.76466751098633,
          189.14906311035156,
          184.41278076171875,
          95.07701873779297,
          119.37818145751953,
          10.578731536865234,
          -80.931884765625,
          -50.33527374267578,
          -59.734928131103516,
          165.51361083984375,
          109.24027252197266
         ],
         "y": [
          -92.54964447021484,
          114.6615219116211,
          -31.746374130249023,
          37.77890396118164,
          80.38079071044922,
          -119.78752136230469,
          -80.79034423828125,
          58.60877227783203,
          -144.32847595214844,
          -36.905982971191406,
          107.02134704589844,
          -118.97110748291016,
          -62.28002166748047,
          -107.78099060058594,
          -146.62904357910156,
          -15.353065490722656,
          159.095458984375,
          -74.81982421875,
          51.7140007019043,
          -175.87794494628906,
          39.32010269165039,
          -207.3841094970703,
          16.72692108154297,
          -27.057498931884766,
          -61.29426574707031,
          86.03084564208984,
          -43.26487731933594,
          -2.794006586074829,
          -34.66527557373047,
          -76.7928466796875,
          -72.40766906738281,
          -129.9951934814453,
          -68.90066528320312,
          -20.561941146850586,
          -49.549930572509766
         ],
         "z": [
          4.807835578918457,
          -103.1215591430664,
          58.85753631591797,
          -84.67743682861328,
          -66.94198608398438,
          -56.35799026489258,
          -167.96241760253906,
          -10.882092475891113,
          30.699127197265625,
          -168.31179809570312,
          -65.88052368164062,
          -31.832189559936523,
          135.64976501464844,
          -73.63487243652344,
          -13.072423934936523,
          -91.77429962158203,
          39.5898551940918,
          125.34711456298828,
          -79.1517562866211,
          -22.515979766845703,
          47.043792724609375,
          -0.15581707656383514,
          -20.352100372314453,
          -96.37918853759766,
          -107.21742248535156,
          -11.455612182617188,
          -37.058624267578125,
          21.57990074157715,
          71.2428970336914,
          17.24938201904297,
          -51.76374053955078,
          12.798295974731445,
          14.518863677978516,
          27.057743072509766,
          -35.32586669921875
         ]
        }
       ],
       "layout": {
        "template": {
         "data": {
          "bar": [
           {
            "error_x": {
             "color": "#2a3f5f"
            },
            "error_y": {
             "color": "#2a3f5f"
            },
            "marker": {
             "line": {
              "color": "#E5ECF6",
              "width": 0.5
             },
             "pattern": {
              "fillmode": "overlay",
              "size": 10,
              "solidity": 0.2
             }
            },
            "type": "bar"
           }
          ],
          "barpolar": [
           {
            "marker": {
             "line": {
              "color": "#E5ECF6",
              "width": 0.5
             },
             "pattern": {
              "fillmode": "overlay",
              "size": 10,
              "solidity": 0.2
             }
            },
            "type": "barpolar"
           }
          ],
          "carpet": [
           {
            "aaxis": {
             "endlinecolor": "#2a3f5f",
             "gridcolor": "white",
             "linecolor": "white",
             "minorgridcolor": "white",
             "startlinecolor": "#2a3f5f"
            },
            "baxis": {
             "endlinecolor": "#2a3f5f",
             "gridcolor": "white",
             "linecolor": "white",
             "minorgridcolor": "white",
             "startlinecolor": "#2a3f5f"
            },
            "type": "carpet"
           }
          ],
          "choropleth": [
           {
            "colorbar": {
             "outlinewidth": 0,
             "ticks": ""
            },
            "type": "choropleth"
           }
          ],
          "contour": [
           {
            "colorbar": {
             "outlinewidth": 0,
             "ticks": ""
            },
            "colorscale": [
             [
              0,
              "#0d0887"
             ],
             [
              0.1111111111111111,
              "#46039f"
             ],
             [
              0.2222222222222222,
              "#7201a8"
             ],
             [
              0.3333333333333333,
              "#9c179e"
             ],
             [
              0.4444444444444444,
              "#bd3786"
             ],
             [
              0.5555555555555556,
              "#d8576b"
             ],
             [
              0.6666666666666666,
              "#ed7953"
             ],
             [
              0.7777777777777778,
              "#fb9f3a"
             ],
             [
              0.8888888888888888,
              "#fdca26"
             ],
             [
              1,
              "#f0f921"
             ]
            ],
            "type": "contour"
           }
          ],
          "contourcarpet": [
           {
            "colorbar": {
             "outlinewidth": 0,
             "ticks": ""
            },
            "type": "contourcarpet"
           }
          ],
          "heatmap": [
           {
            "colorbar": {
             "outlinewidth": 0,
             "ticks": ""
            },
            "colorscale": [
             [
              0,
              "#0d0887"
             ],
             [
              0.1111111111111111,
              "#46039f"
             ],
             [
              0.2222222222222222,
              "#7201a8"
             ],
             [
              0.3333333333333333,
              "#9c179e"
             ],
             [
              0.4444444444444444,
              "#bd3786"
             ],
             [
              0.5555555555555556,
              "#d8576b"
             ],
             [
              0.6666666666666666,
              "#ed7953"
             ],
             [
              0.7777777777777778,
              "#fb9f3a"
             ],
             [
              0.8888888888888888,
              "#fdca26"
             ],
             [
              1,
              "#f0f921"
             ]
            ],
            "type": "heatmap"
           }
          ],
          "heatmapgl": [
           {
            "colorbar": {
             "outlinewidth": 0,
             "ticks": ""
            },
            "colorscale": [
             [
              0,
              "#0d0887"
             ],
             [
              0.1111111111111111,
              "#46039f"
             ],
             [
              0.2222222222222222,
              "#7201a8"
             ],
             [
              0.3333333333333333,
              "#9c179e"
             ],
             [
              0.4444444444444444,
              "#bd3786"
             ],
             [
              0.5555555555555556,
              "#d8576b"
             ],
             [
              0.6666666666666666,
              "#ed7953"
             ],
             [
              0.7777777777777778,
              "#fb9f3a"
             ],
             [
              0.8888888888888888,
              "#fdca26"
             ],
             [
              1,
              "#f0f921"
             ]
            ],
            "type": "heatmapgl"
           }
          ],
          "histogram": [
           {
            "marker": {
             "pattern": {
              "fillmode": "overlay",
              "size": 10,
              "solidity": 0.2
             }
            },
            "type": "histogram"
           }
          ],
          "histogram2d": [
           {
            "colorbar": {
             "outlinewidth": 0,
             "ticks": ""
            },
            "colorscale": [
             [
              0,
              "#0d0887"
             ],
             [
              0.1111111111111111,
              "#46039f"
             ],
             [
              0.2222222222222222,
              "#7201a8"
             ],
             [
              0.3333333333333333,
              "#9c179e"
             ],
             [
              0.4444444444444444,
              "#bd3786"
             ],
             [
              0.5555555555555556,
              "#d8576b"
             ],
             [
              0.6666666666666666,
              "#ed7953"
             ],
             [
              0.7777777777777778,
              "#fb9f3a"
             ],
             [
              0.8888888888888888,
              "#fdca26"
             ],
             [
              1,
              "#f0f921"
             ]
            ],
            "type": "histogram2d"
           }
          ],
          "histogram2dcontour": [
           {
            "colorbar": {
             "outlinewidth": 0,
             "ticks": ""
            },
            "colorscale": [
             [
              0,
              "#0d0887"
             ],
             [
              0.1111111111111111,
              "#46039f"
             ],
             [
              0.2222222222222222,
              "#7201a8"
             ],
             [
              0.3333333333333333,
              "#9c179e"
             ],
             [
              0.4444444444444444,
              "#bd3786"
             ],
             [
              0.5555555555555556,
              "#d8576b"
             ],
             [
              0.6666666666666666,
              "#ed7953"
             ],
             [
              0.7777777777777778,
              "#fb9f3a"
             ],
             [
              0.8888888888888888,
              "#fdca26"
             ],
             [
              1,
              "#f0f921"
             ]
            ],
            "type": "histogram2dcontour"
           }
          ],
          "mesh3d": [
           {
            "colorbar": {
             "outlinewidth": 0,
             "ticks": ""
            },
            "type": "mesh3d"
           }
          ],
          "parcoords": [
           {
            "line": {
             "colorbar": {
              "outlinewidth": 0,
              "ticks": ""
             }
            },
            "type": "parcoords"
           }
          ],
          "pie": [
           {
            "automargin": true,
            "type": "pie"
           }
          ],
          "scatter": [
           {
            "fillpattern": {
             "fillmode": "overlay",
             "size": 10,
             "solidity": 0.2
            },
            "type": "scatter"
           }
          ],
          "scatter3d": [
           {
            "line": {
             "colorbar": {
              "outlinewidth": 0,
              "ticks": ""
             }
            },
            "marker": {
             "colorbar": {
              "outlinewidth": 0,
              "ticks": ""
             }
            },
            "type": "scatter3d"
           }
          ],
          "scattercarpet": [
           {
            "marker": {
             "colorbar": {
              "outlinewidth": 0,
              "ticks": ""
             }
            },
            "type": "scattercarpet"
           }
          ],
          "scattergeo": [
           {
            "marker": {
             "colorbar": {
              "outlinewidth": 0,
              "ticks": ""
             }
            },
            "type": "scattergeo"
           }
          ],
          "scattergl": [
           {
            "marker": {
             "colorbar": {
              "outlinewidth": 0,
              "ticks": ""
             }
            },
            "type": "scattergl"
           }
          ],
          "scattermapbox": [
           {
            "marker": {
             "colorbar": {
              "outlinewidth": 0,
              "ticks": ""
             }
            },
            "type": "scattermapbox"
           }
          ],
          "scatterpolar": [
           {
            "marker": {
             "colorbar": {
              "outlinewidth": 0,
              "ticks": ""
             }
            },
            "type": "scatterpolar"
           }
          ],
          "scatterpolargl": [
           {
            "marker": {
             "colorbar": {
              "outlinewidth": 0,
              "ticks": ""
             }
            },
            "type": "scatterpolargl"
           }
          ],
          "scatterternary": [
           {
            "marker": {
             "colorbar": {
              "outlinewidth": 0,
              "ticks": ""
             }
            },
            "type": "scatterternary"
           }
          ],
          "surface": [
           {
            "colorbar": {
             "outlinewidth": 0,
             "ticks": ""
            },
            "colorscale": [
             [
              0,
              "#0d0887"
             ],
             [
              0.1111111111111111,
              "#46039f"
             ],
             [
              0.2222222222222222,
              "#7201a8"
             ],
             [
              0.3333333333333333,
              "#9c179e"
             ],
             [
              0.4444444444444444,
              "#bd3786"
             ],
             [
              0.5555555555555556,
              "#d8576b"
             ],
             [
              0.6666666666666666,
              "#ed7953"
             ],
             [
              0.7777777777777778,
              "#fb9f3a"
             ],
             [
              0.8888888888888888,
              "#fdca26"
             ],
             [
              1,
              "#f0f921"
             ]
            ],
            "type": "surface"
           }
          ],
          "table": [
           {
            "cells": {
             "fill": {
              "color": "#EBF0F8"
             },
             "line": {
              "color": "white"
             }
            },
            "header": {
             "fill": {
              "color": "#C8D4E3"
             },
             "line": {
              "color": "white"
             }
            },
            "type": "table"
           }
          ]
         },
         "layout": {
          "annotationdefaults": {
           "arrowcolor": "#2a3f5f",
           "arrowhead": 0,
           "arrowwidth": 1
          },
          "autotypenumbers": "strict",
          "coloraxis": {
           "colorbar": {
            "outlinewidth": 0,
            "ticks": ""
           }
          },
          "colorscale": {
           "diverging": [
            [
             0,
             "#8e0152"
            ],
            [
             0.1,
             "#c51b7d"
            ],
            [
             0.2,
             "#de77ae"
            ],
            [
             0.3,
             "#f1b6da"
            ],
            [
             0.4,
             "#fde0ef"
            ],
            [
             0.5,
             "#f7f7f7"
            ],
            [
             0.6,
             "#e6f5d0"
            ],
            [
             0.7,
             "#b8e186"
            ],
            [
             0.8,
             "#7fbc41"
            ],
            [
             0.9,
             "#4d9221"
            ],
            [
             1,
             "#276419"
            ]
           ],
           "sequential": [
            [
             0,
             "#0d0887"
            ],
            [
             0.1111111111111111,
             "#46039f"
            ],
            [
             0.2222222222222222,
             "#7201a8"
            ],
            [
             0.3333333333333333,
             "#9c179e"
            ],
            [
             0.4444444444444444,
             "#bd3786"
            ],
            [
             0.5555555555555556,
             "#d8576b"
            ],
            [
             0.6666666666666666,
             "#ed7953"
            ],
            [
             0.7777777777777778,
             "#fb9f3a"
            ],
            [
             0.8888888888888888,
             "#fdca26"
            ],
            [
             1,
             "#f0f921"
            ]
           ],
           "sequentialminus": [
            [
             0,
             "#0d0887"
            ],
            [
             0.1111111111111111,
             "#46039f"
            ],
            [
             0.2222222222222222,
             "#7201a8"
            ],
            [
             0.3333333333333333,
             "#9c179e"
            ],
            [
             0.4444444444444444,
             "#bd3786"
            ],
            [
             0.5555555555555556,
             "#d8576b"
            ],
            [
             0.6666666666666666,
             "#ed7953"
            ],
            [
             0.7777777777777778,
             "#fb9f3a"
            ],
            [
             0.8888888888888888,
             "#fdca26"
            ],
            [
             1,
             "#f0f921"
            ]
           ]
          },
          "colorway": [
           "#636efa",
           "#EF553B",
           "#00cc96",
           "#ab63fa",
           "#FFA15A",
           "#19d3f3",
           "#FF6692",
           "#B6E880",
           "#FF97FF",
           "#FECB52"
          ],
          "font": {
           "color": "#2a3f5f"
          },
          "geo": {
           "bgcolor": "white",
           "lakecolor": "white",
           "landcolor": "#E5ECF6",
           "showlakes": true,
           "showland": true,
           "subunitcolor": "white"
          },
          "hoverlabel": {
           "align": "left"
          },
          "hovermode": "closest",
          "mapbox": {
           "style": "light"
          },
          "paper_bgcolor": "white",
          "plot_bgcolor": "#E5ECF6",
          "polar": {
           "angularaxis": {
            "gridcolor": "white",
            "linecolor": "white",
            "ticks": ""
           },
           "bgcolor": "#E5ECF6",
           "radialaxis": {
            "gridcolor": "white",
            "linecolor": "white",
            "ticks": ""
           }
          },
          "scene": {
           "xaxis": {
            "backgroundcolor": "#E5ECF6",
            "gridcolor": "white",
            "gridwidth": 2,
            "linecolor": "white",
            "showbackground": true,
            "ticks": "",
            "zerolinecolor": "white"
           },
           "yaxis": {
            "backgroundcolor": "#E5ECF6",
            "gridcolor": "white",
            "gridwidth": 2,
            "linecolor": "white",
            "showbackground": true,
            "ticks": "",
            "zerolinecolor": "white"
           },
           "zaxis": {
            "backgroundcolor": "#E5ECF6",
            "gridcolor": "white",
            "gridwidth": 2,
            "linecolor": "white",
            "showbackground": true,
            "ticks": "",
            "zerolinecolor": "white"
           }
          },
          "shapedefaults": {
           "line": {
            "color": "#2a3f5f"
           }
          },
          "ternary": {
           "aaxis": {
            "gridcolor": "white",
            "linecolor": "white",
            "ticks": ""
           },
           "baxis": {
            "gridcolor": "white",
            "linecolor": "white",
            "ticks": ""
           },
           "bgcolor": "#E5ECF6",
           "caxis": {
            "gridcolor": "white",
            "linecolor": "white",
            "ticks": ""
           }
          },
          "title": {
           "x": 0.05
          },
          "xaxis": {
           "automargin": true,
           "gridcolor": "white",
           "linecolor": "white",
           "ticks": "",
           "title": {
            "standoff": 15
           },
           "zerolinecolor": "white",
           "zerolinewidth": 2
          },
          "yaxis": {
           "automargin": true,
           "gridcolor": "white",
           "linecolor": "white",
           "ticks": "",
           "title": {
            "standoff": 15
           },
           "zerolinecolor": "white",
           "zerolinewidth": 2
          }
         }
        },
        "title": {
         "text": "Visualizing Clusters in Three Dimensions Using T-SNE (perplexity=50)"
        },
        "xaxis": {
         "ticklen": 5,
         "title": {
          "text": "TC1"
         },
         "zeroline": false
        },
        "yaxis": {
         "ticklen": 5,
         "title": {
          "text": "TC2"
         },
         "zeroline": false
        }
       }
      },
      "text/html": [
       "<div>                            <div id=\"65d28bfd-2be3-4079-a9ff-cf540986326e\" class=\"plotly-graph-div\" style=\"height:525px; width:100%;\"></div>            <script type=\"text/javascript\">                require([\"plotly\"], function(Plotly) {                    window.PLOTLYENV=window.PLOTLYENV || {};                                    if (document.getElementById(\"65d28bfd-2be3-4079-a9ff-cf540986326e\")) {                    Plotly.newPlot(                        \"65d28bfd-2be3-4079-a9ff-cf540986326e\",                        [{\"marker\":{\"color\":\"rgba(255, 128, 255, 0.8)\"},\"mode\":\"markers\",\"name\":\"Cluster 0\",\"x\":[-187.2921142578125,79.30619812011719,-204.8904266357422,-23.554454803466797,-73.73931884765625,-37.963233947753906,1.0926038026809692,-129.93333435058594,93.57073974609375,-16.882362365722656,-162.13040161132812,89.38630676269531,25.060152053833008,63.715850830078125,21.32588768005371,25.71341323852539,34.929500579833984,-49.98904800415039,-71.92476654052734,146.51364135742188,-110.20863342285156,25.246091842651367,-68.75486755371094,11.902443885803223,-63.74835205078125,9.964943885803223,95.67317962646484,71.8945083618164,-38.07256317138672,81.03575897216797,-42.55498123168945,30.6622257232666,-41.52513885498047,-103.14315032958984,-159.30178833007812,-1.0101264715194702,-144.3543243408203,76.85977935791016,101.40634155273438,-82.13299560546875,-91.74920654296875,-30.896949768066406,153.74891662597656,111.78327941894531,34.066192626953125,44.7546272277832,88.71892547607422,92.24955749511719,5.539441108703613,-190.78358459472656,-70.73479461669922,10.112735748291016,-43.14582443237305,-60.454132080078125,-89.59436798095703,20.390928268432617,-141.26388549804688,35.75603485107422,68.84126281738281,-2.040099859237671,-58.779014587402344,113.96525573730469,88.07064819335938,47.363075256347656,62.67758560180664,-102.45369720458984,-62.254486083984375],\"y\":[-103.3397445678711,-74.67658996582031,-2.569054126739502,19.30604362487793,148.01026916503906,-149.82742309570312,76.85336303710938,106.57740783691406,161.7872314453125,-11.677420616149902,-197.31568908691406,53.13947296142578,43.1180305480957,-34.85409164428711,-184.46250915527344,17.358600616455078,108.12425994873047,205.99313354492188,-94.03844451904297,-118.82994079589844,100.47174072265625,178.3173828125,103.16645812988281,-90.05757141113281,7.266306400299072,-36.341514587402344,-12.876880645751953,4.406582832336426,-33.39497756958008,-123.0827865600586,-41.99750900268555,29.764795303344727,-139.10203552246094,-161.78701782226562,-8.221489906311035,36.851200103759766,-43.592559814453125,-49.58289337158203,166.3494873046875,-78.56119537353516,-10.048144340515137,-94.9421157836914,27.509492874145508,-76.84080505371094,162.30091857910156,107.22122955322266,13.547222137451172,-186.3183135986328,146.3881378173828,67.27306365966797,41.30607604980469,-87.11144256591797,85.00885772705078,42.49466323852539,163.82652282714844,75.00968170166016,-108.8796615600586,-154.38043212890625,67.54105377197266,109.86516571044922,45.52339553833008,92.80892944335938,54.790855407714844,119.4745101928711,-150.3604278564453,85.29080200195312,80.58130645751953],\"z\":[26.183998107910156,24.841554641723633,6.299160957336426,96.01729583740234,114.55281066894531,86.90115356445312,7.386089324951172,-60.324485778808594,-37.33747482299805,31.237607955932617,1.6218761205673218,84.43311309814453,-196.1943817138672,-103.24906921386719,-81.49314880371094,-138.76669311523438,-26.13848114013672,-10.19465446472168,83.88157653808594,74.4124984741211,68.28617858886719,11.68499755859375,13.891499519348145,-102.25668334960938,-162.84432983398438,116.93280792236328,-172.6269989013672,123.11035919189453,184.64300537109375,79.03133392333984,77.9059066772461,52.74858093261719,-125.32427978515625,-60.896820068359375,-63.478004455566406,151.24632263183594,-8.643648147583008,188.0395965576172,35.52632522583008,-168.32730102539062,-93.0818862915039,144.61767578125,131.1644744873047,-138.8749542236328,-85.42916870117188,41.55641174316406,-64.03633117675781,42.68815612792969,86.67291259765625,-17.576900482177734,183.92137145996094,80.7601547241211,86.84542846679688,33.892364501953125,-53.45947265625,101.5506820678711,-30.414411544799805,123.86361694335938,164.07518005371094,154.10777282714844,-102.63652038574219,8.522390365600586,-129.9311981201172,-145.4012451171875,-138.9921112060547,-153.61346435546875,-49.5898551940918],\"type\":\"scatter3d\"},{\"marker\":{\"color\":\"rgba(255, 128, 2, 0.8)\"},\"mode\":\"markers\",\"name\":\"Cluster 1\",\"x\":[87.34613037109375,146.3777618408203,-132.60182189941406,-145.99093627929688,32.927608489990234,-17.980419158935547,40.72246170043945,-119.86729431152344,-92.88861846923828,-178.1073455810547,-115.70480346679688,-26.465566635131836,29.4200496673584,-28.371257781982422,-152.412841796875,-150.31117248535156,-114.72119140625,-26.1207218170166,-82.09626770019531,-178.88754272460938,-118.14514923095703,-152.6720733642578],\"y\":[128.35528564453125,-127.99079132080078,18.695363998413086,-84.21417236328125,1.8466333150863647,-43.09027862548828,-55.04688262939453,47.6317138671875,13.52978229522705,72.59661102294922,43.797935485839844,25.725751876831055,-0.05230644345283508,78.59794616699219,46.83808898925781,135.9398193359375,-30.69598388671875,134.39013671875,-5.308585166931152,-2.380544662475586,-31.42915153503418,-61.28727722167969],\"z\":[106.49465942382812,-65.21287536621094,38.20037078857422,87.27011108398438,-14.716695785522461,-36.57773971557617,-39.71699905395508,127.4333267211914,101.27130889892578,77.10173034667969,-24.925010681152344,-33.77298355102539,209.33802795410156,-160.52635192871094,-107.44918060302734,12.447848320007324,140.2915496826172,-35.79884719848633,-14.320510864257812,89.24357604980469,56.36405563354492,-113.58737182617188],\"type\":\"scatter3d\"},{\"marker\":{\"color\":\"rgba(0, 255, 200, 0.8)\"},\"mode\":\"markers\",\"name\":\"Cluster 2\",\"x\":[144.93507385253906,-21.967605590820312,49.13344955444336,180.8297119140625,93.76156616210938,-41.15794372558594,40.37920379638672,58.782196044921875,12.96788215637207,-12.5631685256958,160.45501708984375,13.764883041381836,143.04800415039062,77.47238159179688,70.2376937866211,-2.066464424133301,-42.14524841308594,56.883209228515625,28.135923385620117,-31.14629364013672,146.64561462402344,27.588361740112305,139.66497802734375,146.87254333496094,-46.76466751098633,189.14906311035156,184.41278076171875,95.07701873779297,119.37818145751953,10.578731536865234,-80.931884765625,-50.33527374267578,-59.734928131103516,165.51361083984375,109.24027252197266],\"y\":[-92.54964447021484,114.6615219116211,-31.746374130249023,37.77890396118164,80.38079071044922,-119.78752136230469,-80.79034423828125,58.60877227783203,-144.32847595214844,-36.905982971191406,107.02134704589844,-118.97110748291016,-62.28002166748047,-107.78099060058594,-146.62904357910156,-15.353065490722656,159.095458984375,-74.81982421875,51.7140007019043,-175.87794494628906,39.32010269165039,-207.3841094970703,16.72692108154297,-27.057498931884766,-61.29426574707031,86.03084564208984,-43.26487731933594,-2.794006586074829,-34.66527557373047,-76.7928466796875,-72.40766906738281,-129.9951934814453,-68.90066528320312,-20.561941146850586,-49.549930572509766],\"z\":[4.807835578918457,-103.1215591430664,58.85753631591797,-84.67743682861328,-66.94198608398438,-56.35799026489258,-167.96241760253906,-10.882092475891113,30.699127197265625,-168.31179809570312,-65.88052368164062,-31.832189559936523,135.64976501464844,-73.63487243652344,-13.072423934936523,-91.77429962158203,39.5898551940918,125.34711456298828,-79.1517562866211,-22.515979766845703,47.043792724609375,-0.15581707656383514,-20.352100372314453,-96.37918853759766,-107.21742248535156,-11.455612182617188,-37.058624267578125,21.57990074157715,71.2428970336914,17.24938201904297,-51.76374053955078,12.798295974731445,14.518863677978516,27.057743072509766,-35.32586669921875],\"type\":\"scatter3d\"}],                        {\"template\":{\"data\":{\"barpolar\":[{\"marker\":{\"line\":{\"color\":\"#E5ECF6\",\"width\":0.5},\"pattern\":{\"fillmode\":\"overlay\",\"size\":10,\"solidity\":0.2}},\"type\":\"barpolar\"}],\"bar\":[{\"error_x\":{\"color\":\"#2a3f5f\"},\"error_y\":{\"color\":\"#2a3f5f\"},\"marker\":{\"line\":{\"color\":\"#E5ECF6\",\"width\":0.5},\"pattern\":{\"fillmode\":\"overlay\",\"size\":10,\"solidity\":0.2}},\"type\":\"bar\"}],\"carpet\":[{\"aaxis\":{\"endlinecolor\":\"#2a3f5f\",\"gridcolor\":\"white\",\"linecolor\":\"white\",\"minorgridcolor\":\"white\",\"startlinecolor\":\"#2a3f5f\"},\"baxis\":{\"endlinecolor\":\"#2a3f5f\",\"gridcolor\":\"white\",\"linecolor\":\"white\",\"minorgridcolor\":\"white\",\"startlinecolor\":\"#2a3f5f\"},\"type\":\"carpet\"}],\"choropleth\":[{\"colorbar\":{\"outlinewidth\":0,\"ticks\":\"\"},\"type\":\"choropleth\"}],\"contourcarpet\":[{\"colorbar\":{\"outlinewidth\":0,\"ticks\":\"\"},\"type\":\"contourcarpet\"}],\"contour\":[{\"colorbar\":{\"outlinewidth\":0,\"ticks\":\"\"},\"colorscale\":[[0.0,\"#0d0887\"],[0.1111111111111111,\"#46039f\"],[0.2222222222222222,\"#7201a8\"],[0.3333333333333333,\"#9c179e\"],[0.4444444444444444,\"#bd3786\"],[0.5555555555555556,\"#d8576b\"],[0.6666666666666666,\"#ed7953\"],[0.7777777777777778,\"#fb9f3a\"],[0.8888888888888888,\"#fdca26\"],[1.0,\"#f0f921\"]],\"type\":\"contour\"}],\"heatmapgl\":[{\"colorbar\":{\"outlinewidth\":0,\"ticks\":\"\"},\"colorscale\":[[0.0,\"#0d0887\"],[0.1111111111111111,\"#46039f\"],[0.2222222222222222,\"#7201a8\"],[0.3333333333333333,\"#9c179e\"],[0.4444444444444444,\"#bd3786\"],[0.5555555555555556,\"#d8576b\"],[0.6666666666666666,\"#ed7953\"],[0.7777777777777778,\"#fb9f3a\"],[0.8888888888888888,\"#fdca26\"],[1.0,\"#f0f921\"]],\"type\":\"heatmapgl\"}],\"heatmap\":[{\"colorbar\":{\"outlinewidth\":0,\"ticks\":\"\"},\"colorscale\":[[0.0,\"#0d0887\"],[0.1111111111111111,\"#46039f\"],[0.2222222222222222,\"#7201a8\"],[0.3333333333333333,\"#9c179e\"],[0.4444444444444444,\"#bd3786\"],[0.5555555555555556,\"#d8576b\"],[0.6666666666666666,\"#ed7953\"],[0.7777777777777778,\"#fb9f3a\"],[0.8888888888888888,\"#fdca26\"],[1.0,\"#f0f921\"]],\"type\":\"heatmap\"}],\"histogram2dcontour\":[{\"colorbar\":{\"outlinewidth\":0,\"ticks\":\"\"},\"colorscale\":[[0.0,\"#0d0887\"],[0.1111111111111111,\"#46039f\"],[0.2222222222222222,\"#7201a8\"],[0.3333333333333333,\"#9c179e\"],[0.4444444444444444,\"#bd3786\"],[0.5555555555555556,\"#d8576b\"],[0.6666666666666666,\"#ed7953\"],[0.7777777777777778,\"#fb9f3a\"],[0.8888888888888888,\"#fdca26\"],[1.0,\"#f0f921\"]],\"type\":\"histogram2dcontour\"}],\"histogram2d\":[{\"colorbar\":{\"outlinewidth\":0,\"ticks\":\"\"},\"colorscale\":[[0.0,\"#0d0887\"],[0.1111111111111111,\"#46039f\"],[0.2222222222222222,\"#7201a8\"],[0.3333333333333333,\"#9c179e\"],[0.4444444444444444,\"#bd3786\"],[0.5555555555555556,\"#d8576b\"],[0.6666666666666666,\"#ed7953\"],[0.7777777777777778,\"#fb9f3a\"],[0.8888888888888888,\"#fdca26\"],[1.0,\"#f0f921\"]],\"type\":\"histogram2d\"}],\"histogram\":[{\"marker\":{\"pattern\":{\"fillmode\":\"overlay\",\"size\":10,\"solidity\":0.2}},\"type\":\"histogram\"}],\"mesh3d\":[{\"colorbar\":{\"outlinewidth\":0,\"ticks\":\"\"},\"type\":\"mesh3d\"}],\"parcoords\":[{\"line\":{\"colorbar\":{\"outlinewidth\":0,\"ticks\":\"\"}},\"type\":\"parcoords\"}],\"pie\":[{\"automargin\":true,\"type\":\"pie\"}],\"scatter3d\":[{\"line\":{\"colorbar\":{\"outlinewidth\":0,\"ticks\":\"\"}},\"marker\":{\"colorbar\":{\"outlinewidth\":0,\"ticks\":\"\"}},\"type\":\"scatter3d\"}],\"scattercarpet\":[{\"marker\":{\"colorbar\":{\"outlinewidth\":0,\"ticks\":\"\"}},\"type\":\"scattercarpet\"}],\"scattergeo\":[{\"marker\":{\"colorbar\":{\"outlinewidth\":0,\"ticks\":\"\"}},\"type\":\"scattergeo\"}],\"scattergl\":[{\"marker\":{\"colorbar\":{\"outlinewidth\":0,\"ticks\":\"\"}},\"type\":\"scattergl\"}],\"scattermapbox\":[{\"marker\":{\"colorbar\":{\"outlinewidth\":0,\"ticks\":\"\"}},\"type\":\"scattermapbox\"}],\"scatterpolargl\":[{\"marker\":{\"colorbar\":{\"outlinewidth\":0,\"ticks\":\"\"}},\"type\":\"scatterpolargl\"}],\"scatterpolar\":[{\"marker\":{\"colorbar\":{\"outlinewidth\":0,\"ticks\":\"\"}},\"type\":\"scatterpolar\"}],\"scatter\":[{\"fillpattern\":{\"fillmode\":\"overlay\",\"size\":10,\"solidity\":0.2},\"type\":\"scatter\"}],\"scatterternary\":[{\"marker\":{\"colorbar\":{\"outlinewidth\":0,\"ticks\":\"\"}},\"type\":\"scatterternary\"}],\"surface\":[{\"colorbar\":{\"outlinewidth\":0,\"ticks\":\"\"},\"colorscale\":[[0.0,\"#0d0887\"],[0.1111111111111111,\"#46039f\"],[0.2222222222222222,\"#7201a8\"],[0.3333333333333333,\"#9c179e\"],[0.4444444444444444,\"#bd3786\"],[0.5555555555555556,\"#d8576b\"],[0.6666666666666666,\"#ed7953\"],[0.7777777777777778,\"#fb9f3a\"],[0.8888888888888888,\"#fdca26\"],[1.0,\"#f0f921\"]],\"type\":\"surface\"}],\"table\":[{\"cells\":{\"fill\":{\"color\":\"#EBF0F8\"},\"line\":{\"color\":\"white\"}},\"header\":{\"fill\":{\"color\":\"#C8D4E3\"},\"line\":{\"color\":\"white\"}},\"type\":\"table\"}]},\"layout\":{\"annotationdefaults\":{\"arrowcolor\":\"#2a3f5f\",\"arrowhead\":0,\"arrowwidth\":1},\"autotypenumbers\":\"strict\",\"coloraxis\":{\"colorbar\":{\"outlinewidth\":0,\"ticks\":\"\"}},\"colorscale\":{\"diverging\":[[0,\"#8e0152\"],[0.1,\"#c51b7d\"],[0.2,\"#de77ae\"],[0.3,\"#f1b6da\"],[0.4,\"#fde0ef\"],[0.5,\"#f7f7f7\"],[0.6,\"#e6f5d0\"],[0.7,\"#b8e186\"],[0.8,\"#7fbc41\"],[0.9,\"#4d9221\"],[1,\"#276419\"]],\"sequential\":[[0.0,\"#0d0887\"],[0.1111111111111111,\"#46039f\"],[0.2222222222222222,\"#7201a8\"],[0.3333333333333333,\"#9c179e\"],[0.4444444444444444,\"#bd3786\"],[0.5555555555555556,\"#d8576b\"],[0.6666666666666666,\"#ed7953\"],[0.7777777777777778,\"#fb9f3a\"],[0.8888888888888888,\"#fdca26\"],[1.0,\"#f0f921\"]],\"sequentialminus\":[[0.0,\"#0d0887\"],[0.1111111111111111,\"#46039f\"],[0.2222222222222222,\"#7201a8\"],[0.3333333333333333,\"#9c179e\"],[0.4444444444444444,\"#bd3786\"],[0.5555555555555556,\"#d8576b\"],[0.6666666666666666,\"#ed7953\"],[0.7777777777777778,\"#fb9f3a\"],[0.8888888888888888,\"#fdca26\"],[1.0,\"#f0f921\"]]},\"colorway\":[\"#636efa\",\"#EF553B\",\"#00cc96\",\"#ab63fa\",\"#FFA15A\",\"#19d3f3\",\"#FF6692\",\"#B6E880\",\"#FF97FF\",\"#FECB52\"],\"font\":{\"color\":\"#2a3f5f\"},\"geo\":{\"bgcolor\":\"white\",\"lakecolor\":\"white\",\"landcolor\":\"#E5ECF6\",\"showlakes\":true,\"showland\":true,\"subunitcolor\":\"white\"},\"hoverlabel\":{\"align\":\"left\"},\"hovermode\":\"closest\",\"mapbox\":{\"style\":\"light\"},\"paper_bgcolor\":\"white\",\"plot_bgcolor\":\"#E5ECF6\",\"polar\":{\"angularaxis\":{\"gridcolor\":\"white\",\"linecolor\":\"white\",\"ticks\":\"\"},\"bgcolor\":\"#E5ECF6\",\"radialaxis\":{\"gridcolor\":\"white\",\"linecolor\":\"white\",\"ticks\":\"\"}},\"scene\":{\"xaxis\":{\"backgroundcolor\":\"#E5ECF6\",\"gridcolor\":\"white\",\"gridwidth\":2,\"linecolor\":\"white\",\"showbackground\":true,\"ticks\":\"\",\"zerolinecolor\":\"white\"},\"yaxis\":{\"backgroundcolor\":\"#E5ECF6\",\"gridcolor\":\"white\",\"gridwidth\":2,\"linecolor\":\"white\",\"showbackground\":true,\"ticks\":\"\",\"zerolinecolor\":\"white\"},\"zaxis\":{\"backgroundcolor\":\"#E5ECF6\",\"gridcolor\":\"white\",\"gridwidth\":2,\"linecolor\":\"white\",\"showbackground\":true,\"ticks\":\"\",\"zerolinecolor\":\"white\"}},\"shapedefaults\":{\"line\":{\"color\":\"#2a3f5f\"}},\"ternary\":{\"aaxis\":{\"gridcolor\":\"white\",\"linecolor\":\"white\",\"ticks\":\"\"},\"baxis\":{\"gridcolor\":\"white\",\"linecolor\":\"white\",\"ticks\":\"\"},\"bgcolor\":\"#E5ECF6\",\"caxis\":{\"gridcolor\":\"white\",\"linecolor\":\"white\",\"ticks\":\"\"}},\"title\":{\"x\":0.05},\"xaxis\":{\"automargin\":true,\"gridcolor\":\"white\",\"linecolor\":\"white\",\"ticks\":\"\",\"title\":{\"standoff\":15},\"zerolinecolor\":\"white\",\"zerolinewidth\":2},\"yaxis\":{\"automargin\":true,\"gridcolor\":\"white\",\"linecolor\":\"white\",\"ticks\":\"\",\"title\":{\"standoff\":15},\"zerolinecolor\":\"white\",\"zerolinewidth\":2}}},\"title\":{\"text\":\"Visualizing Clusters in Three Dimensions Using T-SNE (perplexity=50)\"},\"xaxis\":{\"ticklen\":5,\"title\":{\"text\":\"TC1\"},\"zeroline\":false},\"yaxis\":{\"ticklen\":5,\"title\":{\"text\":\"TC2\"},\"zeroline\":false}},                        {\"responsive\": true}                    ).then(function(){\n",
       "                            \n",
       "var gd = document.getElementById('65d28bfd-2be3-4079-a9ff-cf540986326e');\n",
       "var x = new MutationObserver(function (mutations, observer) {{\n",
       "        var display = window.getComputedStyle(gd).display;\n",
       "        if (!display || display === 'none') {{\n",
       "            console.log([gd, 'removed!']);\n",
       "            Plotly.purge(gd);\n",
       "            observer.disconnect();\n",
       "        }}\n",
       "}});\n",
       "\n",
       "// Listen for the removal of the full notebook cells\n",
       "var notebookContainer = gd.closest('#notebook-container');\n",
       "if (notebookContainer) {{\n",
       "    x.observe(notebookContainer, {childList: true});\n",
       "}}\n",
       "\n",
       "// Listen for the clearing of the current output cell\n",
       "var outputEl = gd.closest('.output');\n",
       "if (outputEl) {{\n",
       "    x.observe(outputEl, {childList: true});\n",
       "}}\n",
       "\n",
       "                        })                };                });            </script>        </div>"
      ]
     },
     "metadata": {},
     "output_type": "display_data"
    }
   ],
   "source": [
    "##Instructions for building the 3-D plot\n",
    "\n",
    "#trace1 is for 'Cluster 0'\n",
    "trace1 = go.Scatter3d(\n",
    "                    x = cluster0[\"TC1_3d\"],\n",
    "                    y = cluster0[\"TC2_3d\"],\n",
    "                    z = cluster0[\"TC3_3d\"],\n",
    "                    mode = \"markers\",\n",
    "                    name = \"Cluster 0\",\n",
    "                    marker = dict(color = 'rgba(255, 128, 255, 0.8)'),\n",
    "                    text = None)\n",
    "\n",
    "#trace2 is for 'Cluster 1'\n",
    "trace2 = go.Scatter3d(\n",
    "                    x = cluster1[\"TC1_3d\"],\n",
    "                    y = cluster1[\"TC2_3d\"],\n",
    "                    z = cluster1[\"TC3_3d\"],\n",
    "                    mode = \"markers\",\n",
    "                    name = \"Cluster 1\",\n",
    "                    marker = dict(color = 'rgba(255, 128, 2, 0.8)'),\n",
    "                    text = None)\n",
    "\n",
    "#trace3 is for 'Cluster 2'\n",
    "trace3 = go.Scatter3d(\n",
    "                    x = cluster2[\"TC1_3d\"],\n",
    "                    y = cluster2[\"TC2_3d\"],\n",
    "                    z = cluster2[\"TC3_3d\"],\n",
    "                    mode = \"markers\",\n",
    "                    name = \"Cluster 2\",\n",
    "                    marker = dict(color = 'rgba(0, 255, 200, 0.8)'),\n",
    "                    text = None)\n",
    "\n",
    "data = [trace1, trace2, trace3]\n",
    "\n",
    "title = \"Visualizing Clusters in Three Dimensions Using T-SNE (perplexity=\" + str(perplexity) + \")\"\n",
    "\n",
    "layout = dict(title = title,\n",
    "              xaxis= dict(title= 'TC1',ticklen= 5,zeroline= False),\n",
    "              yaxis= dict(title= 'TC2',ticklen= 5,zeroline= False)\n",
    "             )\n",
    "\n",
    "fig = dict(data = data, layout = layout)\n",
    "\n",
    "iplot(fig)"
   ]
  }
 ],
 "metadata": {
  "kernelspec": {
   "display_name": "Python 3 (ipykernel)",
   "language": "python",
   "name": "python3"
  },
  "language_info": {
   "codemirror_mode": {
    "name": "ipython",
    "version": 3
   },
   "file_extension": ".py",
   "mimetype": "text/x-python",
   "name": "python",
   "nbconvert_exporter": "python",
   "pygments_lexer": "ipython3",
   "version": "3.12.4"
  }
 },
 "nbformat": 4,
 "nbformat_minor": 4
}
